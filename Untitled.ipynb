{
 "cells": [
  {
   "cell_type": "code",
   "execution_count": 12,
   "id": "97245f9a",
   "metadata": {},
   "outputs": [
    {
     "data": {
      "text/html": [
       "<div>\n",
       "<style scoped>\n",
       "    .dataframe tbody tr th:only-of-type {\n",
       "        vertical-align: middle;\n",
       "    }\n",
       "\n",
       "    .dataframe tbody tr th {\n",
       "        vertical-align: top;\n",
       "    }\n",
       "\n",
       "    .dataframe thead th {\n",
       "        text-align: right;\n",
       "    }\n",
       "</style>\n",
       "<table border=\"1\" class=\"dataframe\">\n",
       "  <thead>\n",
       "    <tr style=\"text-align: right;\">\n",
       "      <th></th>\n",
       "      <th>Country</th>\n",
       "      <th>Channel Name</th>\n",
       "      <th>Category</th>\n",
       "      <th>Main Video Category</th>\n",
       "      <th>username</th>\n",
       "      <th>followers</th>\n",
       "      <th>Main topic</th>\n",
       "      <th>Likes</th>\n",
       "      <th>Boost Index</th>\n",
       "      <th>Engagement Rate</th>\n",
       "      <th>Engagement Rate 60days</th>\n",
       "      <th>Views</th>\n",
       "      <th>Views Avg.</th>\n",
       "      <th>Avg. 1 Day</th>\n",
       "      <th>Avg. 3 Day</th>\n",
       "      <th>Avg. 7 Day</th>\n",
       "      <th>Avg. 14 Day</th>\n",
       "      <th>Avg. 30 day</th>\n",
       "      <th>Avg. 60 day</th>\n",
       "      <th>Comments Avg</th>\n",
       "    </tr>\n",
       "  </thead>\n",
       "  <tbody>\n",
       "    <tr>\n",
       "      <th>0</th>\n",
       "      <td>IN</td>\n",
       "      <td>T-Series</td>\n",
       "      <td>Gaming &amp; Apps</td>\n",
       "      <td>Music</td>\n",
       "      <td>T-Series</td>\n",
       "      <td>220000000</td>\n",
       "      <td>Music of Asia</td>\n",
       "      <td>1.602680e+09</td>\n",
       "      <td>83</td>\n",
       "      <td>0.033463</td>\n",
       "      <td>0.010879</td>\n",
       "      <td>195660744416</td>\n",
       "      <td>2.095329e+06</td>\n",
       "      <td>1.522448e+05</td>\n",
       "      <td>2.134570e+06</td>\n",
       "      <td>1.809830e+06</td>\n",
       "      <td>2.306178e+06</td>\n",
       "      <td>1.676330e+06</td>\n",
       "      <td>2.295416e+06</td>\n",
       "      <td>4493.984146</td>\n",
       "    </tr>\n",
       "    <tr>\n",
       "      <th>1</th>\n",
       "      <td>US</td>\n",
       "      <td>ABCkidTV - Nursery Rhymes</td>\n",
       "      <td>Gaming &amp; Apps</td>\n",
       "      <td>Education</td>\n",
       "      <td>ABCkidTV - Nursery Rhymes</td>\n",
       "      <td>138000000</td>\n",
       "      <td>Movies</td>\n",
       "      <td>2.209901e+08</td>\n",
       "      <td>63</td>\n",
       "      <td>0.641716</td>\n",
       "      <td>0.116004</td>\n",
       "      <td>133025325473</td>\n",
       "      <td>7.027126e+07</td>\n",
       "      <td>1.837916e+06</td>\n",
       "      <td>1.837916e+06</td>\n",
       "      <td>4.891832e+06</td>\n",
       "      <td>7.052576e+06</td>\n",
       "      <td>1.265433e+07</td>\n",
       "      <td>1.572284e+07</td>\n",
       "      <td>146.700252</td>\n",
       "    </tr>\n",
       "    <tr>\n",
       "      <th>2</th>\n",
       "      <td>IN</td>\n",
       "      <td>SET India</td>\n",
       "      <td>Gaming &amp; Apps</td>\n",
       "      <td>Shows</td>\n",
       "      <td>SET India</td>\n",
       "      <td>137000000</td>\n",
       "      <td>Movies</td>\n",
       "      <td>1.748752e+08</td>\n",
       "      <td>79</td>\n",
       "      <td>0.001206</td>\n",
       "      <td>0.002366</td>\n",
       "      <td>121741739317</td>\n",
       "      <td>1.095729e+05</td>\n",
       "      <td>NaN</td>\n",
       "      <td>5.860400e+05</td>\n",
       "      <td>2.801276e+05</td>\n",
       "      <td>3.437881e+05</td>\n",
       "      <td>3.536019e+05</td>\n",
       "      <td>3.220336e+05</td>\n",
       "      <td>76.244316</td>\n",
       "    </tr>\n",
       "    <tr>\n",
       "      <th>3</th>\n",
       "      <td>US</td>\n",
       "      <td>PewDiePie</td>\n",
       "      <td>Gaming &amp; Apps</td>\n",
       "      <td>Gaming</td>\n",
       "      <td>PewDiePie</td>\n",
       "      <td>111000000</td>\n",
       "      <td>Lifestyle</td>\n",
       "      <td>2.191406e+09</td>\n",
       "      <td>88</td>\n",
       "      <td>0.063426</td>\n",
       "      <td>0.044846</td>\n",
       "      <td>28424113942</td>\n",
       "      <td>7.718345e+06</td>\n",
       "      <td>NaN</td>\n",
       "      <td>NaN</td>\n",
       "      <td>3.497395e+06</td>\n",
       "      <td>3.094440e+06</td>\n",
       "      <td>3.620274e+06</td>\n",
       "      <td>4.454120e+06</td>\n",
       "      <td>35839.781347</td>\n",
       "    </tr>\n",
       "    <tr>\n",
       "      <th>4</th>\n",
       "      <td>US</td>\n",
       "      <td>MrBeast</td>\n",
       "      <td>Gaming &amp; Apps</td>\n",
       "      <td>Entertainment</td>\n",
       "      <td>MrBeast</td>\n",
       "      <td>98100000</td>\n",
       "      <td>Lifestyle</td>\n",
       "      <td>1.731833e+09</td>\n",
       "      <td>60</td>\n",
       "      <td>0.729210</td>\n",
       "      <td>0.570270</td>\n",
       "      <td>16242634269</td>\n",
       "      <td>9.876250e+07</td>\n",
       "      <td>NaN</td>\n",
       "      <td>NaN</td>\n",
       "      <td>2.994102e+07</td>\n",
       "      <td>2.994102e+07</td>\n",
       "      <td>2.994102e+07</td>\n",
       "      <td>5.343473e+07</td>\n",
       "      <td>113432.373684</td>\n",
       "    </tr>\n",
       "    <tr>\n",
       "      <th>...</th>\n",
       "      <td>...</td>\n",
       "      <td>...</td>\n",
       "      <td>...</td>\n",
       "      <td>...</td>\n",
       "      <td>...</td>\n",
       "      <td>...</td>\n",
       "      <td>...</td>\n",
       "      <td>...</td>\n",
       "      <td>...</td>\n",
       "      <td>...</td>\n",
       "      <td>...</td>\n",
       "      <td>...</td>\n",
       "      <td>...</td>\n",
       "      <td>...</td>\n",
       "      <td>...</td>\n",
       "      <td>...</td>\n",
       "      <td>...</td>\n",
       "      <td>...</td>\n",
       "      <td>...</td>\n",
       "      <td>...</td>\n",
       "    </tr>\n",
       "    <tr>\n",
       "      <th>852</th>\n",
       "      <td>NaN</td>\n",
       "      <td>1theK (원더케이)</td>\n",
       "      <td>Music</td>\n",
       "      <td>Music</td>\n",
       "      <td>1theK (원더케이)</td>\n",
       "      <td>24100000</td>\n",
       "      <td>Pop music</td>\n",
       "      <td>2.102143e+08</td>\n",
       "      <td>74</td>\n",
       "      <td>0.014768</td>\n",
       "      <td>0.004137</td>\n",
       "      <td>22431615067</td>\n",
       "      <td>5.949351e+04</td>\n",
       "      <td>6.996300e+04</td>\n",
       "      <td>4.261843e+04</td>\n",
       "      <td>1.508900e+05</td>\n",
       "      <td>1.141193e+05</td>\n",
       "      <td>1.361403e+05</td>\n",
       "      <td>8.631710e+04</td>\n",
       "      <td>810.979818</td>\n",
       "    </tr>\n",
       "    <tr>\n",
       "      <th>853</th>\n",
       "      <td>US</td>\n",
       "      <td>Post Malone</td>\n",
       "      <td>Gaming &amp; Apps</td>\n",
       "      <td>Music</td>\n",
       "      <td>Post Malone</td>\n",
       "      <td>24000000</td>\n",
       "      <td>Music</td>\n",
       "      <td>1.647143e+07</td>\n",
       "      <td>57</td>\n",
       "      <td>1.529448</td>\n",
       "      <td>0.069077</td>\n",
       "      <td>12252459767</td>\n",
       "      <td>1.448346e+07</td>\n",
       "      <td>NaN</td>\n",
       "      <td>NaN</td>\n",
       "      <td>NaN</td>\n",
       "      <td>1.066810e+05</td>\n",
       "      <td>1.860830e+06</td>\n",
       "      <td>1.310594e+06</td>\n",
       "      <td>11098.637931</td>\n",
       "    </tr>\n",
       "    <tr>\n",
       "      <th>854</th>\n",
       "      <td>IN</td>\n",
       "      <td>Amit Bhadana</td>\n",
       "      <td>NaN</td>\n",
       "      <td>Entertainment</td>\n",
       "      <td>Amit Bhadana</td>\n",
       "      <td>24000000</td>\n",
       "      <td>Entertainment</td>\n",
       "      <td>1.139831e+08</td>\n",
       "      <td>60</td>\n",
       "      <td>1.015853</td>\n",
       "      <td>0.055800</td>\n",
       "      <td>2227021034</td>\n",
       "      <td>2.983444e+07</td>\n",
       "      <td>0.000000e+00</td>\n",
       "      <td>0.000000e+00</td>\n",
       "      <td>0.000000e+00</td>\n",
       "      <td>0.000000e+00</td>\n",
       "      <td>0.000000e+00</td>\n",
       "      <td>0.000000e+00</td>\n",
       "      <td>100248.500000</td>\n",
       "    </tr>\n",
       "    <tr>\n",
       "      <th>855</th>\n",
       "      <td>US</td>\n",
       "      <td>James Charles</td>\n",
       "      <td>Gaming &amp; Apps</td>\n",
       "      <td>Entertainment</td>\n",
       "      <td>James Charles</td>\n",
       "      <td>24000000</td>\n",
       "      <td>Lifestyle</td>\n",
       "      <td>1.827409e+08</td>\n",
       "      <td>61</td>\n",
       "      <td>0.406231</td>\n",
       "      <td>0.055494</td>\n",
       "      <td>3664440993</td>\n",
       "      <td>1.281032e+07</td>\n",
       "      <td>NaN</td>\n",
       "      <td>NaN</td>\n",
       "      <td>6.875610e+05</td>\n",
       "      <td>6.216617e+05</td>\n",
       "      <td>6.195134e+05</td>\n",
       "      <td>8.354377e+05</td>\n",
       "      <td>38414.745174</td>\n",
       "    </tr>\n",
       "    <tr>\n",
       "      <th>856</th>\n",
       "      <td>US</td>\n",
       "      <td>Netflix</td>\n",
       "      <td>None</td>\n",
       "      <td>Entertainment</td>\n",
       "      <td>Netflix</td>\n",
       "      <td>24000000</td>\n",
       "      <td>TV shows</td>\n",
       "      <td>1.068201e+08</td>\n",
       "      <td>63</td>\n",
       "      <td>0.030720</td>\n",
       "      <td>0.042712</td>\n",
       "      <td>5551273418</td>\n",
       "      <td>6.917575e+05</td>\n",
       "      <td>2.178600e+04</td>\n",
       "      <td>8.632850e+04</td>\n",
       "      <td>2.734545e+05</td>\n",
       "      <td>2.780231e+05</td>\n",
       "      <td>6.761672e+05</td>\n",
       "      <td>1.004604e+06</td>\n",
       "      <td>1311.491067</td>\n",
       "    </tr>\n",
       "  </tbody>\n",
       "</table>\n",
       "<p>857 rows × 20 columns</p>\n",
       "</div>"
      ],
      "text/plain": [
       "    Country               Channel Name       Category Main Video Category  \\\n",
       "0        IN                   T-Series  Gaming & Apps               Music   \n",
       "1        US  ABCkidTV - Nursery Rhymes  Gaming & Apps           Education   \n",
       "2        IN                  SET India  Gaming & Apps               Shows   \n",
       "3        US                  PewDiePie  Gaming & Apps              Gaming   \n",
       "4        US                    MrBeast  Gaming & Apps       Entertainment   \n",
       "..      ...                        ...            ...                 ...   \n",
       "852     NaN               1theK (원더케이)          Music               Music   \n",
       "853      US                Post Malone  Gaming & Apps               Music   \n",
       "854      IN               Amit Bhadana            NaN       Entertainment   \n",
       "855      US              James Charles  Gaming & Apps       Entertainment   \n",
       "856      US                    Netflix           None       Entertainment   \n",
       "\n",
       "                      username  followers     Main topic         Likes  \\\n",
       "0                     T-Series  220000000  Music of Asia  1.602680e+09   \n",
       "1    ABCkidTV - Nursery Rhymes  138000000         Movies  2.209901e+08   \n",
       "2                    SET India  137000000         Movies  1.748752e+08   \n",
       "3                    PewDiePie  111000000      Lifestyle  2.191406e+09   \n",
       "4                      MrBeast   98100000      Lifestyle  1.731833e+09   \n",
       "..                         ...        ...            ...           ...   \n",
       "852               1theK (원더케이)   24100000      Pop music  2.102143e+08   \n",
       "853                Post Malone   24000000          Music  1.647143e+07   \n",
       "854               Amit Bhadana   24000000  Entertainment  1.139831e+08   \n",
       "855              James Charles   24000000      Lifestyle  1.827409e+08   \n",
       "856                    Netflix   24000000       TV shows  1.068201e+08   \n",
       "\n",
       "     Boost Index  Engagement Rate  Engagement Rate 60days         Views  \\\n",
       "0             83         0.033463                0.010879  195660744416   \n",
       "1             63         0.641716                0.116004  133025325473   \n",
       "2             79         0.001206                0.002366  121741739317   \n",
       "3             88         0.063426                0.044846   28424113942   \n",
       "4             60         0.729210                0.570270   16242634269   \n",
       "..           ...              ...                     ...           ...   \n",
       "852           74         0.014768                0.004137   22431615067   \n",
       "853           57         1.529448                0.069077   12252459767   \n",
       "854           60         1.015853                0.055800    2227021034   \n",
       "855           61         0.406231                0.055494    3664440993   \n",
       "856           63         0.030720                0.042712    5551273418   \n",
       "\n",
       "       Views Avg.    Avg. 1 Day    Avg. 3 Day    Avg. 7 Day   Avg. 14 Day  \\\n",
       "0    2.095329e+06  1.522448e+05  2.134570e+06  1.809830e+06  2.306178e+06   \n",
       "1    7.027126e+07  1.837916e+06  1.837916e+06  4.891832e+06  7.052576e+06   \n",
       "2    1.095729e+05           NaN  5.860400e+05  2.801276e+05  3.437881e+05   \n",
       "3    7.718345e+06           NaN           NaN  3.497395e+06  3.094440e+06   \n",
       "4    9.876250e+07           NaN           NaN  2.994102e+07  2.994102e+07   \n",
       "..            ...           ...           ...           ...           ...   \n",
       "852  5.949351e+04  6.996300e+04  4.261843e+04  1.508900e+05  1.141193e+05   \n",
       "853  1.448346e+07           NaN           NaN           NaN  1.066810e+05   \n",
       "854  2.983444e+07  0.000000e+00  0.000000e+00  0.000000e+00  0.000000e+00   \n",
       "855  1.281032e+07           NaN           NaN  6.875610e+05  6.216617e+05   \n",
       "856  6.917575e+05  2.178600e+04  8.632850e+04  2.734545e+05  2.780231e+05   \n",
       "\n",
       "      Avg. 30 day   Avg. 60 day   Comments Avg  \n",
       "0    1.676330e+06  2.295416e+06    4493.984146  \n",
       "1    1.265433e+07  1.572284e+07     146.700252  \n",
       "2    3.536019e+05  3.220336e+05      76.244316  \n",
       "3    3.620274e+06  4.454120e+06   35839.781347  \n",
       "4    2.994102e+07  5.343473e+07  113432.373684  \n",
       "..            ...           ...            ...  \n",
       "852  1.361403e+05  8.631710e+04     810.979818  \n",
       "853  1.860830e+06  1.310594e+06   11098.637931  \n",
       "854  0.000000e+00  0.000000e+00  100248.500000  \n",
       "855  6.195134e+05  8.354377e+05   38414.745174  \n",
       "856  6.761672e+05  1.004604e+06    1311.491067  \n",
       "\n",
       "[857 rows x 20 columns]"
      ]
     },
     "metadata": {},
     "output_type": "display_data"
    },
    {
     "name": "stdout",
     "output_type": "stream",
     "text": [
      "<class 'pandas.core.frame.DataFrame'>\n",
      "RangeIndex: 857 entries, 0 to 856\n",
      "Data columns (total 20 columns):\n",
      " #   Column                  Non-Null Count  Dtype  \n",
      "---  ------                  --------------  -----  \n",
      " 0   Country                 707 non-null    object \n",
      " 1   Channel Name            857 non-null    object \n",
      " 2   Category                736 non-null    object \n",
      " 3   Main Video Category     855 non-null    object \n",
      " 4   username                857 non-null    object \n",
      " 5   followers               857 non-null    int64  \n",
      " 6   Main topic              855 non-null    object \n",
      " 7   Likes                   857 non-null    float64\n",
      " 8   Boost Index             857 non-null    int64  \n",
      " 9   Engagement Rate         855 non-null    float64\n",
      " 10  Engagement Rate 60days  857 non-null    float64\n",
      " 11  Views                   857 non-null    int64  \n",
      " 12  Views Avg.              855 non-null    float64\n",
      " 13  Avg. 1 Day              494 non-null    float64\n",
      " 14  Avg. 3 Day              652 non-null    float64\n",
      " 15  Avg. 7 Day              741 non-null    float64\n",
      " 16  Avg. 14 Day             779 non-null    float64\n",
      " 17  Avg. 30 day             815 non-null    float64\n",
      " 18  Avg. 60 day             857 non-null    float64\n",
      " 19  Comments Avg            855 non-null    float64\n",
      "dtypes: float64(11), int64(3), object(6)\n",
      "memory usage: 134.0+ KB\n",
      "None\n",
      "US        39.2%\n",
      "IN        30.0%\n",
      "BR         6.5%\n",
      "KR         2.5%\n",
      "MX         2.5%\n",
      "RU         2.3%\n",
      "CA         2.0%\n",
      "TH         1.7%\n",
      "PH         1.4%\n",
      "PR         1.4%\n",
      "NO         1.1%\n",
      "BY         1.1%\n",
      "CL         1.1%\n",
      "SV         1.1%\n",
      "IE         0.8%\n",
      "CO         0.8%\n",
      "ID         0.8%\n",
      "AE         0.6%\n",
      "ES         0.6%\n",
      "KW         0.3%\n",
      "AU         0.3%\n",
      "PK         0.3%\n",
      "GB         0.3%\n",
      "NL         0.3%\n",
      "AR         0.3%\n",
      "ES\\r\\n     0.3%\n",
      "SO         0.3%\n",
      "Name: Country, dtype: object\n"
     ]
    }
   ],
   "source": [
    "\n",
    "\n",
    "# # analise top 200 youtubers\n",
    "\n",
    "# In[3]:\n",
    "\n",
    "\n",
    "# BAIXAR BIBLIOTECAS: PANDAS, PLOTLY.\n",
    "\n",
    "#!pip install pandas \n",
    "\n",
    "#!pip install plotly.express \n",
    "\n",
    "\n",
    "# In[4]:\n",
    "\n",
    "\n",
    "# IMPORTAR BIBLIOTECA PANDAS, PLOTLY.\n",
    "\n",
    "import pandas as pd\n",
    "\n",
    "import plotly_express as px\n",
    "\n",
    "\n",
    "# In[5]:\n",
    "\n",
    "\n",
    "# ENTRADA DE DADOS:\n",
    "\n",
    "tabela = pd.read_csv(\"top_200_youtubers.csv\")\n",
    "\n",
    "\n",
    "# LIMPEZA DE TABELA\n",
    "tabela = tabela.drop(\"Youtube Link\",axis=1)\n",
    "\n",
    "tabela = tabela.drop(\"More topics\",axis=1)\n",
    "\n",
    "\n",
    "\n",
    "# DELETANDO LINHAS QUE TENHA RESPOSTAS NA\n",
    "tabela = tabela.dropna(how=\"all\", axis=1)\n",
    "\n",
    "\n",
    "# CONVERTENDO DADO TIPO OBJECT PARA FLOAT 64\n",
    "#tabela[\"Country\"] = pd.to_numeric(tabela[\"Country\"], errors=\"coerce\")\n",
    "#tabela[\"Channel Name\"] = pd.to_numeric(tabela[\"Channel Name\"], errors=\"coerce\")\n",
    "#tabela[\"Category\"] = pd.to_numeric(tabela[\"Category\"], errors=\"coerce\")\n",
    "#tabela[\"Main Video Category\"] = pd.to_numeric(tabela[\"Main Video Category\"], errors=\"coerce\")\n",
    "#tabela[\"username\"] = pd.to_numeric(tabela[\"username\"], errors=\"username\")\n",
    "#tabela[\"Main topic\"] = pd.to_numeric(tabela[\"Main topic\"], errors=\"coerce\")\n",
    "\n",
    "\n",
    "\n",
    "\n",
    "# In[50]:\n",
    "\n",
    "\n",
    "# observar tabela:\n",
    "\n",
    "display(tabela)\n",
    "\n",
    "print(tabela.info())\n",
    "\n",
    "# APRESENTAR PORCENTAGEM DOS PAISES COM MAIS CANAIS FAMOSO\n",
    "print(tabela[\"Country\"].value_counts(normalize=True).map(\"{:.1%}\".format))\n",
    "\n",
    "\n",
    "# In[6]:\n",
    "\n",
    "\n",
    "\n",
    "\n",
    "# Brasil tem uma taxa de visualizações de 10 bilhões a mais que estados unidos.\n",
    "# \n",
    "# EUA apesar de não ter a maiox taxa de viws tem a maior taxa de likes comparando ao brasil.\n",
    "# \n",
    "# apesar de ter menos inscrito que os estados unidos brasil tem taxa de viws maior.\n",
    "\n",
    "# In[ ]:\n",
    "\n",
    "\n",
    "\n",
    "\n"
   ]
  },
  {
   "cell_type": "markdown",
   "id": "c2c09205",
   "metadata": {},
   "source": []
  },
  {
   "cell_type": "code",
   "execution_count": 9,
   "id": "9153dc02",
   "metadata": {},
   "outputs": [
    {
     "data": {
      "application/vnd.plotly.v1+json": {
       "config": {
        "plotlyServerURL": "https://plot.ly"
       },
       "data": [
        {
         "alignmentgroup": "True",
         "bingroup": "x",
         "hovertemplate": "Views=195660744416<br>Main Video Category=%{x}<br>count=%{y}<extra></extra>",
         "legendgroup": "195660744416",
         "marker": {
          "color": "#636efa",
          "pattern": {
           "shape": ""
          }
         },
         "name": "195660744416",
         "offsetgroup": "195660744416",
         "orientation": "v",
         "showlegend": true,
         "type": "histogram",
         "x": [
          "Music",
          "Music",
          "Music",
          "Music",
          "Music",
          "Music",
          "Music",
          "Music",
          "Music"
         ],
         "xaxis": "x",
         "yaxis": "y"
        },
        {
         "alignmentgroup": "True",
         "bingroup": "x",
         "hovertemplate": "Views=133025325473<br>Main Video Category=%{x}<br>count=%{y}<extra></extra>",
         "legendgroup": "133025325473",
         "marker": {
          "color": "#EF553B",
          "pattern": {
           "shape": ""
          }
         },
         "name": "133025325473",
         "offsetgroup": "133025325473",
         "orientation": "v",
         "showlegend": true,
         "type": "histogram",
         "x": [
          "Education",
          "Education",
          "Education",
          "Education",
          "Education",
          "Education",
          "Education",
          "Education",
          "Education"
         ],
         "xaxis": "x",
         "yaxis": "y"
        },
        {
         "alignmentgroup": "True",
         "bingroup": "x",
         "hovertemplate": "Views=121741739317<br>Main Video Category=%{x}<br>count=%{y}<extra></extra>",
         "legendgroup": "121741739317",
         "marker": {
          "color": "#00cc96",
          "pattern": {
           "shape": ""
          }
         },
         "name": "121741739317",
         "offsetgroup": "121741739317",
         "orientation": "v",
         "showlegend": true,
         "type": "histogram",
         "x": [
          "Shows",
          "Shows",
          "Shows",
          "Shows",
          "Shows",
          "Shows",
          "Shows",
          "Shows",
          "Shows"
         ],
         "xaxis": "x",
         "yaxis": "y"
        },
        {
         "alignmentgroup": "True",
         "bingroup": "x",
         "hovertemplate": "Views=28424113942<br>Main Video Category=%{x}<br>count=%{y}<extra></extra>",
         "legendgroup": "28424113942",
         "marker": {
          "color": "#ab63fa",
          "pattern": {
           "shape": ""
          }
         },
         "name": "28424113942",
         "offsetgroup": "28424113942",
         "orientation": "v",
         "showlegend": true,
         "type": "histogram",
         "x": [
          "Gaming",
          "Gaming",
          "Gaming",
          "Gaming",
          "Gaming",
          "Gaming",
          "Gaming",
          "Gaming",
          "Gaming"
         ],
         "xaxis": "x",
         "yaxis": "y"
        },
        {
         "alignmentgroup": "True",
         "bingroup": "x",
         "hovertemplate": "Views=16242634269<br>Main Video Category=%{x}<br>count=%{y}<extra></extra>",
         "legendgroup": "16242634269",
         "marker": {
          "color": "#FFA15A",
          "pattern": {
           "shape": ""
          }
         },
         "name": "16242634269",
         "offsetgroup": "16242634269",
         "orientation": "v",
         "showlegend": true,
         "type": "histogram",
         "x": [
          "Entertainment",
          "Entertainment",
          "Entertainment",
          "Entertainment",
          "Entertainment",
          "Entertainment",
          "Entertainment",
          "Entertainment",
          "Entertainment"
         ],
         "xaxis": "x",
         "yaxis": "y"
        },
        {
         "alignmentgroup": "True",
         "bingroup": "x",
         "hovertemplate": "Views=80111555805<br>Main Video Category=%{x}<br>count=%{y}<extra></extra>",
         "legendgroup": "80111555805",
         "marker": {
          "color": "#19d3f3",
          "pattern": {
           "shape": ""
          }
         },
         "name": "80111555805",
         "offsetgroup": "80111555805",
         "orientation": "v",
         "showlegend": true,
         "type": "histogram",
         "x": [
          "People & Blogs",
          "People & Blogs",
          "People & Blogs",
          "People & Blogs",
          "People & Blogs",
          "People & Blogs",
          "People & Blogs",
          "People & Blogs",
          "People & Blogs"
         ],
         "xaxis": "x",
         "yaxis": "y"
        },
        {
         "alignmentgroup": "True",
         "bingroup": "x",
         "hovertemplate": "Views=77340155581<br>Main Video Category=%{x}<br>count=%{y}<extra></extra>",
         "legendgroup": "77340155581",
         "marker": {
          "color": "#FF6692",
          "pattern": {
           "shape": ""
          }
         },
         "name": "77340155581",
         "offsetgroup": "77340155581",
         "orientation": "v",
         "showlegend": true,
         "type": "histogram",
         "x": [
          "Entertainment",
          "Entertainment",
          "Entertainment",
          "Entertainment",
          "Entertainment",
          "Entertainment",
          "Entertainment",
          "Entertainment",
          "Entertainment"
         ],
         "xaxis": "x",
         "yaxis": "y"
        },
        {
         "alignmentgroup": "True",
         "bingroup": "x",
         "hovertemplate": "Views=69794363750<br>Main Video Category=%{x}<br>count=%{y}<extra></extra>",
         "legendgroup": "69794363750",
         "marker": {
          "color": "#B6E880",
          "pattern": {
           "shape": ""
          }
         },
         "name": "69794363750",
         "offsetgroup": "69794363750",
         "orientation": "v",
         "showlegend": true,
         "type": "histogram",
         "x": [
          "Sports",
          "Sports",
          "Sports",
          "Sports",
          "Sports",
          "Sports",
          "Sports",
          "Sports"
         ],
         "xaxis": "x",
         "yaxis": "y"
        },
        {
         "alignmentgroup": "True",
         "bingroup": "x",
         "hovertemplate": "Views=48162039794<br>Main Video Category=%{x}<br>count=%{y}<extra></extra>",
         "legendgroup": "48162039794",
         "marker": {
          "color": "#FF97FF",
          "pattern": {
           "shape": ""
          }
         },
         "name": "48162039794",
         "offsetgroup": "48162039794",
         "orientation": "v",
         "showlegend": true,
         "type": "histogram",
         "x": [
          "Music",
          "Music",
          "Music",
          "Music",
          "Music",
          "Music",
          "Music",
          "Music"
         ],
         "xaxis": "x",
         "yaxis": "y"
        },
        {
         "alignmentgroup": "True",
         "bingroup": "x",
         "hovertemplate": "Views=65143080313<br>Main Video Category=%{x}<br>count=%{y}<extra></extra>",
         "legendgroup": "65143080313",
         "marker": {
          "color": "#FECB52",
          "pattern": {
           "shape": ""
          }
         },
         "name": "65143080313",
         "offsetgroup": "65143080313",
         "orientation": "v",
         "showlegend": true,
         "type": "histogram",
         "x": [
          "Entertainment",
          "Entertainment",
          "Entertainment",
          "Entertainment",
          "Entertainment",
          "Entertainment",
          "Entertainment",
          "Entertainment"
         ],
         "xaxis": "x",
         "yaxis": "y"
        },
        {
         "alignmentgroup": "True",
         "bingroup": "x",
         "hovertemplate": "Views=22655274758<br>Main Video Category=%{x}<br>count=%{y}<extra></extra>",
         "legendgroup": "22655274758",
         "marker": {
          "color": "#636efa",
          "pattern": {
           "shape": ""
          }
         },
         "name": "22655274758",
         "offsetgroup": "22655274758",
         "orientation": "v",
         "showlegend": true,
         "type": "histogram",
         "x": [
          "Howto & Style",
          "Howto & Style",
          "Howto & Style",
          "Howto & Style",
          "Howto & Style",
          "Howto & Style",
          "Howto & Style",
          "Howto & Style"
         ],
         "xaxis": "x",
         "yaxis": "y"
        },
        {
         "alignmentgroup": "True",
         "bingroup": "x",
         "hovertemplate": "Views=24247825120<br>Main Video Category=%{x}<br>count=%{y}<extra></extra>",
         "legendgroup": "24247825120",
         "marker": {
          "color": "#EF553B",
          "pattern": {
           "shape": ""
          }
         },
         "name": "24247825120",
         "offsetgroup": "24247825120",
         "orientation": "v",
         "showlegend": true,
         "type": "histogram",
         "x": [
          "People & Blogs",
          "People & Blogs",
          "People & Blogs",
          "People & Blogs",
          "People & Blogs",
          "People & Blogs",
          "People & Blogs",
          "People & Blogs"
         ],
         "xaxis": "x",
         "yaxis": "y"
        },
        {
         "alignmentgroup": "True",
         "bingroup": "x",
         "hovertemplate": "Views=17652030516<br>Main Video Category=%{x}<br>count=%{y}<extra></extra>",
         "legendgroup": "17652030516",
         "marker": {
          "color": "#00cc96",
          "pattern": {
           "shape": ""
          }
         },
         "name": "17652030516",
         "offsetgroup": "17652030516",
         "orientation": "v",
         "showlegend": true,
         "type": "histogram",
         "x": [
          "Film & Animation",
          "Film & Animation",
          "Film & Animation",
          "Film & Animation",
          "Film & Animation",
          "Film & Animation",
          "Film & Animation",
          "Film & Animation"
         ],
         "xaxis": "x",
         "yaxis": "y"
        },
        {
         "alignmentgroup": "True",
         "bingroup": "x",
         "hovertemplate": "Views=28347084231<br>Main Video Category=%{x}<br>count=%{y}<extra></extra>",
         "legendgroup": "28347084231",
         "marker": {
          "color": "#ab63fa",
          "pattern": {
           "shape": ""
          }
         },
         "name": "28347084231",
         "offsetgroup": "28347084231",
         "orientation": "v",
         "showlegend": true,
         "type": "histogram",
         "x": [
          "Music",
          "Music",
          "Music",
          "Music",
          "Music",
          "Music",
          "Music",
          "Music"
         ],
         "xaxis": "x",
         "yaxis": "y"
        },
        {
         "alignmentgroup": "True",
         "bingroup": "x",
         "hovertemplate": "Views=80431073293<br>Main Video Category=%{x}<br>count=%{y}<extra></extra>",
         "legendgroup": "80431073293",
         "marker": {
          "color": "#FFA15A",
          "pattern": {
           "shape": ""
          }
         },
         "name": "80431073293",
         "offsetgroup": "80431073293",
         "orientation": "v",
         "showlegend": true,
         "type": "histogram",
         "x": [
          "Entertainment",
          "Entertainment",
          "Entertainment",
          "Entertainment",
          "Entertainment",
          "Entertainment",
          "Entertainment",
          "Entertainment"
         ],
         "xaxis": "x",
         "yaxis": "y"
        },
        {
         "alignmentgroup": "True",
         "bingroup": "x",
         "hovertemplate": "Views=17072262758<br>Main Video Category=%{x}<br>count=%{y}<extra></extra>",
         "legendgroup": "17072262758",
         "marker": {
          "color": "#19d3f3",
          "pattern": {
           "shape": ""
          }
         },
         "name": "17072262758",
         "offsetgroup": "17072262758",
         "orientation": "v",
         "showlegend": true,
         "type": "histogram",
         "x": [
          "Music",
          "Music",
          "Music",
          "Music",
          "Music",
          "Music",
          "Music",
          "Music"
         ],
         "xaxis": "x",
         "yaxis": "y"
        },
        {
         "alignmentgroup": "True",
         "bingroup": "x",
         "hovertemplate": "Views=23493409219<br>Main Video Category=%{x}<br>count=%{y}<extra></extra>",
         "legendgroup": "23493409219",
         "marker": {
          "color": "#FF6692",
          "pattern": {
           "shape": ""
          }
         },
         "name": "23493409219",
         "offsetgroup": "23493409219",
         "orientation": "v",
         "showlegend": true,
         "type": "histogram",
         "x": [
          "Music",
          "Music",
          "Music",
          "Music",
          "Music",
          "Music",
          "Music",
          "Music"
         ],
         "xaxis": "x",
         "yaxis": "y"
        },
        {
         "alignmentgroup": "True",
         "bingroup": "x",
         "hovertemplate": "Views=36444038220<br>Main Video Category=%{x}<br>count=%{y}<extra></extra>",
         "legendgroup": "36444038220",
         "marker": {
          "color": "#B6E880",
          "pattern": {
           "shape": ""
          }
         },
         "name": "36444038220",
         "offsetgroup": "36444038220",
         "orientation": "v",
         "showlegend": true,
         "type": "histogram",
         "x": [
          "Music",
          "Music",
          "Music",
          "Music",
          "Music",
          "Music",
          "Music",
          "Music"
         ],
         "xaxis": "x",
         "yaxis": "y"
        },
        {
         "alignmentgroup": "True",
         "bingroup": "x",
         "hovertemplate": "Views=16034166113<br>Main Video Category=%{x}<br>count=%{y}<extra></extra>",
         "legendgroup": "16034166113",
         "marker": {
          "color": "#FF97FF",
          "pattern": {
           "shape": ""
          }
         },
         "name": "16034166113",
         "offsetgroup": "16034166113",
         "orientation": "v",
         "showlegend": true,
         "type": "histogram",
         "x": [
          "Entertainment",
          "Entertainment",
          "Entertainment",
          "Entertainment",
          "Entertainment",
          "Entertainment",
          "Entertainment",
          "Entertainment"
         ],
         "xaxis": "x",
         "yaxis": "y"
        },
        {
         "alignmentgroup": "True",
         "bingroup": "x",
         "hovertemplate": "Views=28365791631<br>Main Video Category=%{x}<br>count=%{y}<extra></extra>",
         "legendgroup": "28365791631",
         "marker": {
          "color": "#FECB52",
          "pattern": {
           "shape": ""
          }
         },
         "name": "28365791631",
         "offsetgroup": "28365791631",
         "orientation": "v",
         "showlegend": true,
         "type": "histogram",
         "x": [
          "Music",
          "Music",
          "Music",
          "Music",
          "Music",
          "Music",
          "Music",
          "Music"
         ],
         "xaxis": "x",
         "yaxis": "y"
        },
        {
         "alignmentgroup": "True",
         "bingroup": "x",
         "hovertemplate": "Views=31514954950<br>Main Video Category=%{x}<br>count=%{y}<extra></extra>",
         "legendgroup": "31514954950",
         "marker": {
          "color": "#636efa",
          "pattern": {
           "shape": ""
          }
         },
         "name": "31514954950",
         "offsetgroup": "31514954950",
         "orientation": "v",
         "showlegend": true,
         "type": "histogram",
         "x": [
          "Education",
          "Education",
          "Education",
          "Education",
          "Education",
          "Education",
          "Education",
          "Education"
         ],
         "xaxis": "x",
         "yaxis": "y"
        },
        {
         "alignmentgroup": "True",
         "bingroup": "x",
         "hovertemplate": "Views=14560770809<br>Main Video Category=%{x}<br>count=%{y}<extra></extra>",
         "legendgroup": "14560770809",
         "marker": {
          "color": "#EF553B",
          "pattern": {
           "shape": ""
          }
         },
         "name": "14560770809",
         "offsetgroup": "14560770809",
         "orientation": "v",
         "showlegend": true,
         "type": "histogram",
         "x": [
          "Sports",
          "Sports",
          "Sports",
          "Sports",
          "Sports",
          "Sports",
          "Sports",
          "Sports"
         ],
         "xaxis": "x",
         "yaxis": "y"
        },
        {
         "alignmentgroup": "True",
         "bingroup": "x",
         "hovertemplate": "Views=58434633172<br>Main Video Category=%{x}<br>count=%{y}<extra></extra>",
         "legendgroup": "58434633172",
         "marker": {
          "color": "#00cc96",
          "pattern": {
           "shape": ""
          }
         },
         "name": "58434633172",
         "offsetgroup": "58434633172",
         "orientation": "v",
         "showlegend": true,
         "type": "histogram",
         "x": [
          "Film & Animation",
          "Film & Animation",
          "Film & Animation",
          "Film & Animation",
          "Film & Animation",
          "Film & Animation",
          "Film & Animation",
          "Film & Animation"
         ],
         "xaxis": "x",
         "yaxis": "y"
        },
        {
         "alignmentgroup": "True",
         "bingroup": "x",
         "hovertemplate": "Views=38747673464<br>Main Video Category=%{x}<br>count=%{y}<extra></extra>",
         "legendgroup": "38747673464",
         "marker": {
          "color": "#ab63fa",
          "pattern": {
           "shape": ""
          }
         },
         "name": "38747673464",
         "offsetgroup": "38747673464",
         "orientation": "v",
         "showlegend": true,
         "type": "histogram",
         "x": [
          "Education",
          "Education",
          "Education",
          "Education",
          "Education",
          "Education",
          "Education",
          "Education"
         ],
         "xaxis": "x",
         "yaxis": "y"
        },
        {
         "alignmentgroup": "True",
         "bingroup": "x",
         "hovertemplate": "Views=13279526225<br>Main Video Category=%{x}<br>count=%{y}<extra></extra>",
         "legendgroup": "13279526225",
         "marker": {
          "color": "#FFA15A",
          "pattern": {
           "shape": ""
          }
         },
         "name": "13279526225",
         "offsetgroup": "13279526225",
         "orientation": "v",
         "showlegend": true,
         "type": "histogram",
         "x": [
          "Music",
          "Music",
          "Music",
          "Music",
          "Music",
          "Music",
          "Music",
          "Music"
         ],
         "xaxis": "x",
         "yaxis": "y"
        },
        {
         "alignmentgroup": "True",
         "bingroup": "x",
         "hovertemplate": "Views=50613413464<br>Main Video Category=%{x}<br>count=%{y}<extra></extra>",
         "legendgroup": "50613413464",
         "marker": {
          "color": "#19d3f3",
          "pattern": {
           "shape": ""
          }
         },
         "name": "50613413464",
         "offsetgroup": "50613413464",
         "orientation": "v",
         "showlegend": true,
         "type": "histogram",
         "x": [
          "Entertainment",
          "Entertainment",
          "Entertainment",
          "Entertainment",
          "Entertainment",
          "Entertainment",
          "Entertainment",
          "Entertainment"
         ],
         "xaxis": "x",
         "yaxis": "y"
        },
        {
         "alignmentgroup": "True",
         "bingroup": "x",
         "hovertemplate": "Views=36796548363<br>Main Video Category=%{x}<br>count=%{y}<extra></extra>",
         "legendgroup": "36796548363",
         "marker": {
          "color": "#FF6692",
          "pattern": {
           "shape": ""
          }
         },
         "name": "36796548363",
         "offsetgroup": "36796548363",
         "orientation": "v",
         "showlegend": true,
         "type": "histogram",
         "x": [
          "Music",
          "Music",
          "Music",
          "Music",
          "Music",
          "Music",
          "Music",
          "Music"
         ],
         "xaxis": "x",
         "yaxis": "y"
        },
        {
         "alignmentgroup": "True",
         "bingroup": "x",
         "hovertemplate": "Views=23404734521<br>Main Video Category=%{x}<br>count=%{y}<extra></extra>",
         "legendgroup": "23404734521",
         "marker": {
          "color": "#B6E880",
          "pattern": {
           "shape": ""
          }
         },
         "name": "23404734521",
         "offsetgroup": "23404734521",
         "orientation": "v",
         "showlegend": true,
         "type": "histogram",
         "x": [
          "Music",
          "Music",
          "Music",
          "Music",
          "Music",
          "Music",
          "Music",
          "Music"
         ],
         "xaxis": "x",
         "yaxis": "y"
        },
        {
         "alignmentgroup": "True",
         "bingroup": "x",
         "hovertemplate": "Views=19574295579<br>Main Video Category=%{x}<br>count=%{y}<extra></extra>",
         "legendgroup": "19574295579",
         "marker": {
          "color": "#FF97FF",
          "pattern": {
           "shape": ""
          }
         },
         "name": "19574295579",
         "offsetgroup": "19574295579",
         "orientation": "v",
         "showlegend": true,
         "type": "histogram",
         "x": [
          "News & Politics",
          "News & Politics",
          "News & Politics",
          "News & Politics",
          "News & Politics",
          "News & Politics",
          "News & Politics",
          "News & Politics"
         ],
         "xaxis": "x",
         "yaxis": "y"
        },
        {
         "alignmentgroup": "True",
         "bingroup": "x",
         "hovertemplate": "Views=27642363836<br>Main Video Category=%{x}<br>count=%{y}<extra></extra>",
         "legendgroup": "27642363836",
         "marker": {
          "color": "#FECB52",
          "pattern": {
           "shape": ""
          }
         },
         "name": "27642363836",
         "offsetgroup": "27642363836",
         "orientation": "v",
         "showlegend": true,
         "type": "histogram",
         "x": [
          "Music",
          "Music",
          "Music",
          "Music",
          "Music",
          "Music",
          "Music",
          "Music"
         ],
         "xaxis": "x",
         "yaxis": "y"
        },
        {
         "alignmentgroup": "True",
         "bingroup": "x",
         "hovertemplate": "Views=27298793597<br>Main Video Category=%{x}<br>count=%{y}<extra></extra>",
         "legendgroup": "27298793597",
         "marker": {
          "color": "#636efa",
          "pattern": {
           "shape": ""
          }
         },
         "name": "27298793597",
         "offsetgroup": "27298793597",
         "orientation": "v",
         "showlegend": true,
         "type": "histogram",
         "x": [
          "Music",
          "Music",
          "Music",
          "Music",
          "Music",
          "Music",
          "Music",
          "Music"
         ],
         "xaxis": "x",
         "yaxis": "y"
        },
        {
         "alignmentgroup": "True",
         "bingroup": "x",
         "hovertemplate": "Views=24301972405<br>Main Video Category=%{x}<br>count=%{y}<extra></extra>",
         "legendgroup": "24301972405",
         "marker": {
          "color": "#EF553B",
          "pattern": {
           "shape": ""
          }
         },
         "name": "24301972405",
         "offsetgroup": "24301972405",
         "orientation": "v",
         "showlegend": true,
         "type": "histogram",
         "x": [
          "Music",
          "Music",
          "Music",
          "Music",
          "Music",
          "Music",
          "Music",
          "Music"
         ],
         "xaxis": "x",
         "yaxis": "y"
        },
        {
         "alignmentgroup": "True",
         "bingroup": "x",
         "hovertemplate": "Views=21945548174<br>Main Video Category=%{x}<br>count=%{y}<extra></extra>",
         "legendgroup": "21945548174",
         "marker": {
          "color": "#00cc96",
          "pattern": {
           "shape": ""
          }
         },
         "name": "21945548174",
         "offsetgroup": "21945548174",
         "orientation": "v",
         "showlegend": true,
         "type": "histogram",
         "x": [
          "Pop music",
          "Pop music",
          "Pop music",
          "Pop music",
          "Pop music",
          "Pop music",
          "Pop music",
          "Pop music"
         ],
         "xaxis": "x",
         "yaxis": "y"
        },
        {
         "alignmentgroup": "True",
         "bingroup": "x",
         "hovertemplate": "Views=23663272345<br>Main Video Category=%{x}<br>count=%{y}<extra></extra>",
         "legendgroup": "23663272345",
         "marker": {
          "color": "#ab63fa",
          "pattern": {
           "shape": ""
          }
         },
         "name": "23663272345",
         "offsetgroup": "23663272345",
         "orientation": "v",
         "showlegend": true,
         "type": "histogram",
         "x": [
          "Music",
          "Music",
          "Music",
          "Music",
          "Music",
          "Music",
          "Music",
          "Music"
         ],
         "xaxis": "x",
         "yaxis": "y"
        },
        {
         "alignmentgroup": "True",
         "bingroup": "x",
         "hovertemplate": "Views=49013318189<br>Main Video Category=%{x}<br>count=%{y}<extra></extra>",
         "legendgroup": "49013318189",
         "marker": {
          "color": "#FFA15A",
          "pattern": {
           "shape": ""
          }
         },
         "name": "49013318189",
         "offsetgroup": "49013318189",
         "orientation": "v",
         "showlegend": true,
         "type": "histogram",
         "x": [
          "Music",
          "Music",
          "Music",
          "Music",
          "Music",
          "Music",
          "Music",
          "Music"
         ],
         "xaxis": "x",
         "yaxis": "y"
        },
        {
         "alignmentgroup": "True",
         "bingroup": "x",
         "hovertemplate": "Views=28700714072<br>Main Video Category=%{x}<br>count=%{y}<extra></extra>",
         "legendgroup": "28700714072",
         "marker": {
          "color": "#19d3f3",
          "pattern": {
           "shape": ""
          }
         },
         "name": "28700714072",
         "offsetgroup": "28700714072",
         "orientation": "v",
         "showlegend": true,
         "type": "histogram",
         "x": [
          "Music",
          "Music",
          "Music",
          "Music",
          "Music",
          "Music",
          "Music",
          "Music"
         ],
         "xaxis": "x",
         "yaxis": "y"
        },
        {
         "alignmentgroup": "True",
         "bingroup": "x",
         "hovertemplate": "Views=28692968075<br>Main Video Category=%{x}<br>count=%{y}<extra></extra>",
         "legendgroup": "28692968075",
         "marker": {
          "color": "#FF6692",
          "pattern": {
           "shape": ""
          }
         },
         "name": "28692968075",
         "offsetgroup": "28692968075",
         "orientation": "v",
         "showlegend": true,
         "type": "histogram",
         "x": [
          "Music",
          "Music",
          "Music",
          "Music",
          "Music",
          "Music",
          "Music",
          "Music"
         ],
         "xaxis": "x",
         "yaxis": "y"
        },
        {
         "alignmentgroup": "True",
         "bingroup": "x",
         "hovertemplate": "Views=25296371488<br>Main Video Category=%{x}<br>count=%{y}<extra></extra>",
         "legendgroup": "25296371488",
         "marker": {
          "color": "#B6E880",
          "pattern": {
           "shape": ""
          }
         },
         "name": "25296371488",
         "offsetgroup": "25296371488",
         "orientation": "v",
         "showlegend": true,
         "type": "histogram",
         "x": [
          "Music",
          "Music",
          "Music",
          "Music",
          "Music",
          "Music",
          "Music",
          "Music"
         ],
         "xaxis": "x",
         "yaxis": "y"
        },
        {
         "alignmentgroup": "True",
         "bingroup": "x",
         "hovertemplate": "Views=13594315965<br>Main Video Category=%{x}<br>count=%{y}<extra></extra>",
         "legendgroup": "13594315965",
         "marker": {
          "color": "#FF97FF",
          "pattern": {
           "shape": ""
          }
         },
         "name": "13594315965",
         "offsetgroup": "13594315965",
         "orientation": "v",
         "showlegend": true,
         "type": "histogram",
         "x": [
          "Gaming",
          "Gaming",
          "Gaming",
          "Gaming",
          "Gaming",
          "Gaming",
          "Gaming",
          "Gaming"
         ],
         "xaxis": "x",
         "yaxis": "y"
        },
        {
         "alignmentgroup": "True",
         "bingroup": "x",
         "hovertemplate": "Views=11810491835<br>Main Video Category=%{x}<br>count=%{y}<extra></extra>",
         "legendgroup": "11810491835",
         "marker": {
          "color": "#FECB52",
          "pattern": {
           "shape": ""
          }
         },
         "name": "11810491835",
         "offsetgroup": "11810491835",
         "orientation": "v",
         "showlegend": true,
         "type": "histogram",
         "x": [
          "Music",
          "Music",
          "Music",
          "Music",
          "Music",
          "Music",
          "Music",
          "Music"
         ],
         "xaxis": "x",
         "yaxis": "y"
        },
        {
         "alignmentgroup": "True",
         "bingroup": "x",
         "hovertemplate": "Views=18491954095<br>Main Video Category=%{x}<br>count=%{y}<extra></extra>",
         "legendgroup": "18491954095",
         "marker": {
          "color": "#636efa",
          "pattern": {
           "shape": ""
          }
         },
         "name": "18491954095",
         "offsetgroup": "18491954095",
         "orientation": "v",
         "showlegend": true,
         "type": "histogram",
         "x": [
          "Entertainment",
          "Entertainment",
          "Entertainment",
          "Entertainment",
          "Entertainment",
          "Entertainment",
          "Entertainment",
          "Entertainment"
         ],
         "xaxis": "x",
         "yaxis": "y"
        },
        {
         "alignmentgroup": "True",
         "bingroup": "x",
         "hovertemplate": "Views=9934602477<br>Main Video Category=%{x}<br>count=%{y}<extra></extra>",
         "legendgroup": "9934602477",
         "marker": {
          "color": "#EF553B",
          "pattern": {
           "shape": ""
          }
         },
         "name": "9934602477",
         "offsetgroup": "9934602477",
         "orientation": "v",
         "showlegend": true,
         "type": "histogram",
         "x": [
          "Gaming",
          "Gaming",
          "Gaming",
          "Gaming",
          "Gaming",
          "Gaming",
          "Gaming",
          "Gaming"
         ],
         "xaxis": "x",
         "yaxis": "y"
        },
        {
         "alignmentgroup": "True",
         "bingroup": "x",
         "hovertemplate": "Views=25062652229<br>Main Video Category=%{x}<br>count=%{y}<extra></extra>",
         "legendgroup": "25062652229",
         "marker": {
          "color": "#00cc96",
          "pattern": {
           "shape": ""
          }
         },
         "name": "25062652229",
         "offsetgroup": "25062652229",
         "orientation": "v",
         "showlegend": true,
         "type": "histogram",
         "x": [
          "Education",
          "Education",
          "Education",
          "Education",
          "Education",
          "Education",
          "Education",
          "Education"
         ],
         "xaxis": "x",
         "yaxis": "y"
        },
        {
         "alignmentgroup": "True",
         "bingroup": "x",
         "hovertemplate": "Views=15287605140<br>Main Video Category=%{x}<br>count=%{y}<extra></extra>",
         "legendgroup": "15287605140",
         "marker": {
          "color": "#ab63fa",
          "pattern": {
           "shape": ""
          }
         },
         "name": "15287605140",
         "offsetgroup": "15287605140",
         "orientation": "v",
         "showlegend": true,
         "type": "histogram",
         "x": [
          "Entertainment",
          "Entertainment",
          "Entertainment",
          "Entertainment",
          "Entertainment",
          "Entertainment",
          "Entertainment",
          "Entertainment"
         ],
         "xaxis": "x",
         "yaxis": "y"
        },
        {
         "alignmentgroup": "True",
         "bingroup": "x",
         "hovertemplate": "Views=4101958915<br>Main Video Category=%{x}<br>count=%{y}<extra></extra>",
         "legendgroup": "4101958915",
         "marker": {
          "color": "#FFA15A",
          "pattern": {
           "shape": ""
          }
         },
         "name": "4101958915",
         "offsetgroup": "4101958915",
         "orientation": "v",
         "showlegend": true,
         "type": "histogram",
         "x": [
          "Comedy",
          "Comedy",
          "Comedy",
          "Comedy",
          "Comedy",
          "Comedy",
          "Comedy",
          "Comedy"
         ],
         "xaxis": "x",
         "yaxis": "y"
        },
        {
         "alignmentgroup": "True",
         "bingroup": "x",
         "hovertemplate": "Views=9969944772<br>Main Video Category=%{x}<br>count=%{y}<extra></extra>",
         "legendgroup": "9969944772",
         "marker": {
          "color": "#19d3f3",
          "pattern": {
           "shape": ""
          }
         },
         "name": "9969944772",
         "offsetgroup": "9969944772",
         "orientation": "v",
         "showlegend": true,
         "type": "histogram",
         "x": [
          "Howto & Style",
          "Howto & Style",
          "Howto & Style",
          "Howto & Style",
          "Howto & Style",
          "Howto & Style",
          "Howto & Style",
          "Howto & Style"
         ],
         "xaxis": "x",
         "yaxis": "y"
        },
        {
         "alignmentgroup": "True",
         "bingroup": "x",
         "hovertemplate": "Views=4725838896<br>Main Video Category=%{x}<br>count=%{y}<extra></extra>",
         "legendgroup": "4725838896",
         "marker": {
          "color": "#FF6692",
          "pattern": {
           "shape": ""
          }
         },
         "name": "4725838896",
         "offsetgroup": "4725838896",
         "orientation": "v",
         "showlegend": true,
         "type": "histogram",
         "x": [
          "Entertainment",
          "Entertainment",
          "Entertainment",
          "Entertainment",
          "Entertainment",
          "Entertainment",
          "Entertainment",
          "Entertainment"
         ],
         "xaxis": "x",
         "yaxis": "y"
        },
        {
         "alignmentgroup": "True",
         "bingroup": "x",
         "hovertemplate": "Views=7206933910<br>Main Video Category=%{x}<br>count=%{y}<extra></extra>",
         "legendgroup": "7206933910",
         "marker": {
          "color": "#B6E880",
          "pattern": {
           "shape": ""
          }
         },
         "name": "7206933910",
         "offsetgroup": "7206933910",
         "orientation": "v",
         "showlegend": true,
         "type": "histogram",
         "x": [
          "Entertainment",
          "Entertainment",
          "Entertainment",
          "Entertainment",
          "Entertainment",
          "Entertainment",
          "Entertainment",
          "Entertainment"
         ],
         "xaxis": "x",
         "yaxis": "y"
        },
        {
         "alignmentgroup": "True",
         "bingroup": "x",
         "hovertemplate": "Views=23815643998<br>Main Video Category=%{x}<br>count=%{y}<extra></extra>",
         "legendgroup": "23815643998",
         "marker": {
          "color": "#FF97FF",
          "pattern": {
           "shape": ""
          }
         },
         "name": "23815643998",
         "offsetgroup": "23815643998",
         "orientation": "v",
         "showlegend": true,
         "type": "histogram",
         "x": [
          "Music",
          "Music",
          "Music",
          "Music",
          "Music",
          "Music",
          "Music",
          "Music"
         ],
         "xaxis": "x",
         "yaxis": "y"
        },
        {
         "alignmentgroup": "True",
         "bingroup": "x",
         "hovertemplate": "Views=23588674274<br>Main Video Category=%{x}<br>count=%{y}<extra></extra>",
         "legendgroup": "23588674274",
         "marker": {
          "color": "#FECB52",
          "pattern": {
           "shape": ""
          }
         },
         "name": "23588674274",
         "offsetgroup": "23588674274",
         "orientation": "v",
         "showlegend": true,
         "type": "histogram",
         "x": [
          "Music",
          "Music",
          "Music",
          "Music",
          "Music",
          "Music",
          "Music",
          "Music"
         ],
         "xaxis": "x",
         "yaxis": "y"
        },
        {
         "alignmentgroup": "True",
         "bingroup": "x",
         "hovertemplate": "Views=11617072443<br>Main Video Category=%{x}<br>count=%{y}<extra></extra>",
         "legendgroup": "11617072443",
         "marker": {
          "color": "#636efa",
          "pattern": {
           "shape": ""
          }
         },
         "name": "11617072443",
         "offsetgroup": "11617072443",
         "orientation": "v",
         "showlegend": true,
         "type": "histogram",
         "x": [
          "Music",
          "Music",
          "Music",
          "Music",
          "Music",
          "Music",
          "Music",
          "Music"
         ],
         "xaxis": "x",
         "yaxis": "y"
        },
        {
         "alignmentgroup": "True",
         "bingroup": "x",
         "hovertemplate": "Views=22382018623<br>Main Video Category=%{x}<br>count=%{y}<extra></extra>",
         "legendgroup": "22382018623",
         "marker": {
          "color": "#EF553B",
          "pattern": {
           "shape": ""
          }
         },
         "name": "22382018623",
         "offsetgroup": "22382018623",
         "orientation": "v",
         "showlegend": true,
         "type": "histogram",
         "x": [
          "Music",
          "Music",
          "Music",
          "Music",
          "Music",
          "Music",
          "Music",
          "Music"
         ],
         "xaxis": "x",
         "yaxis": "y"
        },
        {
         "alignmentgroup": "True",
         "bingroup": "x",
         "hovertemplate": "Views=18673777146<br>Main Video Category=%{x}<br>count=%{y}<extra></extra>",
         "legendgroup": "18673777146",
         "marker": {
          "color": "#00cc96",
          "pattern": {
           "shape": ""
          }
         },
         "name": "18673777146",
         "offsetgroup": "18673777146",
         "orientation": "v",
         "showlegend": true,
         "type": "histogram",
         "x": [
          "Entertainment",
          "Entertainment",
          "Entertainment",
          "Entertainment",
          "Entertainment",
          "Entertainment",
          "Entertainment",
          "Entertainment"
         ],
         "xaxis": "x",
         "yaxis": "y"
        },
        {
         "alignmentgroup": "True",
         "bingroup": "x",
         "hovertemplate": "Views=15999397373<br>Main Video Category=%{x}<br>count=%{y}<extra></extra>",
         "legendgroup": "15999397373",
         "marker": {
          "color": "#ab63fa",
          "pattern": {
           "shape": ""
          }
         },
         "name": "15999397373",
         "offsetgroup": "15999397373",
         "orientation": "v",
         "showlegend": true,
         "type": "histogram",
         "x": [
          "Gaming",
          "Gaming",
          "Gaming",
          "Gaming",
          "Gaming",
          "Gaming",
          "Gaming",
          "Gaming"
         ],
         "xaxis": "x",
         "yaxis": "y"
        },
        {
         "alignmentgroup": "True",
         "bingroup": "x",
         "hovertemplate": "Views=28323109702<br>Main Video Category=%{x}<br>count=%{y}<extra></extra>",
         "legendgroup": "28323109702",
         "marker": {
          "color": "#FFA15A",
          "pattern": {
           "shape": ""
          }
         },
         "name": "28323109702",
         "offsetgroup": "28323109702",
         "orientation": "v",
         "showlegend": true,
         "type": "histogram",
         "x": [
          "Shows",
          "Shows",
          "Shows",
          "Shows",
          "Shows",
          "Shows",
          "Shows",
          "Shows"
         ],
         "xaxis": "x",
         "yaxis": "y"
        },
        {
         "alignmentgroup": "True",
         "bingroup": "x",
         "hovertemplate": "Views=24158005861<br>Main Video Category=%{x}<br>count=%{y}<extra></extra>",
         "legendgroup": "24158005861",
         "marker": {
          "color": "#19d3f3",
          "pattern": {
           "shape": ""
          }
         },
         "name": "24158005861",
         "offsetgroup": "24158005861",
         "orientation": "v",
         "showlegend": true,
         "type": "histogram",
         "x": [
          "Music",
          "Music",
          "Music",
          "Music",
          "Music",
          "Music",
          "Music",
          "Music"
         ],
         "xaxis": "x",
         "yaxis": "y"
        },
        {
         "alignmentgroup": "True",
         "bingroup": "x",
         "hovertemplate": "Views=7469679920<br>Main Video Category=%{x}<br>count=%{y}<extra></extra>",
         "legendgroup": "7469679920",
         "marker": {
          "color": "#FF6692",
          "pattern": {
           "shape": ""
          }
         },
         "name": "7469679920",
         "offsetgroup": "7469679920",
         "orientation": "v",
         "showlegend": true,
         "type": "histogram",
         "x": [
          "Comedy",
          "Comedy",
          "Comedy",
          "Comedy",
          "Comedy",
          "Comedy",
          "Comedy",
          "Comedy"
         ],
         "xaxis": "x",
         "yaxis": "y"
        },
        {
         "alignmentgroup": "True",
         "bingroup": "x",
         "hovertemplate": "Views=46854726788<br>Main Video Category=%{x}<br>count=%{y}<extra></extra>",
         "legendgroup": "46854726788",
         "marker": {
          "color": "#B6E880",
          "pattern": {
           "shape": ""
          }
         },
         "name": "46854726788",
         "offsetgroup": "46854726788",
         "orientation": "v",
         "showlegend": true,
         "type": "histogram",
         "x": [
          "Entertainment",
          "Entertainment",
          "Entertainment",
          "Entertainment",
          "Entertainment",
          "Entertainment",
          "Entertainment",
          "Entertainment"
         ],
         "xaxis": "x",
         "yaxis": "y"
        },
        {
         "alignmentgroup": "True",
         "bingroup": "x",
         "hovertemplate": "Views=19885240007<br>Main Video Category=%{x}<br>count=%{y}<extra></extra>",
         "legendgroup": "19885240007",
         "marker": {
          "color": "#FF97FF",
          "pattern": {
           "shape": ""
          }
         },
         "name": "19885240007",
         "offsetgroup": "19885240007",
         "orientation": "v",
         "showlegend": true,
         "type": "histogram",
         "x": [
          "Entertainment",
          "Entertainment",
          "Entertainment",
          "Entertainment",
          "Entertainment",
          "Entertainment",
          "Entertainment",
          "Entertainment"
         ],
         "xaxis": "x",
         "yaxis": "y"
        },
        {
         "alignmentgroup": "True",
         "bingroup": "x",
         "hovertemplate": "Views=36748994170<br>Main Video Category=%{x}<br>count=%{y}<extra></extra>",
         "legendgroup": "36748994170",
         "marker": {
          "color": "#FECB52",
          "pattern": {
           "shape": ""
          }
         },
         "name": "36748994170",
         "offsetgroup": "36748994170",
         "orientation": "v",
         "showlegend": true,
         "type": "histogram",
         "x": [
          "Education",
          "Education",
          "Education",
          "Education",
          "Education",
          "Education",
          "Education",
          "Education"
         ],
         "xaxis": "x",
         "yaxis": "y"
        },
        {
         "alignmentgroup": "True",
         "bingroup": "x",
         "hovertemplate": "Views=7572635123<br>Main Video Category=%{x}<br>count=%{y}<extra></extra>",
         "legendgroup": "7572635123",
         "marker": {
          "color": "#636efa",
          "pattern": {
           "shape": ""
          }
         },
         "name": "7572635123",
         "offsetgroup": "7572635123",
         "orientation": "v",
         "showlegend": true,
         "type": "histogram",
         "x": [
          "Comedy",
          "Comedy",
          "Comedy",
          "Comedy",
          "Comedy",
          "Comedy",
          "Comedy",
          "Comedy"
         ],
         "xaxis": "x",
         "yaxis": "y"
        },
        {
         "alignmentgroup": "True",
         "bingroup": "x",
         "hovertemplate": "Views=32512871141<br>Main Video Category=%{x}<br>count=%{y}<extra></extra>",
         "legendgroup": "32512871141",
         "marker": {
          "color": "#EF553B",
          "pattern": {
           "shape": ""
          }
         },
         "name": "32512871141",
         "offsetgroup": "32512871141",
         "orientation": "v",
         "showlegend": true,
         "type": "histogram",
         "x": [
          "Film & Animation",
          "Film & Animation",
          "Film & Animation",
          "Film & Animation",
          "Film & Animation",
          "Film & Animation",
          "Film & Animation",
          "Film & Animation"
         ],
         "xaxis": "x",
         "yaxis": "y"
        },
        {
         "alignmentgroup": "True",
         "bingroup": "x",
         "hovertemplate": "Views=22274035516<br>Main Video Category=%{x}<br>count=%{y}<extra></extra>",
         "legendgroup": "22274035516",
         "marker": {
          "color": "#00cc96",
          "pattern": {
           "shape": ""
          }
         },
         "name": "22274035516",
         "offsetgroup": "22274035516",
         "orientation": "v",
         "showlegend": true,
         "type": "histogram",
         "x": [
          "Entertainment",
          "Entertainment",
          "Entertainment",
          "Entertainment",
          "Entertainment",
          "Entertainment",
          "Entertainment",
          "Entertainment"
         ],
         "xaxis": "x",
         "yaxis": "y"
        },
        {
         "alignmentgroup": "True",
         "bingroup": "x",
         "hovertemplate": "Views=20326343958<br>Main Video Category=%{x}<br>count=%{y}<extra></extra>",
         "legendgroup": "20326343958",
         "marker": {
          "color": "#ab63fa",
          "pattern": {
           "shape": ""
          }
         },
         "name": "20326343958",
         "offsetgroup": "20326343958",
         "orientation": "v",
         "showlegend": true,
         "type": "histogram",
         "x": [
          "Entertainment",
          "Entertainment",
          "Entertainment",
          "Entertainment",
          "Entertainment",
          "Entertainment",
          "Entertainment",
          "Entertainment"
         ],
         "xaxis": "x",
         "yaxis": "y"
        },
        {
         "alignmentgroup": "True",
         "bingroup": "x",
         "hovertemplate": "Views=17243982736<br>Main Video Category=%{x}<br>count=%{y}<extra></extra>",
         "legendgroup": "17243982736",
         "marker": {
          "color": "#FFA15A",
          "pattern": {
           "shape": ""
          }
         },
         "name": "17243982736",
         "offsetgroup": "17243982736",
         "orientation": "v",
         "showlegend": true,
         "type": "histogram",
         "x": [
          "Entertainment",
          "Entertainment",
          "Entertainment",
          "Entertainment",
          "Entertainment",
          "Entertainment",
          "Entertainment",
          "Entertainment"
         ],
         "xaxis": "x",
         "yaxis": "y"
        },
        {
         "alignmentgroup": "True",
         "bingroup": "x",
         "hovertemplate": "Views=20208165033<br>Main Video Category=%{x}<br>count=%{y}<extra></extra>",
         "legendgroup": "20208165033",
         "marker": {
          "color": "#19d3f3",
          "pattern": {
           "shape": ""
          }
         },
         "name": "20208165033",
         "offsetgroup": "20208165033",
         "orientation": "v",
         "showlegend": true,
         "type": "histogram",
         "x": [
          "People & Blogs",
          "People & Blogs",
          "People & Blogs",
          "People & Blogs",
          "People & Blogs",
          "People & Blogs",
          "People & Blogs",
          "People & Blogs"
         ],
         "xaxis": "x",
         "yaxis": "y"
        },
        {
         "alignmentgroup": "True",
         "bingroup": "x",
         "hovertemplate": "Views=23660684066<br>Main Video Category=%{x}<br>count=%{y}<extra></extra>",
         "legendgroup": "23660684066",
         "marker": {
          "color": "#FF6692",
          "pattern": {
           "shape": ""
          }
         },
         "name": "23660684066",
         "offsetgroup": "23660684066",
         "orientation": "v",
         "showlegend": true,
         "type": "histogram",
         "x": [
          "Music",
          "Music",
          "Music",
          "Music",
          "Music",
          "Music",
          "Music",
          "Music"
         ],
         "xaxis": "x",
         "yaxis": "y"
        },
        {
         "alignmentgroup": "True",
         "bingroup": "x",
         "hovertemplate": "Views=9632080442<br>Main Video Category=%{x}<br>count=%{y}<extra></extra>",
         "legendgroup": "9632080442",
         "marker": {
          "color": "#B6E880",
          "pattern": {
           "shape": ""
          }
         },
         "name": "9632080442",
         "offsetgroup": "9632080442",
         "orientation": "v",
         "showlegend": true,
         "type": "histogram",
         "x": [
          "Music",
          "Music",
          "Music",
          "Music",
          "Music",
          "Music",
          "Music",
          "Music"
         ],
         "xaxis": "x",
         "yaxis": "y"
        },
        {
         "alignmentgroup": "True",
         "bingroup": "x",
         "hovertemplate": "Views=14749662467<br>Main Video Category=%{x}<br>count=%{y}<extra></extra>",
         "legendgroup": "14749662467",
         "marker": {
          "color": "#FF97FF",
          "pattern": {
           "shape": ""
          }
         },
         "name": "14749662467",
         "offsetgroup": "14749662467",
         "orientation": "v",
         "showlegend": true,
         "type": "histogram",
         "x": [
          "Music",
          "Music",
          "Music",
          "Music",
          "Music",
          "Music",
          "Music",
          "Music"
         ],
         "xaxis": "x",
         "yaxis": "y"
        },
        {
         "alignmentgroup": "True",
         "bingroup": "x",
         "hovertemplate": "Views=12577465005<br>Main Video Category=%{x}<br>count=%{y}<extra></extra>",
         "legendgroup": "12577465005",
         "marker": {
          "color": "#FECB52",
          "pattern": {
           "shape": ""
          }
         },
         "name": "12577465005",
         "offsetgroup": "12577465005",
         "orientation": "v",
         "showlegend": true,
         "type": "histogram",
         "x": [
          "Music",
          "Music",
          "Music",
          "Music",
          "Music",
          "Music",
          "Music",
          "Music"
         ],
         "xaxis": "x",
         "yaxis": "y"
        },
        {
         "alignmentgroup": "True",
         "bingroup": "x",
         "hovertemplate": "Views=4188413314<br>Main Video Category=%{x}<br>count=%{y}<extra></extra>",
         "legendgroup": "4188413314",
         "marker": {
          "color": "#636efa",
          "pattern": {
           "shape": ""
          }
         },
         "name": "4188413314",
         "offsetgroup": "4188413314",
         "orientation": "v",
         "showlegend": true,
         "type": "histogram",
         "x": [
          "People & Blogs",
          "People & Blogs",
          "People & Blogs",
          "People & Blogs",
          "People & Blogs",
          "People & Blogs",
          "People & Blogs",
          "People & Blogs"
         ],
         "xaxis": "x",
         "yaxis": "y"
        },
        {
         "alignmentgroup": "True",
         "bingroup": "x",
         "hovertemplate": "Views=33437272309<br>Main Video Category=%{x}<br>count=%{y}<extra></extra>",
         "legendgroup": "33437272309",
         "marker": {
          "color": "#EF553B",
          "pattern": {
           "shape": ""
          }
         },
         "name": "33437272309",
         "offsetgroup": "33437272309",
         "orientation": "v",
         "showlegend": true,
         "type": "histogram",
         "x": [
          "Entertainment",
          "Entertainment",
          "Entertainment",
          "Entertainment",
          "Entertainment",
          "Entertainment",
          "Entertainment",
          "Entertainment"
         ],
         "xaxis": "x",
         "yaxis": "y"
        },
        {
         "alignmentgroup": "True",
         "bingroup": "x",
         "hovertemplate": "Views=23356797129<br>Main Video Category=%{x}<br>count=%{y}<extra></extra>",
         "legendgroup": "23356797129",
         "marker": {
          "color": "#00cc96",
          "pattern": {
           "shape": ""
          }
         },
         "name": "23356797129",
         "offsetgroup": "23356797129",
         "orientation": "v",
         "showlegend": true,
         "type": "histogram",
         "x": [
          "People & Blogs",
          "People & Blogs",
          "People & Blogs",
          "People & Blogs",
          "People & Blogs",
          "People & Blogs",
          "People & Blogs",
          "People & Blogs"
         ],
         "xaxis": "x",
         "yaxis": "y"
        },
        {
         "alignmentgroup": "True",
         "bingroup": "x",
         "hovertemplate": "Views=20194962867<br>Main Video Category=%{x}<br>count=%{y}<extra></extra>",
         "legendgroup": "20194962867",
         "marker": {
          "color": "#ab63fa",
          "pattern": {
           "shape": ""
          }
         },
         "name": "20194962867",
         "offsetgroup": "20194962867",
         "orientation": "v",
         "showlegend": true,
         "type": "histogram",
         "x": [
          "Music",
          "Music",
          "Music",
          "Music",
          "Music",
          "Music",
          "Music",
          "Music"
         ],
         "xaxis": "x",
         "yaxis": "y"
        },
        {
         "alignmentgroup": "True",
         "bingroup": "x",
         "hovertemplate": "Views=40261342099<br>Main Video Category=%{x}<br>count=%{y}<extra></extra>",
         "legendgroup": "40261342099",
         "marker": {
          "color": "#FFA15A",
          "pattern": {
           "shape": ""
          }
         },
         "name": "40261342099",
         "offsetgroup": "40261342099",
         "orientation": "v",
         "showlegend": true,
         "type": "histogram",
         "x": [
          "Entertainment",
          "Entertainment",
          "Entertainment",
          "Entertainment",
          "Entertainment",
          "Entertainment",
          "Entertainment",
          "Entertainment"
         ],
         "xaxis": "x",
         "yaxis": "y"
        },
        {
         "alignmentgroup": "True",
         "bingroup": "x",
         "hovertemplate": "Views=0<br>Main Video Category=%{x}<br>count=%{y}<extra></extra>",
         "legendgroup": "0",
         "marker": {
          "color": "#19d3f3",
          "pattern": {
           "shape": ""
          }
         },
         "name": "0",
         "offsetgroup": "0",
         "orientation": "v",
         "showlegend": true,
         "type": "histogram",
         "x": [
          null,
          null
         ],
         "xaxis": "x",
         "yaxis": "y"
        },
        {
         "alignmentgroup": "True",
         "bingroup": "x",
         "hovertemplate": "Views=2925375307<br>Main Video Category=%{x}<br>count=%{y}<extra></extra>",
         "legendgroup": "2925375307",
         "marker": {
          "color": "#FF6692",
          "pattern": {
           "shape": ""
          }
         },
         "name": "2925375307",
         "offsetgroup": "2925375307",
         "orientation": "v",
         "showlegend": true,
         "type": "histogram",
         "x": [
          "Comedy",
          "Comedy"
         ],
         "xaxis": "x",
         "yaxis": "y"
        },
        {
         "alignmentgroup": "True",
         "bingroup": "x",
         "hovertemplate": "Views=20285080239<br>Main Video Category=%{x}<br>count=%{y}<extra></extra>",
         "legendgroup": "20285080239",
         "marker": {
          "color": "#B6E880",
          "pattern": {
           "shape": ""
          }
         },
         "name": "20285080239",
         "offsetgroup": "20285080239",
         "orientation": "v",
         "showlegend": true,
         "type": "histogram",
         "x": [
          "Music",
          "Music"
         ],
         "xaxis": "x",
         "yaxis": "y"
        },
        {
         "alignmentgroup": "True",
         "bingroup": "x",
         "hovertemplate": "Views=18836836311<br>Main Video Category=%{x}<br>count=%{y}<extra></extra>",
         "legendgroup": "18836836311",
         "marker": {
          "color": "#FF97FF",
          "pattern": {
           "shape": ""
          }
         },
         "name": "18836836311",
         "offsetgroup": "18836836311",
         "orientation": "v",
         "showlegend": true,
         "type": "histogram",
         "x": [
          "People & Blogs",
          "People & Blogs"
         ],
         "xaxis": "x",
         "yaxis": "y"
        },
        {
         "alignmentgroup": "True",
         "bingroup": "x",
         "hovertemplate": "Views=20513944057<br>Main Video Category=%{x}<br>count=%{y}<extra></extra>",
         "legendgroup": "20513944057",
         "marker": {
          "color": "#FECB52",
          "pattern": {
           "shape": ""
          }
         },
         "name": "20513944057",
         "offsetgroup": "20513944057",
         "orientation": "v",
         "showlegend": true,
         "type": "histogram",
         "x": [
          "People & Blogs",
          "People & Blogs"
         ],
         "xaxis": "x",
         "yaxis": "y"
        },
        {
         "alignmentgroup": "True",
         "bingroup": "x",
         "hovertemplate": "Views=6555696786<br>Main Video Category=%{x}<br>count=%{y}<extra></extra>",
         "legendgroup": "6555696786",
         "marker": {
          "color": "#636efa",
          "pattern": {
           "shape": ""
          }
         },
         "name": "6555696786",
         "offsetgroup": "6555696786",
         "orientation": "v",
         "showlegend": true,
         "type": "histogram",
         "x": [
          "Nonprofits & Activism",
          "Nonprofits & Activism"
         ],
         "xaxis": "x",
         "yaxis": "y"
        },
        {
         "alignmentgroup": "True",
         "bingroup": "x",
         "hovertemplate": "Views=14926283850<br>Main Video Category=%{x}<br>count=%{y}<extra></extra>",
         "legendgroup": "14926283850",
         "marker": {
          "color": "#EF553B",
          "pattern": {
           "shape": ""
          }
         },
         "name": "14926283850",
         "offsetgroup": "14926283850",
         "orientation": "v",
         "showlegend": true,
         "type": "histogram",
         "x": [
          "Comedy",
          "Comedy"
         ],
         "xaxis": "x",
         "yaxis": "y"
        },
        {
         "alignmentgroup": "True",
         "bingroup": "x",
         "hovertemplate": "Views=20871652286<br>Main Video Category=%{x}<br>count=%{y}<extra></extra>",
         "legendgroup": "20871652286",
         "marker": {
          "color": "#00cc96",
          "pattern": {
           "shape": ""
          }
         },
         "name": "20871652286",
         "offsetgroup": "20871652286",
         "orientation": "v",
         "showlegend": true,
         "type": "histogram",
         "x": [
          "Music",
          "Music"
         ],
         "xaxis": "x",
         "yaxis": "y"
        },
        {
         "alignmentgroup": "True",
         "bingroup": "x",
         "hovertemplate": "Views=17193624383<br>Main Video Category=%{x}<br>count=%{y}<extra></extra>",
         "legendgroup": "17193624383",
         "marker": {
          "color": "#ab63fa",
          "pattern": {
           "shape": ""
          }
         },
         "name": "17193624383",
         "offsetgroup": "17193624383",
         "orientation": "v",
         "showlegend": true,
         "type": "histogram",
         "x": [
          "Music",
          "Music"
         ],
         "xaxis": "x",
         "yaxis": "y"
        },
        {
         "alignmentgroup": "True",
         "bingroup": "x",
         "hovertemplate": "Views=36596355848<br>Main Video Category=%{x}<br>count=%{y}<extra></extra>",
         "legendgroup": "36596355848",
         "marker": {
          "color": "#FFA15A",
          "pattern": {
           "shape": ""
          }
         },
         "name": "36596355848",
         "offsetgroup": "36596355848",
         "orientation": "v",
         "showlegend": true,
         "type": "histogram",
         "x": [
          "Education",
          "Education"
         ],
         "xaxis": "x",
         "yaxis": "y"
        },
        {
         "alignmentgroup": "True",
         "bingroup": "x",
         "hovertemplate": "Views=18886570104<br>Main Video Category=%{x}<br>count=%{y}<extra></extra>",
         "legendgroup": "18886570104",
         "marker": {
          "color": "#19d3f3",
          "pattern": {
           "shape": ""
          }
         },
         "name": "18886570104",
         "offsetgroup": "18886570104",
         "orientation": "v",
         "showlegend": true,
         "type": "histogram",
         "x": [
          "Entertainment",
          "Entertainment"
         ],
         "xaxis": "x",
         "yaxis": "y"
        },
        {
         "alignmentgroup": "True",
         "bingroup": "x",
         "hovertemplate": "Views=26512197849<br>Main Video Category=%{x}<br>count=%{y}<extra></extra>",
         "legendgroup": "26512197849",
         "marker": {
          "color": "#FF6692",
          "pattern": {
           "shape": ""
          }
         },
         "name": "26512197849",
         "offsetgroup": "26512197849",
         "orientation": "v",
         "showlegend": true,
         "type": "histogram",
         "x": [
          "Entertainment",
          "Entertainment"
         ],
         "xaxis": "x",
         "yaxis": "y"
        },
        {
         "alignmentgroup": "True",
         "bingroup": "x",
         "hovertemplate": "Views=13932481911<br>Main Video Category=%{x}<br>count=%{y}<extra></extra>",
         "legendgroup": "13932481911",
         "marker": {
          "color": "#B6E880",
          "pattern": {
           "shape": ""
          }
         },
         "name": "13932481911",
         "offsetgroup": "13932481911",
         "orientation": "v",
         "showlegend": true,
         "type": "histogram",
         "x": [
          "Music",
          "Music"
         ],
         "xaxis": "x",
         "yaxis": "y"
        },
        {
         "alignmentgroup": "True",
         "bingroup": "x",
         "hovertemplate": "Views=21301599345<br>Main Video Category=%{x}<br>count=%{y}<extra></extra>",
         "legendgroup": "21301599345",
         "marker": {
          "color": "#FF97FF",
          "pattern": {
           "shape": ""
          }
         },
         "name": "21301599345",
         "offsetgroup": "21301599345",
         "orientation": "v",
         "showlegend": true,
         "type": "histogram",
         "x": [
          "Music",
          "Music"
         ],
         "xaxis": "x",
         "yaxis": "y"
        },
        {
         "alignmentgroup": "True",
         "bingroup": "x",
         "hovertemplate": "Views=2696443232<br>Main Video Category=%{x}<br>count=%{y}<extra></extra>",
         "legendgroup": "2696443232",
         "marker": {
          "color": "#FECB52",
          "pattern": {
           "shape": ""
          }
         },
         "name": "2696443232",
         "offsetgroup": "2696443232",
         "orientation": "v",
         "showlegend": true,
         "type": "histogram",
         "x": [
          "Entertainment",
          "Entertainment"
         ],
         "xaxis": "x",
         "yaxis": "y"
        },
        {
         "alignmentgroup": "True",
         "bingroup": "x",
         "hovertemplate": "Views=15684324409<br>Main Video Category=%{x}<br>count=%{y}<extra></extra>",
         "legendgroup": "15684324409",
         "marker": {
          "color": "#636efa",
          "pattern": {
           "shape": ""
          }
         },
         "name": "15684324409",
         "offsetgroup": "15684324409",
         "orientation": "v",
         "showlegend": true,
         "type": "histogram",
         "x": [
          "Entertainment",
          "Entertainment"
         ],
         "xaxis": "x",
         "yaxis": "y"
        },
        {
         "alignmentgroup": "True",
         "bingroup": "x",
         "hovertemplate": "Views=14827595754<br>Main Video Category=%{x}<br>count=%{y}<extra></extra>",
         "legendgroup": "14827595754",
         "marker": {
          "color": "#EF553B",
          "pattern": {
           "shape": ""
          }
         },
         "name": "14827595754",
         "offsetgroup": "14827595754",
         "orientation": "v",
         "showlegend": true,
         "type": "histogram",
         "x": [
          "Gaming",
          "Gaming"
         ],
         "xaxis": "x",
         "yaxis": "y"
        },
        {
         "alignmentgroup": "True",
         "bingroup": "x",
         "hovertemplate": "Views=18502660860<br>Main Video Category=%{x}<br>count=%{y}<extra></extra>",
         "legendgroup": "18502660860",
         "marker": {
          "color": "#00cc96",
          "pattern": {
           "shape": ""
          }
         },
         "name": "18502660860",
         "offsetgroup": "18502660860",
         "orientation": "v",
         "showlegend": true,
         "type": "histogram",
         "x": [
          "Gaming",
          "Gaming"
         ],
         "xaxis": "x",
         "yaxis": "y"
        },
        {
         "alignmentgroup": "True",
         "bingroup": "x",
         "hovertemplate": "Views=10255466904<br>Main Video Category=%{x}<br>count=%{y}<extra></extra>",
         "legendgroup": "10255466904",
         "marker": {
          "color": "#ab63fa",
          "pattern": {
           "shape": ""
          }
         },
         "name": "10255466904",
         "offsetgroup": "10255466904",
         "orientation": "v",
         "showlegend": true,
         "type": "histogram",
         "x": [
          "People & Blogs",
          "People & Blogs"
         ],
         "xaxis": "x",
         "yaxis": "y"
        },
        {
         "alignmentgroup": "True",
         "bingroup": "x",
         "hovertemplate": "Views=5868383776<br>Main Video Category=%{x}<br>count=%{y}<extra></extra>",
         "legendgroup": "5868383776",
         "marker": {
          "color": "#FFA15A",
          "pattern": {
           "shape": ""
          }
         },
         "name": "5868383776",
         "offsetgroup": "5868383776",
         "orientation": "v",
         "showlegend": true,
         "type": "histogram",
         "x": [
          "Gaming",
          "Gaming"
         ],
         "xaxis": "x",
         "yaxis": "y"
        },
        {
         "alignmentgroup": "True",
         "bingroup": "x",
         "hovertemplate": "Views=9383986010<br>Main Video Category=%{x}<br>count=%{y}<extra></extra>",
         "legendgroup": "9383986010",
         "marker": {
          "color": "#19d3f3",
          "pattern": {
           "shape": ""
          }
         },
         "name": "9383986010",
         "offsetgroup": "9383986010",
         "orientation": "v",
         "showlegend": true,
         "type": "histogram",
         "x": [
          "Music",
          "Music"
         ],
         "xaxis": "x",
         "yaxis": "y"
        },
        {
         "alignmentgroup": "True",
         "bingroup": "x",
         "hovertemplate": "Views=15170479664<br>Main Video Category=%{x}<br>count=%{y}<extra></extra>",
         "legendgroup": "15170479664",
         "marker": {
          "color": "#FF6692",
          "pattern": {
           "shape": ""
          }
         },
         "name": "15170479664",
         "offsetgroup": "15170479664",
         "orientation": "v",
         "showlegend": true,
         "type": "histogram",
         "x": [
          "Entertainment",
          "Entertainment"
         ],
         "xaxis": "x",
         "yaxis": "y"
        },
        {
         "alignmentgroup": "True",
         "bingroup": "x",
         "hovertemplate": "Views=51413962658<br>Main Video Category=%{x}<br>count=%{y}<extra></extra>",
         "legendgroup": "51413962658",
         "marker": {
          "color": "#B6E880",
          "pattern": {
           "shape": ""
          }
         },
         "name": "51413962658",
         "offsetgroup": "51413962658",
         "orientation": "v",
         "showlegend": true,
         "type": "histogram",
         "x": [
          "Entertainment",
          "Entertainment"
         ],
         "xaxis": "x",
         "yaxis": "y"
        },
        {
         "alignmentgroup": "True",
         "bingroup": "x",
         "hovertemplate": "Views=19887856663<br>Main Video Category=%{x}<br>count=%{y}<extra></extra>",
         "legendgroup": "19887856663",
         "marker": {
          "color": "#FF97FF",
          "pattern": {
           "shape": ""
          }
         },
         "name": "19887856663",
         "offsetgroup": "19887856663",
         "orientation": "v",
         "showlegend": true,
         "type": "histogram",
         "x": [
          "People & Blogs",
          "People & Blogs"
         ],
         "xaxis": "x",
         "yaxis": "y"
        },
        {
         "alignmentgroup": "True",
         "bingroup": "x",
         "hovertemplate": "Views=11439441774<br>Main Video Category=%{x}<br>count=%{y}<extra></extra>",
         "legendgroup": "11439441774",
         "marker": {
          "color": "#FECB52",
          "pattern": {
           "shape": ""
          }
         },
         "name": "11439441774",
         "offsetgroup": "11439441774",
         "orientation": "v",
         "showlegend": true,
         "type": "histogram",
         "x": [
          "Music",
          "Music"
         ],
         "xaxis": "x",
         "yaxis": "y"
        },
        {
         "alignmentgroup": "True",
         "bingroup": "x",
         "hovertemplate": "Views=10341586393<br>Main Video Category=%{x}<br>count=%{y}<extra></extra>",
         "legendgroup": "10341586393",
         "marker": {
          "color": "#636efa",
          "pattern": {
           "shape": ""
          }
         },
         "name": "10341586393",
         "offsetgroup": "10341586393",
         "orientation": "v",
         "showlegend": true,
         "type": "histogram",
         "x": [
          "Entertainment",
          "Entertainment"
         ],
         "xaxis": "x",
         "yaxis": "y"
        },
        {
         "alignmentgroup": "True",
         "bingroup": "x",
         "hovertemplate": "Views=13382965827<br>Main Video Category=%{x}<br>count=%{y}<extra></extra>",
         "legendgroup": "13382965827",
         "marker": {
          "color": "#EF553B",
          "pattern": {
           "shape": ""
          }
         },
         "name": "13382965827",
         "offsetgroup": "13382965827",
         "orientation": "v",
         "showlegend": true,
         "type": "histogram",
         "x": [
          "Gaming",
          "Gaming"
         ],
         "xaxis": "x",
         "yaxis": "y"
        },
        {
         "alignmentgroup": "True",
         "bingroup": "x",
         "hovertemplate": "Views=19920579023<br>Main Video Category=%{x}<br>count=%{y}<extra></extra>",
         "legendgroup": "19920579023",
         "marker": {
          "color": "#00cc96",
          "pattern": {
           "shape": ""
          }
         },
         "name": "19920579023",
         "offsetgroup": "19920579023",
         "orientation": "v",
         "showlegend": true,
         "type": "histogram",
         "x": [
          "Gaming",
          "Gaming"
         ],
         "xaxis": "x",
         "yaxis": "y"
        },
        {
         "alignmentgroup": "True",
         "bingroup": "x",
         "hovertemplate": "Views=18718057901<br>Main Video Category=%{x}<br>count=%{y}<extra></extra>",
         "legendgroup": "18718057901",
         "marker": {
          "color": "#ab63fa",
          "pattern": {
           "shape": ""
          }
         },
         "name": "18718057901",
         "offsetgroup": "18718057901",
         "orientation": "v",
         "showlegend": true,
         "type": "histogram",
         "x": [
          "Music",
          "Music"
         ],
         "xaxis": "x",
         "yaxis": "y"
        },
        {
         "alignmentgroup": "True",
         "bingroup": "x",
         "hovertemplate": "Views=10567312169<br>Main Video Category=%{x}<br>count=%{y}<extra></extra>",
         "legendgroup": "10567312169",
         "marker": {
          "color": "#FFA15A",
          "pattern": {
           "shape": ""
          }
         },
         "name": "10567312169",
         "offsetgroup": "10567312169",
         "orientation": "v",
         "showlegend": true,
         "type": "histogram",
         "x": [
          "Comedy",
          "Comedy"
         ],
         "xaxis": "x",
         "yaxis": "y"
        },
        {
         "alignmentgroup": "True",
         "bingroup": "x",
         "hovertemplate": "Views=25156934979<br>Main Video Category=%{x}<br>count=%{y}<extra></extra>",
         "legendgroup": "25156934979",
         "marker": {
          "color": "#19d3f3",
          "pattern": {
           "shape": ""
          }
         },
         "name": "25156934979",
         "offsetgroup": "25156934979",
         "orientation": "v",
         "showlegend": true,
         "type": "histogram",
         "x": [
          "Music",
          "Music"
         ],
         "xaxis": "x",
         "yaxis": "y"
        },
        {
         "alignmentgroup": "True",
         "bingroup": "x",
         "hovertemplate": "Views=6299463830<br>Main Video Category=%{x}<br>count=%{y}<extra></extra>",
         "legendgroup": "6299463830",
         "marker": {
          "color": "#FF6692",
          "pattern": {
           "shape": ""
          }
         },
         "name": "6299463830",
         "offsetgroup": "6299463830",
         "orientation": "v",
         "showlegend": true,
         "type": "histogram",
         "x": [
          "Howto & Style",
          "Howto & Style"
         ],
         "xaxis": "x",
         "yaxis": "y"
        },
        {
         "alignmentgroup": "True",
         "bingroup": "x",
         "hovertemplate": "Views=12862571203<br>Main Video Category=%{x}<br>count=%{y}<extra></extra>",
         "legendgroup": "12862571203",
         "marker": {
          "color": "#B6E880",
          "pattern": {
           "shape": ""
          }
         },
         "name": "12862571203",
         "offsetgroup": "12862571203",
         "orientation": "v",
         "showlegend": true,
         "type": "histogram",
         "x": [
          "News & Politics",
          "News & Politics"
         ],
         "xaxis": "x",
         "yaxis": "y"
        },
        {
         "alignmentgroup": "True",
         "bingroup": "x",
         "hovertemplate": "Views=19837406735<br>Main Video Category=%{x}<br>count=%{y}<extra></extra>",
         "legendgroup": "19837406735",
         "marker": {
          "color": "#FF97FF",
          "pattern": {
           "shape": ""
          }
         },
         "name": "19837406735",
         "offsetgroup": "19837406735",
         "orientation": "v",
         "showlegend": true,
         "type": "histogram",
         "x": [
          "Entertainment",
          "Entertainment"
         ],
         "xaxis": "x",
         "yaxis": "y"
        },
        {
         "alignmentgroup": "True",
         "bingroup": "x",
         "hovertemplate": "Views=22499719782<br>Main Video Category=%{x}<br>count=%{y}<extra></extra>",
         "legendgroup": "22499719782",
         "marker": {
          "color": "#FECB52",
          "pattern": {
           "shape": ""
          }
         },
         "name": "22499719782",
         "offsetgroup": "22499719782",
         "orientation": "v",
         "showlegend": true,
         "type": "histogram",
         "x": [
          "Music",
          "Music"
         ],
         "xaxis": "x",
         "yaxis": "y"
        },
        {
         "alignmentgroup": "True",
         "bingroup": "x",
         "hovertemplate": "Views=11507336712<br>Main Video Category=%{x}<br>count=%{y}<extra></extra>",
         "legendgroup": "11507336712",
         "marker": {
          "color": "#636efa",
          "pattern": {
           "shape": ""
          }
         },
         "name": "11507336712",
         "offsetgroup": "11507336712",
         "orientation": "v",
         "showlegend": true,
         "type": "histogram",
         "x": [
          "Entertainment",
          "Entertainment"
         ],
         "xaxis": "x",
         "yaxis": "y"
        },
        {
         "alignmentgroup": "True",
         "bingroup": "x",
         "hovertemplate": "Views=14382216393<br>Main Video Category=%{x}<br>count=%{y}<extra></extra>",
         "legendgroup": "14382216393",
         "marker": {
          "color": "#EF553B",
          "pattern": {
           "shape": ""
          }
         },
         "name": "14382216393",
         "offsetgroup": "14382216393",
         "orientation": "v",
         "showlegend": true,
         "type": "histogram",
         "x": [
          "Entertainment",
          "Entertainment"
         ],
         "xaxis": "x",
         "yaxis": "y"
        },
        {
         "alignmentgroup": "True",
         "bingroup": "x",
         "hovertemplate": "Views=16411208086<br>Main Video Category=%{x}<br>count=%{y}<extra></extra>",
         "legendgroup": "16411208086",
         "marker": {
          "color": "#00cc96",
          "pattern": {
           "shape": ""
          }
         },
         "name": "16411208086",
         "offsetgroup": "16411208086",
         "orientation": "v",
         "showlegend": true,
         "type": "histogram",
         "x": [
          "Entertainment",
          "Entertainment"
         ],
         "xaxis": "x",
         "yaxis": "y"
        },
        {
         "alignmentgroup": "True",
         "bingroup": "x",
         "hovertemplate": "Views=24867458876<br>Main Video Category=%{x}<br>count=%{y}<extra></extra>",
         "legendgroup": "24867458876",
         "marker": {
          "color": "#ab63fa",
          "pattern": {
           "shape": ""
          }
         },
         "name": "24867458876",
         "offsetgroup": "24867458876",
         "orientation": "v",
         "showlegend": true,
         "type": "histogram",
         "x": [
          "Music",
          "Music"
         ],
         "xaxis": "x",
         "yaxis": "y"
        },
        {
         "alignmentgroup": "True",
         "bingroup": "x",
         "hovertemplate": "Views=9854766293<br>Main Video Category=%{x}<br>count=%{y}<extra></extra>",
         "legendgroup": "9854766293",
         "marker": {
          "color": "#FFA15A",
          "pattern": {
           "shape": ""
          }
         },
         "name": "9854766293",
         "offsetgroup": "9854766293",
         "orientation": "v",
         "showlegend": true,
         "type": "histogram",
         "x": [
          "Comedy",
          "Comedy"
         ],
         "xaxis": "x",
         "yaxis": "y"
        },
        {
         "alignmentgroup": "True",
         "bingroup": "x",
         "hovertemplate": "Views=22540668765<br>Main Video Category=%{x}<br>count=%{y}<extra></extra>",
         "legendgroup": "22540668765",
         "marker": {
          "color": "#19d3f3",
          "pattern": {
           "shape": ""
          }
         },
         "name": "22540668765",
         "offsetgroup": "22540668765",
         "orientation": "v",
         "showlegend": true,
         "type": "histogram",
         "x": [
          "Film & Animation",
          "Film & Animation"
         ],
         "xaxis": "x",
         "yaxis": "y"
        },
        {
         "alignmentgroup": "True",
         "bingroup": "x",
         "hovertemplate": "Views=13296705190<br>Main Video Category=%{x}<br>count=%{y}<extra></extra>",
         "legendgroup": "13296705190",
         "marker": {
          "color": "#FF6692",
          "pattern": {
           "shape": ""
          }
         },
         "name": "13296705190",
         "offsetgroup": "13296705190",
         "orientation": "v",
         "showlegend": true,
         "type": "histogram",
         "x": [
          "Music",
          "Music"
         ],
         "xaxis": "x",
         "yaxis": "y"
        },
        {
         "alignmentgroup": "True",
         "bingroup": "x",
         "hovertemplate": "Views=18480005078<br>Main Video Category=%{x}<br>count=%{y}<extra></extra>",
         "legendgroup": "18480005078",
         "marker": {
          "color": "#B6E880",
          "pattern": {
           "shape": ""
          }
         },
         "name": "18480005078",
         "offsetgroup": "18480005078",
         "orientation": "v",
         "showlegend": true,
         "type": "histogram",
         "x": [
          "Education",
          "Education"
         ],
         "xaxis": "x",
         "yaxis": "y"
        },
        {
         "alignmentgroup": "True",
         "bingroup": "x",
         "hovertemplate": "Views=5032113188<br>Main Video Category=%{x}<br>count=%{y}<extra></extra>",
         "legendgroup": "5032113188",
         "marker": {
          "color": "#FF97FF",
          "pattern": {
           "shape": ""
          }
         },
         "name": "5032113188",
         "offsetgroup": "5032113188",
         "orientation": "v",
         "showlegend": true,
         "type": "histogram",
         "x": [
          "People & Blogs",
          "People & Blogs"
         ],
         "xaxis": "x",
         "yaxis": "y"
        },
        {
         "alignmentgroup": "True",
         "bingroup": "x",
         "hovertemplate": "Views=18875735928<br>Main Video Category=%{x}<br>count=%{y}<extra></extra>",
         "legendgroup": "18875735928",
         "marker": {
          "color": "#FECB52",
          "pattern": {
           "shape": ""
          }
         },
         "name": "18875735928",
         "offsetgroup": "18875735928",
         "orientation": "v",
         "showlegend": true,
         "type": "histogram",
         "x": [
          "Music",
          "Music"
         ],
         "xaxis": "x",
         "yaxis": "y"
        },
        {
         "alignmentgroup": "True",
         "bingroup": "x",
         "hovertemplate": "Views=13085061444<br>Main Video Category=%{x}<br>count=%{y}<extra></extra>",
         "legendgroup": "13085061444",
         "marker": {
          "color": "#636efa",
          "pattern": {
           "shape": ""
          }
         },
         "name": "13085061444",
         "offsetgroup": "13085061444",
         "orientation": "v",
         "showlegend": true,
         "type": "histogram",
         "x": [
          "Entertainment",
          "Entertainment"
         ],
         "xaxis": "x",
         "yaxis": "y"
        },
        {
         "alignmentgroup": "True",
         "bingroup": "x",
         "hovertemplate": "Views=4012190177<br>Main Video Category=%{x}<br>count=%{y}<extra></extra>",
         "legendgroup": "4012190177",
         "marker": {
          "color": "#EF553B",
          "pattern": {
           "shape": ""
          }
         },
         "name": "4012190177",
         "offsetgroup": "4012190177",
         "orientation": "v",
         "showlegend": true,
         "type": "histogram",
         "x": [
          "Entertainment",
          "Entertainment"
         ],
         "xaxis": "x",
         "yaxis": "y"
        },
        {
         "alignmentgroup": "True",
         "bingroup": "x",
         "hovertemplate": "Views=24190969252<br>Main Video Category=%{x}<br>count=%{y}<extra></extra>",
         "legendgroup": "24190969252",
         "marker": {
          "color": "#00cc96",
          "pattern": {
           "shape": ""
          }
         },
         "name": "24190969252",
         "offsetgroup": "24190969252",
         "orientation": "v",
         "showlegend": true,
         "type": "histogram",
         "x": [
          "Music",
          "Music"
         ],
         "xaxis": "x",
         "yaxis": "y"
        },
        {
         "alignmentgroup": "True",
         "bingroup": "x",
         "hovertemplate": "Views=15881598339<br>Main Video Category=%{x}<br>count=%{y}<extra></extra>",
         "legendgroup": "15881598339",
         "marker": {
          "color": "#ab63fa",
          "pattern": {
           "shape": ""
          }
         },
         "name": "15881598339",
         "offsetgroup": "15881598339",
         "orientation": "v",
         "showlegend": true,
         "type": "histogram",
         "x": [
          "Comedy",
          "Comedy"
         ],
         "xaxis": "x",
         "yaxis": "y"
        },
        {
         "alignmentgroup": "True",
         "bingroup": "x",
         "hovertemplate": "Views=19930956697<br>Main Video Category=%{x}<br>count=%{y}<extra></extra>",
         "legendgroup": "19930956697",
         "marker": {
          "color": "#FFA15A",
          "pattern": {
           "shape": ""
          }
         },
         "name": "19930956697",
         "offsetgroup": "19930956697",
         "orientation": "v",
         "showlegend": true,
         "type": "histogram",
         "x": [
          "Music",
          "Music"
         ],
         "xaxis": "x",
         "yaxis": "y"
        },
        {
         "alignmentgroup": "True",
         "bingroup": "x",
         "hovertemplate": "Views=12562836296<br>Main Video Category=%{x}<br>count=%{y}<extra></extra>",
         "legendgroup": "12562836296",
         "marker": {
          "color": "#19d3f3",
          "pattern": {
           "shape": ""
          }
         },
         "name": "12562836296",
         "offsetgroup": "12562836296",
         "orientation": "v",
         "showlegend": true,
         "type": "histogram",
         "x": [
          "Gaming",
          "Gaming"
         ],
         "xaxis": "x",
         "yaxis": "y"
        },
        {
         "alignmentgroup": "True",
         "bingroup": "x",
         "hovertemplate": "Views=2617970693<br>Main Video Category=%{x}<br>count=%{y}<extra></extra>",
         "legendgroup": "2617970693",
         "marker": {
          "color": "#FF6692",
          "pattern": {
           "shape": ""
          }
         },
         "name": "2617970693",
         "offsetgroup": "2617970693",
         "orientation": "v",
         "showlegend": true,
         "type": "histogram",
         "x": [
          "Action-adventure game",
          "Action-adventure game"
         ],
         "xaxis": "x",
         "yaxis": "y"
        },
        {
         "alignmentgroup": "True",
         "bingroup": "x",
         "hovertemplate": "Views=11620379993<br>Main Video Category=%{x}<br>count=%{y}<extra></extra>",
         "legendgroup": "11620379993",
         "marker": {
          "color": "#B6E880",
          "pattern": {
           "shape": ""
          }
         },
         "name": "11620379993",
         "offsetgroup": "11620379993",
         "orientation": "v",
         "showlegend": true,
         "type": "histogram",
         "x": [
          "Music",
          "Music"
         ],
         "xaxis": "x",
         "yaxis": "y"
        },
        {
         "alignmentgroup": "True",
         "bingroup": "x",
         "hovertemplate": "Views=11819860122<br>Main Video Category=%{x}<br>count=%{y}<extra></extra>",
         "legendgroup": "11819860122",
         "marker": {
          "color": "#FF97FF",
          "pattern": {
           "shape": ""
          }
         },
         "name": "11819860122",
         "offsetgroup": "11819860122",
         "orientation": "v",
         "showlegend": true,
         "type": "histogram",
         "x": [
          "Music",
          "Music"
         ],
         "xaxis": "x",
         "yaxis": "y"
        },
        {
         "alignmentgroup": "True",
         "bingroup": "x",
         "hovertemplate": "Views=3911652534<br>Main Video Category=%{x}<br>count=%{y}<extra></extra>",
         "legendgroup": "3911652534",
         "marker": {
          "color": "#FECB52",
          "pattern": {
           "shape": ""
          }
         },
         "name": "3911652534",
         "offsetgroup": "3911652534",
         "orientation": "v",
         "showlegend": true,
         "type": "histogram",
         "x": [
          "Comedy",
          "Comedy"
         ],
         "xaxis": "x",
         "yaxis": "y"
        },
        {
         "alignmentgroup": "True",
         "bingroup": "x",
         "hovertemplate": "Views=23518466796<br>Main Video Category=%{x}<br>count=%{y}<extra></extra>",
         "legendgroup": "23518466796",
         "marker": {
          "color": "#636efa",
          "pattern": {
           "shape": ""
          }
         },
         "name": "23518466796",
         "offsetgroup": "23518466796",
         "orientation": "v",
         "showlegend": true,
         "type": "histogram",
         "x": [
          "Education",
          "Education"
         ],
         "xaxis": "x",
         "yaxis": "y"
        },
        {
         "alignmentgroup": "True",
         "bingroup": "x",
         "hovertemplate": "Views=19474056278<br>Main Video Category=%{x}<br>count=%{y}<extra></extra>",
         "legendgroup": "19474056278",
         "marker": {
          "color": "#EF553B",
          "pattern": {
           "shape": ""
          }
         },
         "name": "19474056278",
         "offsetgroup": "19474056278",
         "orientation": "v",
         "showlegend": true,
         "type": "histogram",
         "x": [
          "Music",
          "Music"
         ],
         "xaxis": "x",
         "yaxis": "y"
        },
        {
         "alignmentgroup": "True",
         "bingroup": "x",
         "hovertemplate": "Views=12498528899<br>Main Video Category=%{x}<br>count=%{y}<extra></extra>",
         "legendgroup": "12498528899",
         "marker": {
          "color": "#00cc96",
          "pattern": {
           "shape": ""
          }
         },
         "name": "12498528899",
         "offsetgroup": "12498528899",
         "orientation": "v",
         "showlegend": true,
         "type": "histogram",
         "x": [
          "Music",
          "Music"
         ],
         "xaxis": "x",
         "yaxis": "y"
        },
        {
         "alignmentgroup": "True",
         "bingroup": "x",
         "hovertemplate": "Views=18863047171<br>Main Video Category=%{x}<br>count=%{y}<extra></extra>",
         "legendgroup": "18863047171",
         "marker": {
          "color": "#ab63fa",
          "pattern": {
           "shape": ""
          }
         },
         "name": "18863047171",
         "offsetgroup": "18863047171",
         "orientation": "v",
         "showlegend": true,
         "type": "histogram",
         "x": [
          "Music",
          "Music"
         ],
         "xaxis": "x",
         "yaxis": "y"
        },
        {
         "alignmentgroup": "True",
         "bingroup": "x",
         "hovertemplate": "Views=15393434205<br>Main Video Category=%{x}<br>count=%{y}<extra></extra>",
         "legendgroup": "15393434205",
         "marker": {
          "color": "#FFA15A",
          "pattern": {
           "shape": ""
          }
         },
         "name": "15393434205",
         "offsetgroup": "15393434205",
         "orientation": "v",
         "showlegend": true,
         "type": "histogram",
         "x": [
          "Gaming",
          "Gaming"
         ],
         "xaxis": "x",
         "yaxis": "y"
        },
        {
         "alignmentgroup": "True",
         "bingroup": "x",
         "hovertemplate": "Views=4009564528<br>Main Video Category=%{x}<br>count=%{y}<extra></extra>",
         "legendgroup": "4009564528",
         "marker": {
          "color": "#19d3f3",
          "pattern": {
           "shape": ""
          }
         },
         "name": "4009564528",
         "offsetgroup": "4009564528",
         "orientation": "v",
         "showlegend": true,
         "type": "histogram",
         "x": [
          "Comedy",
          "Comedy"
         ],
         "xaxis": "x",
         "yaxis": "y"
        },
        {
         "alignmentgroup": "True",
         "bingroup": "x",
         "hovertemplate": "Views=16099481879<br>Main Video Category=%{x}<br>count=%{y}<extra></extra>",
         "legendgroup": "16099481879",
         "marker": {
          "color": "#FF6692",
          "pattern": {
           "shape": ""
          }
         },
         "name": "16099481879",
         "offsetgroup": "16099481879",
         "orientation": "v",
         "showlegend": true,
         "type": "histogram",
         "x": [
          "Music",
          "Music"
         ],
         "xaxis": "x",
         "yaxis": "y"
        },
        {
         "alignmentgroup": "True",
         "bingroup": "x",
         "hovertemplate": "Views=14094435442<br>Main Video Category=%{x}<br>count=%{y}<extra></extra>",
         "legendgroup": "14094435442",
         "marker": {
          "color": "#B6E880",
          "pattern": {
           "shape": ""
          }
         },
         "name": "14094435442",
         "offsetgroup": "14094435442",
         "orientation": "v",
         "showlegend": true,
         "type": "histogram",
         "x": [
          "Music",
          "Music"
         ],
         "xaxis": "x",
         "yaxis": "y"
        },
        {
         "alignmentgroup": "True",
         "bingroup": "x",
         "hovertemplate": "Views=9584699468<br>Main Video Category=%{x}<br>count=%{y}<extra></extra>",
         "legendgroup": "9584699468",
         "marker": {
          "color": "#FF97FF",
          "pattern": {
           "shape": ""
          }
         },
         "name": "9584699468",
         "offsetgroup": "9584699468",
         "orientation": "v",
         "showlegend": true,
         "type": "histogram",
         "x": [
          "Film & Animation",
          "Film & Animation"
         ],
         "xaxis": "x",
         "yaxis": "y"
        },
        {
         "alignmentgroup": "True",
         "bingroup": "x",
         "hovertemplate": "Views=14212409251<br>Main Video Category=%{x}<br>count=%{y}<extra></extra>",
         "legendgroup": "14212409251",
         "marker": {
          "color": "#FECB52",
          "pattern": {
           "shape": ""
          }
         },
         "name": "14212409251",
         "offsetgroup": "14212409251",
         "orientation": "v",
         "showlegend": true,
         "type": "histogram",
         "x": [
          "Music",
          "Music"
         ],
         "xaxis": "x",
         "yaxis": "y"
        },
        {
         "alignmentgroup": "True",
         "bingroup": "x",
         "hovertemplate": "Views=25529299065<br>Main Video Category=%{x}<br>count=%{y}<extra></extra>",
         "legendgroup": "25529299065",
         "marker": {
          "color": "#636efa",
          "pattern": {
           "shape": ""
          }
         },
         "name": "25529299065",
         "offsetgroup": "25529299065",
         "orientation": "v",
         "showlegend": true,
         "type": "histogram",
         "x": [
          "Music",
          "Music"
         ],
         "xaxis": "x",
         "yaxis": "y"
        },
        {
         "alignmentgroup": "True",
         "bingroup": "x",
         "hovertemplate": "Views=4744307587<br>Main Video Category=%{x}<br>count=%{y}<extra></extra>",
         "legendgroup": "4744307587",
         "marker": {
          "color": "#EF553B",
          "pattern": {
           "shape": ""
          }
         },
         "name": "4744307587",
         "offsetgroup": "4744307587",
         "orientation": "v",
         "showlegend": true,
         "type": "histogram",
         "x": [
          "Strategy video game",
          "Strategy video game"
         ],
         "xaxis": "x",
         "yaxis": "y"
        },
        {
         "alignmentgroup": "True",
         "bingroup": "x",
         "hovertemplate": "Views=20700474741<br>Main Video Category=%{x}<br>count=%{y}<extra></extra>",
         "legendgroup": "20700474741",
         "marker": {
          "color": "#00cc96",
          "pattern": {
           "shape": ""
          }
         },
         "name": "20700474741",
         "offsetgroup": "20700474741",
         "orientation": "v",
         "showlegend": true,
         "type": "histogram",
         "x": [
          "Film & Animation",
          "Film & Animation"
         ],
         "xaxis": "x",
         "yaxis": "y"
        },
        {
         "alignmentgroup": "True",
         "bingroup": "x",
         "hovertemplate": "Views=13777477487<br>Main Video Category=%{x}<br>count=%{y}<extra></extra>",
         "legendgroup": "13777477487",
         "marker": {
          "color": "#ab63fa",
          "pattern": {
           "shape": ""
          }
         },
         "name": "13777477487",
         "offsetgroup": "13777477487",
         "orientation": "v",
         "showlegend": true,
         "type": "histogram",
         "x": [
          "Comedy",
          "Comedy"
         ],
         "xaxis": "x",
         "yaxis": "y"
        },
        {
         "alignmentgroup": "True",
         "bingroup": "x",
         "hovertemplate": "Views=9944185112<br>Main Video Category=%{x}<br>count=%{y}<extra></extra>",
         "legendgroup": "9944185112",
         "marker": {
          "color": "#FFA15A",
          "pattern": {
           "shape": ""
          }
         },
         "name": "9944185112",
         "offsetgroup": "9944185112",
         "orientation": "v",
         "showlegend": true,
         "type": "histogram",
         "x": [
          "Entertainment",
          "Entertainment"
         ],
         "xaxis": "x",
         "yaxis": "y"
        },
        {
         "alignmentgroup": "True",
         "bingroup": "x",
         "hovertemplate": "Views=14736833480<br>Main Video Category=%{x}<br>count=%{y}<extra></extra>",
         "legendgroup": "14736833480",
         "marker": {
          "color": "#19d3f3",
          "pattern": {
           "shape": ""
          }
         },
         "name": "14736833480",
         "offsetgroup": "14736833480",
         "orientation": "v",
         "showlegend": true,
         "type": "histogram",
         "x": [
          "Film & Animation",
          "Film & Animation"
         ],
         "xaxis": "x",
         "yaxis": "y"
        },
        {
         "alignmentgroup": "True",
         "bingroup": "x",
         "hovertemplate": "Views=18869521551<br>Main Video Category=%{x}<br>count=%{y}<extra></extra>",
         "legendgroup": "18869521551",
         "marker": {
          "color": "#FF6692",
          "pattern": {
           "shape": ""
          }
         },
         "name": "18869521551",
         "offsetgroup": "18869521551",
         "orientation": "v",
         "showlegend": true,
         "type": "histogram",
         "x": [
          "Shows",
          "Shows"
         ],
         "xaxis": "x",
         "yaxis": "y"
        },
        {
         "alignmentgroup": "True",
         "bingroup": "x",
         "hovertemplate": "Views=21016650850<br>Main Video Category=%{x}<br>count=%{y}<extra></extra>",
         "legendgroup": "21016650850",
         "marker": {
          "color": "#B6E880",
          "pattern": {
           "shape": ""
          }
         },
         "name": "21016650850",
         "offsetgroup": "21016650850",
         "orientation": "v",
         "showlegend": true,
         "type": "histogram",
         "x": [
          "Entertainment",
          "Entertainment"
         ],
         "xaxis": "x",
         "yaxis": "y"
        },
        {
         "alignmentgroup": "True",
         "bingroup": "x",
         "hovertemplate": "Views=6945063533<br>Main Video Category=%{x}<br>count=%{y}<extra></extra>",
         "legendgroup": "6945063533",
         "marker": {
          "color": "#FF97FF",
          "pattern": {
           "shape": ""
          }
         },
         "name": "6945063533",
         "offsetgroup": "6945063533",
         "orientation": "v",
         "showlegend": true,
         "type": "histogram",
         "x": [
          "Gaming",
          "Gaming"
         ],
         "xaxis": "x",
         "yaxis": "y"
        },
        {
         "alignmentgroup": "True",
         "bingroup": "x",
         "hovertemplate": "Views=19886812585<br>Main Video Category=%{x}<br>count=%{y}<extra></extra>",
         "legendgroup": "19886812585",
         "marker": {
          "color": "#FECB52",
          "pattern": {
           "shape": ""
          }
         },
         "name": "19886812585",
         "offsetgroup": "19886812585",
         "orientation": "v",
         "showlegend": true,
         "type": "histogram",
         "x": [
          "Film & Animation",
          "Film & Animation"
         ],
         "xaxis": "x",
         "yaxis": "y"
        },
        {
         "alignmentgroup": "True",
         "bingroup": "x",
         "hovertemplate": "Views=13796737897<br>Main Video Category=%{x}<br>count=%{y}<extra></extra>",
         "legendgroup": "13796737897",
         "marker": {
          "color": "#636efa",
          "pattern": {
           "shape": ""
          }
         },
         "name": "13796737897",
         "offsetgroup": "13796737897",
         "orientation": "v",
         "showlegend": true,
         "type": "histogram",
         "x": [
          "Film & Animation",
          "Film & Animation"
         ],
         "xaxis": "x",
         "yaxis": "y"
        },
        {
         "alignmentgroup": "True",
         "bingroup": "x",
         "hovertemplate": "Views=13680917903<br>Main Video Category=%{x}<br>count=%{y}<extra></extra>",
         "legendgroup": "13680917903",
         "marker": {
          "color": "#EF553B",
          "pattern": {
           "shape": ""
          }
         },
         "name": "13680917903",
         "offsetgroup": "13680917903",
         "orientation": "v",
         "showlegend": true,
         "type": "histogram",
         "x": [
          "Music",
          "Music"
         ],
         "xaxis": "x",
         "yaxis": "y"
        },
        {
         "alignmentgroup": "True",
         "bingroup": "x",
         "hovertemplate": "Views=4997475333<br>Main Video Category=%{x}<br>count=%{y}<extra></extra>",
         "legendgroup": "4997475333",
         "marker": {
          "color": "#00cc96",
          "pattern": {
           "shape": ""
          }
         },
         "name": "4997475333",
         "offsetgroup": "4997475333",
         "orientation": "v",
         "showlegend": true,
         "type": "histogram",
         "x": [
          "Entertainment",
          "Entertainment"
         ],
         "xaxis": "x",
         "yaxis": "y"
        },
        {
         "alignmentgroup": "True",
         "bingroup": "x",
         "hovertemplate": "Views=25604805615<br>Main Video Category=%{x}<br>count=%{y}<extra></extra>",
         "legendgroup": "25604805615",
         "marker": {
          "color": "#ab63fa",
          "pattern": {
           "shape": ""
          }
         },
         "name": "25604805615",
         "offsetgroup": "25604805615",
         "orientation": "v",
         "showlegend": true,
         "type": "histogram",
         "x": [
          "TV shows",
          "TV shows"
         ],
         "xaxis": "x",
         "yaxis": "y"
        },
        {
         "alignmentgroup": "True",
         "bingroup": "x",
         "hovertemplate": "Views=16380874723<br>Main Video Category=%{x}<br>count=%{y}<extra></extra>",
         "legendgroup": "16380874723",
         "marker": {
          "color": "#FFA15A",
          "pattern": {
           "shape": ""
          }
         },
         "name": "16380874723",
         "offsetgroup": "16380874723",
         "orientation": "v",
         "showlegend": true,
         "type": "histogram",
         "x": [
          "Education",
          "Education"
         ],
         "xaxis": "x",
         "yaxis": "y"
        },
        {
         "alignmentgroup": "True",
         "bingroup": "x",
         "hovertemplate": "Views=2860744608<br>Main Video Category=%{x}<br>count=%{y}<extra></extra>",
         "legendgroup": "2860744608",
         "marker": {
          "color": "#19d3f3",
          "pattern": {
           "shape": ""
          }
         },
         "name": "2860744608",
         "offsetgroup": "2860744608",
         "orientation": "v",
         "showlegend": true,
         "type": "histogram",
         "x": [
          "Comedy",
          "Comedy"
         ],
         "xaxis": "x",
         "yaxis": "y"
        },
        {
         "alignmentgroup": "True",
         "bingroup": "x",
         "hovertemplate": "Views=15550107919<br>Main Video Category=%{x}<br>count=%{y}<extra></extra>",
         "legendgroup": "15550107919",
         "marker": {
          "color": "#FF6692",
          "pattern": {
           "shape": ""
          }
         },
         "name": "15550107919",
         "offsetgroup": "15550107919",
         "orientation": "v",
         "showlegend": true,
         "type": "histogram",
         "x": [
          "Entertainment",
          "Entertainment"
         ],
         "xaxis": "x",
         "yaxis": "y"
        },
        {
         "alignmentgroup": "True",
         "bingroup": "x",
         "hovertemplate": "Views=12642399087<br>Main Video Category=%{x}<br>count=%{y}<extra></extra>",
         "legendgroup": "12642399087",
         "marker": {
          "color": "#B6E880",
          "pattern": {
           "shape": ""
          }
         },
         "name": "12642399087",
         "offsetgroup": "12642399087",
         "orientation": "v",
         "showlegend": true,
         "type": "histogram",
         "x": [
          "Music",
          "Music"
         ],
         "xaxis": "x",
         "yaxis": "y"
        },
        {
         "alignmentgroup": "True",
         "bingroup": "x",
         "hovertemplate": "Views=12431651158<br>Main Video Category=%{x}<br>count=%{y}<extra></extra>",
         "legendgroup": "12431651158",
         "marker": {
          "color": "#FF97FF",
          "pattern": {
           "shape": ""
          }
         },
         "name": "12431651158",
         "offsetgroup": "12431651158",
         "orientation": "v",
         "showlegend": true,
         "type": "histogram",
         "x": [
          "Music",
          "Music"
         ],
         "xaxis": "x",
         "yaxis": "y"
        },
        {
         "alignmentgroup": "True",
         "bingroup": "x",
         "hovertemplate": "Views=4480530010<br>Main Video Category=%{x}<br>count=%{y}<extra></extra>",
         "legendgroup": "4480530010",
         "marker": {
          "color": "#FECB52",
          "pattern": {
           "shape": ""
          }
         },
         "name": "4480530010",
         "offsetgroup": "4480530010",
         "orientation": "v",
         "showlegend": true,
         "type": "histogram",
         "x": [
          "People & Blogs",
          "People & Blogs"
         ],
         "xaxis": "x",
         "yaxis": "y"
        },
        {
         "alignmentgroup": "True",
         "bingroup": "x",
         "hovertemplate": "Views=18680919326<br>Main Video Category=%{x}<br>count=%{y}<extra></extra>",
         "legendgroup": "18680919326",
         "marker": {
          "color": "#636efa",
          "pattern": {
           "shape": ""
          }
         },
         "name": "18680919326",
         "offsetgroup": "18680919326",
         "orientation": "v",
         "showlegend": true,
         "type": "histogram",
         "x": [
          "Music",
          "Music"
         ],
         "xaxis": "x",
         "yaxis": "y"
        },
        {
         "alignmentgroup": "True",
         "bingroup": "x",
         "hovertemplate": "Views=11593253864<br>Main Video Category=%{x}<br>count=%{y}<extra></extra>",
         "legendgroup": "11593253864",
         "marker": {
          "color": "#EF553B",
          "pattern": {
           "shape": ""
          }
         },
         "name": "11593253864",
         "offsetgroup": "11593253864",
         "orientation": "v",
         "showlegend": true,
         "type": "histogram",
         "x": [
          "News & Politics",
          "News & Politics"
         ],
         "xaxis": "x",
         "yaxis": "y"
        },
        {
         "alignmentgroup": "True",
         "bingroup": "x",
         "hovertemplate": "Views=9948293859<br>Main Video Category=%{x}<br>count=%{y}<extra></extra>",
         "legendgroup": "9948293859",
         "marker": {
          "color": "#00cc96",
          "pattern": {
           "shape": ""
          }
         },
         "name": "9948293859",
         "offsetgroup": "9948293859",
         "orientation": "v",
         "showlegend": true,
         "type": "histogram",
         "x": [
          "Comedy",
          "Comedy"
         ],
         "xaxis": "x",
         "yaxis": "y"
        },
        {
         "alignmentgroup": "True",
         "bingroup": "x",
         "hovertemplate": "Views=13297351906<br>Main Video Category=%{x}<br>count=%{y}<extra></extra>",
         "legendgroup": "13297351906",
         "marker": {
          "color": "#ab63fa",
          "pattern": {
           "shape": ""
          }
         },
         "name": "13297351906",
         "offsetgroup": "13297351906",
         "orientation": "v",
         "showlegend": true,
         "type": "histogram",
         "x": [
          "Education",
          "Education"
         ],
         "xaxis": "x",
         "yaxis": "y"
        },
        {
         "alignmentgroup": "True",
         "bingroup": "x",
         "hovertemplate": "Views=18742286029<br>Main Video Category=%{x}<br>count=%{y}<extra></extra>",
         "legendgroup": "18742286029",
         "marker": {
          "color": "#FFA15A",
          "pattern": {
           "shape": ""
          }
         },
         "name": "18742286029",
         "offsetgroup": "18742286029",
         "orientation": "v",
         "showlegend": true,
         "type": "histogram",
         "x": [
          "Gaming",
          "Gaming"
         ],
         "xaxis": "x",
         "yaxis": "y"
        },
        {
         "alignmentgroup": "True",
         "bingroup": "x",
         "hovertemplate": "Views=18050272220<br>Main Video Category=%{x}<br>count=%{y}<extra></extra>",
         "legendgroup": "18050272220",
         "marker": {
          "color": "#19d3f3",
          "pattern": {
           "shape": ""
          }
         },
         "name": "18050272220",
         "offsetgroup": "18050272220",
         "orientation": "v",
         "showlegend": true,
         "type": "histogram",
         "x": [
          "Film & Animation",
          "Film & Animation"
         ],
         "xaxis": "x",
         "yaxis": "y"
        },
        {
         "alignmentgroup": "True",
         "bingroup": "x",
         "hovertemplate": "Views=19330656067<br>Main Video Category=%{x}<br>count=%{y}<extra></extra>",
         "legendgroup": "19330656067",
         "marker": {
          "color": "#FF6692",
          "pattern": {
           "shape": ""
          }
         },
         "name": "19330656067",
         "offsetgroup": "19330656067",
         "orientation": "v",
         "showlegend": true,
         "type": "histogram",
         "x": [
          "Music",
          "Music"
         ],
         "xaxis": "x",
         "yaxis": "y"
        },
        {
         "alignmentgroup": "True",
         "bingroup": "x",
         "hovertemplate": "Views=3512893392<br>Main Video Category=%{x}<br>count=%{y}<extra></extra>",
         "legendgroup": "3512893392",
         "marker": {
          "color": "#B6E880",
          "pattern": {
           "shape": ""
          }
         },
         "name": "3512893392",
         "offsetgroup": "3512893392",
         "orientation": "v",
         "showlegend": true,
         "type": "histogram",
         "x": [
          "Gaming",
          "Gaming"
         ],
         "xaxis": "x",
         "yaxis": "y"
        },
        {
         "alignmentgroup": "True",
         "bingroup": "x",
         "hovertemplate": "Views=23100088153<br>Main Video Category=%{x}<br>count=%{y}<extra></extra>",
         "legendgroup": "23100088153",
         "marker": {
          "color": "#FF97FF",
          "pattern": {
           "shape": ""
          }
         },
         "name": "23100088153",
         "offsetgroup": "23100088153",
         "orientation": "v",
         "showlegend": true,
         "type": "histogram",
         "x": [
          "Music",
          "Music"
         ],
         "xaxis": "x",
         "yaxis": "y"
        },
        {
         "alignmentgroup": "True",
         "bingroup": "x",
         "hovertemplate": "Views=14814514676<br>Main Video Category=%{x}<br>count=%{y}<extra></extra>",
         "legendgroup": "14814514676",
         "marker": {
          "color": "#FECB52",
          "pattern": {
           "shape": ""
          }
         },
         "name": "14814514676",
         "offsetgroup": "14814514676",
         "orientation": "v",
         "showlegend": true,
         "type": "histogram",
         "x": [
          "Gaming",
          "Gaming"
         ],
         "xaxis": "x",
         "yaxis": "y"
        },
        {
         "alignmentgroup": "True",
         "bingroup": "x",
         "hovertemplate": "Views=9951799519<br>Main Video Category=%{x}<br>count=%{y}<extra></extra>",
         "legendgroup": "9951799519",
         "marker": {
          "color": "#636efa",
          "pattern": {
           "shape": ""
          }
         },
         "name": "9951799519",
         "offsetgroup": "9951799519",
         "orientation": "v",
         "showlegend": true,
         "type": "histogram",
         "x": [
          "Entertainment",
          "Entertainment"
         ],
         "xaxis": "x",
         "yaxis": "y"
        },
        {
         "alignmentgroup": "True",
         "bingroup": "x",
         "hovertemplate": "Views=13782126464<br>Main Video Category=%{x}<br>count=%{y}<extra></extra>",
         "legendgroup": "13782126464",
         "marker": {
          "color": "#EF553B",
          "pattern": {
           "shape": ""
          }
         },
         "name": "13782126464",
         "offsetgroup": "13782126464",
         "orientation": "v",
         "showlegend": true,
         "type": "histogram",
         "x": [
          "Music",
          "Music"
         ],
         "xaxis": "x",
         "yaxis": "y"
        },
        {
         "alignmentgroup": "True",
         "bingroup": "x",
         "hovertemplate": "Views=12397130801<br>Main Video Category=%{x}<br>count=%{y}<extra></extra>",
         "legendgroup": "12397130801",
         "marker": {
          "color": "#00cc96",
          "pattern": {
           "shape": ""
          }
         },
         "name": "12397130801",
         "offsetgroup": "12397130801",
         "orientation": "v",
         "showlegend": true,
         "type": "histogram",
         "x": [
          "Pop music",
          "Pop music"
         ],
         "xaxis": "x",
         "yaxis": "y"
        },
        {
         "alignmentgroup": "True",
         "bingroup": "x",
         "hovertemplate": "Views=15541923143<br>Main Video Category=%{x}<br>count=%{y}<extra></extra>",
         "legendgroup": "15541923143",
         "marker": {
          "color": "#ab63fa",
          "pattern": {
           "shape": ""
          }
         },
         "name": "15541923143",
         "offsetgroup": "15541923143",
         "orientation": "v",
         "showlegend": true,
         "type": "histogram",
         "x": [
          "Entertainment",
          "Entertainment"
         ],
         "xaxis": "x",
         "yaxis": "y"
        },
        {
         "alignmentgroup": "True",
         "bingroup": "x",
         "hovertemplate": "Views=7349396106<br>Main Video Category=%{x}<br>count=%{y}<extra></extra>",
         "legendgroup": "7349396106",
         "marker": {
          "color": "#FFA15A",
          "pattern": {
           "shape": ""
          }
         },
         "name": "7349396106",
         "offsetgroup": "7349396106",
         "orientation": "v",
         "showlegend": true,
         "type": "histogram",
         "x": [
          "Entertainment",
          "Entertainment"
         ],
         "xaxis": "x",
         "yaxis": "y"
        },
        {
         "alignmentgroup": "True",
         "bingroup": "x",
         "hovertemplate": "Views=6991512884<br>Main Video Category=%{x}<br>count=%{y}<extra></extra>",
         "legendgroup": "6991512884",
         "marker": {
          "color": "#19d3f3",
          "pattern": {
           "shape": ""
          }
         },
         "name": "6991512884",
         "offsetgroup": "6991512884",
         "orientation": "v",
         "showlegend": true,
         "type": "histogram",
         "x": [
          "People & Blogs",
          "People & Blogs"
         ],
         "xaxis": "x",
         "yaxis": "y"
        },
        {
         "alignmentgroup": "True",
         "bingroup": "x",
         "hovertemplate": "Views=6792113850<br>Main Video Category=%{x}<br>count=%{y}<extra></extra>",
         "legendgroup": "6792113850",
         "marker": {
          "color": "#FF6692",
          "pattern": {
           "shape": ""
          }
         },
         "name": "6792113850",
         "offsetgroup": "6792113850",
         "orientation": "v",
         "showlegend": true,
         "type": "histogram",
         "x": [
          "Entertainment",
          "Entertainment"
         ],
         "xaxis": "x",
         "yaxis": "y"
        },
        {
         "alignmentgroup": "True",
         "bingroup": "x",
         "hovertemplate": "Views=16055918867<br>Main Video Category=%{x}<br>count=%{y}<extra></extra>",
         "legendgroup": "16055918867",
         "marker": {
          "color": "#B6E880",
          "pattern": {
           "shape": ""
          }
         },
         "name": "16055918867",
         "offsetgroup": "16055918867",
         "orientation": "v",
         "showlegend": true,
         "type": "histogram",
         "x": [
          "Entertainment",
          "Entertainment"
         ],
         "xaxis": "x",
         "yaxis": "y"
        },
        {
         "alignmentgroup": "True",
         "bingroup": "x",
         "hovertemplate": "Views=17967902245<br>Main Video Category=%{x}<br>count=%{y}<extra></extra>",
         "legendgroup": "17967902245",
         "marker": {
          "color": "#FF97FF",
          "pattern": {
           "shape": ""
          }
         },
         "name": "17967902245",
         "offsetgroup": "17967902245",
         "orientation": "v",
         "showlegend": true,
         "type": "histogram",
         "x": [
          "Music",
          "Music"
         ],
         "xaxis": "x",
         "yaxis": "y"
        },
        {
         "alignmentgroup": "True",
         "bingroup": "x",
         "hovertemplate": "Views=10167665364<br>Main Video Category=%{x}<br>count=%{y}<extra></extra>",
         "legendgroup": "10167665364",
         "marker": {
          "color": "#FECB52",
          "pattern": {
           "shape": ""
          }
         },
         "name": "10167665364",
         "offsetgroup": "10167665364",
         "orientation": "v",
         "showlegend": true,
         "type": "histogram",
         "x": [
          "Comedy",
          "Comedy"
         ],
         "xaxis": "x",
         "yaxis": "y"
        },
        {
         "alignmentgroup": "True",
         "bingroup": "x",
         "hovertemplate": "Views=18613137086<br>Main Video Category=%{x}<br>count=%{y}<extra></extra>",
         "legendgroup": "18613137086",
         "marker": {
          "color": "#636efa",
          "pattern": {
           "shape": ""
          }
         },
         "name": "18613137086",
         "offsetgroup": "18613137086",
         "orientation": "v",
         "showlegend": true,
         "type": "histogram",
         "x": [
          "Music",
          "Music"
         ],
         "xaxis": "x",
         "yaxis": "y"
        },
        {
         "alignmentgroup": "True",
         "bingroup": "x",
         "hovertemplate": "Views=2582756055<br>Main Video Category=%{x}<br>count=%{y}<extra></extra>",
         "legendgroup": "2582756055",
         "marker": {
          "color": "#EF553B",
          "pattern": {
           "shape": ""
          }
         },
         "name": "2582756055",
         "offsetgroup": "2582756055",
         "orientation": "v",
         "showlegend": true,
         "type": "histogram",
         "x": [
          "Howto & Style",
          "Howto & Style"
         ],
         "xaxis": "x",
         "yaxis": "y"
        },
        {
         "alignmentgroup": "True",
         "bingroup": "x",
         "hovertemplate": "Views=7246179800<br>Main Video Category=%{x}<br>count=%{y}<extra></extra>",
         "legendgroup": "7246179800",
         "marker": {
          "color": "#00cc96",
          "pattern": {
           "shape": ""
          }
         },
         "name": "7246179800",
         "offsetgroup": "7246179800",
         "orientation": "v",
         "showlegend": true,
         "type": "histogram",
         "x": [
          "Entertainment",
          "Entertainment"
         ],
         "xaxis": "x",
         "yaxis": "y"
        },
        {
         "alignmentgroup": "True",
         "bingroup": "x",
         "hovertemplate": "Views=20429943688<br>Main Video Category=%{x}<br>count=%{y}<extra></extra>",
         "legendgroup": "20429943688",
         "marker": {
          "color": "#ab63fa",
          "pattern": {
           "shape": ""
          }
         },
         "name": "20429943688",
         "offsetgroup": "20429943688",
         "orientation": "v",
         "showlegend": true,
         "type": "histogram",
         "x": [
          "Film & Animation",
          "Film & Animation"
         ],
         "xaxis": "x",
         "yaxis": "y"
        },
        {
         "alignmentgroup": "True",
         "bingroup": "x",
         "hovertemplate": "Views=16778291814<br>Main Video Category=%{x}<br>count=%{y}<extra></extra>",
         "legendgroup": "16778291814",
         "marker": {
          "color": "#FFA15A",
          "pattern": {
           "shape": ""
          }
         },
         "name": "16778291814",
         "offsetgroup": "16778291814",
         "orientation": "v",
         "showlegend": true,
         "type": "histogram",
         "x": [
          "Music",
          "Music"
         ],
         "xaxis": "x",
         "yaxis": "y"
        },
        {
         "alignmentgroup": "True",
         "bingroup": "x",
         "hovertemplate": "Views=22561778561<br>Main Video Category=%{x}<br>count=%{y}<extra></extra>",
         "legendgroup": "22561778561",
         "marker": {
          "color": "#19d3f3",
          "pattern": {
           "shape": ""
          }
         },
         "name": "22561778561",
         "offsetgroup": "22561778561",
         "orientation": "v",
         "showlegend": true,
         "type": "histogram",
         "x": [
          "Music",
          "Music"
         ],
         "xaxis": "x",
         "yaxis": "y"
        },
        {
         "alignmentgroup": "True",
         "bingroup": "x",
         "hovertemplate": "Views=3046560972<br>Main Video Category=%{x}<br>count=%{y}<extra></extra>",
         "legendgroup": "3046560972",
         "marker": {
          "color": "#FF6692",
          "pattern": {
           "shape": ""
          }
         },
         "name": "3046560972",
         "offsetgroup": "3046560972",
         "orientation": "v",
         "showlegend": true,
         "type": "histogram",
         "x": [
          "Gaming",
          "Gaming"
         ],
         "xaxis": "x",
         "yaxis": "y"
        },
        {
         "alignmentgroup": "True",
         "bingroup": "x",
         "hovertemplate": "Views=15529923941<br>Main Video Category=%{x}<br>count=%{y}<extra></extra>",
         "legendgroup": "15529923941",
         "marker": {
          "color": "#B6E880",
          "pattern": {
           "shape": ""
          }
         },
         "name": "15529923941",
         "offsetgroup": "15529923941",
         "orientation": "v",
         "showlegend": true,
         "type": "histogram",
         "x": [
          "Music",
          "Music"
         ],
         "xaxis": "x",
         "yaxis": "y"
        },
        {
         "alignmentgroup": "True",
         "bingroup": "x",
         "hovertemplate": "Views=16185158471<br>Main Video Category=%{x}<br>count=%{y}<extra></extra>",
         "legendgroup": "16185158471",
         "marker": {
          "color": "#FF97FF",
          "pattern": {
           "shape": ""
          }
         },
         "name": "16185158471",
         "offsetgroup": "16185158471",
         "orientation": "v",
         "showlegend": true,
         "type": "histogram",
         "x": [
          "Music",
          "Music"
         ],
         "xaxis": "x",
         "yaxis": "y"
        },
        {
         "alignmentgroup": "True",
         "bingroup": "x",
         "hovertemplate": "Views=9186925718<br>Main Video Category=%{x}<br>count=%{y}<extra></extra>",
         "legendgroup": "9186925718",
         "marker": {
          "color": "#FECB52",
          "pattern": {
           "shape": ""
          }
         },
         "name": "9186925718",
         "offsetgroup": "9186925718",
         "orientation": "v",
         "showlegend": true,
         "type": "histogram",
         "x": [
          "Entertainment",
          "Entertainment"
         ],
         "xaxis": "x",
         "yaxis": "y"
        },
        {
         "alignmentgroup": "True",
         "bingroup": "x",
         "hovertemplate": "Views=15567059078<br>Main Video Category=%{x}<br>count=%{y}<extra></extra>",
         "legendgroup": "15567059078",
         "marker": {
          "color": "#636efa",
          "pattern": {
           "shape": ""
          }
         },
         "name": "15567059078",
         "offsetgroup": "15567059078",
         "orientation": "v",
         "showlegend": true,
         "type": "histogram",
         "x": [
          "Entertainment",
          "Entertainment"
         ],
         "xaxis": "x",
         "yaxis": "y"
        },
        {
         "alignmentgroup": "True",
         "bingroup": "x",
         "hovertemplate": "Views=994418044<br>Main Video Category=%{x}<br>count=%{y}<extra></extra>",
         "legendgroup": "994418044",
         "marker": {
          "color": "#EF553B",
          "pattern": {
           "shape": ""
          }
         },
         "name": "994418044",
         "offsetgroup": "994418044",
         "orientation": "v",
         "showlegend": true,
         "type": "histogram",
         "x": [
          "Education",
          "Education"
         ],
         "xaxis": "x",
         "yaxis": "y"
        },
        {
         "alignmentgroup": "True",
         "bingroup": "x",
         "hovertemplate": "Views=9310281416<br>Main Video Category=%{x}<br>count=%{y}<extra></extra>",
         "legendgroup": "9310281416",
         "marker": {
          "color": "#00cc96",
          "pattern": {
           "shape": ""
          }
         },
         "name": "9310281416",
         "offsetgroup": "9310281416",
         "orientation": "v",
         "showlegend": true,
         "type": "histogram",
         "x": [
          "Music",
          "Music"
         ],
         "xaxis": "x",
         "yaxis": "y"
        },
        {
         "alignmentgroup": "True",
         "bingroup": "x",
         "hovertemplate": "Views=2186015533<br>Main Video Category=%{x}<br>count=%{y}<extra></extra>",
         "legendgroup": "2186015533",
         "marker": {
          "color": "#ab63fa",
          "pattern": {
           "shape": ""
          }
         },
         "name": "2186015533",
         "offsetgroup": "2186015533",
         "orientation": "v",
         "showlegend": true,
         "type": "histogram",
         "x": [
          "Howto & Style",
          "Howto & Style"
         ],
         "xaxis": "x",
         "yaxis": "y"
        },
        {
         "alignmentgroup": "True",
         "bingroup": "x",
         "hovertemplate": "Views=15826729467<br>Main Video Category=%{x}<br>count=%{y}<extra></extra>",
         "legendgroup": "15826729467",
         "marker": {
          "color": "#FFA15A",
          "pattern": {
           "shape": ""
          }
         },
         "name": "15826729467",
         "offsetgroup": "15826729467",
         "orientation": "v",
         "showlegend": true,
         "type": "histogram",
         "x": [
          "Music",
          "Music"
         ],
         "xaxis": "x",
         "yaxis": "y"
        },
        {
         "alignmentgroup": "True",
         "bingroup": "x",
         "hovertemplate": "Views=22431615067<br>Main Video Category=%{x}<br>count=%{y}<extra></extra>",
         "legendgroup": "22431615067",
         "marker": {
          "color": "#19d3f3",
          "pattern": {
           "shape": ""
          }
         },
         "name": "22431615067",
         "offsetgroup": "22431615067",
         "orientation": "v",
         "showlegend": true,
         "type": "histogram",
         "x": [
          "Music",
          "Music"
         ],
         "xaxis": "x",
         "yaxis": "y"
        },
        {
         "alignmentgroup": "True",
         "bingroup": "x",
         "hovertemplate": "Views=12252459767<br>Main Video Category=%{x}<br>count=%{y}<extra></extra>",
         "legendgroup": "12252459767",
         "marker": {
          "color": "#FF6692",
          "pattern": {
           "shape": ""
          }
         },
         "name": "12252459767",
         "offsetgroup": "12252459767",
         "orientation": "v",
         "showlegend": true,
         "type": "histogram",
         "x": [
          "Music",
          "Music"
         ],
         "xaxis": "x",
         "yaxis": "y"
        },
        {
         "alignmentgroup": "True",
         "bingroup": "x",
         "hovertemplate": "Views=2227021034<br>Main Video Category=%{x}<br>count=%{y}<extra></extra>",
         "legendgroup": "2227021034",
         "marker": {
          "color": "#B6E880",
          "pattern": {
           "shape": ""
          }
         },
         "name": "2227021034",
         "offsetgroup": "2227021034",
         "orientation": "v",
         "showlegend": true,
         "type": "histogram",
         "x": [
          "Entertainment",
          "Entertainment"
         ],
         "xaxis": "x",
         "yaxis": "y"
        },
        {
         "alignmentgroup": "True",
         "bingroup": "x",
         "hovertemplate": "Views=3664440993<br>Main Video Category=%{x}<br>count=%{y}<extra></extra>",
         "legendgroup": "3664440993",
         "marker": {
          "color": "#FF97FF",
          "pattern": {
           "shape": ""
          }
         },
         "name": "3664440993",
         "offsetgroup": "3664440993",
         "orientation": "v",
         "showlegend": true,
         "type": "histogram",
         "x": [
          "Entertainment",
          "Entertainment"
         ],
         "xaxis": "x",
         "yaxis": "y"
        },
        {
         "alignmentgroup": "True",
         "bingroup": "x",
         "hovertemplate": "Views=5551273418<br>Main Video Category=%{x}<br>count=%{y}<extra></extra>",
         "legendgroup": "5551273418",
         "marker": {
          "color": "#FECB52",
          "pattern": {
           "shape": ""
          }
         },
         "name": "5551273418",
         "offsetgroup": "5551273418",
         "orientation": "v",
         "showlegend": true,
         "type": "histogram",
         "x": [
          "Entertainment",
          "Entertainment"
         ],
         "xaxis": "x",
         "yaxis": "y"
        }
       ],
       "layout": {
        "barmode": "relative",
        "legend": {
         "title": {
          "text": "Views"
         },
         "tracegroupgap": 0
        },
        "margin": {
         "t": 60
        },
        "template": {
         "data": {
          "bar": [
           {
            "error_x": {
             "color": "#2a3f5f"
            },
            "error_y": {
             "color": "#2a3f5f"
            },
            "marker": {
             "line": {
              "color": "#E5ECF6",
              "width": 0.5
             },
             "pattern": {
              "fillmode": "overlay",
              "size": 10,
              "solidity": 0.2
             }
            },
            "type": "bar"
           }
          ],
          "barpolar": [
           {
            "marker": {
             "line": {
              "color": "#E5ECF6",
              "width": 0.5
             },
             "pattern": {
              "fillmode": "overlay",
              "size": 10,
              "solidity": 0.2
             }
            },
            "type": "barpolar"
           }
          ],
          "carpet": [
           {
            "aaxis": {
             "endlinecolor": "#2a3f5f",
             "gridcolor": "white",
             "linecolor": "white",
             "minorgridcolor": "white",
             "startlinecolor": "#2a3f5f"
            },
            "baxis": {
             "endlinecolor": "#2a3f5f",
             "gridcolor": "white",
             "linecolor": "white",
             "minorgridcolor": "white",
             "startlinecolor": "#2a3f5f"
            },
            "type": "carpet"
           }
          ],
          "choropleth": [
           {
            "colorbar": {
             "outlinewidth": 0,
             "ticks": ""
            },
            "type": "choropleth"
           }
          ],
          "contour": [
           {
            "colorbar": {
             "outlinewidth": 0,
             "ticks": ""
            },
            "colorscale": [
             [
              0,
              "#0d0887"
             ],
             [
              0.1111111111111111,
              "#46039f"
             ],
             [
              0.2222222222222222,
              "#7201a8"
             ],
             [
              0.3333333333333333,
              "#9c179e"
             ],
             [
              0.4444444444444444,
              "#bd3786"
             ],
             [
              0.5555555555555556,
              "#d8576b"
             ],
             [
              0.6666666666666666,
              "#ed7953"
             ],
             [
              0.7777777777777778,
              "#fb9f3a"
             ],
             [
              0.8888888888888888,
              "#fdca26"
             ],
             [
              1,
              "#f0f921"
             ]
            ],
            "type": "contour"
           }
          ],
          "contourcarpet": [
           {
            "colorbar": {
             "outlinewidth": 0,
             "ticks": ""
            },
            "type": "contourcarpet"
           }
          ],
          "heatmap": [
           {
            "colorbar": {
             "outlinewidth": 0,
             "ticks": ""
            },
            "colorscale": [
             [
              0,
              "#0d0887"
             ],
             [
              0.1111111111111111,
              "#46039f"
             ],
             [
              0.2222222222222222,
              "#7201a8"
             ],
             [
              0.3333333333333333,
              "#9c179e"
             ],
             [
              0.4444444444444444,
              "#bd3786"
             ],
             [
              0.5555555555555556,
              "#d8576b"
             ],
             [
              0.6666666666666666,
              "#ed7953"
             ],
             [
              0.7777777777777778,
              "#fb9f3a"
             ],
             [
              0.8888888888888888,
              "#fdca26"
             ],
             [
              1,
              "#f0f921"
             ]
            ],
            "type": "heatmap"
           }
          ],
          "heatmapgl": [
           {
            "colorbar": {
             "outlinewidth": 0,
             "ticks": ""
            },
            "colorscale": [
             [
              0,
              "#0d0887"
             ],
             [
              0.1111111111111111,
              "#46039f"
             ],
             [
              0.2222222222222222,
              "#7201a8"
             ],
             [
              0.3333333333333333,
              "#9c179e"
             ],
             [
              0.4444444444444444,
              "#bd3786"
             ],
             [
              0.5555555555555556,
              "#d8576b"
             ],
             [
              0.6666666666666666,
              "#ed7953"
             ],
             [
              0.7777777777777778,
              "#fb9f3a"
             ],
             [
              0.8888888888888888,
              "#fdca26"
             ],
             [
              1,
              "#f0f921"
             ]
            ],
            "type": "heatmapgl"
           }
          ],
          "histogram": [
           {
            "marker": {
             "pattern": {
              "fillmode": "overlay",
              "size": 10,
              "solidity": 0.2
             }
            },
            "type": "histogram"
           }
          ],
          "histogram2d": [
           {
            "colorbar": {
             "outlinewidth": 0,
             "ticks": ""
            },
            "colorscale": [
             [
              0,
              "#0d0887"
             ],
             [
              0.1111111111111111,
              "#46039f"
             ],
             [
              0.2222222222222222,
              "#7201a8"
             ],
             [
              0.3333333333333333,
              "#9c179e"
             ],
             [
              0.4444444444444444,
              "#bd3786"
             ],
             [
              0.5555555555555556,
              "#d8576b"
             ],
             [
              0.6666666666666666,
              "#ed7953"
             ],
             [
              0.7777777777777778,
              "#fb9f3a"
             ],
             [
              0.8888888888888888,
              "#fdca26"
             ],
             [
              1,
              "#f0f921"
             ]
            ],
            "type": "histogram2d"
           }
          ],
          "histogram2dcontour": [
           {
            "colorbar": {
             "outlinewidth": 0,
             "ticks": ""
            },
            "colorscale": [
             [
              0,
              "#0d0887"
             ],
             [
              0.1111111111111111,
              "#46039f"
             ],
             [
              0.2222222222222222,
              "#7201a8"
             ],
             [
              0.3333333333333333,
              "#9c179e"
             ],
             [
              0.4444444444444444,
              "#bd3786"
             ],
             [
              0.5555555555555556,
              "#d8576b"
             ],
             [
              0.6666666666666666,
              "#ed7953"
             ],
             [
              0.7777777777777778,
              "#fb9f3a"
             ],
             [
              0.8888888888888888,
              "#fdca26"
             ],
             [
              1,
              "#f0f921"
             ]
            ],
            "type": "histogram2dcontour"
           }
          ],
          "mesh3d": [
           {
            "colorbar": {
             "outlinewidth": 0,
             "ticks": ""
            },
            "type": "mesh3d"
           }
          ],
          "parcoords": [
           {
            "line": {
             "colorbar": {
              "outlinewidth": 0,
              "ticks": ""
             }
            },
            "type": "parcoords"
           }
          ],
          "pie": [
           {
            "automargin": true,
            "type": "pie"
           }
          ],
          "scatter": [
           {
            "fillpattern": {
             "fillmode": "overlay",
             "size": 10,
             "solidity": 0.2
            },
            "type": "scatter"
           }
          ],
          "scatter3d": [
           {
            "line": {
             "colorbar": {
              "outlinewidth": 0,
              "ticks": ""
             }
            },
            "marker": {
             "colorbar": {
              "outlinewidth": 0,
              "ticks": ""
             }
            },
            "type": "scatter3d"
           }
          ],
          "scattercarpet": [
           {
            "marker": {
             "colorbar": {
              "outlinewidth": 0,
              "ticks": ""
             }
            },
            "type": "scattercarpet"
           }
          ],
          "scattergeo": [
           {
            "marker": {
             "colorbar": {
              "outlinewidth": 0,
              "ticks": ""
             }
            },
            "type": "scattergeo"
           }
          ],
          "scattergl": [
           {
            "marker": {
             "colorbar": {
              "outlinewidth": 0,
              "ticks": ""
             }
            },
            "type": "scattergl"
           }
          ],
          "scattermapbox": [
           {
            "marker": {
             "colorbar": {
              "outlinewidth": 0,
              "ticks": ""
             }
            },
            "type": "scattermapbox"
           }
          ],
          "scatterpolar": [
           {
            "marker": {
             "colorbar": {
              "outlinewidth": 0,
              "ticks": ""
             }
            },
            "type": "scatterpolar"
           }
          ],
          "scatterpolargl": [
           {
            "marker": {
             "colorbar": {
              "outlinewidth": 0,
              "ticks": ""
             }
            },
            "type": "scatterpolargl"
           }
          ],
          "scatterternary": [
           {
            "marker": {
             "colorbar": {
              "outlinewidth": 0,
              "ticks": ""
             }
            },
            "type": "scatterternary"
           }
          ],
          "surface": [
           {
            "colorbar": {
             "outlinewidth": 0,
             "ticks": ""
            },
            "colorscale": [
             [
              0,
              "#0d0887"
             ],
             [
              0.1111111111111111,
              "#46039f"
             ],
             [
              0.2222222222222222,
              "#7201a8"
             ],
             [
              0.3333333333333333,
              "#9c179e"
             ],
             [
              0.4444444444444444,
              "#bd3786"
             ],
             [
              0.5555555555555556,
              "#d8576b"
             ],
             [
              0.6666666666666666,
              "#ed7953"
             ],
             [
              0.7777777777777778,
              "#fb9f3a"
             ],
             [
              0.8888888888888888,
              "#fdca26"
             ],
             [
              1,
              "#f0f921"
             ]
            ],
            "type": "surface"
           }
          ],
          "table": [
           {
            "cells": {
             "fill": {
              "color": "#EBF0F8"
             },
             "line": {
              "color": "white"
             }
            },
            "header": {
             "fill": {
              "color": "#C8D4E3"
             },
             "line": {
              "color": "white"
             }
            },
            "type": "table"
           }
          ]
         },
         "layout": {
          "annotationdefaults": {
           "arrowcolor": "#2a3f5f",
           "arrowhead": 0,
           "arrowwidth": 1
          },
          "autotypenumbers": "strict",
          "coloraxis": {
           "colorbar": {
            "outlinewidth": 0,
            "ticks": ""
           }
          },
          "colorscale": {
           "diverging": [
            [
             0,
             "#8e0152"
            ],
            [
             0.1,
             "#c51b7d"
            ],
            [
             0.2,
             "#de77ae"
            ],
            [
             0.3,
             "#f1b6da"
            ],
            [
             0.4,
             "#fde0ef"
            ],
            [
             0.5,
             "#f7f7f7"
            ],
            [
             0.6,
             "#e6f5d0"
            ],
            [
             0.7,
             "#b8e186"
            ],
            [
             0.8,
             "#7fbc41"
            ],
            [
             0.9,
             "#4d9221"
            ],
            [
             1,
             "#276419"
            ]
           ],
           "sequential": [
            [
             0,
             "#0d0887"
            ],
            [
             0.1111111111111111,
             "#46039f"
            ],
            [
             0.2222222222222222,
             "#7201a8"
            ],
            [
             0.3333333333333333,
             "#9c179e"
            ],
            [
             0.4444444444444444,
             "#bd3786"
            ],
            [
             0.5555555555555556,
             "#d8576b"
            ],
            [
             0.6666666666666666,
             "#ed7953"
            ],
            [
             0.7777777777777778,
             "#fb9f3a"
            ],
            [
             0.8888888888888888,
             "#fdca26"
            ],
            [
             1,
             "#f0f921"
            ]
           ],
           "sequentialminus": [
            [
             0,
             "#0d0887"
            ],
            [
             0.1111111111111111,
             "#46039f"
            ],
            [
             0.2222222222222222,
             "#7201a8"
            ],
            [
             0.3333333333333333,
             "#9c179e"
            ],
            [
             0.4444444444444444,
             "#bd3786"
            ],
            [
             0.5555555555555556,
             "#d8576b"
            ],
            [
             0.6666666666666666,
             "#ed7953"
            ],
            [
             0.7777777777777778,
             "#fb9f3a"
            ],
            [
             0.8888888888888888,
             "#fdca26"
            ],
            [
             1,
             "#f0f921"
            ]
           ]
          },
          "colorway": [
           "#636efa",
           "#EF553B",
           "#00cc96",
           "#ab63fa",
           "#FFA15A",
           "#19d3f3",
           "#FF6692",
           "#B6E880",
           "#FF97FF",
           "#FECB52"
          ],
          "font": {
           "color": "#2a3f5f"
          },
          "geo": {
           "bgcolor": "white",
           "lakecolor": "white",
           "landcolor": "#E5ECF6",
           "showlakes": true,
           "showland": true,
           "subunitcolor": "white"
          },
          "hoverlabel": {
           "align": "left"
          },
          "hovermode": "closest",
          "mapbox": {
           "style": "light"
          },
          "paper_bgcolor": "white",
          "plot_bgcolor": "#E5ECF6",
          "polar": {
           "angularaxis": {
            "gridcolor": "white",
            "linecolor": "white",
            "ticks": ""
           },
           "bgcolor": "#E5ECF6",
           "radialaxis": {
            "gridcolor": "white",
            "linecolor": "white",
            "ticks": ""
           }
          },
          "scene": {
           "xaxis": {
            "backgroundcolor": "#E5ECF6",
            "gridcolor": "white",
            "gridwidth": 2,
            "linecolor": "white",
            "showbackground": true,
            "ticks": "",
            "zerolinecolor": "white"
           },
           "yaxis": {
            "backgroundcolor": "#E5ECF6",
            "gridcolor": "white",
            "gridwidth": 2,
            "linecolor": "white",
            "showbackground": true,
            "ticks": "",
            "zerolinecolor": "white"
           },
           "zaxis": {
            "backgroundcolor": "#E5ECF6",
            "gridcolor": "white",
            "gridwidth": 2,
            "linecolor": "white",
            "showbackground": true,
            "ticks": "",
            "zerolinecolor": "white"
           }
          },
          "shapedefaults": {
           "line": {
            "color": "#2a3f5f"
           }
          },
          "ternary": {
           "aaxis": {
            "gridcolor": "white",
            "linecolor": "white",
            "ticks": ""
           },
           "baxis": {
            "gridcolor": "white",
            "linecolor": "white",
            "ticks": ""
           },
           "bgcolor": "#E5ECF6",
           "caxis": {
            "gridcolor": "white",
            "linecolor": "white",
            "ticks": ""
           }
          },
          "title": {
           "x": 0.05
          },
          "xaxis": {
           "automargin": true,
           "gridcolor": "white",
           "linecolor": "white",
           "ticks": "",
           "title": {
            "standoff": 15
           },
           "zerolinecolor": "white",
           "zerolinewidth": 2
          },
          "yaxis": {
           "automargin": true,
           "gridcolor": "white",
           "linecolor": "white",
           "ticks": "",
           "title": {
            "standoff": 15
           },
           "zerolinecolor": "white",
           "zerolinewidth": 2
          }
         }
        },
        "xaxis": {
         "anchor": "y",
         "domain": [
          0,
          1
         ],
         "title": {
          "text": "Main Video Category"
         }
        },
        "yaxis": {
         "anchor": "x",
         "domain": [
          0,
          1
         ],
         "title": {
          "text": "count"
         }
        }
       }
      },
      "text/html": [
       "<div>                            <div id=\"4337c552-4d46-45d2-b2cc-4a908ec02187\" class=\"plotly-graph-div\" style=\"height:525px; width:100%;\"></div>            <script type=\"text/javascript\">                require([\"plotly\"], function(Plotly) {                    window.PLOTLYENV=window.PLOTLYENV || {};                                    if (document.getElementById(\"4337c552-4d46-45d2-b2cc-4a908ec02187\")) {                    Plotly.newPlot(                        \"4337c552-4d46-45d2-b2cc-4a908ec02187\",                        [{\"alignmentgroup\":\"True\",\"bingroup\":\"x\",\"hovertemplate\":\"Views=195660744416<br>Main Video Category=%{x}<br>count=%{y}<extra></extra>\",\"legendgroup\":\"195660744416\",\"marker\":{\"color\":\"#636efa\",\"pattern\":{\"shape\":\"\"}},\"name\":\"195660744416\",\"offsetgroup\":\"195660744416\",\"orientation\":\"v\",\"showlegend\":true,\"x\":[\"Music\",\"Music\",\"Music\",\"Music\",\"Music\",\"Music\",\"Music\",\"Music\",\"Music\"],\"xaxis\":\"x\",\"yaxis\":\"y\",\"type\":\"histogram\"},{\"alignmentgroup\":\"True\",\"bingroup\":\"x\",\"hovertemplate\":\"Views=133025325473<br>Main Video Category=%{x}<br>count=%{y}<extra></extra>\",\"legendgroup\":\"133025325473\",\"marker\":{\"color\":\"#EF553B\",\"pattern\":{\"shape\":\"\"}},\"name\":\"133025325473\",\"offsetgroup\":\"133025325473\",\"orientation\":\"v\",\"showlegend\":true,\"x\":[\"Education\",\"Education\",\"Education\",\"Education\",\"Education\",\"Education\",\"Education\",\"Education\",\"Education\"],\"xaxis\":\"x\",\"yaxis\":\"y\",\"type\":\"histogram\"},{\"alignmentgroup\":\"True\",\"bingroup\":\"x\",\"hovertemplate\":\"Views=121741739317<br>Main Video Category=%{x}<br>count=%{y}<extra></extra>\",\"legendgroup\":\"121741739317\",\"marker\":{\"color\":\"#00cc96\",\"pattern\":{\"shape\":\"\"}},\"name\":\"121741739317\",\"offsetgroup\":\"121741739317\",\"orientation\":\"v\",\"showlegend\":true,\"x\":[\"Shows\",\"Shows\",\"Shows\",\"Shows\",\"Shows\",\"Shows\",\"Shows\",\"Shows\",\"Shows\"],\"xaxis\":\"x\",\"yaxis\":\"y\",\"type\":\"histogram\"},{\"alignmentgroup\":\"True\",\"bingroup\":\"x\",\"hovertemplate\":\"Views=28424113942<br>Main Video Category=%{x}<br>count=%{y}<extra></extra>\",\"legendgroup\":\"28424113942\",\"marker\":{\"color\":\"#ab63fa\",\"pattern\":{\"shape\":\"\"}},\"name\":\"28424113942\",\"offsetgroup\":\"28424113942\",\"orientation\":\"v\",\"showlegend\":true,\"x\":[\"Gaming\",\"Gaming\",\"Gaming\",\"Gaming\",\"Gaming\",\"Gaming\",\"Gaming\",\"Gaming\",\"Gaming\"],\"xaxis\":\"x\",\"yaxis\":\"y\",\"type\":\"histogram\"},{\"alignmentgroup\":\"True\",\"bingroup\":\"x\",\"hovertemplate\":\"Views=16242634269<br>Main Video Category=%{x}<br>count=%{y}<extra></extra>\",\"legendgroup\":\"16242634269\",\"marker\":{\"color\":\"#FFA15A\",\"pattern\":{\"shape\":\"\"}},\"name\":\"16242634269\",\"offsetgroup\":\"16242634269\",\"orientation\":\"v\",\"showlegend\":true,\"x\":[\"Entertainment\",\"Entertainment\",\"Entertainment\",\"Entertainment\",\"Entertainment\",\"Entertainment\",\"Entertainment\",\"Entertainment\",\"Entertainment\"],\"xaxis\":\"x\",\"yaxis\":\"y\",\"type\":\"histogram\"},{\"alignmentgroup\":\"True\",\"bingroup\":\"x\",\"hovertemplate\":\"Views=80111555805<br>Main Video Category=%{x}<br>count=%{y}<extra></extra>\",\"legendgroup\":\"80111555805\",\"marker\":{\"color\":\"#19d3f3\",\"pattern\":{\"shape\":\"\"}},\"name\":\"80111555805\",\"offsetgroup\":\"80111555805\",\"orientation\":\"v\",\"showlegend\":true,\"x\":[\"People & Blogs\",\"People & Blogs\",\"People & Blogs\",\"People & Blogs\",\"People & Blogs\",\"People & Blogs\",\"People & Blogs\",\"People & Blogs\",\"People & Blogs\"],\"xaxis\":\"x\",\"yaxis\":\"y\",\"type\":\"histogram\"},{\"alignmentgroup\":\"True\",\"bingroup\":\"x\",\"hovertemplate\":\"Views=77340155581<br>Main Video Category=%{x}<br>count=%{y}<extra></extra>\",\"legendgroup\":\"77340155581\",\"marker\":{\"color\":\"#FF6692\",\"pattern\":{\"shape\":\"\"}},\"name\":\"77340155581\",\"offsetgroup\":\"77340155581\",\"orientation\":\"v\",\"showlegend\":true,\"x\":[\"Entertainment\",\"Entertainment\",\"Entertainment\",\"Entertainment\",\"Entertainment\",\"Entertainment\",\"Entertainment\",\"Entertainment\",\"Entertainment\"],\"xaxis\":\"x\",\"yaxis\":\"y\",\"type\":\"histogram\"},{\"alignmentgroup\":\"True\",\"bingroup\":\"x\",\"hovertemplate\":\"Views=69794363750<br>Main Video Category=%{x}<br>count=%{y}<extra></extra>\",\"legendgroup\":\"69794363750\",\"marker\":{\"color\":\"#B6E880\",\"pattern\":{\"shape\":\"\"}},\"name\":\"69794363750\",\"offsetgroup\":\"69794363750\",\"orientation\":\"v\",\"showlegend\":true,\"x\":[\"Sports\",\"Sports\",\"Sports\",\"Sports\",\"Sports\",\"Sports\",\"Sports\",\"Sports\"],\"xaxis\":\"x\",\"yaxis\":\"y\",\"type\":\"histogram\"},{\"alignmentgroup\":\"True\",\"bingroup\":\"x\",\"hovertemplate\":\"Views=48162039794<br>Main Video Category=%{x}<br>count=%{y}<extra></extra>\",\"legendgroup\":\"48162039794\",\"marker\":{\"color\":\"#FF97FF\",\"pattern\":{\"shape\":\"\"}},\"name\":\"48162039794\",\"offsetgroup\":\"48162039794\",\"orientation\":\"v\",\"showlegend\":true,\"x\":[\"Music\",\"Music\",\"Music\",\"Music\",\"Music\",\"Music\",\"Music\",\"Music\"],\"xaxis\":\"x\",\"yaxis\":\"y\",\"type\":\"histogram\"},{\"alignmentgroup\":\"True\",\"bingroup\":\"x\",\"hovertemplate\":\"Views=65143080313<br>Main Video Category=%{x}<br>count=%{y}<extra></extra>\",\"legendgroup\":\"65143080313\",\"marker\":{\"color\":\"#FECB52\",\"pattern\":{\"shape\":\"\"}},\"name\":\"65143080313\",\"offsetgroup\":\"65143080313\",\"orientation\":\"v\",\"showlegend\":true,\"x\":[\"Entertainment\",\"Entertainment\",\"Entertainment\",\"Entertainment\",\"Entertainment\",\"Entertainment\",\"Entertainment\",\"Entertainment\"],\"xaxis\":\"x\",\"yaxis\":\"y\",\"type\":\"histogram\"},{\"alignmentgroup\":\"True\",\"bingroup\":\"x\",\"hovertemplate\":\"Views=22655274758<br>Main Video Category=%{x}<br>count=%{y}<extra></extra>\",\"legendgroup\":\"22655274758\",\"marker\":{\"color\":\"#636efa\",\"pattern\":{\"shape\":\"\"}},\"name\":\"22655274758\",\"offsetgroup\":\"22655274758\",\"orientation\":\"v\",\"showlegend\":true,\"x\":[\"Howto & Style\",\"Howto & Style\",\"Howto & Style\",\"Howto & Style\",\"Howto & Style\",\"Howto & Style\",\"Howto & Style\",\"Howto & Style\"],\"xaxis\":\"x\",\"yaxis\":\"y\",\"type\":\"histogram\"},{\"alignmentgroup\":\"True\",\"bingroup\":\"x\",\"hovertemplate\":\"Views=24247825120<br>Main Video Category=%{x}<br>count=%{y}<extra></extra>\",\"legendgroup\":\"24247825120\",\"marker\":{\"color\":\"#EF553B\",\"pattern\":{\"shape\":\"\"}},\"name\":\"24247825120\",\"offsetgroup\":\"24247825120\",\"orientation\":\"v\",\"showlegend\":true,\"x\":[\"People & Blogs\",\"People & Blogs\",\"People & Blogs\",\"People & Blogs\",\"People & Blogs\",\"People & Blogs\",\"People & Blogs\",\"People & Blogs\"],\"xaxis\":\"x\",\"yaxis\":\"y\",\"type\":\"histogram\"},{\"alignmentgroup\":\"True\",\"bingroup\":\"x\",\"hovertemplate\":\"Views=17652030516<br>Main Video Category=%{x}<br>count=%{y}<extra></extra>\",\"legendgroup\":\"17652030516\",\"marker\":{\"color\":\"#00cc96\",\"pattern\":{\"shape\":\"\"}},\"name\":\"17652030516\",\"offsetgroup\":\"17652030516\",\"orientation\":\"v\",\"showlegend\":true,\"x\":[\"Film & Animation\",\"Film & Animation\",\"Film & Animation\",\"Film & Animation\",\"Film & Animation\",\"Film & Animation\",\"Film & Animation\",\"Film & Animation\"],\"xaxis\":\"x\",\"yaxis\":\"y\",\"type\":\"histogram\"},{\"alignmentgroup\":\"True\",\"bingroup\":\"x\",\"hovertemplate\":\"Views=28347084231<br>Main Video Category=%{x}<br>count=%{y}<extra></extra>\",\"legendgroup\":\"28347084231\",\"marker\":{\"color\":\"#ab63fa\",\"pattern\":{\"shape\":\"\"}},\"name\":\"28347084231\",\"offsetgroup\":\"28347084231\",\"orientation\":\"v\",\"showlegend\":true,\"x\":[\"Music\",\"Music\",\"Music\",\"Music\",\"Music\",\"Music\",\"Music\",\"Music\"],\"xaxis\":\"x\",\"yaxis\":\"y\",\"type\":\"histogram\"},{\"alignmentgroup\":\"True\",\"bingroup\":\"x\",\"hovertemplate\":\"Views=80431073293<br>Main Video Category=%{x}<br>count=%{y}<extra></extra>\",\"legendgroup\":\"80431073293\",\"marker\":{\"color\":\"#FFA15A\",\"pattern\":{\"shape\":\"\"}},\"name\":\"80431073293\",\"offsetgroup\":\"80431073293\",\"orientation\":\"v\",\"showlegend\":true,\"x\":[\"Entertainment\",\"Entertainment\",\"Entertainment\",\"Entertainment\",\"Entertainment\",\"Entertainment\",\"Entertainment\",\"Entertainment\"],\"xaxis\":\"x\",\"yaxis\":\"y\",\"type\":\"histogram\"},{\"alignmentgroup\":\"True\",\"bingroup\":\"x\",\"hovertemplate\":\"Views=17072262758<br>Main Video Category=%{x}<br>count=%{y}<extra></extra>\",\"legendgroup\":\"17072262758\",\"marker\":{\"color\":\"#19d3f3\",\"pattern\":{\"shape\":\"\"}},\"name\":\"17072262758\",\"offsetgroup\":\"17072262758\",\"orientation\":\"v\",\"showlegend\":true,\"x\":[\"Music\",\"Music\",\"Music\",\"Music\",\"Music\",\"Music\",\"Music\",\"Music\"],\"xaxis\":\"x\",\"yaxis\":\"y\",\"type\":\"histogram\"},{\"alignmentgroup\":\"True\",\"bingroup\":\"x\",\"hovertemplate\":\"Views=23493409219<br>Main Video Category=%{x}<br>count=%{y}<extra></extra>\",\"legendgroup\":\"23493409219\",\"marker\":{\"color\":\"#FF6692\",\"pattern\":{\"shape\":\"\"}},\"name\":\"23493409219\",\"offsetgroup\":\"23493409219\",\"orientation\":\"v\",\"showlegend\":true,\"x\":[\"Music\",\"Music\",\"Music\",\"Music\",\"Music\",\"Music\",\"Music\",\"Music\"],\"xaxis\":\"x\",\"yaxis\":\"y\",\"type\":\"histogram\"},{\"alignmentgroup\":\"True\",\"bingroup\":\"x\",\"hovertemplate\":\"Views=36444038220<br>Main Video Category=%{x}<br>count=%{y}<extra></extra>\",\"legendgroup\":\"36444038220\",\"marker\":{\"color\":\"#B6E880\",\"pattern\":{\"shape\":\"\"}},\"name\":\"36444038220\",\"offsetgroup\":\"36444038220\",\"orientation\":\"v\",\"showlegend\":true,\"x\":[\"Music\",\"Music\",\"Music\",\"Music\",\"Music\",\"Music\",\"Music\",\"Music\"],\"xaxis\":\"x\",\"yaxis\":\"y\",\"type\":\"histogram\"},{\"alignmentgroup\":\"True\",\"bingroup\":\"x\",\"hovertemplate\":\"Views=16034166113<br>Main Video Category=%{x}<br>count=%{y}<extra></extra>\",\"legendgroup\":\"16034166113\",\"marker\":{\"color\":\"#FF97FF\",\"pattern\":{\"shape\":\"\"}},\"name\":\"16034166113\",\"offsetgroup\":\"16034166113\",\"orientation\":\"v\",\"showlegend\":true,\"x\":[\"Entertainment\",\"Entertainment\",\"Entertainment\",\"Entertainment\",\"Entertainment\",\"Entertainment\",\"Entertainment\",\"Entertainment\"],\"xaxis\":\"x\",\"yaxis\":\"y\",\"type\":\"histogram\"},{\"alignmentgroup\":\"True\",\"bingroup\":\"x\",\"hovertemplate\":\"Views=28365791631<br>Main Video Category=%{x}<br>count=%{y}<extra></extra>\",\"legendgroup\":\"28365791631\",\"marker\":{\"color\":\"#FECB52\",\"pattern\":{\"shape\":\"\"}},\"name\":\"28365791631\",\"offsetgroup\":\"28365791631\",\"orientation\":\"v\",\"showlegend\":true,\"x\":[\"Music\",\"Music\",\"Music\",\"Music\",\"Music\",\"Music\",\"Music\",\"Music\"],\"xaxis\":\"x\",\"yaxis\":\"y\",\"type\":\"histogram\"},{\"alignmentgroup\":\"True\",\"bingroup\":\"x\",\"hovertemplate\":\"Views=31514954950<br>Main Video Category=%{x}<br>count=%{y}<extra></extra>\",\"legendgroup\":\"31514954950\",\"marker\":{\"color\":\"#636efa\",\"pattern\":{\"shape\":\"\"}},\"name\":\"31514954950\",\"offsetgroup\":\"31514954950\",\"orientation\":\"v\",\"showlegend\":true,\"x\":[\"Education\",\"Education\",\"Education\",\"Education\",\"Education\",\"Education\",\"Education\",\"Education\"],\"xaxis\":\"x\",\"yaxis\":\"y\",\"type\":\"histogram\"},{\"alignmentgroup\":\"True\",\"bingroup\":\"x\",\"hovertemplate\":\"Views=14560770809<br>Main Video Category=%{x}<br>count=%{y}<extra></extra>\",\"legendgroup\":\"14560770809\",\"marker\":{\"color\":\"#EF553B\",\"pattern\":{\"shape\":\"\"}},\"name\":\"14560770809\",\"offsetgroup\":\"14560770809\",\"orientation\":\"v\",\"showlegend\":true,\"x\":[\"Sports\",\"Sports\",\"Sports\",\"Sports\",\"Sports\",\"Sports\",\"Sports\",\"Sports\"],\"xaxis\":\"x\",\"yaxis\":\"y\",\"type\":\"histogram\"},{\"alignmentgroup\":\"True\",\"bingroup\":\"x\",\"hovertemplate\":\"Views=58434633172<br>Main Video Category=%{x}<br>count=%{y}<extra></extra>\",\"legendgroup\":\"58434633172\",\"marker\":{\"color\":\"#00cc96\",\"pattern\":{\"shape\":\"\"}},\"name\":\"58434633172\",\"offsetgroup\":\"58434633172\",\"orientation\":\"v\",\"showlegend\":true,\"x\":[\"Film & Animation\",\"Film & Animation\",\"Film & Animation\",\"Film & Animation\",\"Film & Animation\",\"Film & Animation\",\"Film & Animation\",\"Film & Animation\"],\"xaxis\":\"x\",\"yaxis\":\"y\",\"type\":\"histogram\"},{\"alignmentgroup\":\"True\",\"bingroup\":\"x\",\"hovertemplate\":\"Views=38747673464<br>Main Video Category=%{x}<br>count=%{y}<extra></extra>\",\"legendgroup\":\"38747673464\",\"marker\":{\"color\":\"#ab63fa\",\"pattern\":{\"shape\":\"\"}},\"name\":\"38747673464\",\"offsetgroup\":\"38747673464\",\"orientation\":\"v\",\"showlegend\":true,\"x\":[\"Education\",\"Education\",\"Education\",\"Education\",\"Education\",\"Education\",\"Education\",\"Education\"],\"xaxis\":\"x\",\"yaxis\":\"y\",\"type\":\"histogram\"},{\"alignmentgroup\":\"True\",\"bingroup\":\"x\",\"hovertemplate\":\"Views=13279526225<br>Main Video Category=%{x}<br>count=%{y}<extra></extra>\",\"legendgroup\":\"13279526225\",\"marker\":{\"color\":\"#FFA15A\",\"pattern\":{\"shape\":\"\"}},\"name\":\"13279526225\",\"offsetgroup\":\"13279526225\",\"orientation\":\"v\",\"showlegend\":true,\"x\":[\"Music\",\"Music\",\"Music\",\"Music\",\"Music\",\"Music\",\"Music\",\"Music\"],\"xaxis\":\"x\",\"yaxis\":\"y\",\"type\":\"histogram\"},{\"alignmentgroup\":\"True\",\"bingroup\":\"x\",\"hovertemplate\":\"Views=50613413464<br>Main Video Category=%{x}<br>count=%{y}<extra></extra>\",\"legendgroup\":\"50613413464\",\"marker\":{\"color\":\"#19d3f3\",\"pattern\":{\"shape\":\"\"}},\"name\":\"50613413464\",\"offsetgroup\":\"50613413464\",\"orientation\":\"v\",\"showlegend\":true,\"x\":[\"Entertainment\",\"Entertainment\",\"Entertainment\",\"Entertainment\",\"Entertainment\",\"Entertainment\",\"Entertainment\",\"Entertainment\"],\"xaxis\":\"x\",\"yaxis\":\"y\",\"type\":\"histogram\"},{\"alignmentgroup\":\"True\",\"bingroup\":\"x\",\"hovertemplate\":\"Views=36796548363<br>Main Video Category=%{x}<br>count=%{y}<extra></extra>\",\"legendgroup\":\"36796548363\",\"marker\":{\"color\":\"#FF6692\",\"pattern\":{\"shape\":\"\"}},\"name\":\"36796548363\",\"offsetgroup\":\"36796548363\",\"orientation\":\"v\",\"showlegend\":true,\"x\":[\"Music\",\"Music\",\"Music\",\"Music\",\"Music\",\"Music\",\"Music\",\"Music\"],\"xaxis\":\"x\",\"yaxis\":\"y\",\"type\":\"histogram\"},{\"alignmentgroup\":\"True\",\"bingroup\":\"x\",\"hovertemplate\":\"Views=23404734521<br>Main Video Category=%{x}<br>count=%{y}<extra></extra>\",\"legendgroup\":\"23404734521\",\"marker\":{\"color\":\"#B6E880\",\"pattern\":{\"shape\":\"\"}},\"name\":\"23404734521\",\"offsetgroup\":\"23404734521\",\"orientation\":\"v\",\"showlegend\":true,\"x\":[\"Music\",\"Music\",\"Music\",\"Music\",\"Music\",\"Music\",\"Music\",\"Music\"],\"xaxis\":\"x\",\"yaxis\":\"y\",\"type\":\"histogram\"},{\"alignmentgroup\":\"True\",\"bingroup\":\"x\",\"hovertemplate\":\"Views=19574295579<br>Main Video Category=%{x}<br>count=%{y}<extra></extra>\",\"legendgroup\":\"19574295579\",\"marker\":{\"color\":\"#FF97FF\",\"pattern\":{\"shape\":\"\"}},\"name\":\"19574295579\",\"offsetgroup\":\"19574295579\",\"orientation\":\"v\",\"showlegend\":true,\"x\":[\"News & Politics\",\"News & Politics\",\"News & Politics\",\"News & Politics\",\"News & Politics\",\"News & Politics\",\"News & Politics\",\"News & Politics\"],\"xaxis\":\"x\",\"yaxis\":\"y\",\"type\":\"histogram\"},{\"alignmentgroup\":\"True\",\"bingroup\":\"x\",\"hovertemplate\":\"Views=27642363836<br>Main Video Category=%{x}<br>count=%{y}<extra></extra>\",\"legendgroup\":\"27642363836\",\"marker\":{\"color\":\"#FECB52\",\"pattern\":{\"shape\":\"\"}},\"name\":\"27642363836\",\"offsetgroup\":\"27642363836\",\"orientation\":\"v\",\"showlegend\":true,\"x\":[\"Music\",\"Music\",\"Music\",\"Music\",\"Music\",\"Music\",\"Music\",\"Music\"],\"xaxis\":\"x\",\"yaxis\":\"y\",\"type\":\"histogram\"},{\"alignmentgroup\":\"True\",\"bingroup\":\"x\",\"hovertemplate\":\"Views=27298793597<br>Main Video Category=%{x}<br>count=%{y}<extra></extra>\",\"legendgroup\":\"27298793597\",\"marker\":{\"color\":\"#636efa\",\"pattern\":{\"shape\":\"\"}},\"name\":\"27298793597\",\"offsetgroup\":\"27298793597\",\"orientation\":\"v\",\"showlegend\":true,\"x\":[\"Music\",\"Music\",\"Music\",\"Music\",\"Music\",\"Music\",\"Music\",\"Music\"],\"xaxis\":\"x\",\"yaxis\":\"y\",\"type\":\"histogram\"},{\"alignmentgroup\":\"True\",\"bingroup\":\"x\",\"hovertemplate\":\"Views=24301972405<br>Main Video Category=%{x}<br>count=%{y}<extra></extra>\",\"legendgroup\":\"24301972405\",\"marker\":{\"color\":\"#EF553B\",\"pattern\":{\"shape\":\"\"}},\"name\":\"24301972405\",\"offsetgroup\":\"24301972405\",\"orientation\":\"v\",\"showlegend\":true,\"x\":[\"Music\",\"Music\",\"Music\",\"Music\",\"Music\",\"Music\",\"Music\",\"Music\"],\"xaxis\":\"x\",\"yaxis\":\"y\",\"type\":\"histogram\"},{\"alignmentgroup\":\"True\",\"bingroup\":\"x\",\"hovertemplate\":\"Views=21945548174<br>Main Video Category=%{x}<br>count=%{y}<extra></extra>\",\"legendgroup\":\"21945548174\",\"marker\":{\"color\":\"#00cc96\",\"pattern\":{\"shape\":\"\"}},\"name\":\"21945548174\",\"offsetgroup\":\"21945548174\",\"orientation\":\"v\",\"showlegend\":true,\"x\":[\"Pop music\",\"Pop music\",\"Pop music\",\"Pop music\",\"Pop music\",\"Pop music\",\"Pop music\",\"Pop music\"],\"xaxis\":\"x\",\"yaxis\":\"y\",\"type\":\"histogram\"},{\"alignmentgroup\":\"True\",\"bingroup\":\"x\",\"hovertemplate\":\"Views=23663272345<br>Main Video Category=%{x}<br>count=%{y}<extra></extra>\",\"legendgroup\":\"23663272345\",\"marker\":{\"color\":\"#ab63fa\",\"pattern\":{\"shape\":\"\"}},\"name\":\"23663272345\",\"offsetgroup\":\"23663272345\",\"orientation\":\"v\",\"showlegend\":true,\"x\":[\"Music\",\"Music\",\"Music\",\"Music\",\"Music\",\"Music\",\"Music\",\"Music\"],\"xaxis\":\"x\",\"yaxis\":\"y\",\"type\":\"histogram\"},{\"alignmentgroup\":\"True\",\"bingroup\":\"x\",\"hovertemplate\":\"Views=49013318189<br>Main Video Category=%{x}<br>count=%{y}<extra></extra>\",\"legendgroup\":\"49013318189\",\"marker\":{\"color\":\"#FFA15A\",\"pattern\":{\"shape\":\"\"}},\"name\":\"49013318189\",\"offsetgroup\":\"49013318189\",\"orientation\":\"v\",\"showlegend\":true,\"x\":[\"Music\",\"Music\",\"Music\",\"Music\",\"Music\",\"Music\",\"Music\",\"Music\"],\"xaxis\":\"x\",\"yaxis\":\"y\",\"type\":\"histogram\"},{\"alignmentgroup\":\"True\",\"bingroup\":\"x\",\"hovertemplate\":\"Views=28700714072<br>Main Video Category=%{x}<br>count=%{y}<extra></extra>\",\"legendgroup\":\"28700714072\",\"marker\":{\"color\":\"#19d3f3\",\"pattern\":{\"shape\":\"\"}},\"name\":\"28700714072\",\"offsetgroup\":\"28700714072\",\"orientation\":\"v\",\"showlegend\":true,\"x\":[\"Music\",\"Music\",\"Music\",\"Music\",\"Music\",\"Music\",\"Music\",\"Music\"],\"xaxis\":\"x\",\"yaxis\":\"y\",\"type\":\"histogram\"},{\"alignmentgroup\":\"True\",\"bingroup\":\"x\",\"hovertemplate\":\"Views=28692968075<br>Main Video Category=%{x}<br>count=%{y}<extra></extra>\",\"legendgroup\":\"28692968075\",\"marker\":{\"color\":\"#FF6692\",\"pattern\":{\"shape\":\"\"}},\"name\":\"28692968075\",\"offsetgroup\":\"28692968075\",\"orientation\":\"v\",\"showlegend\":true,\"x\":[\"Music\",\"Music\",\"Music\",\"Music\",\"Music\",\"Music\",\"Music\",\"Music\"],\"xaxis\":\"x\",\"yaxis\":\"y\",\"type\":\"histogram\"},{\"alignmentgroup\":\"True\",\"bingroup\":\"x\",\"hovertemplate\":\"Views=25296371488<br>Main Video Category=%{x}<br>count=%{y}<extra></extra>\",\"legendgroup\":\"25296371488\",\"marker\":{\"color\":\"#B6E880\",\"pattern\":{\"shape\":\"\"}},\"name\":\"25296371488\",\"offsetgroup\":\"25296371488\",\"orientation\":\"v\",\"showlegend\":true,\"x\":[\"Music\",\"Music\",\"Music\",\"Music\",\"Music\",\"Music\",\"Music\",\"Music\"],\"xaxis\":\"x\",\"yaxis\":\"y\",\"type\":\"histogram\"},{\"alignmentgroup\":\"True\",\"bingroup\":\"x\",\"hovertemplate\":\"Views=13594315965<br>Main Video Category=%{x}<br>count=%{y}<extra></extra>\",\"legendgroup\":\"13594315965\",\"marker\":{\"color\":\"#FF97FF\",\"pattern\":{\"shape\":\"\"}},\"name\":\"13594315965\",\"offsetgroup\":\"13594315965\",\"orientation\":\"v\",\"showlegend\":true,\"x\":[\"Gaming\",\"Gaming\",\"Gaming\",\"Gaming\",\"Gaming\",\"Gaming\",\"Gaming\",\"Gaming\"],\"xaxis\":\"x\",\"yaxis\":\"y\",\"type\":\"histogram\"},{\"alignmentgroup\":\"True\",\"bingroup\":\"x\",\"hovertemplate\":\"Views=11810491835<br>Main Video Category=%{x}<br>count=%{y}<extra></extra>\",\"legendgroup\":\"11810491835\",\"marker\":{\"color\":\"#FECB52\",\"pattern\":{\"shape\":\"\"}},\"name\":\"11810491835\",\"offsetgroup\":\"11810491835\",\"orientation\":\"v\",\"showlegend\":true,\"x\":[\"Music\",\"Music\",\"Music\",\"Music\",\"Music\",\"Music\",\"Music\",\"Music\"],\"xaxis\":\"x\",\"yaxis\":\"y\",\"type\":\"histogram\"},{\"alignmentgroup\":\"True\",\"bingroup\":\"x\",\"hovertemplate\":\"Views=18491954095<br>Main Video Category=%{x}<br>count=%{y}<extra></extra>\",\"legendgroup\":\"18491954095\",\"marker\":{\"color\":\"#636efa\",\"pattern\":{\"shape\":\"\"}},\"name\":\"18491954095\",\"offsetgroup\":\"18491954095\",\"orientation\":\"v\",\"showlegend\":true,\"x\":[\"Entertainment\",\"Entertainment\",\"Entertainment\",\"Entertainment\",\"Entertainment\",\"Entertainment\",\"Entertainment\",\"Entertainment\"],\"xaxis\":\"x\",\"yaxis\":\"y\",\"type\":\"histogram\"},{\"alignmentgroup\":\"True\",\"bingroup\":\"x\",\"hovertemplate\":\"Views=9934602477<br>Main Video Category=%{x}<br>count=%{y}<extra></extra>\",\"legendgroup\":\"9934602477\",\"marker\":{\"color\":\"#EF553B\",\"pattern\":{\"shape\":\"\"}},\"name\":\"9934602477\",\"offsetgroup\":\"9934602477\",\"orientation\":\"v\",\"showlegend\":true,\"x\":[\"Gaming\",\"Gaming\",\"Gaming\",\"Gaming\",\"Gaming\",\"Gaming\",\"Gaming\",\"Gaming\"],\"xaxis\":\"x\",\"yaxis\":\"y\",\"type\":\"histogram\"},{\"alignmentgroup\":\"True\",\"bingroup\":\"x\",\"hovertemplate\":\"Views=25062652229<br>Main Video Category=%{x}<br>count=%{y}<extra></extra>\",\"legendgroup\":\"25062652229\",\"marker\":{\"color\":\"#00cc96\",\"pattern\":{\"shape\":\"\"}},\"name\":\"25062652229\",\"offsetgroup\":\"25062652229\",\"orientation\":\"v\",\"showlegend\":true,\"x\":[\"Education\",\"Education\",\"Education\",\"Education\",\"Education\",\"Education\",\"Education\",\"Education\"],\"xaxis\":\"x\",\"yaxis\":\"y\",\"type\":\"histogram\"},{\"alignmentgroup\":\"True\",\"bingroup\":\"x\",\"hovertemplate\":\"Views=15287605140<br>Main Video Category=%{x}<br>count=%{y}<extra></extra>\",\"legendgroup\":\"15287605140\",\"marker\":{\"color\":\"#ab63fa\",\"pattern\":{\"shape\":\"\"}},\"name\":\"15287605140\",\"offsetgroup\":\"15287605140\",\"orientation\":\"v\",\"showlegend\":true,\"x\":[\"Entertainment\",\"Entertainment\",\"Entertainment\",\"Entertainment\",\"Entertainment\",\"Entertainment\",\"Entertainment\",\"Entertainment\"],\"xaxis\":\"x\",\"yaxis\":\"y\",\"type\":\"histogram\"},{\"alignmentgroup\":\"True\",\"bingroup\":\"x\",\"hovertemplate\":\"Views=4101958915<br>Main Video Category=%{x}<br>count=%{y}<extra></extra>\",\"legendgroup\":\"4101958915\",\"marker\":{\"color\":\"#FFA15A\",\"pattern\":{\"shape\":\"\"}},\"name\":\"4101958915\",\"offsetgroup\":\"4101958915\",\"orientation\":\"v\",\"showlegend\":true,\"x\":[\"Comedy\",\"Comedy\",\"Comedy\",\"Comedy\",\"Comedy\",\"Comedy\",\"Comedy\",\"Comedy\"],\"xaxis\":\"x\",\"yaxis\":\"y\",\"type\":\"histogram\"},{\"alignmentgroup\":\"True\",\"bingroup\":\"x\",\"hovertemplate\":\"Views=9969944772<br>Main Video Category=%{x}<br>count=%{y}<extra></extra>\",\"legendgroup\":\"9969944772\",\"marker\":{\"color\":\"#19d3f3\",\"pattern\":{\"shape\":\"\"}},\"name\":\"9969944772\",\"offsetgroup\":\"9969944772\",\"orientation\":\"v\",\"showlegend\":true,\"x\":[\"Howto & Style\",\"Howto & Style\",\"Howto & Style\",\"Howto & Style\",\"Howto & Style\",\"Howto & Style\",\"Howto & Style\",\"Howto & Style\"],\"xaxis\":\"x\",\"yaxis\":\"y\",\"type\":\"histogram\"},{\"alignmentgroup\":\"True\",\"bingroup\":\"x\",\"hovertemplate\":\"Views=4725838896<br>Main Video Category=%{x}<br>count=%{y}<extra></extra>\",\"legendgroup\":\"4725838896\",\"marker\":{\"color\":\"#FF6692\",\"pattern\":{\"shape\":\"\"}},\"name\":\"4725838896\",\"offsetgroup\":\"4725838896\",\"orientation\":\"v\",\"showlegend\":true,\"x\":[\"Entertainment\",\"Entertainment\",\"Entertainment\",\"Entertainment\",\"Entertainment\",\"Entertainment\",\"Entertainment\",\"Entertainment\"],\"xaxis\":\"x\",\"yaxis\":\"y\",\"type\":\"histogram\"},{\"alignmentgroup\":\"True\",\"bingroup\":\"x\",\"hovertemplate\":\"Views=7206933910<br>Main Video Category=%{x}<br>count=%{y}<extra></extra>\",\"legendgroup\":\"7206933910\",\"marker\":{\"color\":\"#B6E880\",\"pattern\":{\"shape\":\"\"}},\"name\":\"7206933910\",\"offsetgroup\":\"7206933910\",\"orientation\":\"v\",\"showlegend\":true,\"x\":[\"Entertainment\",\"Entertainment\",\"Entertainment\",\"Entertainment\",\"Entertainment\",\"Entertainment\",\"Entertainment\",\"Entertainment\"],\"xaxis\":\"x\",\"yaxis\":\"y\",\"type\":\"histogram\"},{\"alignmentgroup\":\"True\",\"bingroup\":\"x\",\"hovertemplate\":\"Views=23815643998<br>Main Video Category=%{x}<br>count=%{y}<extra></extra>\",\"legendgroup\":\"23815643998\",\"marker\":{\"color\":\"#FF97FF\",\"pattern\":{\"shape\":\"\"}},\"name\":\"23815643998\",\"offsetgroup\":\"23815643998\",\"orientation\":\"v\",\"showlegend\":true,\"x\":[\"Music\",\"Music\",\"Music\",\"Music\",\"Music\",\"Music\",\"Music\",\"Music\"],\"xaxis\":\"x\",\"yaxis\":\"y\",\"type\":\"histogram\"},{\"alignmentgroup\":\"True\",\"bingroup\":\"x\",\"hovertemplate\":\"Views=23588674274<br>Main Video Category=%{x}<br>count=%{y}<extra></extra>\",\"legendgroup\":\"23588674274\",\"marker\":{\"color\":\"#FECB52\",\"pattern\":{\"shape\":\"\"}},\"name\":\"23588674274\",\"offsetgroup\":\"23588674274\",\"orientation\":\"v\",\"showlegend\":true,\"x\":[\"Music\",\"Music\",\"Music\",\"Music\",\"Music\",\"Music\",\"Music\",\"Music\"],\"xaxis\":\"x\",\"yaxis\":\"y\",\"type\":\"histogram\"},{\"alignmentgroup\":\"True\",\"bingroup\":\"x\",\"hovertemplate\":\"Views=11617072443<br>Main Video Category=%{x}<br>count=%{y}<extra></extra>\",\"legendgroup\":\"11617072443\",\"marker\":{\"color\":\"#636efa\",\"pattern\":{\"shape\":\"\"}},\"name\":\"11617072443\",\"offsetgroup\":\"11617072443\",\"orientation\":\"v\",\"showlegend\":true,\"x\":[\"Music\",\"Music\",\"Music\",\"Music\",\"Music\",\"Music\",\"Music\",\"Music\"],\"xaxis\":\"x\",\"yaxis\":\"y\",\"type\":\"histogram\"},{\"alignmentgroup\":\"True\",\"bingroup\":\"x\",\"hovertemplate\":\"Views=22382018623<br>Main Video Category=%{x}<br>count=%{y}<extra></extra>\",\"legendgroup\":\"22382018623\",\"marker\":{\"color\":\"#EF553B\",\"pattern\":{\"shape\":\"\"}},\"name\":\"22382018623\",\"offsetgroup\":\"22382018623\",\"orientation\":\"v\",\"showlegend\":true,\"x\":[\"Music\",\"Music\",\"Music\",\"Music\",\"Music\",\"Music\",\"Music\",\"Music\"],\"xaxis\":\"x\",\"yaxis\":\"y\",\"type\":\"histogram\"},{\"alignmentgroup\":\"True\",\"bingroup\":\"x\",\"hovertemplate\":\"Views=18673777146<br>Main Video Category=%{x}<br>count=%{y}<extra></extra>\",\"legendgroup\":\"18673777146\",\"marker\":{\"color\":\"#00cc96\",\"pattern\":{\"shape\":\"\"}},\"name\":\"18673777146\",\"offsetgroup\":\"18673777146\",\"orientation\":\"v\",\"showlegend\":true,\"x\":[\"Entertainment\",\"Entertainment\",\"Entertainment\",\"Entertainment\",\"Entertainment\",\"Entertainment\",\"Entertainment\",\"Entertainment\"],\"xaxis\":\"x\",\"yaxis\":\"y\",\"type\":\"histogram\"},{\"alignmentgroup\":\"True\",\"bingroup\":\"x\",\"hovertemplate\":\"Views=15999397373<br>Main Video Category=%{x}<br>count=%{y}<extra></extra>\",\"legendgroup\":\"15999397373\",\"marker\":{\"color\":\"#ab63fa\",\"pattern\":{\"shape\":\"\"}},\"name\":\"15999397373\",\"offsetgroup\":\"15999397373\",\"orientation\":\"v\",\"showlegend\":true,\"x\":[\"Gaming\",\"Gaming\",\"Gaming\",\"Gaming\",\"Gaming\",\"Gaming\",\"Gaming\",\"Gaming\"],\"xaxis\":\"x\",\"yaxis\":\"y\",\"type\":\"histogram\"},{\"alignmentgroup\":\"True\",\"bingroup\":\"x\",\"hovertemplate\":\"Views=28323109702<br>Main Video Category=%{x}<br>count=%{y}<extra></extra>\",\"legendgroup\":\"28323109702\",\"marker\":{\"color\":\"#FFA15A\",\"pattern\":{\"shape\":\"\"}},\"name\":\"28323109702\",\"offsetgroup\":\"28323109702\",\"orientation\":\"v\",\"showlegend\":true,\"x\":[\"Shows\",\"Shows\",\"Shows\",\"Shows\",\"Shows\",\"Shows\",\"Shows\",\"Shows\"],\"xaxis\":\"x\",\"yaxis\":\"y\",\"type\":\"histogram\"},{\"alignmentgroup\":\"True\",\"bingroup\":\"x\",\"hovertemplate\":\"Views=24158005861<br>Main Video Category=%{x}<br>count=%{y}<extra></extra>\",\"legendgroup\":\"24158005861\",\"marker\":{\"color\":\"#19d3f3\",\"pattern\":{\"shape\":\"\"}},\"name\":\"24158005861\",\"offsetgroup\":\"24158005861\",\"orientation\":\"v\",\"showlegend\":true,\"x\":[\"Music\",\"Music\",\"Music\",\"Music\",\"Music\",\"Music\",\"Music\",\"Music\"],\"xaxis\":\"x\",\"yaxis\":\"y\",\"type\":\"histogram\"},{\"alignmentgroup\":\"True\",\"bingroup\":\"x\",\"hovertemplate\":\"Views=7469679920<br>Main Video Category=%{x}<br>count=%{y}<extra></extra>\",\"legendgroup\":\"7469679920\",\"marker\":{\"color\":\"#FF6692\",\"pattern\":{\"shape\":\"\"}},\"name\":\"7469679920\",\"offsetgroup\":\"7469679920\",\"orientation\":\"v\",\"showlegend\":true,\"x\":[\"Comedy\",\"Comedy\",\"Comedy\",\"Comedy\",\"Comedy\",\"Comedy\",\"Comedy\",\"Comedy\"],\"xaxis\":\"x\",\"yaxis\":\"y\",\"type\":\"histogram\"},{\"alignmentgroup\":\"True\",\"bingroup\":\"x\",\"hovertemplate\":\"Views=46854726788<br>Main Video Category=%{x}<br>count=%{y}<extra></extra>\",\"legendgroup\":\"46854726788\",\"marker\":{\"color\":\"#B6E880\",\"pattern\":{\"shape\":\"\"}},\"name\":\"46854726788\",\"offsetgroup\":\"46854726788\",\"orientation\":\"v\",\"showlegend\":true,\"x\":[\"Entertainment\",\"Entertainment\",\"Entertainment\",\"Entertainment\",\"Entertainment\",\"Entertainment\",\"Entertainment\",\"Entertainment\"],\"xaxis\":\"x\",\"yaxis\":\"y\",\"type\":\"histogram\"},{\"alignmentgroup\":\"True\",\"bingroup\":\"x\",\"hovertemplate\":\"Views=19885240007<br>Main Video Category=%{x}<br>count=%{y}<extra></extra>\",\"legendgroup\":\"19885240007\",\"marker\":{\"color\":\"#FF97FF\",\"pattern\":{\"shape\":\"\"}},\"name\":\"19885240007\",\"offsetgroup\":\"19885240007\",\"orientation\":\"v\",\"showlegend\":true,\"x\":[\"Entertainment\",\"Entertainment\",\"Entertainment\",\"Entertainment\",\"Entertainment\",\"Entertainment\",\"Entertainment\",\"Entertainment\"],\"xaxis\":\"x\",\"yaxis\":\"y\",\"type\":\"histogram\"},{\"alignmentgroup\":\"True\",\"bingroup\":\"x\",\"hovertemplate\":\"Views=36748994170<br>Main Video Category=%{x}<br>count=%{y}<extra></extra>\",\"legendgroup\":\"36748994170\",\"marker\":{\"color\":\"#FECB52\",\"pattern\":{\"shape\":\"\"}},\"name\":\"36748994170\",\"offsetgroup\":\"36748994170\",\"orientation\":\"v\",\"showlegend\":true,\"x\":[\"Education\",\"Education\",\"Education\",\"Education\",\"Education\",\"Education\",\"Education\",\"Education\"],\"xaxis\":\"x\",\"yaxis\":\"y\",\"type\":\"histogram\"},{\"alignmentgroup\":\"True\",\"bingroup\":\"x\",\"hovertemplate\":\"Views=7572635123<br>Main Video Category=%{x}<br>count=%{y}<extra></extra>\",\"legendgroup\":\"7572635123\",\"marker\":{\"color\":\"#636efa\",\"pattern\":{\"shape\":\"\"}},\"name\":\"7572635123\",\"offsetgroup\":\"7572635123\",\"orientation\":\"v\",\"showlegend\":true,\"x\":[\"Comedy\",\"Comedy\",\"Comedy\",\"Comedy\",\"Comedy\",\"Comedy\",\"Comedy\",\"Comedy\"],\"xaxis\":\"x\",\"yaxis\":\"y\",\"type\":\"histogram\"},{\"alignmentgroup\":\"True\",\"bingroup\":\"x\",\"hovertemplate\":\"Views=32512871141<br>Main Video Category=%{x}<br>count=%{y}<extra></extra>\",\"legendgroup\":\"32512871141\",\"marker\":{\"color\":\"#EF553B\",\"pattern\":{\"shape\":\"\"}},\"name\":\"32512871141\",\"offsetgroup\":\"32512871141\",\"orientation\":\"v\",\"showlegend\":true,\"x\":[\"Film & Animation\",\"Film & Animation\",\"Film & Animation\",\"Film & Animation\",\"Film & Animation\",\"Film & Animation\",\"Film & Animation\",\"Film & Animation\"],\"xaxis\":\"x\",\"yaxis\":\"y\",\"type\":\"histogram\"},{\"alignmentgroup\":\"True\",\"bingroup\":\"x\",\"hovertemplate\":\"Views=22274035516<br>Main Video Category=%{x}<br>count=%{y}<extra></extra>\",\"legendgroup\":\"22274035516\",\"marker\":{\"color\":\"#00cc96\",\"pattern\":{\"shape\":\"\"}},\"name\":\"22274035516\",\"offsetgroup\":\"22274035516\",\"orientation\":\"v\",\"showlegend\":true,\"x\":[\"Entertainment\",\"Entertainment\",\"Entertainment\",\"Entertainment\",\"Entertainment\",\"Entertainment\",\"Entertainment\",\"Entertainment\"],\"xaxis\":\"x\",\"yaxis\":\"y\",\"type\":\"histogram\"},{\"alignmentgroup\":\"True\",\"bingroup\":\"x\",\"hovertemplate\":\"Views=20326343958<br>Main Video Category=%{x}<br>count=%{y}<extra></extra>\",\"legendgroup\":\"20326343958\",\"marker\":{\"color\":\"#ab63fa\",\"pattern\":{\"shape\":\"\"}},\"name\":\"20326343958\",\"offsetgroup\":\"20326343958\",\"orientation\":\"v\",\"showlegend\":true,\"x\":[\"Entertainment\",\"Entertainment\",\"Entertainment\",\"Entertainment\",\"Entertainment\",\"Entertainment\",\"Entertainment\",\"Entertainment\"],\"xaxis\":\"x\",\"yaxis\":\"y\",\"type\":\"histogram\"},{\"alignmentgroup\":\"True\",\"bingroup\":\"x\",\"hovertemplate\":\"Views=17243982736<br>Main Video Category=%{x}<br>count=%{y}<extra></extra>\",\"legendgroup\":\"17243982736\",\"marker\":{\"color\":\"#FFA15A\",\"pattern\":{\"shape\":\"\"}},\"name\":\"17243982736\",\"offsetgroup\":\"17243982736\",\"orientation\":\"v\",\"showlegend\":true,\"x\":[\"Entertainment\",\"Entertainment\",\"Entertainment\",\"Entertainment\",\"Entertainment\",\"Entertainment\",\"Entertainment\",\"Entertainment\"],\"xaxis\":\"x\",\"yaxis\":\"y\",\"type\":\"histogram\"},{\"alignmentgroup\":\"True\",\"bingroup\":\"x\",\"hovertemplate\":\"Views=20208165033<br>Main Video Category=%{x}<br>count=%{y}<extra></extra>\",\"legendgroup\":\"20208165033\",\"marker\":{\"color\":\"#19d3f3\",\"pattern\":{\"shape\":\"\"}},\"name\":\"20208165033\",\"offsetgroup\":\"20208165033\",\"orientation\":\"v\",\"showlegend\":true,\"x\":[\"People & Blogs\",\"People & Blogs\",\"People & Blogs\",\"People & Blogs\",\"People & Blogs\",\"People & Blogs\",\"People & Blogs\",\"People & Blogs\"],\"xaxis\":\"x\",\"yaxis\":\"y\",\"type\":\"histogram\"},{\"alignmentgroup\":\"True\",\"bingroup\":\"x\",\"hovertemplate\":\"Views=23660684066<br>Main Video Category=%{x}<br>count=%{y}<extra></extra>\",\"legendgroup\":\"23660684066\",\"marker\":{\"color\":\"#FF6692\",\"pattern\":{\"shape\":\"\"}},\"name\":\"23660684066\",\"offsetgroup\":\"23660684066\",\"orientation\":\"v\",\"showlegend\":true,\"x\":[\"Music\",\"Music\",\"Music\",\"Music\",\"Music\",\"Music\",\"Music\",\"Music\"],\"xaxis\":\"x\",\"yaxis\":\"y\",\"type\":\"histogram\"},{\"alignmentgroup\":\"True\",\"bingroup\":\"x\",\"hovertemplate\":\"Views=9632080442<br>Main Video Category=%{x}<br>count=%{y}<extra></extra>\",\"legendgroup\":\"9632080442\",\"marker\":{\"color\":\"#B6E880\",\"pattern\":{\"shape\":\"\"}},\"name\":\"9632080442\",\"offsetgroup\":\"9632080442\",\"orientation\":\"v\",\"showlegend\":true,\"x\":[\"Music\",\"Music\",\"Music\",\"Music\",\"Music\",\"Music\",\"Music\",\"Music\"],\"xaxis\":\"x\",\"yaxis\":\"y\",\"type\":\"histogram\"},{\"alignmentgroup\":\"True\",\"bingroup\":\"x\",\"hovertemplate\":\"Views=14749662467<br>Main Video Category=%{x}<br>count=%{y}<extra></extra>\",\"legendgroup\":\"14749662467\",\"marker\":{\"color\":\"#FF97FF\",\"pattern\":{\"shape\":\"\"}},\"name\":\"14749662467\",\"offsetgroup\":\"14749662467\",\"orientation\":\"v\",\"showlegend\":true,\"x\":[\"Music\",\"Music\",\"Music\",\"Music\",\"Music\",\"Music\",\"Music\",\"Music\"],\"xaxis\":\"x\",\"yaxis\":\"y\",\"type\":\"histogram\"},{\"alignmentgroup\":\"True\",\"bingroup\":\"x\",\"hovertemplate\":\"Views=12577465005<br>Main Video Category=%{x}<br>count=%{y}<extra></extra>\",\"legendgroup\":\"12577465005\",\"marker\":{\"color\":\"#FECB52\",\"pattern\":{\"shape\":\"\"}},\"name\":\"12577465005\",\"offsetgroup\":\"12577465005\",\"orientation\":\"v\",\"showlegend\":true,\"x\":[\"Music\",\"Music\",\"Music\",\"Music\",\"Music\",\"Music\",\"Music\",\"Music\"],\"xaxis\":\"x\",\"yaxis\":\"y\",\"type\":\"histogram\"},{\"alignmentgroup\":\"True\",\"bingroup\":\"x\",\"hovertemplate\":\"Views=4188413314<br>Main Video Category=%{x}<br>count=%{y}<extra></extra>\",\"legendgroup\":\"4188413314\",\"marker\":{\"color\":\"#636efa\",\"pattern\":{\"shape\":\"\"}},\"name\":\"4188413314\",\"offsetgroup\":\"4188413314\",\"orientation\":\"v\",\"showlegend\":true,\"x\":[\"People & Blogs\",\"People & Blogs\",\"People & Blogs\",\"People & Blogs\",\"People & Blogs\",\"People & Blogs\",\"People & Blogs\",\"People & Blogs\"],\"xaxis\":\"x\",\"yaxis\":\"y\",\"type\":\"histogram\"},{\"alignmentgroup\":\"True\",\"bingroup\":\"x\",\"hovertemplate\":\"Views=33437272309<br>Main Video Category=%{x}<br>count=%{y}<extra></extra>\",\"legendgroup\":\"33437272309\",\"marker\":{\"color\":\"#EF553B\",\"pattern\":{\"shape\":\"\"}},\"name\":\"33437272309\",\"offsetgroup\":\"33437272309\",\"orientation\":\"v\",\"showlegend\":true,\"x\":[\"Entertainment\",\"Entertainment\",\"Entertainment\",\"Entertainment\",\"Entertainment\",\"Entertainment\",\"Entertainment\",\"Entertainment\"],\"xaxis\":\"x\",\"yaxis\":\"y\",\"type\":\"histogram\"},{\"alignmentgroup\":\"True\",\"bingroup\":\"x\",\"hovertemplate\":\"Views=23356797129<br>Main Video Category=%{x}<br>count=%{y}<extra></extra>\",\"legendgroup\":\"23356797129\",\"marker\":{\"color\":\"#00cc96\",\"pattern\":{\"shape\":\"\"}},\"name\":\"23356797129\",\"offsetgroup\":\"23356797129\",\"orientation\":\"v\",\"showlegend\":true,\"x\":[\"People & Blogs\",\"People & Blogs\",\"People & Blogs\",\"People & Blogs\",\"People & Blogs\",\"People & Blogs\",\"People & Blogs\",\"People & Blogs\"],\"xaxis\":\"x\",\"yaxis\":\"y\",\"type\":\"histogram\"},{\"alignmentgroup\":\"True\",\"bingroup\":\"x\",\"hovertemplate\":\"Views=20194962867<br>Main Video Category=%{x}<br>count=%{y}<extra></extra>\",\"legendgroup\":\"20194962867\",\"marker\":{\"color\":\"#ab63fa\",\"pattern\":{\"shape\":\"\"}},\"name\":\"20194962867\",\"offsetgroup\":\"20194962867\",\"orientation\":\"v\",\"showlegend\":true,\"x\":[\"Music\",\"Music\",\"Music\",\"Music\",\"Music\",\"Music\",\"Music\",\"Music\"],\"xaxis\":\"x\",\"yaxis\":\"y\",\"type\":\"histogram\"},{\"alignmentgroup\":\"True\",\"bingroup\":\"x\",\"hovertemplate\":\"Views=40261342099<br>Main Video Category=%{x}<br>count=%{y}<extra></extra>\",\"legendgroup\":\"40261342099\",\"marker\":{\"color\":\"#FFA15A\",\"pattern\":{\"shape\":\"\"}},\"name\":\"40261342099\",\"offsetgroup\":\"40261342099\",\"orientation\":\"v\",\"showlegend\":true,\"x\":[\"Entertainment\",\"Entertainment\",\"Entertainment\",\"Entertainment\",\"Entertainment\",\"Entertainment\",\"Entertainment\",\"Entertainment\"],\"xaxis\":\"x\",\"yaxis\":\"y\",\"type\":\"histogram\"},{\"alignmentgroup\":\"True\",\"bingroup\":\"x\",\"hovertemplate\":\"Views=0<br>Main Video Category=%{x}<br>count=%{y}<extra></extra>\",\"legendgroup\":\"0\",\"marker\":{\"color\":\"#19d3f3\",\"pattern\":{\"shape\":\"\"}},\"name\":\"0\",\"offsetgroup\":\"0\",\"orientation\":\"v\",\"showlegend\":true,\"x\":[null,null],\"xaxis\":\"x\",\"yaxis\":\"y\",\"type\":\"histogram\"},{\"alignmentgroup\":\"True\",\"bingroup\":\"x\",\"hovertemplate\":\"Views=2925375307<br>Main Video Category=%{x}<br>count=%{y}<extra></extra>\",\"legendgroup\":\"2925375307\",\"marker\":{\"color\":\"#FF6692\",\"pattern\":{\"shape\":\"\"}},\"name\":\"2925375307\",\"offsetgroup\":\"2925375307\",\"orientation\":\"v\",\"showlegend\":true,\"x\":[\"Comedy\",\"Comedy\"],\"xaxis\":\"x\",\"yaxis\":\"y\",\"type\":\"histogram\"},{\"alignmentgroup\":\"True\",\"bingroup\":\"x\",\"hovertemplate\":\"Views=20285080239<br>Main Video Category=%{x}<br>count=%{y}<extra></extra>\",\"legendgroup\":\"20285080239\",\"marker\":{\"color\":\"#B6E880\",\"pattern\":{\"shape\":\"\"}},\"name\":\"20285080239\",\"offsetgroup\":\"20285080239\",\"orientation\":\"v\",\"showlegend\":true,\"x\":[\"Music\",\"Music\"],\"xaxis\":\"x\",\"yaxis\":\"y\",\"type\":\"histogram\"},{\"alignmentgroup\":\"True\",\"bingroup\":\"x\",\"hovertemplate\":\"Views=18836836311<br>Main Video Category=%{x}<br>count=%{y}<extra></extra>\",\"legendgroup\":\"18836836311\",\"marker\":{\"color\":\"#FF97FF\",\"pattern\":{\"shape\":\"\"}},\"name\":\"18836836311\",\"offsetgroup\":\"18836836311\",\"orientation\":\"v\",\"showlegend\":true,\"x\":[\"People & Blogs\",\"People & Blogs\"],\"xaxis\":\"x\",\"yaxis\":\"y\",\"type\":\"histogram\"},{\"alignmentgroup\":\"True\",\"bingroup\":\"x\",\"hovertemplate\":\"Views=20513944057<br>Main Video Category=%{x}<br>count=%{y}<extra></extra>\",\"legendgroup\":\"20513944057\",\"marker\":{\"color\":\"#FECB52\",\"pattern\":{\"shape\":\"\"}},\"name\":\"20513944057\",\"offsetgroup\":\"20513944057\",\"orientation\":\"v\",\"showlegend\":true,\"x\":[\"People & Blogs\",\"People & Blogs\"],\"xaxis\":\"x\",\"yaxis\":\"y\",\"type\":\"histogram\"},{\"alignmentgroup\":\"True\",\"bingroup\":\"x\",\"hovertemplate\":\"Views=6555696786<br>Main Video Category=%{x}<br>count=%{y}<extra></extra>\",\"legendgroup\":\"6555696786\",\"marker\":{\"color\":\"#636efa\",\"pattern\":{\"shape\":\"\"}},\"name\":\"6555696786\",\"offsetgroup\":\"6555696786\",\"orientation\":\"v\",\"showlegend\":true,\"x\":[\"Nonprofits & Activism\",\"Nonprofits & Activism\"],\"xaxis\":\"x\",\"yaxis\":\"y\",\"type\":\"histogram\"},{\"alignmentgroup\":\"True\",\"bingroup\":\"x\",\"hovertemplate\":\"Views=14926283850<br>Main Video Category=%{x}<br>count=%{y}<extra></extra>\",\"legendgroup\":\"14926283850\",\"marker\":{\"color\":\"#EF553B\",\"pattern\":{\"shape\":\"\"}},\"name\":\"14926283850\",\"offsetgroup\":\"14926283850\",\"orientation\":\"v\",\"showlegend\":true,\"x\":[\"Comedy\",\"Comedy\"],\"xaxis\":\"x\",\"yaxis\":\"y\",\"type\":\"histogram\"},{\"alignmentgroup\":\"True\",\"bingroup\":\"x\",\"hovertemplate\":\"Views=20871652286<br>Main Video Category=%{x}<br>count=%{y}<extra></extra>\",\"legendgroup\":\"20871652286\",\"marker\":{\"color\":\"#00cc96\",\"pattern\":{\"shape\":\"\"}},\"name\":\"20871652286\",\"offsetgroup\":\"20871652286\",\"orientation\":\"v\",\"showlegend\":true,\"x\":[\"Music\",\"Music\"],\"xaxis\":\"x\",\"yaxis\":\"y\",\"type\":\"histogram\"},{\"alignmentgroup\":\"True\",\"bingroup\":\"x\",\"hovertemplate\":\"Views=17193624383<br>Main Video Category=%{x}<br>count=%{y}<extra></extra>\",\"legendgroup\":\"17193624383\",\"marker\":{\"color\":\"#ab63fa\",\"pattern\":{\"shape\":\"\"}},\"name\":\"17193624383\",\"offsetgroup\":\"17193624383\",\"orientation\":\"v\",\"showlegend\":true,\"x\":[\"Music\",\"Music\"],\"xaxis\":\"x\",\"yaxis\":\"y\",\"type\":\"histogram\"},{\"alignmentgroup\":\"True\",\"bingroup\":\"x\",\"hovertemplate\":\"Views=36596355848<br>Main Video Category=%{x}<br>count=%{y}<extra></extra>\",\"legendgroup\":\"36596355848\",\"marker\":{\"color\":\"#FFA15A\",\"pattern\":{\"shape\":\"\"}},\"name\":\"36596355848\",\"offsetgroup\":\"36596355848\",\"orientation\":\"v\",\"showlegend\":true,\"x\":[\"Education\",\"Education\"],\"xaxis\":\"x\",\"yaxis\":\"y\",\"type\":\"histogram\"},{\"alignmentgroup\":\"True\",\"bingroup\":\"x\",\"hovertemplate\":\"Views=18886570104<br>Main Video Category=%{x}<br>count=%{y}<extra></extra>\",\"legendgroup\":\"18886570104\",\"marker\":{\"color\":\"#19d3f3\",\"pattern\":{\"shape\":\"\"}},\"name\":\"18886570104\",\"offsetgroup\":\"18886570104\",\"orientation\":\"v\",\"showlegend\":true,\"x\":[\"Entertainment\",\"Entertainment\"],\"xaxis\":\"x\",\"yaxis\":\"y\",\"type\":\"histogram\"},{\"alignmentgroup\":\"True\",\"bingroup\":\"x\",\"hovertemplate\":\"Views=26512197849<br>Main Video Category=%{x}<br>count=%{y}<extra></extra>\",\"legendgroup\":\"26512197849\",\"marker\":{\"color\":\"#FF6692\",\"pattern\":{\"shape\":\"\"}},\"name\":\"26512197849\",\"offsetgroup\":\"26512197849\",\"orientation\":\"v\",\"showlegend\":true,\"x\":[\"Entertainment\",\"Entertainment\"],\"xaxis\":\"x\",\"yaxis\":\"y\",\"type\":\"histogram\"},{\"alignmentgroup\":\"True\",\"bingroup\":\"x\",\"hovertemplate\":\"Views=13932481911<br>Main Video Category=%{x}<br>count=%{y}<extra></extra>\",\"legendgroup\":\"13932481911\",\"marker\":{\"color\":\"#B6E880\",\"pattern\":{\"shape\":\"\"}},\"name\":\"13932481911\",\"offsetgroup\":\"13932481911\",\"orientation\":\"v\",\"showlegend\":true,\"x\":[\"Music\",\"Music\"],\"xaxis\":\"x\",\"yaxis\":\"y\",\"type\":\"histogram\"},{\"alignmentgroup\":\"True\",\"bingroup\":\"x\",\"hovertemplate\":\"Views=21301599345<br>Main Video Category=%{x}<br>count=%{y}<extra></extra>\",\"legendgroup\":\"21301599345\",\"marker\":{\"color\":\"#FF97FF\",\"pattern\":{\"shape\":\"\"}},\"name\":\"21301599345\",\"offsetgroup\":\"21301599345\",\"orientation\":\"v\",\"showlegend\":true,\"x\":[\"Music\",\"Music\"],\"xaxis\":\"x\",\"yaxis\":\"y\",\"type\":\"histogram\"},{\"alignmentgroup\":\"True\",\"bingroup\":\"x\",\"hovertemplate\":\"Views=2696443232<br>Main Video Category=%{x}<br>count=%{y}<extra></extra>\",\"legendgroup\":\"2696443232\",\"marker\":{\"color\":\"#FECB52\",\"pattern\":{\"shape\":\"\"}},\"name\":\"2696443232\",\"offsetgroup\":\"2696443232\",\"orientation\":\"v\",\"showlegend\":true,\"x\":[\"Entertainment\",\"Entertainment\"],\"xaxis\":\"x\",\"yaxis\":\"y\",\"type\":\"histogram\"},{\"alignmentgroup\":\"True\",\"bingroup\":\"x\",\"hovertemplate\":\"Views=15684324409<br>Main Video Category=%{x}<br>count=%{y}<extra></extra>\",\"legendgroup\":\"15684324409\",\"marker\":{\"color\":\"#636efa\",\"pattern\":{\"shape\":\"\"}},\"name\":\"15684324409\",\"offsetgroup\":\"15684324409\",\"orientation\":\"v\",\"showlegend\":true,\"x\":[\"Entertainment\",\"Entertainment\"],\"xaxis\":\"x\",\"yaxis\":\"y\",\"type\":\"histogram\"},{\"alignmentgroup\":\"True\",\"bingroup\":\"x\",\"hovertemplate\":\"Views=14827595754<br>Main Video Category=%{x}<br>count=%{y}<extra></extra>\",\"legendgroup\":\"14827595754\",\"marker\":{\"color\":\"#EF553B\",\"pattern\":{\"shape\":\"\"}},\"name\":\"14827595754\",\"offsetgroup\":\"14827595754\",\"orientation\":\"v\",\"showlegend\":true,\"x\":[\"Gaming\",\"Gaming\"],\"xaxis\":\"x\",\"yaxis\":\"y\",\"type\":\"histogram\"},{\"alignmentgroup\":\"True\",\"bingroup\":\"x\",\"hovertemplate\":\"Views=18502660860<br>Main Video Category=%{x}<br>count=%{y}<extra></extra>\",\"legendgroup\":\"18502660860\",\"marker\":{\"color\":\"#00cc96\",\"pattern\":{\"shape\":\"\"}},\"name\":\"18502660860\",\"offsetgroup\":\"18502660860\",\"orientation\":\"v\",\"showlegend\":true,\"x\":[\"Gaming\",\"Gaming\"],\"xaxis\":\"x\",\"yaxis\":\"y\",\"type\":\"histogram\"},{\"alignmentgroup\":\"True\",\"bingroup\":\"x\",\"hovertemplate\":\"Views=10255466904<br>Main Video Category=%{x}<br>count=%{y}<extra></extra>\",\"legendgroup\":\"10255466904\",\"marker\":{\"color\":\"#ab63fa\",\"pattern\":{\"shape\":\"\"}},\"name\":\"10255466904\",\"offsetgroup\":\"10255466904\",\"orientation\":\"v\",\"showlegend\":true,\"x\":[\"People & Blogs\",\"People & Blogs\"],\"xaxis\":\"x\",\"yaxis\":\"y\",\"type\":\"histogram\"},{\"alignmentgroup\":\"True\",\"bingroup\":\"x\",\"hovertemplate\":\"Views=5868383776<br>Main Video Category=%{x}<br>count=%{y}<extra></extra>\",\"legendgroup\":\"5868383776\",\"marker\":{\"color\":\"#FFA15A\",\"pattern\":{\"shape\":\"\"}},\"name\":\"5868383776\",\"offsetgroup\":\"5868383776\",\"orientation\":\"v\",\"showlegend\":true,\"x\":[\"Gaming\",\"Gaming\"],\"xaxis\":\"x\",\"yaxis\":\"y\",\"type\":\"histogram\"},{\"alignmentgroup\":\"True\",\"bingroup\":\"x\",\"hovertemplate\":\"Views=9383986010<br>Main Video Category=%{x}<br>count=%{y}<extra></extra>\",\"legendgroup\":\"9383986010\",\"marker\":{\"color\":\"#19d3f3\",\"pattern\":{\"shape\":\"\"}},\"name\":\"9383986010\",\"offsetgroup\":\"9383986010\",\"orientation\":\"v\",\"showlegend\":true,\"x\":[\"Music\",\"Music\"],\"xaxis\":\"x\",\"yaxis\":\"y\",\"type\":\"histogram\"},{\"alignmentgroup\":\"True\",\"bingroup\":\"x\",\"hovertemplate\":\"Views=15170479664<br>Main Video Category=%{x}<br>count=%{y}<extra></extra>\",\"legendgroup\":\"15170479664\",\"marker\":{\"color\":\"#FF6692\",\"pattern\":{\"shape\":\"\"}},\"name\":\"15170479664\",\"offsetgroup\":\"15170479664\",\"orientation\":\"v\",\"showlegend\":true,\"x\":[\"Entertainment\",\"Entertainment\"],\"xaxis\":\"x\",\"yaxis\":\"y\",\"type\":\"histogram\"},{\"alignmentgroup\":\"True\",\"bingroup\":\"x\",\"hovertemplate\":\"Views=51413962658<br>Main Video Category=%{x}<br>count=%{y}<extra></extra>\",\"legendgroup\":\"51413962658\",\"marker\":{\"color\":\"#B6E880\",\"pattern\":{\"shape\":\"\"}},\"name\":\"51413962658\",\"offsetgroup\":\"51413962658\",\"orientation\":\"v\",\"showlegend\":true,\"x\":[\"Entertainment\",\"Entertainment\"],\"xaxis\":\"x\",\"yaxis\":\"y\",\"type\":\"histogram\"},{\"alignmentgroup\":\"True\",\"bingroup\":\"x\",\"hovertemplate\":\"Views=19887856663<br>Main Video Category=%{x}<br>count=%{y}<extra></extra>\",\"legendgroup\":\"19887856663\",\"marker\":{\"color\":\"#FF97FF\",\"pattern\":{\"shape\":\"\"}},\"name\":\"19887856663\",\"offsetgroup\":\"19887856663\",\"orientation\":\"v\",\"showlegend\":true,\"x\":[\"People & Blogs\",\"People & Blogs\"],\"xaxis\":\"x\",\"yaxis\":\"y\",\"type\":\"histogram\"},{\"alignmentgroup\":\"True\",\"bingroup\":\"x\",\"hovertemplate\":\"Views=11439441774<br>Main Video Category=%{x}<br>count=%{y}<extra></extra>\",\"legendgroup\":\"11439441774\",\"marker\":{\"color\":\"#FECB52\",\"pattern\":{\"shape\":\"\"}},\"name\":\"11439441774\",\"offsetgroup\":\"11439441774\",\"orientation\":\"v\",\"showlegend\":true,\"x\":[\"Music\",\"Music\"],\"xaxis\":\"x\",\"yaxis\":\"y\",\"type\":\"histogram\"},{\"alignmentgroup\":\"True\",\"bingroup\":\"x\",\"hovertemplate\":\"Views=10341586393<br>Main Video Category=%{x}<br>count=%{y}<extra></extra>\",\"legendgroup\":\"10341586393\",\"marker\":{\"color\":\"#636efa\",\"pattern\":{\"shape\":\"\"}},\"name\":\"10341586393\",\"offsetgroup\":\"10341586393\",\"orientation\":\"v\",\"showlegend\":true,\"x\":[\"Entertainment\",\"Entertainment\"],\"xaxis\":\"x\",\"yaxis\":\"y\",\"type\":\"histogram\"},{\"alignmentgroup\":\"True\",\"bingroup\":\"x\",\"hovertemplate\":\"Views=13382965827<br>Main Video Category=%{x}<br>count=%{y}<extra></extra>\",\"legendgroup\":\"13382965827\",\"marker\":{\"color\":\"#EF553B\",\"pattern\":{\"shape\":\"\"}},\"name\":\"13382965827\",\"offsetgroup\":\"13382965827\",\"orientation\":\"v\",\"showlegend\":true,\"x\":[\"Gaming\",\"Gaming\"],\"xaxis\":\"x\",\"yaxis\":\"y\",\"type\":\"histogram\"},{\"alignmentgroup\":\"True\",\"bingroup\":\"x\",\"hovertemplate\":\"Views=19920579023<br>Main Video Category=%{x}<br>count=%{y}<extra></extra>\",\"legendgroup\":\"19920579023\",\"marker\":{\"color\":\"#00cc96\",\"pattern\":{\"shape\":\"\"}},\"name\":\"19920579023\",\"offsetgroup\":\"19920579023\",\"orientation\":\"v\",\"showlegend\":true,\"x\":[\"Gaming\",\"Gaming\"],\"xaxis\":\"x\",\"yaxis\":\"y\",\"type\":\"histogram\"},{\"alignmentgroup\":\"True\",\"bingroup\":\"x\",\"hovertemplate\":\"Views=18718057901<br>Main Video Category=%{x}<br>count=%{y}<extra></extra>\",\"legendgroup\":\"18718057901\",\"marker\":{\"color\":\"#ab63fa\",\"pattern\":{\"shape\":\"\"}},\"name\":\"18718057901\",\"offsetgroup\":\"18718057901\",\"orientation\":\"v\",\"showlegend\":true,\"x\":[\"Music\",\"Music\"],\"xaxis\":\"x\",\"yaxis\":\"y\",\"type\":\"histogram\"},{\"alignmentgroup\":\"True\",\"bingroup\":\"x\",\"hovertemplate\":\"Views=10567312169<br>Main Video Category=%{x}<br>count=%{y}<extra></extra>\",\"legendgroup\":\"10567312169\",\"marker\":{\"color\":\"#FFA15A\",\"pattern\":{\"shape\":\"\"}},\"name\":\"10567312169\",\"offsetgroup\":\"10567312169\",\"orientation\":\"v\",\"showlegend\":true,\"x\":[\"Comedy\",\"Comedy\"],\"xaxis\":\"x\",\"yaxis\":\"y\",\"type\":\"histogram\"},{\"alignmentgroup\":\"True\",\"bingroup\":\"x\",\"hovertemplate\":\"Views=25156934979<br>Main Video Category=%{x}<br>count=%{y}<extra></extra>\",\"legendgroup\":\"25156934979\",\"marker\":{\"color\":\"#19d3f3\",\"pattern\":{\"shape\":\"\"}},\"name\":\"25156934979\",\"offsetgroup\":\"25156934979\",\"orientation\":\"v\",\"showlegend\":true,\"x\":[\"Music\",\"Music\"],\"xaxis\":\"x\",\"yaxis\":\"y\",\"type\":\"histogram\"},{\"alignmentgroup\":\"True\",\"bingroup\":\"x\",\"hovertemplate\":\"Views=6299463830<br>Main Video Category=%{x}<br>count=%{y}<extra></extra>\",\"legendgroup\":\"6299463830\",\"marker\":{\"color\":\"#FF6692\",\"pattern\":{\"shape\":\"\"}},\"name\":\"6299463830\",\"offsetgroup\":\"6299463830\",\"orientation\":\"v\",\"showlegend\":true,\"x\":[\"Howto & Style\",\"Howto & Style\"],\"xaxis\":\"x\",\"yaxis\":\"y\",\"type\":\"histogram\"},{\"alignmentgroup\":\"True\",\"bingroup\":\"x\",\"hovertemplate\":\"Views=12862571203<br>Main Video Category=%{x}<br>count=%{y}<extra></extra>\",\"legendgroup\":\"12862571203\",\"marker\":{\"color\":\"#B6E880\",\"pattern\":{\"shape\":\"\"}},\"name\":\"12862571203\",\"offsetgroup\":\"12862571203\",\"orientation\":\"v\",\"showlegend\":true,\"x\":[\"News & Politics\",\"News & Politics\"],\"xaxis\":\"x\",\"yaxis\":\"y\",\"type\":\"histogram\"},{\"alignmentgroup\":\"True\",\"bingroup\":\"x\",\"hovertemplate\":\"Views=19837406735<br>Main Video Category=%{x}<br>count=%{y}<extra></extra>\",\"legendgroup\":\"19837406735\",\"marker\":{\"color\":\"#FF97FF\",\"pattern\":{\"shape\":\"\"}},\"name\":\"19837406735\",\"offsetgroup\":\"19837406735\",\"orientation\":\"v\",\"showlegend\":true,\"x\":[\"Entertainment\",\"Entertainment\"],\"xaxis\":\"x\",\"yaxis\":\"y\",\"type\":\"histogram\"},{\"alignmentgroup\":\"True\",\"bingroup\":\"x\",\"hovertemplate\":\"Views=22499719782<br>Main Video Category=%{x}<br>count=%{y}<extra></extra>\",\"legendgroup\":\"22499719782\",\"marker\":{\"color\":\"#FECB52\",\"pattern\":{\"shape\":\"\"}},\"name\":\"22499719782\",\"offsetgroup\":\"22499719782\",\"orientation\":\"v\",\"showlegend\":true,\"x\":[\"Music\",\"Music\"],\"xaxis\":\"x\",\"yaxis\":\"y\",\"type\":\"histogram\"},{\"alignmentgroup\":\"True\",\"bingroup\":\"x\",\"hovertemplate\":\"Views=11507336712<br>Main Video Category=%{x}<br>count=%{y}<extra></extra>\",\"legendgroup\":\"11507336712\",\"marker\":{\"color\":\"#636efa\",\"pattern\":{\"shape\":\"\"}},\"name\":\"11507336712\",\"offsetgroup\":\"11507336712\",\"orientation\":\"v\",\"showlegend\":true,\"x\":[\"Entertainment\",\"Entertainment\"],\"xaxis\":\"x\",\"yaxis\":\"y\",\"type\":\"histogram\"},{\"alignmentgroup\":\"True\",\"bingroup\":\"x\",\"hovertemplate\":\"Views=14382216393<br>Main Video Category=%{x}<br>count=%{y}<extra></extra>\",\"legendgroup\":\"14382216393\",\"marker\":{\"color\":\"#EF553B\",\"pattern\":{\"shape\":\"\"}},\"name\":\"14382216393\",\"offsetgroup\":\"14382216393\",\"orientation\":\"v\",\"showlegend\":true,\"x\":[\"Entertainment\",\"Entertainment\"],\"xaxis\":\"x\",\"yaxis\":\"y\",\"type\":\"histogram\"},{\"alignmentgroup\":\"True\",\"bingroup\":\"x\",\"hovertemplate\":\"Views=16411208086<br>Main Video Category=%{x}<br>count=%{y}<extra></extra>\",\"legendgroup\":\"16411208086\",\"marker\":{\"color\":\"#00cc96\",\"pattern\":{\"shape\":\"\"}},\"name\":\"16411208086\",\"offsetgroup\":\"16411208086\",\"orientation\":\"v\",\"showlegend\":true,\"x\":[\"Entertainment\",\"Entertainment\"],\"xaxis\":\"x\",\"yaxis\":\"y\",\"type\":\"histogram\"},{\"alignmentgroup\":\"True\",\"bingroup\":\"x\",\"hovertemplate\":\"Views=24867458876<br>Main Video Category=%{x}<br>count=%{y}<extra></extra>\",\"legendgroup\":\"24867458876\",\"marker\":{\"color\":\"#ab63fa\",\"pattern\":{\"shape\":\"\"}},\"name\":\"24867458876\",\"offsetgroup\":\"24867458876\",\"orientation\":\"v\",\"showlegend\":true,\"x\":[\"Music\",\"Music\"],\"xaxis\":\"x\",\"yaxis\":\"y\",\"type\":\"histogram\"},{\"alignmentgroup\":\"True\",\"bingroup\":\"x\",\"hovertemplate\":\"Views=9854766293<br>Main Video Category=%{x}<br>count=%{y}<extra></extra>\",\"legendgroup\":\"9854766293\",\"marker\":{\"color\":\"#FFA15A\",\"pattern\":{\"shape\":\"\"}},\"name\":\"9854766293\",\"offsetgroup\":\"9854766293\",\"orientation\":\"v\",\"showlegend\":true,\"x\":[\"Comedy\",\"Comedy\"],\"xaxis\":\"x\",\"yaxis\":\"y\",\"type\":\"histogram\"},{\"alignmentgroup\":\"True\",\"bingroup\":\"x\",\"hovertemplate\":\"Views=22540668765<br>Main Video Category=%{x}<br>count=%{y}<extra></extra>\",\"legendgroup\":\"22540668765\",\"marker\":{\"color\":\"#19d3f3\",\"pattern\":{\"shape\":\"\"}},\"name\":\"22540668765\",\"offsetgroup\":\"22540668765\",\"orientation\":\"v\",\"showlegend\":true,\"x\":[\"Film & Animation\",\"Film & Animation\"],\"xaxis\":\"x\",\"yaxis\":\"y\",\"type\":\"histogram\"},{\"alignmentgroup\":\"True\",\"bingroup\":\"x\",\"hovertemplate\":\"Views=13296705190<br>Main Video Category=%{x}<br>count=%{y}<extra></extra>\",\"legendgroup\":\"13296705190\",\"marker\":{\"color\":\"#FF6692\",\"pattern\":{\"shape\":\"\"}},\"name\":\"13296705190\",\"offsetgroup\":\"13296705190\",\"orientation\":\"v\",\"showlegend\":true,\"x\":[\"Music\",\"Music\"],\"xaxis\":\"x\",\"yaxis\":\"y\",\"type\":\"histogram\"},{\"alignmentgroup\":\"True\",\"bingroup\":\"x\",\"hovertemplate\":\"Views=18480005078<br>Main Video Category=%{x}<br>count=%{y}<extra></extra>\",\"legendgroup\":\"18480005078\",\"marker\":{\"color\":\"#B6E880\",\"pattern\":{\"shape\":\"\"}},\"name\":\"18480005078\",\"offsetgroup\":\"18480005078\",\"orientation\":\"v\",\"showlegend\":true,\"x\":[\"Education\",\"Education\"],\"xaxis\":\"x\",\"yaxis\":\"y\",\"type\":\"histogram\"},{\"alignmentgroup\":\"True\",\"bingroup\":\"x\",\"hovertemplate\":\"Views=5032113188<br>Main Video Category=%{x}<br>count=%{y}<extra></extra>\",\"legendgroup\":\"5032113188\",\"marker\":{\"color\":\"#FF97FF\",\"pattern\":{\"shape\":\"\"}},\"name\":\"5032113188\",\"offsetgroup\":\"5032113188\",\"orientation\":\"v\",\"showlegend\":true,\"x\":[\"People & Blogs\",\"People & Blogs\"],\"xaxis\":\"x\",\"yaxis\":\"y\",\"type\":\"histogram\"},{\"alignmentgroup\":\"True\",\"bingroup\":\"x\",\"hovertemplate\":\"Views=18875735928<br>Main Video Category=%{x}<br>count=%{y}<extra></extra>\",\"legendgroup\":\"18875735928\",\"marker\":{\"color\":\"#FECB52\",\"pattern\":{\"shape\":\"\"}},\"name\":\"18875735928\",\"offsetgroup\":\"18875735928\",\"orientation\":\"v\",\"showlegend\":true,\"x\":[\"Music\",\"Music\"],\"xaxis\":\"x\",\"yaxis\":\"y\",\"type\":\"histogram\"},{\"alignmentgroup\":\"True\",\"bingroup\":\"x\",\"hovertemplate\":\"Views=13085061444<br>Main Video Category=%{x}<br>count=%{y}<extra></extra>\",\"legendgroup\":\"13085061444\",\"marker\":{\"color\":\"#636efa\",\"pattern\":{\"shape\":\"\"}},\"name\":\"13085061444\",\"offsetgroup\":\"13085061444\",\"orientation\":\"v\",\"showlegend\":true,\"x\":[\"Entertainment\",\"Entertainment\"],\"xaxis\":\"x\",\"yaxis\":\"y\",\"type\":\"histogram\"},{\"alignmentgroup\":\"True\",\"bingroup\":\"x\",\"hovertemplate\":\"Views=4012190177<br>Main Video Category=%{x}<br>count=%{y}<extra></extra>\",\"legendgroup\":\"4012190177\",\"marker\":{\"color\":\"#EF553B\",\"pattern\":{\"shape\":\"\"}},\"name\":\"4012190177\",\"offsetgroup\":\"4012190177\",\"orientation\":\"v\",\"showlegend\":true,\"x\":[\"Entertainment\",\"Entertainment\"],\"xaxis\":\"x\",\"yaxis\":\"y\",\"type\":\"histogram\"},{\"alignmentgroup\":\"True\",\"bingroup\":\"x\",\"hovertemplate\":\"Views=24190969252<br>Main Video Category=%{x}<br>count=%{y}<extra></extra>\",\"legendgroup\":\"24190969252\",\"marker\":{\"color\":\"#00cc96\",\"pattern\":{\"shape\":\"\"}},\"name\":\"24190969252\",\"offsetgroup\":\"24190969252\",\"orientation\":\"v\",\"showlegend\":true,\"x\":[\"Music\",\"Music\"],\"xaxis\":\"x\",\"yaxis\":\"y\",\"type\":\"histogram\"},{\"alignmentgroup\":\"True\",\"bingroup\":\"x\",\"hovertemplate\":\"Views=15881598339<br>Main Video Category=%{x}<br>count=%{y}<extra></extra>\",\"legendgroup\":\"15881598339\",\"marker\":{\"color\":\"#ab63fa\",\"pattern\":{\"shape\":\"\"}},\"name\":\"15881598339\",\"offsetgroup\":\"15881598339\",\"orientation\":\"v\",\"showlegend\":true,\"x\":[\"Comedy\",\"Comedy\"],\"xaxis\":\"x\",\"yaxis\":\"y\",\"type\":\"histogram\"},{\"alignmentgroup\":\"True\",\"bingroup\":\"x\",\"hovertemplate\":\"Views=19930956697<br>Main Video Category=%{x}<br>count=%{y}<extra></extra>\",\"legendgroup\":\"19930956697\",\"marker\":{\"color\":\"#FFA15A\",\"pattern\":{\"shape\":\"\"}},\"name\":\"19930956697\",\"offsetgroup\":\"19930956697\",\"orientation\":\"v\",\"showlegend\":true,\"x\":[\"Music\",\"Music\"],\"xaxis\":\"x\",\"yaxis\":\"y\",\"type\":\"histogram\"},{\"alignmentgroup\":\"True\",\"bingroup\":\"x\",\"hovertemplate\":\"Views=12562836296<br>Main Video Category=%{x}<br>count=%{y}<extra></extra>\",\"legendgroup\":\"12562836296\",\"marker\":{\"color\":\"#19d3f3\",\"pattern\":{\"shape\":\"\"}},\"name\":\"12562836296\",\"offsetgroup\":\"12562836296\",\"orientation\":\"v\",\"showlegend\":true,\"x\":[\"Gaming\",\"Gaming\"],\"xaxis\":\"x\",\"yaxis\":\"y\",\"type\":\"histogram\"},{\"alignmentgroup\":\"True\",\"bingroup\":\"x\",\"hovertemplate\":\"Views=2617970693<br>Main Video Category=%{x}<br>count=%{y}<extra></extra>\",\"legendgroup\":\"2617970693\",\"marker\":{\"color\":\"#FF6692\",\"pattern\":{\"shape\":\"\"}},\"name\":\"2617970693\",\"offsetgroup\":\"2617970693\",\"orientation\":\"v\",\"showlegend\":true,\"x\":[\"Action-adventure game\",\"Action-adventure game\"],\"xaxis\":\"x\",\"yaxis\":\"y\",\"type\":\"histogram\"},{\"alignmentgroup\":\"True\",\"bingroup\":\"x\",\"hovertemplate\":\"Views=11620379993<br>Main Video Category=%{x}<br>count=%{y}<extra></extra>\",\"legendgroup\":\"11620379993\",\"marker\":{\"color\":\"#B6E880\",\"pattern\":{\"shape\":\"\"}},\"name\":\"11620379993\",\"offsetgroup\":\"11620379993\",\"orientation\":\"v\",\"showlegend\":true,\"x\":[\"Music\",\"Music\"],\"xaxis\":\"x\",\"yaxis\":\"y\",\"type\":\"histogram\"},{\"alignmentgroup\":\"True\",\"bingroup\":\"x\",\"hovertemplate\":\"Views=11819860122<br>Main Video Category=%{x}<br>count=%{y}<extra></extra>\",\"legendgroup\":\"11819860122\",\"marker\":{\"color\":\"#FF97FF\",\"pattern\":{\"shape\":\"\"}},\"name\":\"11819860122\",\"offsetgroup\":\"11819860122\",\"orientation\":\"v\",\"showlegend\":true,\"x\":[\"Music\",\"Music\"],\"xaxis\":\"x\",\"yaxis\":\"y\",\"type\":\"histogram\"},{\"alignmentgroup\":\"True\",\"bingroup\":\"x\",\"hovertemplate\":\"Views=3911652534<br>Main Video Category=%{x}<br>count=%{y}<extra></extra>\",\"legendgroup\":\"3911652534\",\"marker\":{\"color\":\"#FECB52\",\"pattern\":{\"shape\":\"\"}},\"name\":\"3911652534\",\"offsetgroup\":\"3911652534\",\"orientation\":\"v\",\"showlegend\":true,\"x\":[\"Comedy\",\"Comedy\"],\"xaxis\":\"x\",\"yaxis\":\"y\",\"type\":\"histogram\"},{\"alignmentgroup\":\"True\",\"bingroup\":\"x\",\"hovertemplate\":\"Views=23518466796<br>Main Video Category=%{x}<br>count=%{y}<extra></extra>\",\"legendgroup\":\"23518466796\",\"marker\":{\"color\":\"#636efa\",\"pattern\":{\"shape\":\"\"}},\"name\":\"23518466796\",\"offsetgroup\":\"23518466796\",\"orientation\":\"v\",\"showlegend\":true,\"x\":[\"Education\",\"Education\"],\"xaxis\":\"x\",\"yaxis\":\"y\",\"type\":\"histogram\"},{\"alignmentgroup\":\"True\",\"bingroup\":\"x\",\"hovertemplate\":\"Views=19474056278<br>Main Video Category=%{x}<br>count=%{y}<extra></extra>\",\"legendgroup\":\"19474056278\",\"marker\":{\"color\":\"#EF553B\",\"pattern\":{\"shape\":\"\"}},\"name\":\"19474056278\",\"offsetgroup\":\"19474056278\",\"orientation\":\"v\",\"showlegend\":true,\"x\":[\"Music\",\"Music\"],\"xaxis\":\"x\",\"yaxis\":\"y\",\"type\":\"histogram\"},{\"alignmentgroup\":\"True\",\"bingroup\":\"x\",\"hovertemplate\":\"Views=12498528899<br>Main Video Category=%{x}<br>count=%{y}<extra></extra>\",\"legendgroup\":\"12498528899\",\"marker\":{\"color\":\"#00cc96\",\"pattern\":{\"shape\":\"\"}},\"name\":\"12498528899\",\"offsetgroup\":\"12498528899\",\"orientation\":\"v\",\"showlegend\":true,\"x\":[\"Music\",\"Music\"],\"xaxis\":\"x\",\"yaxis\":\"y\",\"type\":\"histogram\"},{\"alignmentgroup\":\"True\",\"bingroup\":\"x\",\"hovertemplate\":\"Views=18863047171<br>Main Video Category=%{x}<br>count=%{y}<extra></extra>\",\"legendgroup\":\"18863047171\",\"marker\":{\"color\":\"#ab63fa\",\"pattern\":{\"shape\":\"\"}},\"name\":\"18863047171\",\"offsetgroup\":\"18863047171\",\"orientation\":\"v\",\"showlegend\":true,\"x\":[\"Music\",\"Music\"],\"xaxis\":\"x\",\"yaxis\":\"y\",\"type\":\"histogram\"},{\"alignmentgroup\":\"True\",\"bingroup\":\"x\",\"hovertemplate\":\"Views=15393434205<br>Main Video Category=%{x}<br>count=%{y}<extra></extra>\",\"legendgroup\":\"15393434205\",\"marker\":{\"color\":\"#FFA15A\",\"pattern\":{\"shape\":\"\"}},\"name\":\"15393434205\",\"offsetgroup\":\"15393434205\",\"orientation\":\"v\",\"showlegend\":true,\"x\":[\"Gaming\",\"Gaming\"],\"xaxis\":\"x\",\"yaxis\":\"y\",\"type\":\"histogram\"},{\"alignmentgroup\":\"True\",\"bingroup\":\"x\",\"hovertemplate\":\"Views=4009564528<br>Main Video Category=%{x}<br>count=%{y}<extra></extra>\",\"legendgroup\":\"4009564528\",\"marker\":{\"color\":\"#19d3f3\",\"pattern\":{\"shape\":\"\"}},\"name\":\"4009564528\",\"offsetgroup\":\"4009564528\",\"orientation\":\"v\",\"showlegend\":true,\"x\":[\"Comedy\",\"Comedy\"],\"xaxis\":\"x\",\"yaxis\":\"y\",\"type\":\"histogram\"},{\"alignmentgroup\":\"True\",\"bingroup\":\"x\",\"hovertemplate\":\"Views=16099481879<br>Main Video Category=%{x}<br>count=%{y}<extra></extra>\",\"legendgroup\":\"16099481879\",\"marker\":{\"color\":\"#FF6692\",\"pattern\":{\"shape\":\"\"}},\"name\":\"16099481879\",\"offsetgroup\":\"16099481879\",\"orientation\":\"v\",\"showlegend\":true,\"x\":[\"Music\",\"Music\"],\"xaxis\":\"x\",\"yaxis\":\"y\",\"type\":\"histogram\"},{\"alignmentgroup\":\"True\",\"bingroup\":\"x\",\"hovertemplate\":\"Views=14094435442<br>Main Video Category=%{x}<br>count=%{y}<extra></extra>\",\"legendgroup\":\"14094435442\",\"marker\":{\"color\":\"#B6E880\",\"pattern\":{\"shape\":\"\"}},\"name\":\"14094435442\",\"offsetgroup\":\"14094435442\",\"orientation\":\"v\",\"showlegend\":true,\"x\":[\"Music\",\"Music\"],\"xaxis\":\"x\",\"yaxis\":\"y\",\"type\":\"histogram\"},{\"alignmentgroup\":\"True\",\"bingroup\":\"x\",\"hovertemplate\":\"Views=9584699468<br>Main Video Category=%{x}<br>count=%{y}<extra></extra>\",\"legendgroup\":\"9584699468\",\"marker\":{\"color\":\"#FF97FF\",\"pattern\":{\"shape\":\"\"}},\"name\":\"9584699468\",\"offsetgroup\":\"9584699468\",\"orientation\":\"v\",\"showlegend\":true,\"x\":[\"Film & Animation\",\"Film & Animation\"],\"xaxis\":\"x\",\"yaxis\":\"y\",\"type\":\"histogram\"},{\"alignmentgroup\":\"True\",\"bingroup\":\"x\",\"hovertemplate\":\"Views=14212409251<br>Main Video Category=%{x}<br>count=%{y}<extra></extra>\",\"legendgroup\":\"14212409251\",\"marker\":{\"color\":\"#FECB52\",\"pattern\":{\"shape\":\"\"}},\"name\":\"14212409251\",\"offsetgroup\":\"14212409251\",\"orientation\":\"v\",\"showlegend\":true,\"x\":[\"Music\",\"Music\"],\"xaxis\":\"x\",\"yaxis\":\"y\",\"type\":\"histogram\"},{\"alignmentgroup\":\"True\",\"bingroup\":\"x\",\"hovertemplate\":\"Views=25529299065<br>Main Video Category=%{x}<br>count=%{y}<extra></extra>\",\"legendgroup\":\"25529299065\",\"marker\":{\"color\":\"#636efa\",\"pattern\":{\"shape\":\"\"}},\"name\":\"25529299065\",\"offsetgroup\":\"25529299065\",\"orientation\":\"v\",\"showlegend\":true,\"x\":[\"Music\",\"Music\"],\"xaxis\":\"x\",\"yaxis\":\"y\",\"type\":\"histogram\"},{\"alignmentgroup\":\"True\",\"bingroup\":\"x\",\"hovertemplate\":\"Views=4744307587<br>Main Video Category=%{x}<br>count=%{y}<extra></extra>\",\"legendgroup\":\"4744307587\",\"marker\":{\"color\":\"#EF553B\",\"pattern\":{\"shape\":\"\"}},\"name\":\"4744307587\",\"offsetgroup\":\"4744307587\",\"orientation\":\"v\",\"showlegend\":true,\"x\":[\"Strategy video game\",\"Strategy video game\"],\"xaxis\":\"x\",\"yaxis\":\"y\",\"type\":\"histogram\"},{\"alignmentgroup\":\"True\",\"bingroup\":\"x\",\"hovertemplate\":\"Views=20700474741<br>Main Video Category=%{x}<br>count=%{y}<extra></extra>\",\"legendgroup\":\"20700474741\",\"marker\":{\"color\":\"#00cc96\",\"pattern\":{\"shape\":\"\"}},\"name\":\"20700474741\",\"offsetgroup\":\"20700474741\",\"orientation\":\"v\",\"showlegend\":true,\"x\":[\"Film & Animation\",\"Film & Animation\"],\"xaxis\":\"x\",\"yaxis\":\"y\",\"type\":\"histogram\"},{\"alignmentgroup\":\"True\",\"bingroup\":\"x\",\"hovertemplate\":\"Views=13777477487<br>Main Video Category=%{x}<br>count=%{y}<extra></extra>\",\"legendgroup\":\"13777477487\",\"marker\":{\"color\":\"#ab63fa\",\"pattern\":{\"shape\":\"\"}},\"name\":\"13777477487\",\"offsetgroup\":\"13777477487\",\"orientation\":\"v\",\"showlegend\":true,\"x\":[\"Comedy\",\"Comedy\"],\"xaxis\":\"x\",\"yaxis\":\"y\",\"type\":\"histogram\"},{\"alignmentgroup\":\"True\",\"bingroup\":\"x\",\"hovertemplate\":\"Views=9944185112<br>Main Video Category=%{x}<br>count=%{y}<extra></extra>\",\"legendgroup\":\"9944185112\",\"marker\":{\"color\":\"#FFA15A\",\"pattern\":{\"shape\":\"\"}},\"name\":\"9944185112\",\"offsetgroup\":\"9944185112\",\"orientation\":\"v\",\"showlegend\":true,\"x\":[\"Entertainment\",\"Entertainment\"],\"xaxis\":\"x\",\"yaxis\":\"y\",\"type\":\"histogram\"},{\"alignmentgroup\":\"True\",\"bingroup\":\"x\",\"hovertemplate\":\"Views=14736833480<br>Main Video Category=%{x}<br>count=%{y}<extra></extra>\",\"legendgroup\":\"14736833480\",\"marker\":{\"color\":\"#19d3f3\",\"pattern\":{\"shape\":\"\"}},\"name\":\"14736833480\",\"offsetgroup\":\"14736833480\",\"orientation\":\"v\",\"showlegend\":true,\"x\":[\"Film & Animation\",\"Film & Animation\"],\"xaxis\":\"x\",\"yaxis\":\"y\",\"type\":\"histogram\"},{\"alignmentgroup\":\"True\",\"bingroup\":\"x\",\"hovertemplate\":\"Views=18869521551<br>Main Video Category=%{x}<br>count=%{y}<extra></extra>\",\"legendgroup\":\"18869521551\",\"marker\":{\"color\":\"#FF6692\",\"pattern\":{\"shape\":\"\"}},\"name\":\"18869521551\",\"offsetgroup\":\"18869521551\",\"orientation\":\"v\",\"showlegend\":true,\"x\":[\"Shows\",\"Shows\"],\"xaxis\":\"x\",\"yaxis\":\"y\",\"type\":\"histogram\"},{\"alignmentgroup\":\"True\",\"bingroup\":\"x\",\"hovertemplate\":\"Views=21016650850<br>Main Video Category=%{x}<br>count=%{y}<extra></extra>\",\"legendgroup\":\"21016650850\",\"marker\":{\"color\":\"#B6E880\",\"pattern\":{\"shape\":\"\"}},\"name\":\"21016650850\",\"offsetgroup\":\"21016650850\",\"orientation\":\"v\",\"showlegend\":true,\"x\":[\"Entertainment\",\"Entertainment\"],\"xaxis\":\"x\",\"yaxis\":\"y\",\"type\":\"histogram\"},{\"alignmentgroup\":\"True\",\"bingroup\":\"x\",\"hovertemplate\":\"Views=6945063533<br>Main Video Category=%{x}<br>count=%{y}<extra></extra>\",\"legendgroup\":\"6945063533\",\"marker\":{\"color\":\"#FF97FF\",\"pattern\":{\"shape\":\"\"}},\"name\":\"6945063533\",\"offsetgroup\":\"6945063533\",\"orientation\":\"v\",\"showlegend\":true,\"x\":[\"Gaming\",\"Gaming\"],\"xaxis\":\"x\",\"yaxis\":\"y\",\"type\":\"histogram\"},{\"alignmentgroup\":\"True\",\"bingroup\":\"x\",\"hovertemplate\":\"Views=19886812585<br>Main Video Category=%{x}<br>count=%{y}<extra></extra>\",\"legendgroup\":\"19886812585\",\"marker\":{\"color\":\"#FECB52\",\"pattern\":{\"shape\":\"\"}},\"name\":\"19886812585\",\"offsetgroup\":\"19886812585\",\"orientation\":\"v\",\"showlegend\":true,\"x\":[\"Film & Animation\",\"Film & Animation\"],\"xaxis\":\"x\",\"yaxis\":\"y\",\"type\":\"histogram\"},{\"alignmentgroup\":\"True\",\"bingroup\":\"x\",\"hovertemplate\":\"Views=13796737897<br>Main Video Category=%{x}<br>count=%{y}<extra></extra>\",\"legendgroup\":\"13796737897\",\"marker\":{\"color\":\"#636efa\",\"pattern\":{\"shape\":\"\"}},\"name\":\"13796737897\",\"offsetgroup\":\"13796737897\",\"orientation\":\"v\",\"showlegend\":true,\"x\":[\"Film & Animation\",\"Film & Animation\"],\"xaxis\":\"x\",\"yaxis\":\"y\",\"type\":\"histogram\"},{\"alignmentgroup\":\"True\",\"bingroup\":\"x\",\"hovertemplate\":\"Views=13680917903<br>Main Video Category=%{x}<br>count=%{y}<extra></extra>\",\"legendgroup\":\"13680917903\",\"marker\":{\"color\":\"#EF553B\",\"pattern\":{\"shape\":\"\"}},\"name\":\"13680917903\",\"offsetgroup\":\"13680917903\",\"orientation\":\"v\",\"showlegend\":true,\"x\":[\"Music\",\"Music\"],\"xaxis\":\"x\",\"yaxis\":\"y\",\"type\":\"histogram\"},{\"alignmentgroup\":\"True\",\"bingroup\":\"x\",\"hovertemplate\":\"Views=4997475333<br>Main Video Category=%{x}<br>count=%{y}<extra></extra>\",\"legendgroup\":\"4997475333\",\"marker\":{\"color\":\"#00cc96\",\"pattern\":{\"shape\":\"\"}},\"name\":\"4997475333\",\"offsetgroup\":\"4997475333\",\"orientation\":\"v\",\"showlegend\":true,\"x\":[\"Entertainment\",\"Entertainment\"],\"xaxis\":\"x\",\"yaxis\":\"y\",\"type\":\"histogram\"},{\"alignmentgroup\":\"True\",\"bingroup\":\"x\",\"hovertemplate\":\"Views=25604805615<br>Main Video Category=%{x}<br>count=%{y}<extra></extra>\",\"legendgroup\":\"25604805615\",\"marker\":{\"color\":\"#ab63fa\",\"pattern\":{\"shape\":\"\"}},\"name\":\"25604805615\",\"offsetgroup\":\"25604805615\",\"orientation\":\"v\",\"showlegend\":true,\"x\":[\"TV shows\",\"TV shows\"],\"xaxis\":\"x\",\"yaxis\":\"y\",\"type\":\"histogram\"},{\"alignmentgroup\":\"True\",\"bingroup\":\"x\",\"hovertemplate\":\"Views=16380874723<br>Main Video Category=%{x}<br>count=%{y}<extra></extra>\",\"legendgroup\":\"16380874723\",\"marker\":{\"color\":\"#FFA15A\",\"pattern\":{\"shape\":\"\"}},\"name\":\"16380874723\",\"offsetgroup\":\"16380874723\",\"orientation\":\"v\",\"showlegend\":true,\"x\":[\"Education\",\"Education\"],\"xaxis\":\"x\",\"yaxis\":\"y\",\"type\":\"histogram\"},{\"alignmentgroup\":\"True\",\"bingroup\":\"x\",\"hovertemplate\":\"Views=2860744608<br>Main Video Category=%{x}<br>count=%{y}<extra></extra>\",\"legendgroup\":\"2860744608\",\"marker\":{\"color\":\"#19d3f3\",\"pattern\":{\"shape\":\"\"}},\"name\":\"2860744608\",\"offsetgroup\":\"2860744608\",\"orientation\":\"v\",\"showlegend\":true,\"x\":[\"Comedy\",\"Comedy\"],\"xaxis\":\"x\",\"yaxis\":\"y\",\"type\":\"histogram\"},{\"alignmentgroup\":\"True\",\"bingroup\":\"x\",\"hovertemplate\":\"Views=15550107919<br>Main Video Category=%{x}<br>count=%{y}<extra></extra>\",\"legendgroup\":\"15550107919\",\"marker\":{\"color\":\"#FF6692\",\"pattern\":{\"shape\":\"\"}},\"name\":\"15550107919\",\"offsetgroup\":\"15550107919\",\"orientation\":\"v\",\"showlegend\":true,\"x\":[\"Entertainment\",\"Entertainment\"],\"xaxis\":\"x\",\"yaxis\":\"y\",\"type\":\"histogram\"},{\"alignmentgroup\":\"True\",\"bingroup\":\"x\",\"hovertemplate\":\"Views=12642399087<br>Main Video Category=%{x}<br>count=%{y}<extra></extra>\",\"legendgroup\":\"12642399087\",\"marker\":{\"color\":\"#B6E880\",\"pattern\":{\"shape\":\"\"}},\"name\":\"12642399087\",\"offsetgroup\":\"12642399087\",\"orientation\":\"v\",\"showlegend\":true,\"x\":[\"Music\",\"Music\"],\"xaxis\":\"x\",\"yaxis\":\"y\",\"type\":\"histogram\"},{\"alignmentgroup\":\"True\",\"bingroup\":\"x\",\"hovertemplate\":\"Views=12431651158<br>Main Video Category=%{x}<br>count=%{y}<extra></extra>\",\"legendgroup\":\"12431651158\",\"marker\":{\"color\":\"#FF97FF\",\"pattern\":{\"shape\":\"\"}},\"name\":\"12431651158\",\"offsetgroup\":\"12431651158\",\"orientation\":\"v\",\"showlegend\":true,\"x\":[\"Music\",\"Music\"],\"xaxis\":\"x\",\"yaxis\":\"y\",\"type\":\"histogram\"},{\"alignmentgroup\":\"True\",\"bingroup\":\"x\",\"hovertemplate\":\"Views=4480530010<br>Main Video Category=%{x}<br>count=%{y}<extra></extra>\",\"legendgroup\":\"4480530010\",\"marker\":{\"color\":\"#FECB52\",\"pattern\":{\"shape\":\"\"}},\"name\":\"4480530010\",\"offsetgroup\":\"4480530010\",\"orientation\":\"v\",\"showlegend\":true,\"x\":[\"People & Blogs\",\"People & Blogs\"],\"xaxis\":\"x\",\"yaxis\":\"y\",\"type\":\"histogram\"},{\"alignmentgroup\":\"True\",\"bingroup\":\"x\",\"hovertemplate\":\"Views=18680919326<br>Main Video Category=%{x}<br>count=%{y}<extra></extra>\",\"legendgroup\":\"18680919326\",\"marker\":{\"color\":\"#636efa\",\"pattern\":{\"shape\":\"\"}},\"name\":\"18680919326\",\"offsetgroup\":\"18680919326\",\"orientation\":\"v\",\"showlegend\":true,\"x\":[\"Music\",\"Music\"],\"xaxis\":\"x\",\"yaxis\":\"y\",\"type\":\"histogram\"},{\"alignmentgroup\":\"True\",\"bingroup\":\"x\",\"hovertemplate\":\"Views=11593253864<br>Main Video Category=%{x}<br>count=%{y}<extra></extra>\",\"legendgroup\":\"11593253864\",\"marker\":{\"color\":\"#EF553B\",\"pattern\":{\"shape\":\"\"}},\"name\":\"11593253864\",\"offsetgroup\":\"11593253864\",\"orientation\":\"v\",\"showlegend\":true,\"x\":[\"News & Politics\",\"News & Politics\"],\"xaxis\":\"x\",\"yaxis\":\"y\",\"type\":\"histogram\"},{\"alignmentgroup\":\"True\",\"bingroup\":\"x\",\"hovertemplate\":\"Views=9948293859<br>Main Video Category=%{x}<br>count=%{y}<extra></extra>\",\"legendgroup\":\"9948293859\",\"marker\":{\"color\":\"#00cc96\",\"pattern\":{\"shape\":\"\"}},\"name\":\"9948293859\",\"offsetgroup\":\"9948293859\",\"orientation\":\"v\",\"showlegend\":true,\"x\":[\"Comedy\",\"Comedy\"],\"xaxis\":\"x\",\"yaxis\":\"y\",\"type\":\"histogram\"},{\"alignmentgroup\":\"True\",\"bingroup\":\"x\",\"hovertemplate\":\"Views=13297351906<br>Main Video Category=%{x}<br>count=%{y}<extra></extra>\",\"legendgroup\":\"13297351906\",\"marker\":{\"color\":\"#ab63fa\",\"pattern\":{\"shape\":\"\"}},\"name\":\"13297351906\",\"offsetgroup\":\"13297351906\",\"orientation\":\"v\",\"showlegend\":true,\"x\":[\"Education\",\"Education\"],\"xaxis\":\"x\",\"yaxis\":\"y\",\"type\":\"histogram\"},{\"alignmentgroup\":\"True\",\"bingroup\":\"x\",\"hovertemplate\":\"Views=18742286029<br>Main Video Category=%{x}<br>count=%{y}<extra></extra>\",\"legendgroup\":\"18742286029\",\"marker\":{\"color\":\"#FFA15A\",\"pattern\":{\"shape\":\"\"}},\"name\":\"18742286029\",\"offsetgroup\":\"18742286029\",\"orientation\":\"v\",\"showlegend\":true,\"x\":[\"Gaming\",\"Gaming\"],\"xaxis\":\"x\",\"yaxis\":\"y\",\"type\":\"histogram\"},{\"alignmentgroup\":\"True\",\"bingroup\":\"x\",\"hovertemplate\":\"Views=18050272220<br>Main Video Category=%{x}<br>count=%{y}<extra></extra>\",\"legendgroup\":\"18050272220\",\"marker\":{\"color\":\"#19d3f3\",\"pattern\":{\"shape\":\"\"}},\"name\":\"18050272220\",\"offsetgroup\":\"18050272220\",\"orientation\":\"v\",\"showlegend\":true,\"x\":[\"Film & Animation\",\"Film & Animation\"],\"xaxis\":\"x\",\"yaxis\":\"y\",\"type\":\"histogram\"},{\"alignmentgroup\":\"True\",\"bingroup\":\"x\",\"hovertemplate\":\"Views=19330656067<br>Main Video Category=%{x}<br>count=%{y}<extra></extra>\",\"legendgroup\":\"19330656067\",\"marker\":{\"color\":\"#FF6692\",\"pattern\":{\"shape\":\"\"}},\"name\":\"19330656067\",\"offsetgroup\":\"19330656067\",\"orientation\":\"v\",\"showlegend\":true,\"x\":[\"Music\",\"Music\"],\"xaxis\":\"x\",\"yaxis\":\"y\",\"type\":\"histogram\"},{\"alignmentgroup\":\"True\",\"bingroup\":\"x\",\"hovertemplate\":\"Views=3512893392<br>Main Video Category=%{x}<br>count=%{y}<extra></extra>\",\"legendgroup\":\"3512893392\",\"marker\":{\"color\":\"#B6E880\",\"pattern\":{\"shape\":\"\"}},\"name\":\"3512893392\",\"offsetgroup\":\"3512893392\",\"orientation\":\"v\",\"showlegend\":true,\"x\":[\"Gaming\",\"Gaming\"],\"xaxis\":\"x\",\"yaxis\":\"y\",\"type\":\"histogram\"},{\"alignmentgroup\":\"True\",\"bingroup\":\"x\",\"hovertemplate\":\"Views=23100088153<br>Main Video Category=%{x}<br>count=%{y}<extra></extra>\",\"legendgroup\":\"23100088153\",\"marker\":{\"color\":\"#FF97FF\",\"pattern\":{\"shape\":\"\"}},\"name\":\"23100088153\",\"offsetgroup\":\"23100088153\",\"orientation\":\"v\",\"showlegend\":true,\"x\":[\"Music\",\"Music\"],\"xaxis\":\"x\",\"yaxis\":\"y\",\"type\":\"histogram\"},{\"alignmentgroup\":\"True\",\"bingroup\":\"x\",\"hovertemplate\":\"Views=14814514676<br>Main Video Category=%{x}<br>count=%{y}<extra></extra>\",\"legendgroup\":\"14814514676\",\"marker\":{\"color\":\"#FECB52\",\"pattern\":{\"shape\":\"\"}},\"name\":\"14814514676\",\"offsetgroup\":\"14814514676\",\"orientation\":\"v\",\"showlegend\":true,\"x\":[\"Gaming\",\"Gaming\"],\"xaxis\":\"x\",\"yaxis\":\"y\",\"type\":\"histogram\"},{\"alignmentgroup\":\"True\",\"bingroup\":\"x\",\"hovertemplate\":\"Views=9951799519<br>Main Video Category=%{x}<br>count=%{y}<extra></extra>\",\"legendgroup\":\"9951799519\",\"marker\":{\"color\":\"#636efa\",\"pattern\":{\"shape\":\"\"}},\"name\":\"9951799519\",\"offsetgroup\":\"9951799519\",\"orientation\":\"v\",\"showlegend\":true,\"x\":[\"Entertainment\",\"Entertainment\"],\"xaxis\":\"x\",\"yaxis\":\"y\",\"type\":\"histogram\"},{\"alignmentgroup\":\"True\",\"bingroup\":\"x\",\"hovertemplate\":\"Views=13782126464<br>Main Video Category=%{x}<br>count=%{y}<extra></extra>\",\"legendgroup\":\"13782126464\",\"marker\":{\"color\":\"#EF553B\",\"pattern\":{\"shape\":\"\"}},\"name\":\"13782126464\",\"offsetgroup\":\"13782126464\",\"orientation\":\"v\",\"showlegend\":true,\"x\":[\"Music\",\"Music\"],\"xaxis\":\"x\",\"yaxis\":\"y\",\"type\":\"histogram\"},{\"alignmentgroup\":\"True\",\"bingroup\":\"x\",\"hovertemplate\":\"Views=12397130801<br>Main Video Category=%{x}<br>count=%{y}<extra></extra>\",\"legendgroup\":\"12397130801\",\"marker\":{\"color\":\"#00cc96\",\"pattern\":{\"shape\":\"\"}},\"name\":\"12397130801\",\"offsetgroup\":\"12397130801\",\"orientation\":\"v\",\"showlegend\":true,\"x\":[\"Pop music\",\"Pop music\"],\"xaxis\":\"x\",\"yaxis\":\"y\",\"type\":\"histogram\"},{\"alignmentgroup\":\"True\",\"bingroup\":\"x\",\"hovertemplate\":\"Views=15541923143<br>Main Video Category=%{x}<br>count=%{y}<extra></extra>\",\"legendgroup\":\"15541923143\",\"marker\":{\"color\":\"#ab63fa\",\"pattern\":{\"shape\":\"\"}},\"name\":\"15541923143\",\"offsetgroup\":\"15541923143\",\"orientation\":\"v\",\"showlegend\":true,\"x\":[\"Entertainment\",\"Entertainment\"],\"xaxis\":\"x\",\"yaxis\":\"y\",\"type\":\"histogram\"},{\"alignmentgroup\":\"True\",\"bingroup\":\"x\",\"hovertemplate\":\"Views=7349396106<br>Main Video Category=%{x}<br>count=%{y}<extra></extra>\",\"legendgroup\":\"7349396106\",\"marker\":{\"color\":\"#FFA15A\",\"pattern\":{\"shape\":\"\"}},\"name\":\"7349396106\",\"offsetgroup\":\"7349396106\",\"orientation\":\"v\",\"showlegend\":true,\"x\":[\"Entertainment\",\"Entertainment\"],\"xaxis\":\"x\",\"yaxis\":\"y\",\"type\":\"histogram\"},{\"alignmentgroup\":\"True\",\"bingroup\":\"x\",\"hovertemplate\":\"Views=6991512884<br>Main Video Category=%{x}<br>count=%{y}<extra></extra>\",\"legendgroup\":\"6991512884\",\"marker\":{\"color\":\"#19d3f3\",\"pattern\":{\"shape\":\"\"}},\"name\":\"6991512884\",\"offsetgroup\":\"6991512884\",\"orientation\":\"v\",\"showlegend\":true,\"x\":[\"People & Blogs\",\"People & Blogs\"],\"xaxis\":\"x\",\"yaxis\":\"y\",\"type\":\"histogram\"},{\"alignmentgroup\":\"True\",\"bingroup\":\"x\",\"hovertemplate\":\"Views=6792113850<br>Main Video Category=%{x}<br>count=%{y}<extra></extra>\",\"legendgroup\":\"6792113850\",\"marker\":{\"color\":\"#FF6692\",\"pattern\":{\"shape\":\"\"}},\"name\":\"6792113850\",\"offsetgroup\":\"6792113850\",\"orientation\":\"v\",\"showlegend\":true,\"x\":[\"Entertainment\",\"Entertainment\"],\"xaxis\":\"x\",\"yaxis\":\"y\",\"type\":\"histogram\"},{\"alignmentgroup\":\"True\",\"bingroup\":\"x\",\"hovertemplate\":\"Views=16055918867<br>Main Video Category=%{x}<br>count=%{y}<extra></extra>\",\"legendgroup\":\"16055918867\",\"marker\":{\"color\":\"#B6E880\",\"pattern\":{\"shape\":\"\"}},\"name\":\"16055918867\",\"offsetgroup\":\"16055918867\",\"orientation\":\"v\",\"showlegend\":true,\"x\":[\"Entertainment\",\"Entertainment\"],\"xaxis\":\"x\",\"yaxis\":\"y\",\"type\":\"histogram\"},{\"alignmentgroup\":\"True\",\"bingroup\":\"x\",\"hovertemplate\":\"Views=17967902245<br>Main Video Category=%{x}<br>count=%{y}<extra></extra>\",\"legendgroup\":\"17967902245\",\"marker\":{\"color\":\"#FF97FF\",\"pattern\":{\"shape\":\"\"}},\"name\":\"17967902245\",\"offsetgroup\":\"17967902245\",\"orientation\":\"v\",\"showlegend\":true,\"x\":[\"Music\",\"Music\"],\"xaxis\":\"x\",\"yaxis\":\"y\",\"type\":\"histogram\"},{\"alignmentgroup\":\"True\",\"bingroup\":\"x\",\"hovertemplate\":\"Views=10167665364<br>Main Video Category=%{x}<br>count=%{y}<extra></extra>\",\"legendgroup\":\"10167665364\",\"marker\":{\"color\":\"#FECB52\",\"pattern\":{\"shape\":\"\"}},\"name\":\"10167665364\",\"offsetgroup\":\"10167665364\",\"orientation\":\"v\",\"showlegend\":true,\"x\":[\"Comedy\",\"Comedy\"],\"xaxis\":\"x\",\"yaxis\":\"y\",\"type\":\"histogram\"},{\"alignmentgroup\":\"True\",\"bingroup\":\"x\",\"hovertemplate\":\"Views=18613137086<br>Main Video Category=%{x}<br>count=%{y}<extra></extra>\",\"legendgroup\":\"18613137086\",\"marker\":{\"color\":\"#636efa\",\"pattern\":{\"shape\":\"\"}},\"name\":\"18613137086\",\"offsetgroup\":\"18613137086\",\"orientation\":\"v\",\"showlegend\":true,\"x\":[\"Music\",\"Music\"],\"xaxis\":\"x\",\"yaxis\":\"y\",\"type\":\"histogram\"},{\"alignmentgroup\":\"True\",\"bingroup\":\"x\",\"hovertemplate\":\"Views=2582756055<br>Main Video Category=%{x}<br>count=%{y}<extra></extra>\",\"legendgroup\":\"2582756055\",\"marker\":{\"color\":\"#EF553B\",\"pattern\":{\"shape\":\"\"}},\"name\":\"2582756055\",\"offsetgroup\":\"2582756055\",\"orientation\":\"v\",\"showlegend\":true,\"x\":[\"Howto & Style\",\"Howto & Style\"],\"xaxis\":\"x\",\"yaxis\":\"y\",\"type\":\"histogram\"},{\"alignmentgroup\":\"True\",\"bingroup\":\"x\",\"hovertemplate\":\"Views=7246179800<br>Main Video Category=%{x}<br>count=%{y}<extra></extra>\",\"legendgroup\":\"7246179800\",\"marker\":{\"color\":\"#00cc96\",\"pattern\":{\"shape\":\"\"}},\"name\":\"7246179800\",\"offsetgroup\":\"7246179800\",\"orientation\":\"v\",\"showlegend\":true,\"x\":[\"Entertainment\",\"Entertainment\"],\"xaxis\":\"x\",\"yaxis\":\"y\",\"type\":\"histogram\"},{\"alignmentgroup\":\"True\",\"bingroup\":\"x\",\"hovertemplate\":\"Views=20429943688<br>Main Video Category=%{x}<br>count=%{y}<extra></extra>\",\"legendgroup\":\"20429943688\",\"marker\":{\"color\":\"#ab63fa\",\"pattern\":{\"shape\":\"\"}},\"name\":\"20429943688\",\"offsetgroup\":\"20429943688\",\"orientation\":\"v\",\"showlegend\":true,\"x\":[\"Film & Animation\",\"Film & Animation\"],\"xaxis\":\"x\",\"yaxis\":\"y\",\"type\":\"histogram\"},{\"alignmentgroup\":\"True\",\"bingroup\":\"x\",\"hovertemplate\":\"Views=16778291814<br>Main Video Category=%{x}<br>count=%{y}<extra></extra>\",\"legendgroup\":\"16778291814\",\"marker\":{\"color\":\"#FFA15A\",\"pattern\":{\"shape\":\"\"}},\"name\":\"16778291814\",\"offsetgroup\":\"16778291814\",\"orientation\":\"v\",\"showlegend\":true,\"x\":[\"Music\",\"Music\"],\"xaxis\":\"x\",\"yaxis\":\"y\",\"type\":\"histogram\"},{\"alignmentgroup\":\"True\",\"bingroup\":\"x\",\"hovertemplate\":\"Views=22561778561<br>Main Video Category=%{x}<br>count=%{y}<extra></extra>\",\"legendgroup\":\"22561778561\",\"marker\":{\"color\":\"#19d3f3\",\"pattern\":{\"shape\":\"\"}},\"name\":\"22561778561\",\"offsetgroup\":\"22561778561\",\"orientation\":\"v\",\"showlegend\":true,\"x\":[\"Music\",\"Music\"],\"xaxis\":\"x\",\"yaxis\":\"y\",\"type\":\"histogram\"},{\"alignmentgroup\":\"True\",\"bingroup\":\"x\",\"hovertemplate\":\"Views=3046560972<br>Main Video Category=%{x}<br>count=%{y}<extra></extra>\",\"legendgroup\":\"3046560972\",\"marker\":{\"color\":\"#FF6692\",\"pattern\":{\"shape\":\"\"}},\"name\":\"3046560972\",\"offsetgroup\":\"3046560972\",\"orientation\":\"v\",\"showlegend\":true,\"x\":[\"Gaming\",\"Gaming\"],\"xaxis\":\"x\",\"yaxis\":\"y\",\"type\":\"histogram\"},{\"alignmentgroup\":\"True\",\"bingroup\":\"x\",\"hovertemplate\":\"Views=15529923941<br>Main Video Category=%{x}<br>count=%{y}<extra></extra>\",\"legendgroup\":\"15529923941\",\"marker\":{\"color\":\"#B6E880\",\"pattern\":{\"shape\":\"\"}},\"name\":\"15529923941\",\"offsetgroup\":\"15529923941\",\"orientation\":\"v\",\"showlegend\":true,\"x\":[\"Music\",\"Music\"],\"xaxis\":\"x\",\"yaxis\":\"y\",\"type\":\"histogram\"},{\"alignmentgroup\":\"True\",\"bingroup\":\"x\",\"hovertemplate\":\"Views=16185158471<br>Main Video Category=%{x}<br>count=%{y}<extra></extra>\",\"legendgroup\":\"16185158471\",\"marker\":{\"color\":\"#FF97FF\",\"pattern\":{\"shape\":\"\"}},\"name\":\"16185158471\",\"offsetgroup\":\"16185158471\",\"orientation\":\"v\",\"showlegend\":true,\"x\":[\"Music\",\"Music\"],\"xaxis\":\"x\",\"yaxis\":\"y\",\"type\":\"histogram\"},{\"alignmentgroup\":\"True\",\"bingroup\":\"x\",\"hovertemplate\":\"Views=9186925718<br>Main Video Category=%{x}<br>count=%{y}<extra></extra>\",\"legendgroup\":\"9186925718\",\"marker\":{\"color\":\"#FECB52\",\"pattern\":{\"shape\":\"\"}},\"name\":\"9186925718\",\"offsetgroup\":\"9186925718\",\"orientation\":\"v\",\"showlegend\":true,\"x\":[\"Entertainment\",\"Entertainment\"],\"xaxis\":\"x\",\"yaxis\":\"y\",\"type\":\"histogram\"},{\"alignmentgroup\":\"True\",\"bingroup\":\"x\",\"hovertemplate\":\"Views=15567059078<br>Main Video Category=%{x}<br>count=%{y}<extra></extra>\",\"legendgroup\":\"15567059078\",\"marker\":{\"color\":\"#636efa\",\"pattern\":{\"shape\":\"\"}},\"name\":\"15567059078\",\"offsetgroup\":\"15567059078\",\"orientation\":\"v\",\"showlegend\":true,\"x\":[\"Entertainment\",\"Entertainment\"],\"xaxis\":\"x\",\"yaxis\":\"y\",\"type\":\"histogram\"},{\"alignmentgroup\":\"True\",\"bingroup\":\"x\",\"hovertemplate\":\"Views=994418044<br>Main Video Category=%{x}<br>count=%{y}<extra></extra>\",\"legendgroup\":\"994418044\",\"marker\":{\"color\":\"#EF553B\",\"pattern\":{\"shape\":\"\"}},\"name\":\"994418044\",\"offsetgroup\":\"994418044\",\"orientation\":\"v\",\"showlegend\":true,\"x\":[\"Education\",\"Education\"],\"xaxis\":\"x\",\"yaxis\":\"y\",\"type\":\"histogram\"},{\"alignmentgroup\":\"True\",\"bingroup\":\"x\",\"hovertemplate\":\"Views=9310281416<br>Main Video Category=%{x}<br>count=%{y}<extra></extra>\",\"legendgroup\":\"9310281416\",\"marker\":{\"color\":\"#00cc96\",\"pattern\":{\"shape\":\"\"}},\"name\":\"9310281416\",\"offsetgroup\":\"9310281416\",\"orientation\":\"v\",\"showlegend\":true,\"x\":[\"Music\",\"Music\"],\"xaxis\":\"x\",\"yaxis\":\"y\",\"type\":\"histogram\"},{\"alignmentgroup\":\"True\",\"bingroup\":\"x\",\"hovertemplate\":\"Views=2186015533<br>Main Video Category=%{x}<br>count=%{y}<extra></extra>\",\"legendgroup\":\"2186015533\",\"marker\":{\"color\":\"#ab63fa\",\"pattern\":{\"shape\":\"\"}},\"name\":\"2186015533\",\"offsetgroup\":\"2186015533\",\"orientation\":\"v\",\"showlegend\":true,\"x\":[\"Howto & Style\",\"Howto & Style\"],\"xaxis\":\"x\",\"yaxis\":\"y\",\"type\":\"histogram\"},{\"alignmentgroup\":\"True\",\"bingroup\":\"x\",\"hovertemplate\":\"Views=15826729467<br>Main Video Category=%{x}<br>count=%{y}<extra></extra>\",\"legendgroup\":\"15826729467\",\"marker\":{\"color\":\"#FFA15A\",\"pattern\":{\"shape\":\"\"}},\"name\":\"15826729467\",\"offsetgroup\":\"15826729467\",\"orientation\":\"v\",\"showlegend\":true,\"x\":[\"Music\",\"Music\"],\"xaxis\":\"x\",\"yaxis\":\"y\",\"type\":\"histogram\"},{\"alignmentgroup\":\"True\",\"bingroup\":\"x\",\"hovertemplate\":\"Views=22431615067<br>Main Video Category=%{x}<br>count=%{y}<extra></extra>\",\"legendgroup\":\"22431615067\",\"marker\":{\"color\":\"#19d3f3\",\"pattern\":{\"shape\":\"\"}},\"name\":\"22431615067\",\"offsetgroup\":\"22431615067\",\"orientation\":\"v\",\"showlegend\":true,\"x\":[\"Music\",\"Music\"],\"xaxis\":\"x\",\"yaxis\":\"y\",\"type\":\"histogram\"},{\"alignmentgroup\":\"True\",\"bingroup\":\"x\",\"hovertemplate\":\"Views=12252459767<br>Main Video Category=%{x}<br>count=%{y}<extra></extra>\",\"legendgroup\":\"12252459767\",\"marker\":{\"color\":\"#FF6692\",\"pattern\":{\"shape\":\"\"}},\"name\":\"12252459767\",\"offsetgroup\":\"12252459767\",\"orientation\":\"v\",\"showlegend\":true,\"x\":[\"Music\",\"Music\"],\"xaxis\":\"x\",\"yaxis\":\"y\",\"type\":\"histogram\"},{\"alignmentgroup\":\"True\",\"bingroup\":\"x\",\"hovertemplate\":\"Views=2227021034<br>Main Video Category=%{x}<br>count=%{y}<extra></extra>\",\"legendgroup\":\"2227021034\",\"marker\":{\"color\":\"#B6E880\",\"pattern\":{\"shape\":\"\"}},\"name\":\"2227021034\",\"offsetgroup\":\"2227021034\",\"orientation\":\"v\",\"showlegend\":true,\"x\":[\"Entertainment\",\"Entertainment\"],\"xaxis\":\"x\",\"yaxis\":\"y\",\"type\":\"histogram\"},{\"alignmentgroup\":\"True\",\"bingroup\":\"x\",\"hovertemplate\":\"Views=3664440993<br>Main Video Category=%{x}<br>count=%{y}<extra></extra>\",\"legendgroup\":\"3664440993\",\"marker\":{\"color\":\"#FF97FF\",\"pattern\":{\"shape\":\"\"}},\"name\":\"3664440993\",\"offsetgroup\":\"3664440993\",\"orientation\":\"v\",\"showlegend\":true,\"x\":[\"Entertainment\",\"Entertainment\"],\"xaxis\":\"x\",\"yaxis\":\"y\",\"type\":\"histogram\"},{\"alignmentgroup\":\"True\",\"bingroup\":\"x\",\"hovertemplate\":\"Views=5551273418<br>Main Video Category=%{x}<br>count=%{y}<extra></extra>\",\"legendgroup\":\"5551273418\",\"marker\":{\"color\":\"#FECB52\",\"pattern\":{\"shape\":\"\"}},\"name\":\"5551273418\",\"offsetgroup\":\"5551273418\",\"orientation\":\"v\",\"showlegend\":true,\"x\":[\"Entertainment\",\"Entertainment\"],\"xaxis\":\"x\",\"yaxis\":\"y\",\"type\":\"histogram\"}],                        {\"template\":{\"data\":{\"histogram2dcontour\":[{\"type\":\"histogram2dcontour\",\"colorbar\":{\"outlinewidth\":0,\"ticks\":\"\"},\"colorscale\":[[0.0,\"#0d0887\"],[0.1111111111111111,\"#46039f\"],[0.2222222222222222,\"#7201a8\"],[0.3333333333333333,\"#9c179e\"],[0.4444444444444444,\"#bd3786\"],[0.5555555555555556,\"#d8576b\"],[0.6666666666666666,\"#ed7953\"],[0.7777777777777778,\"#fb9f3a\"],[0.8888888888888888,\"#fdca26\"],[1.0,\"#f0f921\"]]}],\"choropleth\":[{\"type\":\"choropleth\",\"colorbar\":{\"outlinewidth\":0,\"ticks\":\"\"}}],\"histogram2d\":[{\"type\":\"histogram2d\",\"colorbar\":{\"outlinewidth\":0,\"ticks\":\"\"},\"colorscale\":[[0.0,\"#0d0887\"],[0.1111111111111111,\"#46039f\"],[0.2222222222222222,\"#7201a8\"],[0.3333333333333333,\"#9c179e\"],[0.4444444444444444,\"#bd3786\"],[0.5555555555555556,\"#d8576b\"],[0.6666666666666666,\"#ed7953\"],[0.7777777777777778,\"#fb9f3a\"],[0.8888888888888888,\"#fdca26\"],[1.0,\"#f0f921\"]]}],\"heatmap\":[{\"type\":\"heatmap\",\"colorbar\":{\"outlinewidth\":0,\"ticks\":\"\"},\"colorscale\":[[0.0,\"#0d0887\"],[0.1111111111111111,\"#46039f\"],[0.2222222222222222,\"#7201a8\"],[0.3333333333333333,\"#9c179e\"],[0.4444444444444444,\"#bd3786\"],[0.5555555555555556,\"#d8576b\"],[0.6666666666666666,\"#ed7953\"],[0.7777777777777778,\"#fb9f3a\"],[0.8888888888888888,\"#fdca26\"],[1.0,\"#f0f921\"]]}],\"heatmapgl\":[{\"type\":\"heatmapgl\",\"colorbar\":{\"outlinewidth\":0,\"ticks\":\"\"},\"colorscale\":[[0.0,\"#0d0887\"],[0.1111111111111111,\"#46039f\"],[0.2222222222222222,\"#7201a8\"],[0.3333333333333333,\"#9c179e\"],[0.4444444444444444,\"#bd3786\"],[0.5555555555555556,\"#d8576b\"],[0.6666666666666666,\"#ed7953\"],[0.7777777777777778,\"#fb9f3a\"],[0.8888888888888888,\"#fdca26\"],[1.0,\"#f0f921\"]]}],\"contourcarpet\":[{\"type\":\"contourcarpet\",\"colorbar\":{\"outlinewidth\":0,\"ticks\":\"\"}}],\"contour\":[{\"type\":\"contour\",\"colorbar\":{\"outlinewidth\":0,\"ticks\":\"\"},\"colorscale\":[[0.0,\"#0d0887\"],[0.1111111111111111,\"#46039f\"],[0.2222222222222222,\"#7201a8\"],[0.3333333333333333,\"#9c179e\"],[0.4444444444444444,\"#bd3786\"],[0.5555555555555556,\"#d8576b\"],[0.6666666666666666,\"#ed7953\"],[0.7777777777777778,\"#fb9f3a\"],[0.8888888888888888,\"#fdca26\"],[1.0,\"#f0f921\"]]}],\"surface\":[{\"type\":\"surface\",\"colorbar\":{\"outlinewidth\":0,\"ticks\":\"\"},\"colorscale\":[[0.0,\"#0d0887\"],[0.1111111111111111,\"#46039f\"],[0.2222222222222222,\"#7201a8\"],[0.3333333333333333,\"#9c179e\"],[0.4444444444444444,\"#bd3786\"],[0.5555555555555556,\"#d8576b\"],[0.6666666666666666,\"#ed7953\"],[0.7777777777777778,\"#fb9f3a\"],[0.8888888888888888,\"#fdca26\"],[1.0,\"#f0f921\"]]}],\"mesh3d\":[{\"type\":\"mesh3d\",\"colorbar\":{\"outlinewidth\":0,\"ticks\":\"\"}}],\"scatter\":[{\"fillpattern\":{\"fillmode\":\"overlay\",\"size\":10,\"solidity\":0.2},\"type\":\"scatter\"}],\"parcoords\":[{\"type\":\"parcoords\",\"line\":{\"colorbar\":{\"outlinewidth\":0,\"ticks\":\"\"}}}],\"scatterpolargl\":[{\"type\":\"scatterpolargl\",\"marker\":{\"colorbar\":{\"outlinewidth\":0,\"ticks\":\"\"}}}],\"bar\":[{\"error_x\":{\"color\":\"#2a3f5f\"},\"error_y\":{\"color\":\"#2a3f5f\"},\"marker\":{\"line\":{\"color\":\"#E5ECF6\",\"width\":0.5},\"pattern\":{\"fillmode\":\"overlay\",\"size\":10,\"solidity\":0.2}},\"type\":\"bar\"}],\"scattergeo\":[{\"type\":\"scattergeo\",\"marker\":{\"colorbar\":{\"outlinewidth\":0,\"ticks\":\"\"}}}],\"scatterpolar\":[{\"type\":\"scatterpolar\",\"marker\":{\"colorbar\":{\"outlinewidth\":0,\"ticks\":\"\"}}}],\"histogram\":[{\"marker\":{\"pattern\":{\"fillmode\":\"overlay\",\"size\":10,\"solidity\":0.2}},\"type\":\"histogram\"}],\"scattergl\":[{\"type\":\"scattergl\",\"marker\":{\"colorbar\":{\"outlinewidth\":0,\"ticks\":\"\"}}}],\"scatter3d\":[{\"type\":\"scatter3d\",\"line\":{\"colorbar\":{\"outlinewidth\":0,\"ticks\":\"\"}},\"marker\":{\"colorbar\":{\"outlinewidth\":0,\"ticks\":\"\"}}}],\"scattermapbox\":[{\"type\":\"scattermapbox\",\"marker\":{\"colorbar\":{\"outlinewidth\":0,\"ticks\":\"\"}}}],\"scatterternary\":[{\"type\":\"scatterternary\",\"marker\":{\"colorbar\":{\"outlinewidth\":0,\"ticks\":\"\"}}}],\"scattercarpet\":[{\"type\":\"scattercarpet\",\"marker\":{\"colorbar\":{\"outlinewidth\":0,\"ticks\":\"\"}}}],\"carpet\":[{\"aaxis\":{\"endlinecolor\":\"#2a3f5f\",\"gridcolor\":\"white\",\"linecolor\":\"white\",\"minorgridcolor\":\"white\",\"startlinecolor\":\"#2a3f5f\"},\"baxis\":{\"endlinecolor\":\"#2a3f5f\",\"gridcolor\":\"white\",\"linecolor\":\"white\",\"minorgridcolor\":\"white\",\"startlinecolor\":\"#2a3f5f\"},\"type\":\"carpet\"}],\"table\":[{\"cells\":{\"fill\":{\"color\":\"#EBF0F8\"},\"line\":{\"color\":\"white\"}},\"header\":{\"fill\":{\"color\":\"#C8D4E3\"},\"line\":{\"color\":\"white\"}},\"type\":\"table\"}],\"barpolar\":[{\"marker\":{\"line\":{\"color\":\"#E5ECF6\",\"width\":0.5},\"pattern\":{\"fillmode\":\"overlay\",\"size\":10,\"solidity\":0.2}},\"type\":\"barpolar\"}],\"pie\":[{\"automargin\":true,\"type\":\"pie\"}]},\"layout\":{\"autotypenumbers\":\"strict\",\"colorway\":[\"#636efa\",\"#EF553B\",\"#00cc96\",\"#ab63fa\",\"#FFA15A\",\"#19d3f3\",\"#FF6692\",\"#B6E880\",\"#FF97FF\",\"#FECB52\"],\"font\":{\"color\":\"#2a3f5f\"},\"hovermode\":\"closest\",\"hoverlabel\":{\"align\":\"left\"},\"paper_bgcolor\":\"white\",\"plot_bgcolor\":\"#E5ECF6\",\"polar\":{\"bgcolor\":\"#E5ECF6\",\"angularaxis\":{\"gridcolor\":\"white\",\"linecolor\":\"white\",\"ticks\":\"\"},\"radialaxis\":{\"gridcolor\":\"white\",\"linecolor\":\"white\",\"ticks\":\"\"}},\"ternary\":{\"bgcolor\":\"#E5ECF6\",\"aaxis\":{\"gridcolor\":\"white\",\"linecolor\":\"white\",\"ticks\":\"\"},\"baxis\":{\"gridcolor\":\"white\",\"linecolor\":\"white\",\"ticks\":\"\"},\"caxis\":{\"gridcolor\":\"white\",\"linecolor\":\"white\",\"ticks\":\"\"}},\"coloraxis\":{\"colorbar\":{\"outlinewidth\":0,\"ticks\":\"\"}},\"colorscale\":{\"sequential\":[[0.0,\"#0d0887\"],[0.1111111111111111,\"#46039f\"],[0.2222222222222222,\"#7201a8\"],[0.3333333333333333,\"#9c179e\"],[0.4444444444444444,\"#bd3786\"],[0.5555555555555556,\"#d8576b\"],[0.6666666666666666,\"#ed7953\"],[0.7777777777777778,\"#fb9f3a\"],[0.8888888888888888,\"#fdca26\"],[1.0,\"#f0f921\"]],\"sequentialminus\":[[0.0,\"#0d0887\"],[0.1111111111111111,\"#46039f\"],[0.2222222222222222,\"#7201a8\"],[0.3333333333333333,\"#9c179e\"],[0.4444444444444444,\"#bd3786\"],[0.5555555555555556,\"#d8576b\"],[0.6666666666666666,\"#ed7953\"],[0.7777777777777778,\"#fb9f3a\"],[0.8888888888888888,\"#fdca26\"],[1.0,\"#f0f921\"]],\"diverging\":[[0,\"#8e0152\"],[0.1,\"#c51b7d\"],[0.2,\"#de77ae\"],[0.3,\"#f1b6da\"],[0.4,\"#fde0ef\"],[0.5,\"#f7f7f7\"],[0.6,\"#e6f5d0\"],[0.7,\"#b8e186\"],[0.8,\"#7fbc41\"],[0.9,\"#4d9221\"],[1,\"#276419\"]]},\"xaxis\":{\"gridcolor\":\"white\",\"linecolor\":\"white\",\"ticks\":\"\",\"title\":{\"standoff\":15},\"zerolinecolor\":\"white\",\"automargin\":true,\"zerolinewidth\":2},\"yaxis\":{\"gridcolor\":\"white\",\"linecolor\":\"white\",\"ticks\":\"\",\"title\":{\"standoff\":15},\"zerolinecolor\":\"white\",\"automargin\":true,\"zerolinewidth\":2},\"scene\":{\"xaxis\":{\"backgroundcolor\":\"#E5ECF6\",\"gridcolor\":\"white\",\"linecolor\":\"white\",\"showbackground\":true,\"ticks\":\"\",\"zerolinecolor\":\"white\",\"gridwidth\":2},\"yaxis\":{\"backgroundcolor\":\"#E5ECF6\",\"gridcolor\":\"white\",\"linecolor\":\"white\",\"showbackground\":true,\"ticks\":\"\",\"zerolinecolor\":\"white\",\"gridwidth\":2},\"zaxis\":{\"backgroundcolor\":\"#E5ECF6\",\"gridcolor\":\"white\",\"linecolor\":\"white\",\"showbackground\":true,\"ticks\":\"\",\"zerolinecolor\":\"white\",\"gridwidth\":2}},\"shapedefaults\":{\"line\":{\"color\":\"#2a3f5f\"}},\"annotationdefaults\":{\"arrowcolor\":\"#2a3f5f\",\"arrowhead\":0,\"arrowwidth\":1},\"geo\":{\"bgcolor\":\"white\",\"landcolor\":\"#E5ECF6\",\"subunitcolor\":\"white\",\"showland\":true,\"showlakes\":true,\"lakecolor\":\"white\"},\"title\":{\"x\":0.05},\"mapbox\":{\"style\":\"light\"}}},\"xaxis\":{\"anchor\":\"y\",\"domain\":[0.0,1.0],\"title\":{\"text\":\"Main Video Category\"}},\"yaxis\":{\"anchor\":\"x\",\"domain\":[0.0,1.0],\"title\":{\"text\":\"count\"}},\"legend\":{\"title\":{\"text\":\"Views\"},\"tracegroupgap\":0},\"margin\":{\"t\":60},\"barmode\":\"relative\"},                        {\"responsive\": true}                    ).then(function(){\n",
       "                            \n",
       "var gd = document.getElementById('4337c552-4d46-45d2-b2cc-4a908ec02187');\n",
       "var x = new MutationObserver(function (mutations, observer) {{\n",
       "        var display = window.getComputedStyle(gd).display;\n",
       "        if (!display || display === 'none') {{\n",
       "            console.log([gd, 'removed!']);\n",
       "            Plotly.purge(gd);\n",
       "            observer.disconnect();\n",
       "        }}\n",
       "}});\n",
       "\n",
       "// Listen for the removal of the full notebook cells\n",
       "var notebookContainer = gd.closest('#notebook-container');\n",
       "if (notebookContainer) {{\n",
       "    x.observe(notebookContainer, {childList: true});\n",
       "}}\n",
       "\n",
       "// Listen for the clearing of the current output cell\n",
       "var outputEl = gd.closest('.output');\n",
       "if (outputEl) {{\n",
       "    x.observe(outputEl, {childList: true});\n",
       "}}\n",
       "\n",
       "                        })                };                });            </script>        </div>"
      ]
     },
     "metadata": {},
     "output_type": "display_data"
    }
   ],
   "source": [
    "#relação categoria e vizualizações\n",
    "\n",
    "grafico = px.histogram(tabela, x=\"Main\", color=\"Views\")\n",
    "\n",
    "\n",
    "# In[7]:\n",
    "\n",
    "\n",
    "grafico.show()"
   ]
  },
  {
   "cell_type": "markdown",
   "id": "ca9669f1",
   "metadata": {},
   "source": [
    "# analise de categoria e visualizações\n",
    "Ao comparar catégoria e visualizações  foi constado que videos relacionados a músicas e entreterimento são os mais vistos.\n",
    "\n",
    "foi constado que tv show são os videos do youube que menos dão visualizações."
   ]
  },
  {
   "cell_type": "code",
   "execution_count": null,
   "id": "635c791e",
   "metadata": {},
   "outputs": [],
   "source": [
    "# analise "
   ]
  },
  {
   "cell_type": "code",
   "execution_count": 16,
   "id": "b5fabeab",
   "metadata": {},
   "outputs": [
    {
     "data": {
      "application/vnd.plotly.v1+json": {
       "config": {
        "plotlyServerURL": "https://plot.ly"
       },
       "data": [
        {
         "alignmentgroup": "True",
         "bingroup": "x",
         "hovertemplate": "followers=220000000<br>Country=%{x}<br>count=%{y}<extra></extra>",
         "legendgroup": "220000000",
         "marker": {
          "color": "#636efa",
          "pattern": {
           "shape": ""
          }
         },
         "name": "220000000",
         "offsetgroup": "220000000",
         "orientation": "v",
         "showlegend": true,
         "type": "histogram",
         "x": [
          "IN",
          "IN",
          "IN",
          "IN",
          "IN",
          "IN",
          "IN",
          "IN",
          "IN"
         ],
         "xaxis": "x",
         "yaxis": "y"
        },
        {
         "alignmentgroup": "True",
         "bingroup": "x",
         "hovertemplate": "followers=138000000<br>Country=%{x}<br>count=%{y}<extra></extra>",
         "legendgroup": "138000000",
         "marker": {
          "color": "#EF553B",
          "pattern": {
           "shape": ""
          }
         },
         "name": "138000000",
         "offsetgroup": "138000000",
         "orientation": "v",
         "showlegend": true,
         "type": "histogram",
         "x": [
          "US",
          "US",
          "US",
          "US",
          "US",
          "US",
          "US",
          "US",
          "US"
         ],
         "xaxis": "x",
         "yaxis": "y"
        },
        {
         "alignmentgroup": "True",
         "bingroup": "x",
         "hovertemplate": "followers=137000000<br>Country=%{x}<br>count=%{y}<extra></extra>",
         "legendgroup": "137000000",
         "marker": {
          "color": "#00cc96",
          "pattern": {
           "shape": ""
          }
         },
         "name": "137000000",
         "offsetgroup": "137000000",
         "orientation": "v",
         "showlegend": true,
         "type": "histogram",
         "x": [
          "IN",
          "IN",
          "IN",
          "IN",
          "IN",
          "IN",
          "IN",
          "IN",
          "IN"
         ],
         "xaxis": "x",
         "yaxis": "y"
        },
        {
         "alignmentgroup": "True",
         "bingroup": "x",
         "hovertemplate": "followers=111000000<br>Country=%{x}<br>count=%{y}<extra></extra>",
         "legendgroup": "111000000",
         "marker": {
          "color": "#ab63fa",
          "pattern": {
           "shape": ""
          }
         },
         "name": "111000000",
         "offsetgroup": "111000000",
         "orientation": "v",
         "showlegend": true,
         "type": "histogram",
         "x": [
          "US",
          "US",
          "US",
          "US",
          "US",
          "US",
          "US",
          "US",
          "US"
         ],
         "xaxis": "x",
         "yaxis": "y"
        },
        {
         "alignmentgroup": "True",
         "bingroup": "x",
         "hovertemplate": "followers=98100000<br>Country=%{x}<br>count=%{y}<extra></extra>",
         "legendgroup": "98100000",
         "marker": {
          "color": "#FFA15A",
          "pattern": {
           "shape": ""
          }
         },
         "name": "98100000",
         "offsetgroup": "98100000",
         "orientation": "v",
         "showlegend": true,
         "type": "histogram",
         "x": [
          "US",
          "US",
          "US",
          "US",
          "US",
          "US",
          "US",
          "US",
          "US"
         ],
         "xaxis": "x",
         "yaxis": "y"
        },
        {
         "alignmentgroup": "True",
         "bingroup": "x",
         "hovertemplate": "followers=97300000<br>Country=%{x}<br>count=%{y}<extra></extra>",
         "legendgroup": "97300000",
         "marker": {
          "color": "#19d3f3",
          "pattern": {
           "shape": ""
          }
         },
         "name": "97300000",
         "offsetgroup": "97300000",
         "orientation": "v",
         "showlegend": true,
         "type": "histogram",
         "x": [
          "US",
          "US",
          "US",
          "US",
          "US",
          "US",
          "US",
          "US",
          "US"
         ],
         "xaxis": "x",
         "yaxis": "y"
        },
        {
         "alignmentgroup": "True",
         "bingroup": "x",
         "hovertemplate": "followers=97200000<br>Country=%{x}<br>count=%{y}<extra></extra>",
         "legendgroup": "97200000",
         "marker": {
          "color": "#FF6692",
          "pattern": {
           "shape": ""
          }
         },
         "name": "97200000",
         "offsetgroup": "97200000",
         "orientation": "v",
         "showlegend": true,
         "type": "histogram",
         "x": [
          "US",
          "US",
          "US",
          "US",
          "US",
          "US",
          "US",
          "US",
          "US"
         ],
         "xaxis": "x",
         "yaxis": "y"
        },
        {
         "alignmentgroup": "True",
         "bingroup": "x",
         "hovertemplate": "followers=89400000<br>Country=%{x}<br>count=%{y}<extra></extra>",
         "legendgroup": "89400000",
         "marker": {
          "color": "#B6E880",
          "pattern": {
           "shape": ""
          }
         },
         "name": "89400000",
         "offsetgroup": "89400000",
         "orientation": "v",
         "showlegend": true,
         "type": "histogram",
         "x": [
          null,
          null,
          null,
          null,
          null,
          null,
          null,
          null
         ],
         "xaxis": "x",
         "yaxis": "y"
        },
        {
         "alignmentgroup": "True",
         "bingroup": "x",
         "hovertemplate": "followers=85500000<br>Country=%{x}<br>count=%{y}<extra></extra>",
         "legendgroup": "85500000",
         "marker": {
          "color": "#FF97FF",
          "pattern": {
           "shape": ""
          }
         },
         "name": "85500000",
         "offsetgroup": "85500000",
         "orientation": "v",
         "showlegend": true,
         "type": "histogram",
         "x": [
          "IN",
          "IN",
          "IN",
          "IN",
          "IN",
          "IN",
          "IN",
          "IN"
         ],
         "xaxis": "x",
         "yaxis": "y"
        },
        {
         "alignmentgroup": "True",
         "bingroup": "x",
         "hovertemplate": "followers=83500000<br>Country=%{x}<br>count=%{y}<extra></extra>",
         "legendgroup": "83500000",
         "marker": {
          "color": "#FECB52",
          "pattern": {
           "shape": ""
          }
         },
         "name": "83500000",
         "offsetgroup": "83500000",
         "orientation": "v",
         "showlegend": true,
         "type": "histogram",
         "x": [
          "US",
          "US",
          "US",
          "US",
          "US",
          "US",
          "US",
          "US"
         ],
         "xaxis": "x",
         "yaxis": "y"
        },
        {
         "alignmentgroup": "True",
         "bingroup": "x",
         "hovertemplate": "followers=77000000<br>Country=%{x}<br>count=%{y}<extra></extra>",
         "legendgroup": "77000000",
         "marker": {
          "color": "#636efa",
          "pattern": {
           "shape": ""
          }
         },
         "name": "77000000",
         "offsetgroup": "77000000",
         "orientation": "v",
         "showlegend": true,
         "type": "histogram",
         "x": [
          "US",
          "US",
          "US",
          "US",
          "US",
          "US",
          "US",
          "US"
         ],
         "xaxis": "x",
         "yaxis": "y"
        },
        {
         "alignmentgroup": "True",
         "bingroup": "x",
         "hovertemplate": "followers=75100000<br>Country=%{x}<br>count=%{y}<extra></extra>",
         "legendgroup": "75100000",
         "marker": {
          "color": "#EF553B",
          "pattern": {
           "shape": ""
          }
         },
         "name": "75100000",
         "offsetgroup": "75100000",
         "orientation": "v",
         "showlegend": true,
         "type": "histogram",
         "x": [
          "KR",
          "KR",
          "KR",
          "KR",
          "KR",
          "KR",
          "KR",
          "KR"
         ],
         "xaxis": "x",
         "yaxis": "y"
        },
        {
         "alignmentgroup": "True",
         "bingroup": "x",
         "hovertemplate": "followers=72000000<br>Country=%{x}<br>count=%{y}<extra></extra>",
         "legendgroup": "72000000",
         "marker": {
          "color": "#00cc96",
          "pattern": {
           "shape": ""
          }
         },
         "name": "72000000",
         "offsetgroup": "72000000",
         "orientation": "v",
         "showlegend": true,
         "type": "histogram",
         "x": [
          "IN",
          "IN",
          "IN",
          "IN",
          "IN",
          "IN",
          "IN",
          "IN"
         ],
         "xaxis": "x",
         "yaxis": "y"
        },
        {
         "alignmentgroup": "True",
         "bingroup": "x",
         "hovertemplate": "followers=69400000<br>Country=%{x}<br>count=%{y}<extra></extra>",
         "legendgroup": "69400000",
         "marker": {
          "color": "#ab63fa",
          "pattern": {
           "shape": ""
          }
         },
         "name": "69400000",
         "offsetgroup": "69400000",
         "orientation": "v",
         "showlegend": true,
         "type": "histogram",
         "x": [
          "CA",
          "CA",
          "CA",
          "CA",
          "CA",
          "CA",
          "CA",
          "CA"
         ],
         "xaxis": "x",
         "yaxis": "y"
        },
        {
         "alignmentgroup": "True",
         "bingroup": "x",
         "hovertemplate": "followers=69300000<br>Country=%{x}<br>count=%{y}<extra></extra>",
         "legendgroup": "69300000",
         "marker": {
          "color": "#FFA15A",
          "pattern": {
           "shape": ""
          }
         },
         "name": "69300000",
         "offsetgroup": "69300000",
         "orientation": "v",
         "showlegend": true,
         "type": "histogram",
         "x": [
          "IN",
          "IN",
          "IN",
          "IN",
          "IN",
          "IN",
          "IN",
          "IN"
         ],
         "xaxis": "x",
         "yaxis": "y"
        },
        {
         "alignmentgroup": "True",
         "bingroup": "x",
         "hovertemplate": "followers=69100000<br>Country=%{x}<br>count=%{y}<extra></extra>",
         "legendgroup": "69100000",
         "marker": {
          "color": "#19d3f3",
          "pattern": {
           "shape": ""
          }
         },
         "name": "69100000",
         "offsetgroup": "69100000",
         "orientation": "v",
         "showlegend": true,
         "type": "histogram",
         "x": [
          null,
          null,
          null,
          null,
          null,
          null,
          null,
          null
         ],
         "xaxis": "x",
         "yaxis": "y"
        },
        {
         "alignmentgroup": "True",
         "bingroup": "x",
         "hovertemplate": "followers=67300000<br>Country=%{x}<br>count=%{y}<extra></extra>",
         "legendgroup": "67300000",
         "marker": {
          "color": "#FF6692",
          "pattern": {
           "shape": ""
          }
         },
         "name": "67300000",
         "offsetgroup": "67300000",
         "orientation": "v",
         "showlegend": true,
         "type": "histogram",
         "x": [
          "KR",
          "KR",
          "KR",
          "KR",
          "KR",
          "KR",
          "KR",
          "KR"
         ],
         "xaxis": "x",
         "yaxis": "y"
        },
        {
         "alignmentgroup": "True",
         "bingroup": "x",
         "hovertemplate": "followers=65800000<br>Country=%{x}<br>count=%{y}<extra></extra>",
         "legendgroup": "65800000",
         "marker": {
          "color": "#B6E880",
          "pattern": {
           "shape": ""
          }
         },
         "name": "65800000",
         "offsetgroup": "65800000",
         "orientation": "v",
         "showlegend": true,
         "type": "histogram",
         "x": [
          "BR",
          "BR",
          "BR",
          "BR",
          "BR",
          "BR",
          "BR",
          "BR"
         ],
         "xaxis": "x",
         "yaxis": "y"
        },
        {
         "alignmentgroup": "True",
         "bingroup": "x",
         "hovertemplate": "followers=62100000<br>Country=%{x}<br>count=%{y}<extra></extra>",
         "legendgroup": "62100000",
         "marker": {
          "color": "#FF97FF",
          "pattern": {
           "shape": ""
          }
         },
         "name": "62100000",
         "offsetgroup": "62100000",
         "orientation": "v",
         "showlegend": true,
         "type": "histogram",
         "x": [
          "IN",
          "IN",
          "IN",
          "IN",
          "IN",
          "IN",
          "IN",
          "IN"
         ],
         "xaxis": "x",
         "yaxis": "y"
        },
        {
         "alignmentgroup": "True",
         "bingroup": "x",
         "hovertemplate": "followers=60700000<br>Country=%{x}<br>count=%{y}<extra></extra>",
         "legendgroup": "60700000",
         "marker": {
          "color": "#FECB52",
          "pattern": {
           "shape": ""
          }
         },
         "name": "60700000",
         "offsetgroup": "60700000",
         "orientation": "v",
         "showlegend": true,
         "type": "histogram",
         "x": [
          "IN",
          "IN",
          "IN",
          "IN",
          "IN",
          "IN",
          "IN",
          "IN"
         ],
         "xaxis": "x",
         "yaxis": "y"
        },
        {
         "alignmentgroup": "True",
         "bingroup": "x",
         "hovertemplate": "followers=58700000<br>Country=%{x}<br>count=%{y}<extra></extra>",
         "legendgroup": "58700000",
         "marker": {
          "color": "#636efa",
          "pattern": {
           "shape": ""
          }
         },
         "name": "58700000",
         "offsetgroup": "58700000",
         "orientation": "v",
         "showlegend": true,
         "type": "histogram",
         "x": [
          "US",
          "US",
          "US",
          "US",
          "US",
          "US",
          "US",
          "US"
         ],
         "xaxis": "x",
         "yaxis": "y"
        },
        {
         "alignmentgroup": "True",
         "bingroup": "x",
         "hovertemplate": "followers=57800000<br>Country=%{x}<br>count=%{y}<extra></extra>",
         "legendgroup": "57800000",
         "marker": {
          "color": "#EF553B",
          "pattern": {
           "shape": ""
          }
         },
         "name": "57800000",
         "offsetgroup": "57800000",
         "orientation": "v",
         "showlegend": true,
         "type": "histogram",
         "x": [
          "US",
          "US",
          "US",
          "US",
          "US",
          "US",
          "US",
          "US"
         ],
         "xaxis": "x",
         "yaxis": "y"
        },
        {
         "alignmentgroup": "True",
         "bingroup": "x",
         "hovertemplate": "followers=57300000<br>Country=%{x}<br>count=%{y}<extra></extra>",
         "legendgroup": "57300000",
         "marker": {
          "color": "#00cc96",
          "pattern": {
           "shape": ""
          }
         },
         "name": "57300000",
         "offsetgroup": "57300000",
         "orientation": "v",
         "showlegend": true,
         "type": "histogram",
         "x": [
          "US",
          "US",
          "US",
          "US",
          "US",
          "US",
          "US",
          "US"
         ],
         "xaxis": "x",
         "yaxis": "y"
        },
        {
         "alignmentgroup": "True",
         "bingroup": "x",
         "hovertemplate": "followers=57100000<br>Country=%{x}<br>count=%{y}<extra></extra>",
         "legendgroup": "57100000",
         "marker": {
          "color": "#ab63fa",
          "pattern": {
           "shape": ""
          }
         },
         "name": "57100000",
         "offsetgroup": "57100000",
         "orientation": "v",
         "showlegend": true,
         "type": "histogram",
         "x": [
          "IN",
          "IN",
          "IN",
          "IN",
          "IN",
          "IN",
          "IN",
          "IN"
         ],
         "xaxis": "x",
         "yaxis": "y"
        },
        {
         "alignmentgroup": "True",
         "bingroup": "x",
         "hovertemplate": "followers=55500000<br>Country=%{x}<br>count=%{y}<extra></extra>",
         "legendgroup": "55500000",
         "marker": {
          "color": "#FFA15A",
          "pattern": {
           "shape": ""
          }
         },
         "name": "55500000",
         "offsetgroup": "55500000",
         "orientation": "v",
         "showlegend": true,
         "type": "histogram",
         "x": [
          "US",
          "US",
          "US",
          "US",
          "US",
          "US",
          "US",
          "US"
         ],
         "xaxis": "x",
         "yaxis": "y"
        },
        {
         "alignmentgroup": "True",
         "bingroup": "x",
         "hovertemplate": "followers=53400000<br>Country=%{x}<br>count=%{y}<extra></extra>",
         "legendgroup": "53400000",
         "marker": {
          "color": "#19d3f3",
          "pattern": {
           "shape": ""
          }
         },
         "name": "53400000",
         "offsetgroup": "53400000",
         "orientation": "v",
         "showlegend": true,
         "type": "histogram",
         "x": [
          "IN",
          "IN",
          "IN",
          "IN",
          "IN",
          "IN",
          "IN",
          "IN"
         ],
         "xaxis": "x",
         "yaxis": "y"
        },
        {
         "alignmentgroup": "True",
         "bingroup": "x",
         "hovertemplate": "followers=52800000<br>Country=%{x}<br>count=%{y}<extra></extra>",
         "legendgroup": "52800000",
         "marker": {
          "color": "#FF6692",
          "pattern": {
           "shape": ""
          }
         },
         "name": "52800000",
         "offsetgroup": "52800000",
         "orientation": "v",
         "showlegend": true,
         "type": "histogram",
         "x": [
          "IN",
          "IN",
          "IN",
          "IN",
          "IN",
          "IN",
          "IN",
          "IN"
         ],
         "xaxis": "x",
         "yaxis": "y"
        },
        {
         "alignmentgroup": "True",
         "bingroup": "x",
         "hovertemplate": "followers=52600000<br>Country=%{x}<br>count=%{y}<extra></extra>",
         "legendgroup": "52600000",
         "marker": {
          "color": "#B6E880",
          "pattern": {
           "shape": ""
          }
         },
         "name": "52600000",
         "offsetgroup": "52600000",
         "orientation": "v",
         "showlegend": true,
         "type": "histogram",
         "x": [
          null,
          null,
          null,
          null,
          null,
          null,
          null,
          null
         ],
         "xaxis": "x",
         "yaxis": "y"
        },
        {
         "alignmentgroup": "True",
         "bingroup": "x",
         "hovertemplate": "followers=52300000<br>Country=%{x}<br>count=%{y}<extra></extra>",
         "legendgroup": "52300000",
         "marker": {
          "color": "#FF97FF",
          "pattern": {
           "shape": ""
          }
         },
         "name": "52300000",
         "offsetgroup": "52300000",
         "orientation": "v",
         "showlegend": true,
         "type": "histogram",
         "x": [
          "IN",
          "IN",
          "IN",
          "IN",
          "IN",
          "IN",
          "IN",
          "IN"
         ],
         "xaxis": "x",
         "yaxis": "y"
        },
        {
         "alignmentgroup": "True",
         "bingroup": "x",
         "hovertemplate": "followers=52100000<br>Country=%{x}<br>count=%{y}<extra></extra>",
         "legendgroup": "52100000",
         "marker": {
          "color": "#FECB52",
          "pattern": {
           "shape": ""
          }
         },
         "name": "52100000",
         "offsetgroup": "52100000",
         "orientation": "v",
         "showlegend": true,
         "type": "histogram",
         "x": [
          null,
          null,
          null,
          null,
          null,
          null,
          null,
          null
         ],
         "xaxis": "x",
         "yaxis": "y"
        },
        {
         "alignmentgroup": "True",
         "bingroup": "x",
         "hovertemplate": "followers=52000000<br>Country=%{x}<br>count=%{y}<extra></extra>",
         "legendgroup": "52000000",
         "marker": {
          "color": "#636efa",
          "pattern": {
           "shape": ""
          }
         },
         "name": "52000000",
         "offsetgroup": "52000000",
         "orientation": "v",
         "showlegend": true,
         "type": "histogram",
         "x": [
          "IN",
          "IN",
          "IN",
          "IN",
          "IN",
          "IN",
          "IN",
          "IN"
         ],
         "xaxis": "x",
         "yaxis": "y"
        },
        {
         "alignmentgroup": "True",
         "bingroup": "x",
         "hovertemplate": "followers=51600000<br>Country=%{x}<br>count=%{y}<extra></extra>",
         "legendgroup": "51600000",
         "marker": {
          "color": "#EF553B",
          "pattern": {
           "shape": ""
          }
         },
         "name": "51600000",
         "offsetgroup": "51600000",
         "orientation": "v",
         "showlegend": true,
         "type": "histogram",
         "x": [
          "IN",
          "IN",
          "IN",
          "IN",
          "IN",
          "IN",
          "IN",
          "IN"
         ],
         "xaxis": "x",
         "yaxis": "y"
        },
        {
         "alignmentgroup": "True",
         "bingroup": "x",
         "hovertemplate": "followers=51500000<br>Country=%{x}<br>count=%{y}<extra></extra>",
         "legendgroup": "51500000",
         "marker": {
          "color": "#00cc96",
          "pattern": {
           "shape": ""
          }
         },
         "name": "51500000",
         "offsetgroup": "51500000",
         "orientation": "v",
         "showlegend": true,
         "type": "histogram",
         "x": [
          null,
          null,
          null,
          null,
          null,
          null,
          null,
          null
         ],
         "xaxis": "x",
         "yaxis": "y"
        },
        {
         "alignmentgroup": "True",
         "bingroup": "x",
         "hovertemplate": "followers=51300000<br>Country=%{x}<br>count=%{y}<extra></extra>",
         "legendgroup": "51300000",
         "marker": {
          "color": "#ab63fa",
          "pattern": {
           "shape": ""
          }
         },
         "name": "51300000",
         "offsetgroup": "51300000",
         "orientation": "v",
         "showlegend": true,
         "type": "histogram",
         "x": [
          "IN",
          "IN",
          "IN",
          "IN",
          "IN",
          "IN",
          "IN",
          "IN"
         ],
         "xaxis": "x",
         "yaxis": "y"
        },
        {
         "alignmentgroup": "True",
         "bingroup": "x",
         "hovertemplate": "followers=50900000<br>Country=%{x}<br>count=%{y}<extra></extra>",
         "legendgroup": "50900000",
         "marker": {
          "color": "#FFA15A",
          "pattern": {
           "shape": ""
          }
         },
         "name": "50900000",
         "offsetgroup": "50900000",
         "orientation": "v",
         "showlegend": true,
         "type": "histogram",
         "x": [
          null,
          null,
          null,
          null,
          null,
          null,
          null,
          null
         ],
         "xaxis": "x",
         "yaxis": "y"
        },
        {
         "alignmentgroup": "True",
         "bingroup": "x",
         "hovertemplate": "followers=49400000<br>Country=%{x}<br>count=%{y}<extra></extra>",
         "legendgroup": "49400000",
         "marker": {
          "color": "#19d3f3",
          "pattern": {
           "shape": ""
          }
         },
         "name": "49400000",
         "offsetgroup": "49400000",
         "orientation": "v",
         "showlegend": true,
         "type": "histogram",
         "x": [
          "US",
          "US",
          "US",
          "US",
          "US",
          "US",
          "US",
          "US"
         ],
         "xaxis": "x",
         "yaxis": "y"
        },
        {
         "alignmentgroup": "True",
         "bingroup": "x",
         "hovertemplate": "followers=46900000<br>Country=%{x}<br>count=%{y}<extra></extra>",
         "legendgroup": "46900000",
         "marker": {
          "color": "#FF6692",
          "pattern": {
           "shape": ""
          }
         },
         "name": "46900000",
         "offsetgroup": "46900000",
         "orientation": "v",
         "showlegend": true,
         "type": "histogram",
         "x": [
          "IN",
          "IN",
          "IN",
          "IN",
          "IN",
          "IN",
          "IN",
          "IN"
         ],
         "xaxis": "x",
         "yaxis": "y"
        },
        {
         "alignmentgroup": "True",
         "bingroup": "x",
         "hovertemplate": "followers=46800000<br>Country=%{x}<br>count=%{y}<extra></extra>",
         "legendgroup": "46800000",
         "marker": {
          "color": "#B6E880",
          "pattern": {
           "shape": ""
          }
         },
         "name": "46800000",
         "offsetgroup": "46800000",
         "orientation": "v",
         "showlegend": true,
         "type": "histogram",
         "x": [
          null,
          null,
          null,
          null,
          null,
          null,
          null,
          null
         ],
         "xaxis": "x",
         "yaxis": "y"
        },
        {
         "alignmentgroup": "True",
         "bingroup": "x",
         "hovertemplate": "followers=45900000<br>Country=%{x}<br>count=%{y}<extra></extra>",
         "legendgroup": "45900000",
         "marker": {
          "color": "#FF97FF",
          "pattern": {
           "shape": ""
          }
         },
         "name": "45900000",
         "offsetgroup": "45900000",
         "orientation": "v",
         "showlegend": true,
         "type": "histogram",
         "x": [
          "US",
          "US",
          "US",
          "US",
          "US",
          "US",
          "US",
          "US",
          "US",
          "US",
          "US",
          "US",
          "US",
          "US",
          "US",
          "US"
         ],
         "xaxis": "x",
         "yaxis": "y"
        },
        {
         "alignmentgroup": "True",
         "bingroup": "x",
         "hovertemplate": "followers=45600000<br>Country=%{x}<br>count=%{y}<extra></extra>",
         "legendgroup": "45600000",
         "marker": {
          "color": "#FECB52",
          "pattern": {
           "shape": ""
          }
         },
         "name": "45600000",
         "offsetgroup": "45600000",
         "orientation": "v",
         "showlegend": true,
         "type": "histogram",
         "x": [
          "MX",
          "MX",
          "MX",
          "MX",
          "MX",
          "MX",
          "MX",
          "MX"
         ],
         "xaxis": "x",
         "yaxis": "y"
        },
        {
         "alignmentgroup": "True",
         "bingroup": "x",
         "hovertemplate": "followers=45100000<br>Country=%{x}<br>count=%{y}<extra></extra>",
         "legendgroup": "45100000",
         "marker": {
          "color": "#636efa",
          "pattern": {
           "shape": ""
          }
         },
         "name": "45100000",
         "offsetgroup": "45100000",
         "orientation": "v",
         "showlegend": true,
         "type": "histogram",
         "x": [
          "SV",
          "SV",
          "SV",
          "SV",
          "SV",
          "SV",
          "SV",
          "SV"
         ],
         "xaxis": "x",
         "yaxis": "y"
        },
        {
         "alignmentgroup": "True",
         "bingroup": "x",
         "hovertemplate": "followers=44700000<br>Country=%{x}<br>count=%{y}<extra></extra>",
         "legendgroup": "44700000",
         "marker": {
          "color": "#EF553B",
          "pattern": {
           "shape": ""
          }
         },
         "name": "44700000",
         "offsetgroup": "44700000",
         "orientation": "v",
         "showlegend": true,
         "type": "histogram",
         "x": [
          "IN",
          "IN",
          "IN",
          "IN",
          "IN",
          "IN",
          "IN",
          "IN"
         ],
         "xaxis": "x",
         "yaxis": "y"
        },
        {
         "alignmentgroup": "True",
         "bingroup": "x",
         "hovertemplate": "followers=44200000<br>Country=%{x}<br>count=%{y}<extra></extra>",
         "legendgroup": "44200000",
         "marker": {
          "color": "#00cc96",
          "pattern": {
           "shape": ""
          }
         },
         "name": "44200000",
         "offsetgroup": "44200000",
         "orientation": "v",
         "showlegend": true,
         "type": "histogram",
         "x": [
          "BR",
          "BR",
          "BR",
          "BR",
          "BR",
          "BR",
          "BR",
          "BR"
         ],
         "xaxis": "x",
         "yaxis": "y"
        },
        {
         "alignmentgroup": "True",
         "bingroup": "x",
         "hovertemplate": "followers=43800000<br>Country=%{x}<br>count=%{y}<extra></extra>",
         "legendgroup": "43800000",
         "marker": {
          "color": "#ab63fa",
          "pattern": {
           "shape": ""
          }
         },
         "name": "43800000",
         "offsetgroup": "43800000",
         "orientation": "v",
         "showlegend": true,
         "type": "histogram",
         "x": [
          null,
          null,
          null,
          null,
          null,
          null,
          null,
          null
         ],
         "xaxis": "x",
         "yaxis": "y"
        },
        {
         "alignmentgroup": "True",
         "bingroup": "x",
         "hovertemplate": "followers=43700000<br>Country=%{x}<br>count=%{y}<extra></extra>",
         "legendgroup": "43700000",
         "marker": {
          "color": "#FFA15A",
          "pattern": {
           "shape": ""
          }
         },
         "name": "43700000",
         "offsetgroup": "43700000",
         "orientation": "v",
         "showlegend": true,
         "type": "histogram",
         "x": [
          "US",
          "US",
          "US",
          "US",
          "US",
          "US",
          "US",
          "US"
         ],
         "xaxis": "x",
         "yaxis": "y"
        },
        {
         "alignmentgroup": "True",
         "bingroup": "x",
         "hovertemplate": "followers=43300000<br>Country=%{x}<br>count=%{y}<extra></extra>",
         "legendgroup": "43300000",
         "marker": {
          "color": "#19d3f3",
          "pattern": {
           "shape": ""
          }
         },
         "name": "43300000",
         "offsetgroup": "43300000",
         "orientation": "v",
         "showlegend": true,
         "type": "histogram",
         "x": [
          "CL",
          "CL",
          "CL",
          "CL",
          "CL",
          "CL",
          "CL",
          "CL"
         ],
         "xaxis": "x",
         "yaxis": "y"
        },
        {
         "alignmentgroup": "True",
         "bingroup": "x",
         "hovertemplate": "followers=43100000<br>Country=%{x}<br>count=%{y}<extra></extra>",
         "legendgroup": "43100000",
         "marker": {
          "color": "#FF6692",
          "pattern": {
           "shape": ""
          }
         },
         "name": "43100000",
         "offsetgroup": "43100000",
         "orientation": "v",
         "showlegend": true,
         "type": "histogram",
         "x": [
          "BR",
          "BR",
          "BR",
          "BR",
          "BR",
          "BR",
          "BR",
          "BR"
         ],
         "xaxis": "x",
         "yaxis": "y"
        },
        {
         "alignmentgroup": "True",
         "bingroup": "x",
         "hovertemplate": "followers=43000000<br>Country=%{x}<br>count=%{y}<extra></extra>",
         "legendgroup": "43000000",
         "marker": {
          "color": "#B6E880",
          "pattern": {
           "shape": ""
          }
         },
         "name": "43000000",
         "offsetgroup": "43000000",
         "orientation": "v",
         "showlegend": true,
         "type": "histogram",
         "x": [
          "US",
          "US",
          "US",
          "US",
          "US",
          "US",
          "US",
          "US"
         ],
         "xaxis": "x",
         "yaxis": "y"
        },
        {
         "alignmentgroup": "True",
         "bingroup": "x",
         "hovertemplate": "followers=42300000<br>Country=%{x}<br>count=%{y}<extra></extra>",
         "legendgroup": "42300000",
         "marker": {
          "color": "#FF97FF",
          "pattern": {
           "shape": ""
          }
         },
         "name": "42300000",
         "offsetgroup": "42300000",
         "orientation": "v",
         "showlegend": true,
         "type": "histogram",
         "x": [
          null,
          null,
          null,
          null,
          null,
          null,
          null,
          null
         ],
         "xaxis": "x",
         "yaxis": "y"
        },
        {
         "alignmentgroup": "True",
         "bingroup": "x",
         "hovertemplate": "followers=42000000<br>Country=%{x}<br>count=%{y}<extra></extra>",
         "legendgroup": "42000000",
         "marker": {
          "color": "#FECB52",
          "pattern": {
           "shape": ""
          }
         },
         "name": "42000000",
         "offsetgroup": "42000000",
         "orientation": "v",
         "showlegend": true,
         "type": "histogram",
         "x": [
          "NO",
          "NO",
          "NO",
          "NO",
          "NO",
          "NO",
          "NO",
          "NO"
         ],
         "xaxis": "x",
         "yaxis": "y"
        },
        {
         "alignmentgroup": "True",
         "bingroup": "x",
         "hovertemplate": "followers=41600000<br>Country=%{x}<br>count=%{y}<extra></extra>",
         "legendgroup": "41600000",
         "marker": {
          "color": "#636efa",
          "pattern": {
           "shape": ""
          }
         },
         "name": "41600000",
         "offsetgroup": "41600000",
         "orientation": "v",
         "showlegend": true,
         "type": "histogram",
         "x": [
          "PR",
          "PR",
          "PR",
          "PR",
          "PR",
          "PR",
          "PR",
          "PR"
         ],
         "xaxis": "x",
         "yaxis": "y"
        },
        {
         "alignmentgroup": "True",
         "bingroup": "x",
         "hovertemplate": "followers=41300000<br>Country=%{x}<br>count=%{y}<extra></extra>",
         "legendgroup": "41300000",
         "marker": {
          "color": "#EF553B",
          "pattern": {
           "shape": ""
          }
         },
         "name": "41300000",
         "offsetgroup": "41300000",
         "orientation": "v",
         "showlegend": true,
         "type": "histogram",
         "x": [
          "US",
          "US",
          "US",
          "US",
          "US",
          "US",
          "US",
          "US"
         ],
         "xaxis": "x",
         "yaxis": "y"
        },
        {
         "alignmentgroup": "True",
         "bingroup": "x",
         "hovertemplate": "followers=40600000<br>Country=%{x}<br>count=%{y}<extra></extra>",
         "legendgroup": "40600000",
         "marker": {
          "color": "#00cc96",
          "pattern": {
           "shape": ""
          }
         },
         "name": "40600000",
         "offsetgroup": "40600000",
         "orientation": "v",
         "showlegend": true,
         "type": "histogram",
         "x": [
          "BY",
          "BY",
          "BY",
          "BY",
          "BY",
          "BY",
          "BY",
          "BY"
         ],
         "xaxis": "x",
         "yaxis": "y"
        },
        {
         "alignmentgroup": "True",
         "bingroup": "x",
         "hovertemplate": "followers=40500000<br>Country=%{x}<br>count=%{y}<extra></extra>",
         "legendgroup": "40500000",
         "marker": {
          "color": "#ab63fa",
          "pattern": {
           "shape": ""
          }
         },
         "name": "40500000",
         "offsetgroup": "40500000",
         "orientation": "v",
         "showlegend": true,
         "type": "histogram",
         "x": [
          "RU",
          "IN",
          "RU",
          "IN",
          "RU",
          "IN",
          "RU",
          "IN",
          "RU",
          "IN",
          "RU",
          "IN",
          "RU",
          "IN",
          "RU",
          "IN"
         ],
         "xaxis": "x",
         "yaxis": "y"
        },
        {
         "alignmentgroup": "True",
         "bingroup": "x",
         "hovertemplate": "followers=40400000<br>Country=%{x}<br>count=%{y}<extra></extra>",
         "legendgroup": "40400000",
         "marker": {
          "color": "#FFA15A",
          "pattern": {
           "shape": ""
          }
         },
         "name": "40400000",
         "offsetgroup": "40400000",
         "orientation": "v",
         "showlegend": true,
         "type": "histogram",
         "x": [
          null,
          null,
          null,
          null,
          null,
          null,
          null,
          null
         ],
         "xaxis": "x",
         "yaxis": "y"
        },
        {
         "alignmentgroup": "True",
         "bingroup": "x",
         "hovertemplate": "followers=39800000<br>Country=%{x}<br>count=%{y}<extra></extra>",
         "legendgroup": "39800000",
         "marker": {
          "color": "#19d3f3",
          "pattern": {
           "shape": ""
          }
         },
         "name": "39800000",
         "offsetgroup": "39800000",
         "orientation": "v",
         "showlegend": true,
         "type": "histogram",
         "x": [
          "PH",
          "PH",
          "PH",
          "PH",
          "PH",
          "PH",
          "PH",
          "PH"
         ],
         "xaxis": "x",
         "yaxis": "y"
        },
        {
         "alignmentgroup": "True",
         "bingroup": "x",
         "hovertemplate": "followers=39400000<br>Country=%{x}<br>count=%{y}<extra></extra>",
         "legendgroup": "39400000",
         "marker": {
          "color": "#FF6692",
          "pattern": {
           "shape": ""
          }
         },
         "name": "39400000",
         "offsetgroup": "39400000",
         "orientation": "v",
         "showlegend": true,
         "type": "histogram",
         "x": [
          null,
          null,
          null,
          null,
          null,
          null,
          null,
          null
         ],
         "xaxis": "x",
         "yaxis": "y"
        },
        {
         "alignmentgroup": "True",
         "bingroup": "x",
         "hovertemplate": "followers=39200000<br>Country=%{x}<br>count=%{y}<extra></extra>",
         "legendgroup": "39200000",
         "marker": {
          "color": "#B6E880",
          "pattern": {
           "shape": ""
          }
         },
         "name": "39200000",
         "offsetgroup": "39200000",
         "orientation": "v",
         "showlegend": true,
         "type": "histogram",
         "x": [
          "US",
          "US",
          "US",
          "US",
          "US",
          "US",
          "US",
          "US"
         ],
         "xaxis": "x",
         "yaxis": "y"
        },
        {
         "alignmentgroup": "True",
         "bingroup": "x",
         "hovertemplate": "followers=39000000<br>Country=%{x}<br>count=%{y}<extra></extra>",
         "legendgroup": "39000000",
         "marker": {
          "color": "#FF97FF",
          "pattern": {
           "shape": ""
          }
         },
         "name": "39000000",
         "offsetgroup": "39000000",
         "orientation": "v",
         "showlegend": true,
         "type": "histogram",
         "x": [
          "MX",
          "MX",
          "MX",
          "MX",
          "MX",
          "MX",
          "MX",
          "MX"
         ],
         "xaxis": "x",
         "yaxis": "y"
        },
        {
         "alignmentgroup": "True",
         "bingroup": "x",
         "hovertemplate": "followers=38300000<br>Country=%{x}<br>count=%{y}<extra></extra>",
         "legendgroup": "38300000",
         "marker": {
          "color": "#FECB52",
          "pattern": {
           "shape": ""
          }
         },
         "name": "38300000",
         "offsetgroup": "38300000",
         "orientation": "v",
         "showlegend": true,
         "type": "histogram",
         "x": [
          "RU",
          "US",
          "RU",
          "US",
          "RU",
          "US",
          "RU",
          "US",
          "RU",
          "US",
          "RU",
          "US",
          "RU",
          "US",
          "RU",
          "US"
         ],
         "xaxis": "x",
         "yaxis": "y"
        },
        {
         "alignmentgroup": "True",
         "bingroup": "x",
         "hovertemplate": "followers=38200000<br>Country=%{x}<br>count=%{y}<extra></extra>",
         "legendgroup": "38200000",
         "marker": {
          "color": "#636efa",
          "pattern": {
           "shape": ""
          }
         },
         "name": "38200000",
         "offsetgroup": "38200000",
         "orientation": "v",
         "showlegend": true,
         "type": "histogram",
         "x": [
          "IN",
          "IN",
          "IN",
          "IN",
          "IN",
          "IN",
          "IN",
          "IN"
         ],
         "xaxis": "x",
         "yaxis": "y"
        },
        {
         "alignmentgroup": "True",
         "bingroup": "x",
         "hovertemplate": "followers=38100000<br>Country=%{x}<br>count=%{y}<extra></extra>",
         "legendgroup": "38100000",
         "marker": {
          "color": "#EF553B",
          "pattern": {
           "shape": ""
          }
         },
         "name": "38100000",
         "offsetgroup": "38100000",
         "orientation": "v",
         "showlegend": true,
         "type": "histogram",
         "x": [
          "IN",
          "IN",
          "IN",
          "IN",
          "IN",
          "IN",
          "IN",
          "IN"
         ],
         "xaxis": "x",
         "yaxis": "y"
        },
        {
         "alignmentgroup": "True",
         "bingroup": "x",
         "hovertemplate": "followers=37500000<br>Country=%{x}<br>count=%{y}<extra></extra>",
         "legendgroup": "37500000",
         "marker": {
          "color": "#00cc96",
          "pattern": {
           "shape": ""
          }
         },
         "name": "37500000",
         "offsetgroup": "37500000",
         "orientation": "v",
         "showlegend": true,
         "type": "histogram",
         "x": [
          "BR",
          "BR",
          "BR",
          "BR",
          "BR",
          "BR",
          "BR",
          "BR",
          "BR",
          "BR",
          "BR",
          "BR",
          "BR",
          "BR",
          "BR",
          "BR"
         ],
         "xaxis": "x",
         "yaxis": "y"
        },
        {
         "alignmentgroup": "True",
         "bingroup": "x",
         "hovertemplate": "followers=37400000<br>Country=%{x}<br>count=%{y}<extra></extra>",
         "legendgroup": "37400000",
         "marker": {
          "color": "#ab63fa",
          "pattern": {
           "shape": ""
          }
         },
         "name": "37400000",
         "offsetgroup": "37400000",
         "orientation": "v",
         "showlegend": true,
         "type": "histogram",
         "x": [
          "US",
          "IN",
          "US",
          "IN",
          "US",
          "IN",
          "US",
          "IN",
          "US",
          "IN",
          "US",
          "IN",
          "US",
          "IN",
          "US",
          "IN"
         ],
         "xaxis": "x",
         "yaxis": "y"
        },
        {
         "alignmentgroup": "True",
         "bingroup": "x",
         "hovertemplate": "followers=37200000<br>Country=%{x}<br>count=%{y}<extra></extra>",
         "legendgroup": "37200000",
         "marker": {
          "color": "#FFA15A",
          "pattern": {
           "shape": ""
          }
         },
         "name": "37200000",
         "offsetgroup": "37200000",
         "orientation": "v",
         "showlegend": true,
         "type": "histogram",
         "x": [
          null,
          null,
          null,
          null,
          null,
          null,
          null,
          null
         ],
         "xaxis": "x",
         "yaxis": "y"
        },
        {
         "alignmentgroup": "True",
         "bingroup": "x",
         "hovertemplate": "followers=36900000<br>Country=%{x}<br>count=%{y}<extra></extra>",
         "legendgroup": "36900000",
         "marker": {
          "color": "#19d3f3",
          "pattern": {
           "shape": ""
          }
         },
         "name": "36900000",
         "offsetgroup": "36900000",
         "orientation": "v",
         "showlegend": true,
         "type": "histogram",
         "x": [
          "US",
          "US",
          "US",
          "US",
          "US",
          "US",
          "US",
          "US"
         ],
         "xaxis": "x",
         "yaxis": "y"
        },
        {
         "alignmentgroup": "True",
         "bingroup": "x",
         "hovertemplate": "followers=36800000<br>Country=%{x}<br>count=%{y}<extra></extra>",
         "legendgroup": "36800000",
         "marker": {
          "color": "#FF6692",
          "pattern": {
           "shape": ""
          }
         },
         "name": "36800000",
         "offsetgroup": "36800000",
         "orientation": "v",
         "showlegend": true,
         "type": "histogram",
         "x": [
          "TH",
          "TH",
          "TH",
          "TH",
          "TH",
          "TH",
          "TH",
          "TH"
         ],
         "xaxis": "x",
         "yaxis": "y"
        },
        {
         "alignmentgroup": "True",
         "bingroup": "x",
         "hovertemplate": "followers=36700000<br>Country=%{x}<br>count=%{y}<extra></extra>",
         "legendgroup": "36700000",
         "marker": {
          "color": "#B6E880",
          "pattern": {
           "shape": ""
          }
         },
         "name": "36700000",
         "offsetgroup": "36700000",
         "orientation": "v",
         "showlegend": true,
         "type": "histogram",
         "x": [
          null,
          null,
          null,
          null,
          null,
          null,
          null,
          null
         ],
         "xaxis": "x",
         "yaxis": "y"
        },
        {
         "alignmentgroup": "True",
         "bingroup": "x",
         "hovertemplate": "followers=36600000<br>Country=%{x}<br>count=%{y}<extra></extra>",
         "legendgroup": "36600000",
         "marker": {
          "color": "#FF97FF",
          "pattern": {
           "shape": ""
          }
         },
         "name": "36600000",
         "offsetgroup": "36600000",
         "orientation": "v",
         "showlegend": true,
         "type": "histogram",
         "x": [
          "US",
          "US",
          "US",
          "US",
          "US",
          "US",
          "US",
          "US"
         ],
         "xaxis": "x",
         "yaxis": "y"
        },
        {
         "alignmentgroup": "True",
         "bingroup": "x",
         "hovertemplate": "followers=36300000<br>Country=%{x}<br>count=%{y}<extra></extra>",
         "legendgroup": "36300000",
         "marker": {
          "color": "#FECB52",
          "pattern": {
           "shape": ""
          }
         },
         "name": "36300000",
         "offsetgroup": "36300000",
         "orientation": "v",
         "showlegend": true,
         "type": "histogram",
         "x": [
          "US",
          "US",
          "US",
          "US",
          "US",
          "US",
          "US",
          "US"
         ],
         "xaxis": "x",
         "yaxis": "y"
        },
        {
         "alignmentgroup": "True",
         "bingroup": "x",
         "hovertemplate": "followers=36100000<br>Country=%{x}<br>count=%{y}<extra></extra>",
         "legendgroup": "36100000",
         "marker": {
          "color": "#636efa",
          "pattern": {
           "shape": ""
          }
         },
         "name": "36100000",
         "offsetgroup": "36100000",
         "orientation": "v",
         "showlegend": true,
         "type": "histogram",
         "x": [
          null,
          null
         ],
         "xaxis": "x",
         "yaxis": "y"
        },
        {
         "alignmentgroup": "True",
         "bingroup": "x",
         "hovertemplate": "followers=36000000<br>Country=%{x}<br>count=%{y}<extra></extra>",
         "legendgroup": "36000000",
         "marker": {
          "color": "#EF553B",
          "pattern": {
           "shape": ""
          }
         },
         "name": "36000000",
         "offsetgroup": "36000000",
         "orientation": "v",
         "showlegend": true,
         "type": "histogram",
         "x": [
          "IN",
          "IN"
         ],
         "xaxis": "x",
         "yaxis": "y"
        },
        {
         "alignmentgroup": "True",
         "bingroup": "x",
         "hovertemplate": "followers=35700000<br>Country=%{x}<br>count=%{y}<extra></extra>",
         "legendgroup": "35700000",
         "marker": {
          "color": "#00cc96",
          "pattern": {
           "shape": ""
          }
         },
         "name": "35700000",
         "offsetgroup": "35700000",
         "orientation": "v",
         "showlegend": true,
         "type": "histogram",
         "x": [
          null,
          null
         ],
         "xaxis": "x",
         "yaxis": "y"
        },
        {
         "alignmentgroup": "True",
         "bingroup": "x",
         "hovertemplate": "followers=35600000<br>Country=%{x}<br>count=%{y}<extra></extra>",
         "legendgroup": "35600000",
         "marker": {
          "color": "#ab63fa",
          "pattern": {
           "shape": ""
          }
         },
         "name": "35600000",
         "offsetgroup": "35600000",
         "orientation": "v",
         "showlegend": true,
         "type": "histogram",
         "x": [
          "AE",
          "AE",
          "AE",
          "AE"
         ],
         "xaxis": "x",
         "yaxis": "y"
        },
        {
         "alignmentgroup": "True",
         "bingroup": "x",
         "hovertemplate": "followers=35400000<br>Country=%{x}<br>count=%{y}<extra></extra>",
         "legendgroup": "35400000",
         "marker": {
          "color": "#FFA15A",
          "pattern": {
           "shape": ""
          }
         },
         "name": "35400000",
         "offsetgroup": "35400000",
         "orientation": "v",
         "showlegend": true,
         "type": "histogram",
         "x": [
          null,
          null
         ],
         "xaxis": "x",
         "yaxis": "y"
        },
        {
         "alignmentgroup": "True",
         "bingroup": "x",
         "hovertemplate": "followers=35300000<br>Country=%{x}<br>count=%{y}<extra></extra>",
         "legendgroup": "35300000",
         "marker": {
          "color": "#19d3f3",
          "pattern": {
           "shape": ""
          }
         },
         "name": "35300000",
         "offsetgroup": "35300000",
         "orientation": "v",
         "showlegend": true,
         "type": "histogram",
         "x": [
          "IN",
          "IN"
         ],
         "xaxis": "x",
         "yaxis": "y"
        },
        {
         "alignmentgroup": "True",
         "bingroup": "x",
         "hovertemplate": "followers=35100000<br>Country=%{x}<br>count=%{y}<extra></extra>",
         "legendgroup": "35100000",
         "marker": {
          "color": "#FF6692",
          "pattern": {
           "shape": ""
          }
         },
         "name": "35100000",
         "offsetgroup": "35100000",
         "orientation": "v",
         "showlegend": true,
         "type": "histogram",
         "x": [
          "PR",
          null,
          "PR",
          null
         ],
         "xaxis": "x",
         "yaxis": "y"
        },
        {
         "alignmentgroup": "True",
         "bingroup": "x",
         "hovertemplate": "followers=34600000<br>Country=%{x}<br>count=%{y}<extra></extra>",
         "legendgroup": "34600000",
         "marker": {
          "color": "#B6E880",
          "pattern": {
           "shape": ""
          }
         },
         "name": "34600000",
         "offsetgroup": "34600000",
         "orientation": "v",
         "showlegend": true,
         "type": "histogram",
         "x": [
          "CA",
          "CA"
         ],
         "xaxis": "x",
         "yaxis": "y"
        },
        {
         "alignmentgroup": "True",
         "bingroup": "x",
         "hovertemplate": "followers=34400000<br>Country=%{x}<br>count=%{y}<extra></extra>",
         "legendgroup": "34400000",
         "marker": {
          "color": "#FF97FF",
          "pattern": {
           "shape": ""
          }
         },
         "name": "34400000",
         "offsetgroup": "34400000",
         "orientation": "v",
         "showlegend": true,
         "type": "histogram",
         "x": [
          "US",
          "US"
         ],
         "xaxis": "x",
         "yaxis": "y"
        },
        {
         "alignmentgroup": "True",
         "bingroup": "x",
         "hovertemplate": "followers=34100000<br>Country=%{x}<br>count=%{y}<extra></extra>",
         "legendgroup": "34100000",
         "marker": {
          "color": "#FECB52",
          "pattern": {
           "shape": ""
          }
         },
         "name": "34100000",
         "offsetgroup": "34100000",
         "orientation": "v",
         "showlegend": true,
         "type": "histogram",
         "x": [
          "TH",
          "TH"
         ],
         "xaxis": "x",
         "yaxis": "y"
        },
        {
         "alignmentgroup": "True",
         "bingroup": "x",
         "hovertemplate": "followers=33800000<br>Country=%{x}<br>count=%{y}<extra></extra>",
         "legendgroup": "33800000",
         "marker": {
          "color": "#636efa",
          "pattern": {
           "shape": ""
          }
         },
         "name": "33800000",
         "offsetgroup": "33800000",
         "orientation": "v",
         "showlegend": true,
         "type": "histogram",
         "x": [
          "IN",
          "IN"
         ],
         "xaxis": "x",
         "yaxis": "y"
        },
        {
         "alignmentgroup": "True",
         "bingroup": "x",
         "hovertemplate": "followers=33500000<br>Country=%{x}<br>count=%{y}<extra></extra>",
         "legendgroup": "33500000",
         "marker": {
          "color": "#EF553B",
          "pattern": {
           "shape": ""
          }
         },
         "name": "33500000",
         "offsetgroup": "33500000",
         "orientation": "v",
         "showlegend": true,
         "type": "histogram",
         "x": [
          "CO",
          "CO"
         ],
         "xaxis": "x",
         "yaxis": "y"
        },
        {
         "alignmentgroup": "True",
         "bingroup": "x",
         "hovertemplate": "followers=33200000<br>Country=%{x}<br>count=%{y}<extra></extra>",
         "legendgroup": "33200000",
         "marker": {
          "color": "#00cc96",
          "pattern": {
           "shape": ""
          }
         },
         "name": "33200000",
         "offsetgroup": "33200000",
         "orientation": "v",
         "showlegend": true,
         "type": "histogram",
         "x": [
          "US",
          "US",
          "US",
          "US"
         ],
         "xaxis": "x",
         "yaxis": "y"
        },
        {
         "alignmentgroup": "True",
         "bingroup": "x",
         "hovertemplate": "followers=33100000<br>Country=%{x}<br>count=%{y}<extra></extra>",
         "legendgroup": "33100000",
         "marker": {
          "color": "#ab63fa",
          "pattern": {
           "shape": ""
          }
         },
         "name": "33100000",
         "offsetgroup": "33100000",
         "orientation": "v",
         "showlegend": true,
         "type": "histogram",
         "x": [
          "ES\r\n",
          "US",
          "ES\r\n",
          "US"
         ],
         "xaxis": "x",
         "yaxis": "y"
        },
        {
         "alignmentgroup": "True",
         "bingroup": "x",
         "hovertemplate": "followers=32900000<br>Country=%{x}<br>count=%{y}<extra></extra>",
         "legendgroup": "32900000",
         "marker": {
          "color": "#FFA15A",
          "pattern": {
           "shape": ""
          }
         },
         "name": "32900000",
         "offsetgroup": "32900000",
         "orientation": "v",
         "showlegend": true,
         "type": "histogram",
         "x": [
          "IN",
          "IN",
          "IN",
          "IN"
         ],
         "xaxis": "x",
         "yaxis": "y"
        },
        {
         "alignmentgroup": "True",
         "bingroup": "x",
         "hovertemplate": "followers=32800000<br>Country=%{x}<br>count=%{y}<extra></extra>",
         "legendgroup": "32800000",
         "marker": {
          "color": "#19d3f3",
          "pattern": {
           "shape": ""
          }
         },
         "name": "32800000",
         "offsetgroup": "32800000",
         "orientation": "v",
         "showlegend": true,
         "type": "histogram",
         "x": [
          "IN",
          "IN"
         ],
         "xaxis": "x",
         "yaxis": "y"
        },
        {
         "alignmentgroup": "True",
         "bingroup": "x",
         "hovertemplate": "followers=32700000<br>Country=%{x}<br>count=%{y}<extra></extra>",
         "legendgroup": "32700000",
         "marker": {
          "color": "#FF6692",
          "pattern": {
           "shape": ""
          }
         },
         "name": "32700000",
         "offsetgroup": "32700000",
         "orientation": "v",
         "showlegend": true,
         "type": "histogram",
         "x": [
          "IN",
          "US",
          "US",
          "IN",
          "US",
          "US"
         ],
         "xaxis": "x",
         "yaxis": "y"
        },
        {
         "alignmentgroup": "True",
         "bingroup": "x",
         "hovertemplate": "followers=32600000<br>Country=%{x}<br>count=%{y}<extra></extra>",
         "legendgroup": "32600000",
         "marker": {
          "color": "#B6E880",
          "pattern": {
           "shape": ""
          }
         },
         "name": "32600000",
         "offsetgroup": "32600000",
         "orientation": "v",
         "showlegend": true,
         "type": "histogram",
         "x": [
          "IN",
          "IN"
         ],
         "xaxis": "x",
         "yaxis": "y"
        },
        {
         "alignmentgroup": "True",
         "bingroup": "x",
         "hovertemplate": "followers=32500000<br>Country=%{x}<br>count=%{y}<extra></extra>",
         "legendgroup": "32500000",
         "marker": {
          "color": "#FF97FF",
          "pattern": {
           "shape": ""
          }
         },
         "name": "32500000",
         "offsetgroup": "32500000",
         "orientation": "v",
         "showlegend": true,
         "type": "histogram",
         "x": [
          "GB",
          "GB"
         ],
         "xaxis": "x",
         "yaxis": "y"
        },
        {
         "alignmentgroup": "True",
         "bingroup": "x",
         "hovertemplate": "followers=32200000<br>Country=%{x}<br>count=%{y}<extra></extra>",
         "legendgroup": "32200000",
         "marker": {
          "color": "#FECB52",
          "pattern": {
           "shape": ""
          }
         },
         "name": "32200000",
         "offsetgroup": "32200000",
         "orientation": "v",
         "showlegend": true,
         "type": "histogram",
         "x": [
          "US",
          "US"
         ],
         "xaxis": "x",
         "yaxis": "y"
        },
        {
         "alignmentgroup": "True",
         "bingroup": "x",
         "hovertemplate": "followers=32100000<br>Country=%{x}<br>count=%{y}<extra></extra>",
         "legendgroup": "32100000",
         "marker": {
          "color": "#636efa",
          "pattern": {
           "shape": ""
          }
         },
         "name": "32100000",
         "offsetgroup": "32100000",
         "orientation": "v",
         "showlegend": true,
         "type": "histogram",
         "x": [
          "US",
          "US"
         ],
         "xaxis": "x",
         "yaxis": "y"
        },
        {
         "alignmentgroup": "True",
         "bingroup": "x",
         "hovertemplate": "followers=32000000<br>Country=%{x}<br>count=%{y}<extra></extra>",
         "legendgroup": "32000000",
         "marker": {
          "color": "#EF553B",
          "pattern": {
           "shape": ""
          }
         },
         "name": "32000000",
         "offsetgroup": "32000000",
         "orientation": "v",
         "showlegend": true,
         "type": "histogram",
         "x": [
          "IN",
          "IN"
         ],
         "xaxis": "x",
         "yaxis": "y"
        },
        {
         "alignmentgroup": "True",
         "bingroup": "x",
         "hovertemplate": "followers=31800000<br>Country=%{x}<br>count=%{y}<extra></extra>",
         "legendgroup": "31800000",
         "marker": {
          "color": "#00cc96",
          "pattern": {
           "shape": ""
          }
         },
         "name": "31800000",
         "offsetgroup": "31800000",
         "orientation": "v",
         "showlegend": true,
         "type": "histogram",
         "x": [
          "IN",
          "US",
          "IN",
          "US"
         ],
         "xaxis": "x",
         "yaxis": "y"
        },
        {
         "alignmentgroup": "True",
         "bingroup": "x",
         "hovertemplate": "followers=31300000<br>Country=%{x}<br>count=%{y}<extra></extra>",
         "legendgroup": "31300000",
         "marker": {
          "color": "#ab63fa",
          "pattern": {
           "shape": ""
          }
         },
         "name": "31300000",
         "offsetgroup": "31300000",
         "orientation": "v",
         "showlegend": true,
         "type": "histogram",
         "x": [
          "MX",
          "IN",
          "MX",
          "IN"
         ],
         "xaxis": "x",
         "yaxis": "y"
        },
        {
         "alignmentgroup": "True",
         "bingroup": "x",
         "hovertemplate": "followers=31200000<br>Country=%{x}<br>count=%{y}<extra></extra>",
         "legendgroup": "31200000",
         "marker": {
          "color": "#FFA15A",
          "pattern": {
           "shape": ""
          }
         },
         "name": "31200000",
         "offsetgroup": "31200000",
         "orientation": "v",
         "showlegend": true,
         "type": "histogram",
         "x": [
          "TH",
          "AR",
          "TH",
          "AR"
         ],
         "xaxis": "x",
         "yaxis": "y"
        },
        {
         "alignmentgroup": "True",
         "bingroup": "x",
         "hovertemplate": "followers=30800000<br>Country=%{x}<br>count=%{y}<extra></extra>",
         "legendgroup": "30800000",
         "marker": {
          "color": "#19d3f3",
          "pattern": {
           "shape": ""
          }
         },
         "name": "30800000",
         "offsetgroup": "30800000",
         "orientation": "v",
         "showlegend": true,
         "type": "histogram",
         "x": [
          null,
          "US",
          null,
          "US"
         ],
         "xaxis": "x",
         "yaxis": "y"
        },
        {
         "alignmentgroup": "True",
         "bingroup": "x",
         "hovertemplate": "followers=30700000<br>Country=%{x}<br>count=%{y}<extra></extra>",
         "legendgroup": "30700000",
         "marker": {
          "color": "#FF6692",
          "pattern": {
           "shape": ""
          }
         },
         "name": "30700000",
         "offsetgroup": "30700000",
         "orientation": "v",
         "showlegend": true,
         "type": "histogram",
         "x": [
          "IN",
          "IN"
         ],
         "xaxis": "x",
         "yaxis": "y"
        },
        {
         "alignmentgroup": "True",
         "bingroup": "x",
         "hovertemplate": "followers=30600000<br>Country=%{x}<br>count=%{y}<extra></extra>",
         "legendgroup": "30600000",
         "marker": {
          "color": "#B6E880",
          "pattern": {
           "shape": ""
          }
         },
         "name": "30600000",
         "offsetgroup": "30600000",
         "orientation": "v",
         "showlegend": true,
         "type": "histogram",
         "x": [
          null,
          null
         ],
         "xaxis": "x",
         "yaxis": "y"
        },
        {
         "alignmentgroup": "True",
         "bingroup": "x",
         "hovertemplate": "followers=30500000<br>Country=%{x}<br>count=%{y}<extra></extra>",
         "legendgroup": "30500000",
         "marker": {
          "color": "#FF97FF",
          "pattern": {
           "shape": ""
          }
         },
         "name": "30500000",
         "offsetgroup": "30500000",
         "orientation": "v",
         "showlegend": true,
         "type": "histogram",
         "x": [
          null,
          "BR",
          null,
          "BR"
         ],
         "xaxis": "x",
         "yaxis": "y"
        },
        {
         "alignmentgroup": "True",
         "bingroup": "x",
         "hovertemplate": "followers=30400000<br>Country=%{x}<br>count=%{y}<extra></extra>",
         "legendgroup": "30400000",
         "marker": {
          "color": "#FECB52",
          "pattern": {
           "shape": ""
          }
         },
         "name": "30400000",
         "offsetgroup": "30400000",
         "orientation": "v",
         "showlegend": true,
         "type": "histogram",
         "x": [
          "US",
          "US"
         ],
         "xaxis": "x",
         "yaxis": "y"
        },
        {
         "alignmentgroup": "True",
         "bingroup": "x",
         "hovertemplate": "followers=30200000<br>Country=%{x}<br>count=%{y}<extra></extra>",
         "legendgroup": "30200000",
         "marker": {
          "color": "#636efa",
          "pattern": {
           "shape": ""
          }
         },
         "name": "30200000",
         "offsetgroup": "30200000",
         "orientation": "v",
         "showlegend": true,
         "type": "histogram",
         "x": [
          null,
          "ID",
          "IN",
          null,
          "ID",
          "IN"
         ],
         "xaxis": "x",
         "yaxis": "y"
        },
        {
         "alignmentgroup": "True",
         "bingroup": "x",
         "hovertemplate": "followers=30000000<br>Country=%{x}<br>count=%{y}<extra></extra>",
         "legendgroup": "30000000",
         "marker": {
          "color": "#EF553B",
          "pattern": {
           "shape": ""
          }
         },
         "name": "30000000",
         "offsetgroup": "30000000",
         "orientation": "v",
         "showlegend": true,
         "type": "histogram",
         "x": [
          "IN",
          "IN"
         ],
         "xaxis": "x",
         "yaxis": "y"
        },
        {
         "alignmentgroup": "True",
         "bingroup": "x",
         "hovertemplate": "followers=29800000<br>Country=%{x}<br>count=%{y}<extra></extra>",
         "legendgroup": "29800000",
         "marker": {
          "color": "#00cc96",
          "pattern": {
           "shape": ""
          }
         },
         "name": "29800000",
         "offsetgroup": "29800000",
         "orientation": "v",
         "showlegend": true,
         "type": "histogram",
         "x": [
          "ID",
          "ID"
         ],
         "xaxis": "x",
         "yaxis": "y"
        },
        {
         "alignmentgroup": "True",
         "bingroup": "x",
         "hovertemplate": "followers=29700000<br>Country=%{x}<br>count=%{y}<extra></extra>",
         "legendgroup": "29700000",
         "marker": {
          "color": "#ab63fa",
          "pattern": {
           "shape": ""
          }
         },
         "name": "29700000",
         "offsetgroup": "29700000",
         "orientation": "v",
         "showlegend": true,
         "type": "histogram",
         "x": [
          "US",
          "US",
          "US",
          "US"
         ],
         "xaxis": "x",
         "yaxis": "y"
        },
        {
         "alignmentgroup": "True",
         "bingroup": "x",
         "hovertemplate": "followers=29600000<br>Country=%{x}<br>count=%{y}<extra></extra>",
         "legendgroup": "29600000",
         "marker": {
          "color": "#FFA15A",
          "pattern": {
           "shape": ""
          }
         },
         "name": "29600000",
         "offsetgroup": "29600000",
         "orientation": "v",
         "showlegend": true,
         "type": "histogram",
         "x": [
          "NL",
          "US",
          "NL",
          "US"
         ],
         "xaxis": "x",
         "yaxis": "y"
        },
        {
         "alignmentgroup": "True",
         "bingroup": "x",
         "hovertemplate": "followers=29500000<br>Country=%{x}<br>count=%{y}<extra></extra>",
         "legendgroup": "29500000",
         "marker": {
          "color": "#19d3f3",
          "pattern": {
           "shape": ""
          }
         },
         "name": "29500000",
         "offsetgroup": "29500000",
         "orientation": "v",
         "showlegend": true,
         "type": "histogram",
         "x": [
          "US",
          "US"
         ],
         "xaxis": "x",
         "yaxis": "y"
        },
        {
         "alignmentgroup": "True",
         "bingroup": "x",
         "hovertemplate": "followers=29400000<br>Country=%{x}<br>count=%{y}<extra></extra>",
         "legendgroup": "29400000",
         "marker": {
          "color": "#FF6692",
          "pattern": {
           "shape": ""
          }
         },
         "name": "29400000",
         "offsetgroup": "29400000",
         "orientation": "v",
         "showlegend": true,
         "type": "histogram",
         "x": [
          null,
          null
         ],
         "xaxis": "x",
         "yaxis": "y"
        },
        {
         "alignmentgroup": "True",
         "bingroup": "x",
         "hovertemplate": "followers=29200000<br>Country=%{x}<br>count=%{y}<extra></extra>",
         "legendgroup": "29200000",
         "marker": {
          "color": "#B6E880",
          "pattern": {
           "shape": ""
          }
         },
         "name": "29200000",
         "offsetgroup": "29200000",
         "orientation": "v",
         "showlegend": true,
         "type": "histogram",
         "x": [
          "IN",
          "IN"
         ],
         "xaxis": "x",
         "yaxis": "y"
        },
        {
         "alignmentgroup": "True",
         "bingroup": "x",
         "hovertemplate": "followers=29100000<br>Country=%{x}<br>count=%{y}<extra></extra>",
         "legendgroup": "29100000",
         "marker": {
          "color": "#FF97FF",
          "pattern": {
           "shape": ""
          }
         },
         "name": "29100000",
         "offsetgroup": "29100000",
         "orientation": "v",
         "showlegend": true,
         "type": "histogram",
         "x": [
          "ES",
          "ES"
         ],
         "xaxis": "x",
         "yaxis": "y"
        },
        {
         "alignmentgroup": "True",
         "bingroup": "x",
         "hovertemplate": "followers=29000000<br>Country=%{x}<br>count=%{y}<extra></extra>",
         "legendgroup": "29000000",
         "marker": {
          "color": "#FECB52",
          "pattern": {
           "shape": ""
          }
         },
         "name": "29000000",
         "offsetgroup": "29000000",
         "orientation": "v",
         "showlegend": true,
         "type": "histogram",
         "x": [
          "US",
          "US"
         ],
         "xaxis": "x",
         "yaxis": "y"
        },
        {
         "alignmentgroup": "True",
         "bingroup": "x",
         "hovertemplate": "followers=28600000<br>Country=%{x}<br>count=%{y}<extra></extra>",
         "legendgroup": "28600000",
         "marker": {
          "color": "#636efa",
          "pattern": {
           "shape": ""
          }
         },
         "name": "28600000",
         "offsetgroup": "28600000",
         "orientation": "v",
         "showlegend": true,
         "type": "histogram",
         "x": [
          "US",
          null,
          "CA",
          "US",
          null,
          "CA"
         ],
         "xaxis": "x",
         "yaxis": "y"
        },
        {
         "alignmentgroup": "True",
         "bingroup": "x",
         "hovertemplate": "followers=28500000<br>Country=%{x}<br>count=%{y}<extra></extra>",
         "legendgroup": "28500000",
         "marker": {
          "color": "#EF553B",
          "pattern": {
           "shape": ""
          }
         },
         "name": "28500000",
         "offsetgroup": "28500000",
         "orientation": "v",
         "showlegend": true,
         "type": "histogram",
         "x": [
          "IE",
          "IE"
         ],
         "xaxis": "x",
         "yaxis": "y"
        },
        {
         "alignmentgroup": "True",
         "bingroup": "x",
         "hovertemplate": "followers=28400000<br>Country=%{x}<br>count=%{y}<extra></extra>",
         "legendgroup": "28400000",
         "marker": {
          "color": "#00cc96",
          "pattern": {
           "shape": ""
          }
         },
         "name": "28400000",
         "offsetgroup": "28400000",
         "orientation": "v",
         "showlegend": true,
         "type": "histogram",
         "x": [
          "IN",
          null,
          "IN",
          null
         ],
         "xaxis": "x",
         "yaxis": "y"
        },
        {
         "alignmentgroup": "True",
         "bingroup": "x",
         "hovertemplate": "followers=28300000<br>Country=%{x}<br>count=%{y}<extra></extra>",
         "legendgroup": "28300000",
         "marker": {
          "color": "#ab63fa",
          "pattern": {
           "shape": ""
          }
         },
         "name": "28300000",
         "offsetgroup": "28300000",
         "orientation": "v",
         "showlegend": true,
         "type": "histogram",
         "x": [
          "US",
          "US"
         ],
         "xaxis": "x",
         "yaxis": "y"
        },
        {
         "alignmentgroup": "True",
         "bingroup": "x",
         "hovertemplate": "followers=28100000<br>Country=%{x}<br>count=%{y}<extra></extra>",
         "legendgroup": "28100000",
         "marker": {
          "color": "#FFA15A",
          "pattern": {
           "shape": ""
          }
         },
         "name": "28100000",
         "offsetgroup": "28100000",
         "orientation": "v",
         "showlegend": true,
         "type": "histogram",
         "x": [
          null,
          "IN",
          null,
          "IN"
         ],
         "xaxis": "x",
         "yaxis": "y"
        },
        {
         "alignmentgroup": "True",
         "bingroup": "x",
         "hovertemplate": "followers=27800000<br>Country=%{x}<br>count=%{y}<extra></extra>",
         "legendgroup": "27800000",
         "marker": {
          "color": "#19d3f3",
          "pattern": {
           "shape": ""
          }
         },
         "name": "27800000",
         "offsetgroup": "27800000",
         "orientation": "v",
         "showlegend": true,
         "type": "histogram",
         "x": [
          null,
          "US",
          "US",
          "US",
          null,
          null,
          "US",
          "US",
          "US",
          null
         ],
         "xaxis": "x",
         "yaxis": "y"
        },
        {
         "alignmentgroup": "True",
         "bingroup": "x",
         "hovertemplate": "followers=27600000<br>Country=%{x}<br>count=%{y}<extra></extra>",
         "legendgroup": "27600000",
         "marker": {
          "color": "#FF6692",
          "pattern": {
           "shape": ""
          }
         },
         "name": "27600000",
         "offsetgroup": "27600000",
         "orientation": "v",
         "showlegend": true,
         "type": "histogram",
         "x": [
          "IN",
          null,
          "IN",
          null
         ],
         "xaxis": "x",
         "yaxis": "y"
        },
        {
         "alignmentgroup": "True",
         "bingroup": "x",
         "hovertemplate": "followers=27500000<br>Country=%{x}<br>count=%{y}<extra></extra>",
         "legendgroup": "27500000",
         "marker": {
          "color": "#B6E880",
          "pattern": {
           "shape": ""
          }
         },
         "name": "27500000",
         "offsetgroup": "27500000",
         "orientation": "v",
         "showlegend": true,
         "type": "histogram",
         "x": [
          "PK",
          "IN",
          "PK",
          "IN"
         ],
         "xaxis": "x",
         "yaxis": "y"
        },
        {
         "alignmentgroup": "True",
         "bingroup": "x",
         "hovertemplate": "followers=27400000<br>Country=%{x}<br>count=%{y}<extra></extra>",
         "legendgroup": "27400000",
         "marker": {
          "color": "#FF97FF",
          "pattern": {
           "shape": ""
          }
         },
         "name": "27400000",
         "offsetgroup": "27400000",
         "orientation": "v",
         "showlegend": true,
         "type": "histogram",
         "x": [
          "US",
          "IE",
          "US",
          "IE"
         ],
         "xaxis": "x",
         "yaxis": "y"
        },
        {
         "alignmentgroup": "True",
         "bingroup": "x",
         "hovertemplate": "followers=27100000<br>Country=%{x}<br>count=%{y}<extra></extra>",
         "legendgroup": "27100000",
         "marker": {
          "color": "#FECB52",
          "pattern": {
           "shape": ""
          }
         },
         "name": "27100000",
         "offsetgroup": "27100000",
         "orientation": "v",
         "showlegend": true,
         "type": "histogram",
         "x": [
          "CO",
          "CO"
         ],
         "xaxis": "x",
         "yaxis": "y"
        },
        {
         "alignmentgroup": "True",
         "bingroup": "x",
         "hovertemplate": "followers=27000000<br>Country=%{x}<br>count=%{y}<extra></extra>",
         "legendgroup": "27000000",
         "marker": {
          "color": "#636efa",
          "pattern": {
           "shape": ""
          }
         },
         "name": "27000000",
         "offsetgroup": "27000000",
         "orientation": "v",
         "showlegend": true,
         "type": "histogram",
         "x": [
          "US",
          "US"
         ],
         "xaxis": "x",
         "yaxis": "y"
        },
        {
         "alignmentgroup": "True",
         "bingroup": "x",
         "hovertemplate": "followers=26900000<br>Country=%{x}<br>count=%{y}<extra></extra>",
         "legendgroup": "26900000",
         "marker": {
          "color": "#EF553B",
          "pattern": {
           "shape": ""
          }
         },
         "name": "26900000",
         "offsetgroup": "26900000",
         "orientation": "v",
         "showlegend": true,
         "type": "histogram",
         "x": [
          "PH",
          "PH"
         ],
         "xaxis": "x",
         "yaxis": "y"
        },
        {
         "alignmentgroup": "True",
         "bingroup": "x",
         "hovertemplate": "followers=26800000<br>Country=%{x}<br>count=%{y}<extra></extra>",
         "legendgroup": "26800000",
         "marker": {
          "color": "#00cc96",
          "pattern": {
           "shape": ""
          }
         },
         "name": "26800000",
         "offsetgroup": "26800000",
         "orientation": "v",
         "showlegend": true,
         "type": "histogram",
         "x": [
          "IN",
          "IN",
          "IN",
          "IN"
         ],
         "xaxis": "x",
         "yaxis": "y"
        },
        {
         "alignmentgroup": "True",
         "bingroup": "x",
         "hovertemplate": "followers=26600000<br>Country=%{x}<br>count=%{y}<extra></extra>",
         "legendgroup": "26600000",
         "marker": {
          "color": "#ab63fa",
          "pattern": {
           "shape": ""
          }
         },
         "name": "26600000",
         "offsetgroup": "26600000",
         "orientation": "v",
         "showlegend": true,
         "type": "histogram",
         "x": [
          "US",
          null,
          "US",
          null
         ],
         "xaxis": "x",
         "yaxis": "y"
        },
        {
         "alignmentgroup": "True",
         "bingroup": "x",
         "hovertemplate": "followers=26300000<br>Country=%{x}<br>count=%{y}<extra></extra>",
         "legendgroup": "26300000",
         "marker": {
          "color": "#FFA15A",
          "pattern": {
           "shape": ""
          }
         },
         "name": "26300000",
         "offsetgroup": "26300000",
         "orientation": "v",
         "showlegend": true,
         "type": "histogram",
         "x": [
          "US",
          "IN",
          "US",
          "IN"
         ],
         "xaxis": "x",
         "yaxis": "y"
        },
        {
         "alignmentgroup": "True",
         "bingroup": "x",
         "hovertemplate": "followers=26200000<br>Country=%{x}<br>count=%{y}<extra></extra>",
         "legendgroup": "26200000",
         "marker": {
          "color": "#19d3f3",
          "pattern": {
           "shape": ""
          }
         },
         "name": "26200000",
         "offsetgroup": "26200000",
         "orientation": "v",
         "showlegend": true,
         "type": "histogram",
         "x": [
          "AU",
          "IN",
          "AU",
          "IN"
         ],
         "xaxis": "x",
         "yaxis": "y"
        },
        {
         "alignmentgroup": "True",
         "bingroup": "x",
         "hovertemplate": "followers=26100000<br>Country=%{x}<br>count=%{y}<extra></extra>",
         "legendgroup": "26100000",
         "marker": {
          "color": "#FF6692",
          "pattern": {
           "shape": ""
          }
         },
         "name": "26100000",
         "offsetgroup": "26100000",
         "orientation": "v",
         "showlegend": true,
         "type": "histogram",
         "x": [
          null,
          "IN",
          "US",
          null,
          "IN",
          "US"
         ],
         "xaxis": "x",
         "yaxis": "y"
        },
        {
         "alignmentgroup": "True",
         "bingroup": "x",
         "hovertemplate": "followers=26000000<br>Country=%{x}<br>count=%{y}<extra></extra>",
         "legendgroup": "26000000",
         "marker": {
          "color": "#B6E880",
          "pattern": {
           "shape": ""
          }
         },
         "name": "26000000",
         "offsetgroup": "26000000",
         "orientation": "v",
         "showlegend": true,
         "type": "histogram",
         "x": [
          "US",
          "US"
         ],
         "xaxis": "x",
         "yaxis": "y"
        },
        {
         "alignmentgroup": "True",
         "bingroup": "x",
         "hovertemplate": "followers=25900000<br>Country=%{x}<br>count=%{y}<extra></extra>",
         "legendgroup": "25900000",
         "marker": {
          "color": "#FF97FF",
          "pattern": {
           "shape": ""
          }
         },
         "name": "25900000",
         "offsetgroup": "25900000",
         "orientation": "v",
         "showlegend": true,
         "type": "histogram",
         "x": [
          "US",
          "KW",
          "US",
          "US",
          "KW",
          "US"
         ],
         "xaxis": "x",
         "yaxis": "y"
        },
        {
         "alignmentgroup": "True",
         "bingroup": "x",
         "hovertemplate": "followers=25700000<br>Country=%{x}<br>count=%{y}<extra></extra>",
         "legendgroup": "25700000",
         "marker": {
          "color": "#FECB52",
          "pattern": {
           "shape": ""
          }
         },
         "name": "25700000",
         "offsetgroup": "25700000",
         "orientation": "v",
         "showlegend": true,
         "type": "histogram",
         "x": [
          "US",
          "US"
         ],
         "xaxis": "x",
         "yaxis": "y"
        },
        {
         "alignmentgroup": "True",
         "bingroup": "x",
         "hovertemplate": "followers=25600000<br>Country=%{x}<br>count=%{y}<extra></extra>",
         "legendgroup": "25600000",
         "marker": {
          "color": "#636efa",
          "pattern": {
           "shape": ""
          }
         },
         "name": "25600000",
         "offsetgroup": "25600000",
         "orientation": "v",
         "showlegend": true,
         "type": "histogram",
         "x": [
          "US",
          "CO",
          "US",
          "CO"
         ],
         "xaxis": "x",
         "yaxis": "y"
        },
        {
         "alignmentgroup": "True",
         "bingroup": "x",
         "hovertemplate": "followers=25500000<br>Country=%{x}<br>count=%{y}<extra></extra>",
         "legendgroup": "25500000",
         "marker": {
          "color": "#EF553B",
          "pattern": {
           "shape": ""
          }
         },
         "name": "25500000",
         "offsetgroup": "25500000",
         "orientation": "v",
         "showlegend": true,
         "type": "histogram",
         "x": [
          null,
          "US",
          null,
          "US"
         ],
         "xaxis": "x",
         "yaxis": "y"
        },
        {
         "alignmentgroup": "True",
         "bingroup": "x",
         "hovertemplate": "followers=25400000<br>Country=%{x}<br>count=%{y}<extra></extra>",
         "legendgroup": "25400000",
         "marker": {
          "color": "#00cc96",
          "pattern": {
           "shape": ""
          }
         },
         "name": "25400000",
         "offsetgroup": "25400000",
         "orientation": "v",
         "showlegend": true,
         "type": "histogram",
         "x": [
          "KR",
          null,
          "KR",
          null
         ],
         "xaxis": "x",
         "yaxis": "y"
        },
        {
         "alignmentgroup": "True",
         "bingroup": "x",
         "hovertemplate": "followers=25300000<br>Country=%{x}<br>count=%{y}<extra></extra>",
         "legendgroup": "25300000",
         "marker": {
          "color": "#ab63fa",
          "pattern": {
           "shape": ""
          }
         },
         "name": "25300000",
         "offsetgroup": "25300000",
         "orientation": "v",
         "showlegend": true,
         "type": "histogram",
         "x": [
          "BR",
          "US",
          "BR",
          "US"
         ],
         "xaxis": "x",
         "yaxis": "y"
        },
        {
         "alignmentgroup": "True",
         "bingroup": "x",
         "hovertemplate": "followers=25200000<br>Country=%{x}<br>count=%{y}<extra></extra>",
         "legendgroup": "25200000",
         "marker": {
          "color": "#FFA15A",
          "pattern": {
           "shape": ""
          }
         },
         "name": "25200000",
         "offsetgroup": "25200000",
         "orientation": "v",
         "showlegend": true,
         "type": "histogram",
         "x": [
          "US",
          "US"
         ],
         "xaxis": "x",
         "yaxis": "y"
        },
        {
         "alignmentgroup": "True",
         "bingroup": "x",
         "hovertemplate": "followers=25000000<br>Country=%{x}<br>count=%{y}<extra></extra>",
         "legendgroup": "25000000",
         "marker": {
          "color": "#19d3f3",
          "pattern": {
           "shape": ""
          }
         },
         "name": "25000000",
         "offsetgroup": "25000000",
         "orientation": "v",
         "showlegend": true,
         "type": "histogram",
         "x": [
          "US",
          null,
          "US",
          null
         ],
         "xaxis": "x",
         "yaxis": "y"
        },
        {
         "alignmentgroup": "True",
         "bingroup": "x",
         "hovertemplate": "followers=24900000<br>Country=%{x}<br>count=%{y}<extra></extra>",
         "legendgroup": "24900000",
         "marker": {
          "color": "#FF6692",
          "pattern": {
           "shape": ""
          }
         },
         "name": "24900000",
         "offsetgroup": "24900000",
         "orientation": "v",
         "showlegend": true,
         "type": "histogram",
         "x": [
          "SO",
          "IE",
          "US",
          "SO",
          "IE",
          "US"
         ],
         "xaxis": "x",
         "yaxis": "y"
        },
        {
         "alignmentgroup": "True",
         "bingroup": "x",
         "hovertemplate": "followers=24800000<br>Country=%{x}<br>count=%{y}<extra></extra>",
         "legendgroup": "24800000",
         "marker": {
          "color": "#B6E880",
          "pattern": {
           "shape": ""
          }
         },
         "name": "24800000",
         "offsetgroup": "24800000",
         "orientation": "v",
         "showlegend": true,
         "type": "histogram",
         "x": [
          null,
          "US",
          null,
          "US"
         ],
         "xaxis": "x",
         "yaxis": "y"
        },
        {
         "alignmentgroup": "True",
         "bingroup": "x",
         "hovertemplate": "followers=24700000<br>Country=%{x}<br>count=%{y}<extra></extra>",
         "legendgroup": "24700000",
         "marker": {
          "color": "#FF97FF",
          "pattern": {
           "shape": ""
          }
         },
         "name": "24700000",
         "offsetgroup": "24700000",
         "orientation": "v",
         "showlegend": true,
         "type": "histogram",
         "x": [
          "ID",
          null,
          "ID",
          null
         ],
         "xaxis": "x",
         "yaxis": "y"
        },
        {
         "alignmentgroup": "True",
         "bingroup": "x",
         "hovertemplate": "followers=24600000<br>Country=%{x}<br>count=%{y}<extra></extra>",
         "legendgroup": "24600000",
         "marker": {
          "color": "#FECB52",
          "pattern": {
           "shape": ""
          }
         },
         "name": "24600000",
         "offsetgroup": "24600000",
         "orientation": "v",
         "showlegend": true,
         "type": "histogram",
         "x": [
          "BR",
          "BR"
         ],
         "xaxis": "x",
         "yaxis": "y"
        },
        {
         "alignmentgroup": "True",
         "bingroup": "x",
         "hovertemplate": "followers=24500000<br>Country=%{x}<br>count=%{y}<extra></extra>",
         "legendgroup": "24500000",
         "marker": {
          "color": "#636efa",
          "pattern": {
           "shape": ""
          }
         },
         "name": "24500000",
         "offsetgroup": "24500000",
         "orientation": "v",
         "showlegend": true,
         "type": "histogram",
         "x": [
          "ES",
          "CA",
          "ES",
          "CA"
         ],
         "xaxis": "x",
         "yaxis": "y"
        },
        {
         "alignmentgroup": "True",
         "bingroup": "x",
         "hovertemplate": "followers=24400000<br>Country=%{x}<br>count=%{y}<extra></extra>",
         "legendgroup": "24400000",
         "marker": {
          "color": "#EF553B",
          "pattern": {
           "shape": ""
          }
         },
         "name": "24400000",
         "offsetgroup": "24400000",
         "orientation": "v",
         "showlegend": true,
         "type": "histogram",
         "x": [
          "US",
          "US",
          "US",
          "US"
         ],
         "xaxis": "x",
         "yaxis": "y"
        },
        {
         "alignmentgroup": "True",
         "bingroup": "x",
         "hovertemplate": "followers=24200000<br>Country=%{x}<br>count=%{y}<extra></extra>",
         "legendgroup": "24200000",
         "marker": {
          "color": "#00cc96",
          "pattern": {
           "shape": ""
          }
         },
         "name": "24200000",
         "offsetgroup": "24200000",
         "orientation": "v",
         "showlegend": true,
         "type": "histogram",
         "x": [
          "US",
          "US",
          "US",
          "US"
         ],
         "xaxis": "x",
         "yaxis": "y"
        },
        {
         "alignmentgroup": "True",
         "bingroup": "x",
         "hovertemplate": "followers=24100000<br>Country=%{x}<br>count=%{y}<extra></extra>",
         "legendgroup": "24100000",
         "marker": {
          "color": "#ab63fa",
          "pattern": {
           "shape": ""
          }
         },
         "name": "24100000",
         "offsetgroup": "24100000",
         "orientation": "v",
         "showlegend": true,
         "type": "histogram",
         "x": [
          null,
          null
         ],
         "xaxis": "x",
         "yaxis": "y"
        },
        {
         "alignmentgroup": "True",
         "bingroup": "x",
         "hovertemplate": "followers=24000000<br>Country=%{x}<br>count=%{y}<extra></extra>",
         "legendgroup": "24000000",
         "marker": {
          "color": "#FFA15A",
          "pattern": {
           "shape": ""
          }
         },
         "name": "24000000",
         "offsetgroup": "24000000",
         "orientation": "v",
         "showlegend": true,
         "type": "histogram",
         "x": [
          "US",
          "IN",
          "US",
          "US",
          "US",
          "IN",
          "US",
          "US"
         ],
         "xaxis": "x",
         "yaxis": "y"
        }
       ],
       "layout": {
        "barmode": "relative",
        "legend": {
         "title": {
          "text": "followers"
         },
         "tracegroupgap": 0
        },
        "margin": {
         "t": 60
        },
        "template": {
         "data": {
          "bar": [
           {
            "error_x": {
             "color": "#2a3f5f"
            },
            "error_y": {
             "color": "#2a3f5f"
            },
            "marker": {
             "line": {
              "color": "#E5ECF6",
              "width": 0.5
             },
             "pattern": {
              "fillmode": "overlay",
              "size": 10,
              "solidity": 0.2
             }
            },
            "type": "bar"
           }
          ],
          "barpolar": [
           {
            "marker": {
             "line": {
              "color": "#E5ECF6",
              "width": 0.5
             },
             "pattern": {
              "fillmode": "overlay",
              "size": 10,
              "solidity": 0.2
             }
            },
            "type": "barpolar"
           }
          ],
          "carpet": [
           {
            "aaxis": {
             "endlinecolor": "#2a3f5f",
             "gridcolor": "white",
             "linecolor": "white",
             "minorgridcolor": "white",
             "startlinecolor": "#2a3f5f"
            },
            "baxis": {
             "endlinecolor": "#2a3f5f",
             "gridcolor": "white",
             "linecolor": "white",
             "minorgridcolor": "white",
             "startlinecolor": "#2a3f5f"
            },
            "type": "carpet"
           }
          ],
          "choropleth": [
           {
            "colorbar": {
             "outlinewidth": 0,
             "ticks": ""
            },
            "type": "choropleth"
           }
          ],
          "contour": [
           {
            "colorbar": {
             "outlinewidth": 0,
             "ticks": ""
            },
            "colorscale": [
             [
              0,
              "#0d0887"
             ],
             [
              0.1111111111111111,
              "#46039f"
             ],
             [
              0.2222222222222222,
              "#7201a8"
             ],
             [
              0.3333333333333333,
              "#9c179e"
             ],
             [
              0.4444444444444444,
              "#bd3786"
             ],
             [
              0.5555555555555556,
              "#d8576b"
             ],
             [
              0.6666666666666666,
              "#ed7953"
             ],
             [
              0.7777777777777778,
              "#fb9f3a"
             ],
             [
              0.8888888888888888,
              "#fdca26"
             ],
             [
              1,
              "#f0f921"
             ]
            ],
            "type": "contour"
           }
          ],
          "contourcarpet": [
           {
            "colorbar": {
             "outlinewidth": 0,
             "ticks": ""
            },
            "type": "contourcarpet"
           }
          ],
          "heatmap": [
           {
            "colorbar": {
             "outlinewidth": 0,
             "ticks": ""
            },
            "colorscale": [
             [
              0,
              "#0d0887"
             ],
             [
              0.1111111111111111,
              "#46039f"
             ],
             [
              0.2222222222222222,
              "#7201a8"
             ],
             [
              0.3333333333333333,
              "#9c179e"
             ],
             [
              0.4444444444444444,
              "#bd3786"
             ],
             [
              0.5555555555555556,
              "#d8576b"
             ],
             [
              0.6666666666666666,
              "#ed7953"
             ],
             [
              0.7777777777777778,
              "#fb9f3a"
             ],
             [
              0.8888888888888888,
              "#fdca26"
             ],
             [
              1,
              "#f0f921"
             ]
            ],
            "type": "heatmap"
           }
          ],
          "heatmapgl": [
           {
            "colorbar": {
             "outlinewidth": 0,
             "ticks": ""
            },
            "colorscale": [
             [
              0,
              "#0d0887"
             ],
             [
              0.1111111111111111,
              "#46039f"
             ],
             [
              0.2222222222222222,
              "#7201a8"
             ],
             [
              0.3333333333333333,
              "#9c179e"
             ],
             [
              0.4444444444444444,
              "#bd3786"
             ],
             [
              0.5555555555555556,
              "#d8576b"
             ],
             [
              0.6666666666666666,
              "#ed7953"
             ],
             [
              0.7777777777777778,
              "#fb9f3a"
             ],
             [
              0.8888888888888888,
              "#fdca26"
             ],
             [
              1,
              "#f0f921"
             ]
            ],
            "type": "heatmapgl"
           }
          ],
          "histogram": [
           {
            "marker": {
             "pattern": {
              "fillmode": "overlay",
              "size": 10,
              "solidity": 0.2
             }
            },
            "type": "histogram"
           }
          ],
          "histogram2d": [
           {
            "colorbar": {
             "outlinewidth": 0,
             "ticks": ""
            },
            "colorscale": [
             [
              0,
              "#0d0887"
             ],
             [
              0.1111111111111111,
              "#46039f"
             ],
             [
              0.2222222222222222,
              "#7201a8"
             ],
             [
              0.3333333333333333,
              "#9c179e"
             ],
             [
              0.4444444444444444,
              "#bd3786"
             ],
             [
              0.5555555555555556,
              "#d8576b"
             ],
             [
              0.6666666666666666,
              "#ed7953"
             ],
             [
              0.7777777777777778,
              "#fb9f3a"
             ],
             [
              0.8888888888888888,
              "#fdca26"
             ],
             [
              1,
              "#f0f921"
             ]
            ],
            "type": "histogram2d"
           }
          ],
          "histogram2dcontour": [
           {
            "colorbar": {
             "outlinewidth": 0,
             "ticks": ""
            },
            "colorscale": [
             [
              0,
              "#0d0887"
             ],
             [
              0.1111111111111111,
              "#46039f"
             ],
             [
              0.2222222222222222,
              "#7201a8"
             ],
             [
              0.3333333333333333,
              "#9c179e"
             ],
             [
              0.4444444444444444,
              "#bd3786"
             ],
             [
              0.5555555555555556,
              "#d8576b"
             ],
             [
              0.6666666666666666,
              "#ed7953"
             ],
             [
              0.7777777777777778,
              "#fb9f3a"
             ],
             [
              0.8888888888888888,
              "#fdca26"
             ],
             [
              1,
              "#f0f921"
             ]
            ],
            "type": "histogram2dcontour"
           }
          ],
          "mesh3d": [
           {
            "colorbar": {
             "outlinewidth": 0,
             "ticks": ""
            },
            "type": "mesh3d"
           }
          ],
          "parcoords": [
           {
            "line": {
             "colorbar": {
              "outlinewidth": 0,
              "ticks": ""
             }
            },
            "type": "parcoords"
           }
          ],
          "pie": [
           {
            "automargin": true,
            "type": "pie"
           }
          ],
          "scatter": [
           {
            "fillpattern": {
             "fillmode": "overlay",
             "size": 10,
             "solidity": 0.2
            },
            "type": "scatter"
           }
          ],
          "scatter3d": [
           {
            "line": {
             "colorbar": {
              "outlinewidth": 0,
              "ticks": ""
             }
            },
            "marker": {
             "colorbar": {
              "outlinewidth": 0,
              "ticks": ""
             }
            },
            "type": "scatter3d"
           }
          ],
          "scattercarpet": [
           {
            "marker": {
             "colorbar": {
              "outlinewidth": 0,
              "ticks": ""
             }
            },
            "type": "scattercarpet"
           }
          ],
          "scattergeo": [
           {
            "marker": {
             "colorbar": {
              "outlinewidth": 0,
              "ticks": ""
             }
            },
            "type": "scattergeo"
           }
          ],
          "scattergl": [
           {
            "marker": {
             "colorbar": {
              "outlinewidth": 0,
              "ticks": ""
             }
            },
            "type": "scattergl"
           }
          ],
          "scattermapbox": [
           {
            "marker": {
             "colorbar": {
              "outlinewidth": 0,
              "ticks": ""
             }
            },
            "type": "scattermapbox"
           }
          ],
          "scatterpolar": [
           {
            "marker": {
             "colorbar": {
              "outlinewidth": 0,
              "ticks": ""
             }
            },
            "type": "scatterpolar"
           }
          ],
          "scatterpolargl": [
           {
            "marker": {
             "colorbar": {
              "outlinewidth": 0,
              "ticks": ""
             }
            },
            "type": "scatterpolargl"
           }
          ],
          "scatterternary": [
           {
            "marker": {
             "colorbar": {
              "outlinewidth": 0,
              "ticks": ""
             }
            },
            "type": "scatterternary"
           }
          ],
          "surface": [
           {
            "colorbar": {
             "outlinewidth": 0,
             "ticks": ""
            },
            "colorscale": [
             [
              0,
              "#0d0887"
             ],
             [
              0.1111111111111111,
              "#46039f"
             ],
             [
              0.2222222222222222,
              "#7201a8"
             ],
             [
              0.3333333333333333,
              "#9c179e"
             ],
             [
              0.4444444444444444,
              "#bd3786"
             ],
             [
              0.5555555555555556,
              "#d8576b"
             ],
             [
              0.6666666666666666,
              "#ed7953"
             ],
             [
              0.7777777777777778,
              "#fb9f3a"
             ],
             [
              0.8888888888888888,
              "#fdca26"
             ],
             [
              1,
              "#f0f921"
             ]
            ],
            "type": "surface"
           }
          ],
          "table": [
           {
            "cells": {
             "fill": {
              "color": "#EBF0F8"
             },
             "line": {
              "color": "white"
             }
            },
            "header": {
             "fill": {
              "color": "#C8D4E3"
             },
             "line": {
              "color": "white"
             }
            },
            "type": "table"
           }
          ]
         },
         "layout": {
          "annotationdefaults": {
           "arrowcolor": "#2a3f5f",
           "arrowhead": 0,
           "arrowwidth": 1
          },
          "autotypenumbers": "strict",
          "coloraxis": {
           "colorbar": {
            "outlinewidth": 0,
            "ticks": ""
           }
          },
          "colorscale": {
           "diverging": [
            [
             0,
             "#8e0152"
            ],
            [
             0.1,
             "#c51b7d"
            ],
            [
             0.2,
             "#de77ae"
            ],
            [
             0.3,
             "#f1b6da"
            ],
            [
             0.4,
             "#fde0ef"
            ],
            [
             0.5,
             "#f7f7f7"
            ],
            [
             0.6,
             "#e6f5d0"
            ],
            [
             0.7,
             "#b8e186"
            ],
            [
             0.8,
             "#7fbc41"
            ],
            [
             0.9,
             "#4d9221"
            ],
            [
             1,
             "#276419"
            ]
           ],
           "sequential": [
            [
             0,
             "#0d0887"
            ],
            [
             0.1111111111111111,
             "#46039f"
            ],
            [
             0.2222222222222222,
             "#7201a8"
            ],
            [
             0.3333333333333333,
             "#9c179e"
            ],
            [
             0.4444444444444444,
             "#bd3786"
            ],
            [
             0.5555555555555556,
             "#d8576b"
            ],
            [
             0.6666666666666666,
             "#ed7953"
            ],
            [
             0.7777777777777778,
             "#fb9f3a"
            ],
            [
             0.8888888888888888,
             "#fdca26"
            ],
            [
             1,
             "#f0f921"
            ]
           ],
           "sequentialminus": [
            [
             0,
             "#0d0887"
            ],
            [
             0.1111111111111111,
             "#46039f"
            ],
            [
             0.2222222222222222,
             "#7201a8"
            ],
            [
             0.3333333333333333,
             "#9c179e"
            ],
            [
             0.4444444444444444,
             "#bd3786"
            ],
            [
             0.5555555555555556,
             "#d8576b"
            ],
            [
             0.6666666666666666,
             "#ed7953"
            ],
            [
             0.7777777777777778,
             "#fb9f3a"
            ],
            [
             0.8888888888888888,
             "#fdca26"
            ],
            [
             1,
             "#f0f921"
            ]
           ]
          },
          "colorway": [
           "#636efa",
           "#EF553B",
           "#00cc96",
           "#ab63fa",
           "#FFA15A",
           "#19d3f3",
           "#FF6692",
           "#B6E880",
           "#FF97FF",
           "#FECB52"
          ],
          "font": {
           "color": "#2a3f5f"
          },
          "geo": {
           "bgcolor": "white",
           "lakecolor": "white",
           "landcolor": "#E5ECF6",
           "showlakes": true,
           "showland": true,
           "subunitcolor": "white"
          },
          "hoverlabel": {
           "align": "left"
          },
          "hovermode": "closest",
          "mapbox": {
           "style": "light"
          },
          "paper_bgcolor": "white",
          "plot_bgcolor": "#E5ECF6",
          "polar": {
           "angularaxis": {
            "gridcolor": "white",
            "linecolor": "white",
            "ticks": ""
           },
           "bgcolor": "#E5ECF6",
           "radialaxis": {
            "gridcolor": "white",
            "linecolor": "white",
            "ticks": ""
           }
          },
          "scene": {
           "xaxis": {
            "backgroundcolor": "#E5ECF6",
            "gridcolor": "white",
            "gridwidth": 2,
            "linecolor": "white",
            "showbackground": true,
            "ticks": "",
            "zerolinecolor": "white"
           },
           "yaxis": {
            "backgroundcolor": "#E5ECF6",
            "gridcolor": "white",
            "gridwidth": 2,
            "linecolor": "white",
            "showbackground": true,
            "ticks": "",
            "zerolinecolor": "white"
           },
           "zaxis": {
            "backgroundcolor": "#E5ECF6",
            "gridcolor": "white",
            "gridwidth": 2,
            "linecolor": "white",
            "showbackground": true,
            "ticks": "",
            "zerolinecolor": "white"
           }
          },
          "shapedefaults": {
           "line": {
            "color": "#2a3f5f"
           }
          },
          "ternary": {
           "aaxis": {
            "gridcolor": "white",
            "linecolor": "white",
            "ticks": ""
           },
           "baxis": {
            "gridcolor": "white",
            "linecolor": "white",
            "ticks": ""
           },
           "bgcolor": "#E5ECF6",
           "caxis": {
            "gridcolor": "white",
            "linecolor": "white",
            "ticks": ""
           }
          },
          "title": {
           "x": 0.05
          },
          "xaxis": {
           "automargin": true,
           "gridcolor": "white",
           "linecolor": "white",
           "ticks": "",
           "title": {
            "standoff": 15
           },
           "zerolinecolor": "white",
           "zerolinewidth": 2
          },
          "yaxis": {
           "automargin": true,
           "gridcolor": "white",
           "linecolor": "white",
           "ticks": "",
           "title": {
            "standoff": 15
           },
           "zerolinecolor": "white",
           "zerolinewidth": 2
          }
         }
        },
        "xaxis": {
         "anchor": "y",
         "domain": [
          0,
          1
         ],
         "title": {
          "text": "Country"
         }
        },
        "yaxis": {
         "anchor": "x",
         "domain": [
          0,
          1
         ],
         "title": {
          "text": "count"
         }
        }
       }
      },
      "text/html": [
       "<div>                            <div id=\"8461137e-bdf3-45c4-b655-3618126b9cb3\" class=\"plotly-graph-div\" style=\"height:525px; width:100%;\"></div>            <script type=\"text/javascript\">                require([\"plotly\"], function(Plotly) {                    window.PLOTLYENV=window.PLOTLYENV || {};                                    if (document.getElementById(\"8461137e-bdf3-45c4-b655-3618126b9cb3\")) {                    Plotly.newPlot(                        \"8461137e-bdf3-45c4-b655-3618126b9cb3\",                        [{\"alignmentgroup\":\"True\",\"bingroup\":\"x\",\"hovertemplate\":\"followers=220000000<br>Country=%{x}<br>count=%{y}<extra></extra>\",\"legendgroup\":\"220000000\",\"marker\":{\"color\":\"#636efa\",\"pattern\":{\"shape\":\"\"}},\"name\":\"220000000\",\"offsetgroup\":\"220000000\",\"orientation\":\"v\",\"showlegend\":true,\"x\":[\"IN\",\"IN\",\"IN\",\"IN\",\"IN\",\"IN\",\"IN\",\"IN\",\"IN\"],\"xaxis\":\"x\",\"yaxis\":\"y\",\"type\":\"histogram\"},{\"alignmentgroup\":\"True\",\"bingroup\":\"x\",\"hovertemplate\":\"followers=138000000<br>Country=%{x}<br>count=%{y}<extra></extra>\",\"legendgroup\":\"138000000\",\"marker\":{\"color\":\"#EF553B\",\"pattern\":{\"shape\":\"\"}},\"name\":\"138000000\",\"offsetgroup\":\"138000000\",\"orientation\":\"v\",\"showlegend\":true,\"x\":[\"US\",\"US\",\"US\",\"US\",\"US\",\"US\",\"US\",\"US\",\"US\"],\"xaxis\":\"x\",\"yaxis\":\"y\",\"type\":\"histogram\"},{\"alignmentgroup\":\"True\",\"bingroup\":\"x\",\"hovertemplate\":\"followers=137000000<br>Country=%{x}<br>count=%{y}<extra></extra>\",\"legendgroup\":\"137000000\",\"marker\":{\"color\":\"#00cc96\",\"pattern\":{\"shape\":\"\"}},\"name\":\"137000000\",\"offsetgroup\":\"137000000\",\"orientation\":\"v\",\"showlegend\":true,\"x\":[\"IN\",\"IN\",\"IN\",\"IN\",\"IN\",\"IN\",\"IN\",\"IN\",\"IN\"],\"xaxis\":\"x\",\"yaxis\":\"y\",\"type\":\"histogram\"},{\"alignmentgroup\":\"True\",\"bingroup\":\"x\",\"hovertemplate\":\"followers=111000000<br>Country=%{x}<br>count=%{y}<extra></extra>\",\"legendgroup\":\"111000000\",\"marker\":{\"color\":\"#ab63fa\",\"pattern\":{\"shape\":\"\"}},\"name\":\"111000000\",\"offsetgroup\":\"111000000\",\"orientation\":\"v\",\"showlegend\":true,\"x\":[\"US\",\"US\",\"US\",\"US\",\"US\",\"US\",\"US\",\"US\",\"US\"],\"xaxis\":\"x\",\"yaxis\":\"y\",\"type\":\"histogram\"},{\"alignmentgroup\":\"True\",\"bingroup\":\"x\",\"hovertemplate\":\"followers=98100000<br>Country=%{x}<br>count=%{y}<extra></extra>\",\"legendgroup\":\"98100000\",\"marker\":{\"color\":\"#FFA15A\",\"pattern\":{\"shape\":\"\"}},\"name\":\"98100000\",\"offsetgroup\":\"98100000\",\"orientation\":\"v\",\"showlegend\":true,\"x\":[\"US\",\"US\",\"US\",\"US\",\"US\",\"US\",\"US\",\"US\",\"US\"],\"xaxis\":\"x\",\"yaxis\":\"y\",\"type\":\"histogram\"},{\"alignmentgroup\":\"True\",\"bingroup\":\"x\",\"hovertemplate\":\"followers=97300000<br>Country=%{x}<br>count=%{y}<extra></extra>\",\"legendgroup\":\"97300000\",\"marker\":{\"color\":\"#19d3f3\",\"pattern\":{\"shape\":\"\"}},\"name\":\"97300000\",\"offsetgroup\":\"97300000\",\"orientation\":\"v\",\"showlegend\":true,\"x\":[\"US\",\"US\",\"US\",\"US\",\"US\",\"US\",\"US\",\"US\",\"US\"],\"xaxis\":\"x\",\"yaxis\":\"y\",\"type\":\"histogram\"},{\"alignmentgroup\":\"True\",\"bingroup\":\"x\",\"hovertemplate\":\"followers=97200000<br>Country=%{x}<br>count=%{y}<extra></extra>\",\"legendgroup\":\"97200000\",\"marker\":{\"color\":\"#FF6692\",\"pattern\":{\"shape\":\"\"}},\"name\":\"97200000\",\"offsetgroup\":\"97200000\",\"orientation\":\"v\",\"showlegend\":true,\"x\":[\"US\",\"US\",\"US\",\"US\",\"US\",\"US\",\"US\",\"US\",\"US\"],\"xaxis\":\"x\",\"yaxis\":\"y\",\"type\":\"histogram\"},{\"alignmentgroup\":\"True\",\"bingroup\":\"x\",\"hovertemplate\":\"followers=89400000<br>Country=%{x}<br>count=%{y}<extra></extra>\",\"legendgroup\":\"89400000\",\"marker\":{\"color\":\"#B6E880\",\"pattern\":{\"shape\":\"\"}},\"name\":\"89400000\",\"offsetgroup\":\"89400000\",\"orientation\":\"v\",\"showlegend\":true,\"x\":[null,null,null,null,null,null,null,null],\"xaxis\":\"x\",\"yaxis\":\"y\",\"type\":\"histogram\"},{\"alignmentgroup\":\"True\",\"bingroup\":\"x\",\"hovertemplate\":\"followers=85500000<br>Country=%{x}<br>count=%{y}<extra></extra>\",\"legendgroup\":\"85500000\",\"marker\":{\"color\":\"#FF97FF\",\"pattern\":{\"shape\":\"\"}},\"name\":\"85500000\",\"offsetgroup\":\"85500000\",\"orientation\":\"v\",\"showlegend\":true,\"x\":[\"IN\",\"IN\",\"IN\",\"IN\",\"IN\",\"IN\",\"IN\",\"IN\"],\"xaxis\":\"x\",\"yaxis\":\"y\",\"type\":\"histogram\"},{\"alignmentgroup\":\"True\",\"bingroup\":\"x\",\"hovertemplate\":\"followers=83500000<br>Country=%{x}<br>count=%{y}<extra></extra>\",\"legendgroup\":\"83500000\",\"marker\":{\"color\":\"#FECB52\",\"pattern\":{\"shape\":\"\"}},\"name\":\"83500000\",\"offsetgroup\":\"83500000\",\"orientation\":\"v\",\"showlegend\":true,\"x\":[\"US\",\"US\",\"US\",\"US\",\"US\",\"US\",\"US\",\"US\"],\"xaxis\":\"x\",\"yaxis\":\"y\",\"type\":\"histogram\"},{\"alignmentgroup\":\"True\",\"bingroup\":\"x\",\"hovertemplate\":\"followers=77000000<br>Country=%{x}<br>count=%{y}<extra></extra>\",\"legendgroup\":\"77000000\",\"marker\":{\"color\":\"#636efa\",\"pattern\":{\"shape\":\"\"}},\"name\":\"77000000\",\"offsetgroup\":\"77000000\",\"orientation\":\"v\",\"showlegend\":true,\"x\":[\"US\",\"US\",\"US\",\"US\",\"US\",\"US\",\"US\",\"US\"],\"xaxis\":\"x\",\"yaxis\":\"y\",\"type\":\"histogram\"},{\"alignmentgroup\":\"True\",\"bingroup\":\"x\",\"hovertemplate\":\"followers=75100000<br>Country=%{x}<br>count=%{y}<extra></extra>\",\"legendgroup\":\"75100000\",\"marker\":{\"color\":\"#EF553B\",\"pattern\":{\"shape\":\"\"}},\"name\":\"75100000\",\"offsetgroup\":\"75100000\",\"orientation\":\"v\",\"showlegend\":true,\"x\":[\"KR\",\"KR\",\"KR\",\"KR\",\"KR\",\"KR\",\"KR\",\"KR\"],\"xaxis\":\"x\",\"yaxis\":\"y\",\"type\":\"histogram\"},{\"alignmentgroup\":\"True\",\"bingroup\":\"x\",\"hovertemplate\":\"followers=72000000<br>Country=%{x}<br>count=%{y}<extra></extra>\",\"legendgroup\":\"72000000\",\"marker\":{\"color\":\"#00cc96\",\"pattern\":{\"shape\":\"\"}},\"name\":\"72000000\",\"offsetgroup\":\"72000000\",\"orientation\":\"v\",\"showlegend\":true,\"x\":[\"IN\",\"IN\",\"IN\",\"IN\",\"IN\",\"IN\",\"IN\",\"IN\"],\"xaxis\":\"x\",\"yaxis\":\"y\",\"type\":\"histogram\"},{\"alignmentgroup\":\"True\",\"bingroup\":\"x\",\"hovertemplate\":\"followers=69400000<br>Country=%{x}<br>count=%{y}<extra></extra>\",\"legendgroup\":\"69400000\",\"marker\":{\"color\":\"#ab63fa\",\"pattern\":{\"shape\":\"\"}},\"name\":\"69400000\",\"offsetgroup\":\"69400000\",\"orientation\":\"v\",\"showlegend\":true,\"x\":[\"CA\",\"CA\",\"CA\",\"CA\",\"CA\",\"CA\",\"CA\",\"CA\"],\"xaxis\":\"x\",\"yaxis\":\"y\",\"type\":\"histogram\"},{\"alignmentgroup\":\"True\",\"bingroup\":\"x\",\"hovertemplate\":\"followers=69300000<br>Country=%{x}<br>count=%{y}<extra></extra>\",\"legendgroup\":\"69300000\",\"marker\":{\"color\":\"#FFA15A\",\"pattern\":{\"shape\":\"\"}},\"name\":\"69300000\",\"offsetgroup\":\"69300000\",\"orientation\":\"v\",\"showlegend\":true,\"x\":[\"IN\",\"IN\",\"IN\",\"IN\",\"IN\",\"IN\",\"IN\",\"IN\"],\"xaxis\":\"x\",\"yaxis\":\"y\",\"type\":\"histogram\"},{\"alignmentgroup\":\"True\",\"bingroup\":\"x\",\"hovertemplate\":\"followers=69100000<br>Country=%{x}<br>count=%{y}<extra></extra>\",\"legendgroup\":\"69100000\",\"marker\":{\"color\":\"#19d3f3\",\"pattern\":{\"shape\":\"\"}},\"name\":\"69100000\",\"offsetgroup\":\"69100000\",\"orientation\":\"v\",\"showlegend\":true,\"x\":[null,null,null,null,null,null,null,null],\"xaxis\":\"x\",\"yaxis\":\"y\",\"type\":\"histogram\"},{\"alignmentgroup\":\"True\",\"bingroup\":\"x\",\"hovertemplate\":\"followers=67300000<br>Country=%{x}<br>count=%{y}<extra></extra>\",\"legendgroup\":\"67300000\",\"marker\":{\"color\":\"#FF6692\",\"pattern\":{\"shape\":\"\"}},\"name\":\"67300000\",\"offsetgroup\":\"67300000\",\"orientation\":\"v\",\"showlegend\":true,\"x\":[\"KR\",\"KR\",\"KR\",\"KR\",\"KR\",\"KR\",\"KR\",\"KR\"],\"xaxis\":\"x\",\"yaxis\":\"y\",\"type\":\"histogram\"},{\"alignmentgroup\":\"True\",\"bingroup\":\"x\",\"hovertemplate\":\"followers=65800000<br>Country=%{x}<br>count=%{y}<extra></extra>\",\"legendgroup\":\"65800000\",\"marker\":{\"color\":\"#B6E880\",\"pattern\":{\"shape\":\"\"}},\"name\":\"65800000\",\"offsetgroup\":\"65800000\",\"orientation\":\"v\",\"showlegend\":true,\"x\":[\"BR\",\"BR\",\"BR\",\"BR\",\"BR\",\"BR\",\"BR\",\"BR\"],\"xaxis\":\"x\",\"yaxis\":\"y\",\"type\":\"histogram\"},{\"alignmentgroup\":\"True\",\"bingroup\":\"x\",\"hovertemplate\":\"followers=62100000<br>Country=%{x}<br>count=%{y}<extra></extra>\",\"legendgroup\":\"62100000\",\"marker\":{\"color\":\"#FF97FF\",\"pattern\":{\"shape\":\"\"}},\"name\":\"62100000\",\"offsetgroup\":\"62100000\",\"orientation\":\"v\",\"showlegend\":true,\"x\":[\"IN\",\"IN\",\"IN\",\"IN\",\"IN\",\"IN\",\"IN\",\"IN\"],\"xaxis\":\"x\",\"yaxis\":\"y\",\"type\":\"histogram\"},{\"alignmentgroup\":\"True\",\"bingroup\":\"x\",\"hovertemplate\":\"followers=60700000<br>Country=%{x}<br>count=%{y}<extra></extra>\",\"legendgroup\":\"60700000\",\"marker\":{\"color\":\"#FECB52\",\"pattern\":{\"shape\":\"\"}},\"name\":\"60700000\",\"offsetgroup\":\"60700000\",\"orientation\":\"v\",\"showlegend\":true,\"x\":[\"IN\",\"IN\",\"IN\",\"IN\",\"IN\",\"IN\",\"IN\",\"IN\"],\"xaxis\":\"x\",\"yaxis\":\"y\",\"type\":\"histogram\"},{\"alignmentgroup\":\"True\",\"bingroup\":\"x\",\"hovertemplate\":\"followers=58700000<br>Country=%{x}<br>count=%{y}<extra></extra>\",\"legendgroup\":\"58700000\",\"marker\":{\"color\":\"#636efa\",\"pattern\":{\"shape\":\"\"}},\"name\":\"58700000\",\"offsetgroup\":\"58700000\",\"orientation\":\"v\",\"showlegend\":true,\"x\":[\"US\",\"US\",\"US\",\"US\",\"US\",\"US\",\"US\",\"US\"],\"xaxis\":\"x\",\"yaxis\":\"y\",\"type\":\"histogram\"},{\"alignmentgroup\":\"True\",\"bingroup\":\"x\",\"hovertemplate\":\"followers=57800000<br>Country=%{x}<br>count=%{y}<extra></extra>\",\"legendgroup\":\"57800000\",\"marker\":{\"color\":\"#EF553B\",\"pattern\":{\"shape\":\"\"}},\"name\":\"57800000\",\"offsetgroup\":\"57800000\",\"orientation\":\"v\",\"showlegend\":true,\"x\":[\"US\",\"US\",\"US\",\"US\",\"US\",\"US\",\"US\",\"US\"],\"xaxis\":\"x\",\"yaxis\":\"y\",\"type\":\"histogram\"},{\"alignmentgroup\":\"True\",\"bingroup\":\"x\",\"hovertemplate\":\"followers=57300000<br>Country=%{x}<br>count=%{y}<extra></extra>\",\"legendgroup\":\"57300000\",\"marker\":{\"color\":\"#00cc96\",\"pattern\":{\"shape\":\"\"}},\"name\":\"57300000\",\"offsetgroup\":\"57300000\",\"orientation\":\"v\",\"showlegend\":true,\"x\":[\"US\",\"US\",\"US\",\"US\",\"US\",\"US\",\"US\",\"US\"],\"xaxis\":\"x\",\"yaxis\":\"y\",\"type\":\"histogram\"},{\"alignmentgroup\":\"True\",\"bingroup\":\"x\",\"hovertemplate\":\"followers=57100000<br>Country=%{x}<br>count=%{y}<extra></extra>\",\"legendgroup\":\"57100000\",\"marker\":{\"color\":\"#ab63fa\",\"pattern\":{\"shape\":\"\"}},\"name\":\"57100000\",\"offsetgroup\":\"57100000\",\"orientation\":\"v\",\"showlegend\":true,\"x\":[\"IN\",\"IN\",\"IN\",\"IN\",\"IN\",\"IN\",\"IN\",\"IN\"],\"xaxis\":\"x\",\"yaxis\":\"y\",\"type\":\"histogram\"},{\"alignmentgroup\":\"True\",\"bingroup\":\"x\",\"hovertemplate\":\"followers=55500000<br>Country=%{x}<br>count=%{y}<extra></extra>\",\"legendgroup\":\"55500000\",\"marker\":{\"color\":\"#FFA15A\",\"pattern\":{\"shape\":\"\"}},\"name\":\"55500000\",\"offsetgroup\":\"55500000\",\"orientation\":\"v\",\"showlegend\":true,\"x\":[\"US\",\"US\",\"US\",\"US\",\"US\",\"US\",\"US\",\"US\"],\"xaxis\":\"x\",\"yaxis\":\"y\",\"type\":\"histogram\"},{\"alignmentgroup\":\"True\",\"bingroup\":\"x\",\"hovertemplate\":\"followers=53400000<br>Country=%{x}<br>count=%{y}<extra></extra>\",\"legendgroup\":\"53400000\",\"marker\":{\"color\":\"#19d3f3\",\"pattern\":{\"shape\":\"\"}},\"name\":\"53400000\",\"offsetgroup\":\"53400000\",\"orientation\":\"v\",\"showlegend\":true,\"x\":[\"IN\",\"IN\",\"IN\",\"IN\",\"IN\",\"IN\",\"IN\",\"IN\"],\"xaxis\":\"x\",\"yaxis\":\"y\",\"type\":\"histogram\"},{\"alignmentgroup\":\"True\",\"bingroup\":\"x\",\"hovertemplate\":\"followers=52800000<br>Country=%{x}<br>count=%{y}<extra></extra>\",\"legendgroup\":\"52800000\",\"marker\":{\"color\":\"#FF6692\",\"pattern\":{\"shape\":\"\"}},\"name\":\"52800000\",\"offsetgroup\":\"52800000\",\"orientation\":\"v\",\"showlegend\":true,\"x\":[\"IN\",\"IN\",\"IN\",\"IN\",\"IN\",\"IN\",\"IN\",\"IN\"],\"xaxis\":\"x\",\"yaxis\":\"y\",\"type\":\"histogram\"},{\"alignmentgroup\":\"True\",\"bingroup\":\"x\",\"hovertemplate\":\"followers=52600000<br>Country=%{x}<br>count=%{y}<extra></extra>\",\"legendgroup\":\"52600000\",\"marker\":{\"color\":\"#B6E880\",\"pattern\":{\"shape\":\"\"}},\"name\":\"52600000\",\"offsetgroup\":\"52600000\",\"orientation\":\"v\",\"showlegend\":true,\"x\":[null,null,null,null,null,null,null,null],\"xaxis\":\"x\",\"yaxis\":\"y\",\"type\":\"histogram\"},{\"alignmentgroup\":\"True\",\"bingroup\":\"x\",\"hovertemplate\":\"followers=52300000<br>Country=%{x}<br>count=%{y}<extra></extra>\",\"legendgroup\":\"52300000\",\"marker\":{\"color\":\"#FF97FF\",\"pattern\":{\"shape\":\"\"}},\"name\":\"52300000\",\"offsetgroup\":\"52300000\",\"orientation\":\"v\",\"showlegend\":true,\"x\":[\"IN\",\"IN\",\"IN\",\"IN\",\"IN\",\"IN\",\"IN\",\"IN\"],\"xaxis\":\"x\",\"yaxis\":\"y\",\"type\":\"histogram\"},{\"alignmentgroup\":\"True\",\"bingroup\":\"x\",\"hovertemplate\":\"followers=52100000<br>Country=%{x}<br>count=%{y}<extra></extra>\",\"legendgroup\":\"52100000\",\"marker\":{\"color\":\"#FECB52\",\"pattern\":{\"shape\":\"\"}},\"name\":\"52100000\",\"offsetgroup\":\"52100000\",\"orientation\":\"v\",\"showlegend\":true,\"x\":[null,null,null,null,null,null,null,null],\"xaxis\":\"x\",\"yaxis\":\"y\",\"type\":\"histogram\"},{\"alignmentgroup\":\"True\",\"bingroup\":\"x\",\"hovertemplate\":\"followers=52000000<br>Country=%{x}<br>count=%{y}<extra></extra>\",\"legendgroup\":\"52000000\",\"marker\":{\"color\":\"#636efa\",\"pattern\":{\"shape\":\"\"}},\"name\":\"52000000\",\"offsetgroup\":\"52000000\",\"orientation\":\"v\",\"showlegend\":true,\"x\":[\"IN\",\"IN\",\"IN\",\"IN\",\"IN\",\"IN\",\"IN\",\"IN\"],\"xaxis\":\"x\",\"yaxis\":\"y\",\"type\":\"histogram\"},{\"alignmentgroup\":\"True\",\"bingroup\":\"x\",\"hovertemplate\":\"followers=51600000<br>Country=%{x}<br>count=%{y}<extra></extra>\",\"legendgroup\":\"51600000\",\"marker\":{\"color\":\"#EF553B\",\"pattern\":{\"shape\":\"\"}},\"name\":\"51600000\",\"offsetgroup\":\"51600000\",\"orientation\":\"v\",\"showlegend\":true,\"x\":[\"IN\",\"IN\",\"IN\",\"IN\",\"IN\",\"IN\",\"IN\",\"IN\"],\"xaxis\":\"x\",\"yaxis\":\"y\",\"type\":\"histogram\"},{\"alignmentgroup\":\"True\",\"bingroup\":\"x\",\"hovertemplate\":\"followers=51500000<br>Country=%{x}<br>count=%{y}<extra></extra>\",\"legendgroup\":\"51500000\",\"marker\":{\"color\":\"#00cc96\",\"pattern\":{\"shape\":\"\"}},\"name\":\"51500000\",\"offsetgroup\":\"51500000\",\"orientation\":\"v\",\"showlegend\":true,\"x\":[null,null,null,null,null,null,null,null],\"xaxis\":\"x\",\"yaxis\":\"y\",\"type\":\"histogram\"},{\"alignmentgroup\":\"True\",\"bingroup\":\"x\",\"hovertemplate\":\"followers=51300000<br>Country=%{x}<br>count=%{y}<extra></extra>\",\"legendgroup\":\"51300000\",\"marker\":{\"color\":\"#ab63fa\",\"pattern\":{\"shape\":\"\"}},\"name\":\"51300000\",\"offsetgroup\":\"51300000\",\"orientation\":\"v\",\"showlegend\":true,\"x\":[\"IN\",\"IN\",\"IN\",\"IN\",\"IN\",\"IN\",\"IN\",\"IN\"],\"xaxis\":\"x\",\"yaxis\":\"y\",\"type\":\"histogram\"},{\"alignmentgroup\":\"True\",\"bingroup\":\"x\",\"hovertemplate\":\"followers=50900000<br>Country=%{x}<br>count=%{y}<extra></extra>\",\"legendgroup\":\"50900000\",\"marker\":{\"color\":\"#FFA15A\",\"pattern\":{\"shape\":\"\"}},\"name\":\"50900000\",\"offsetgroup\":\"50900000\",\"orientation\":\"v\",\"showlegend\":true,\"x\":[null,null,null,null,null,null,null,null],\"xaxis\":\"x\",\"yaxis\":\"y\",\"type\":\"histogram\"},{\"alignmentgroup\":\"True\",\"bingroup\":\"x\",\"hovertemplate\":\"followers=49400000<br>Country=%{x}<br>count=%{y}<extra></extra>\",\"legendgroup\":\"49400000\",\"marker\":{\"color\":\"#19d3f3\",\"pattern\":{\"shape\":\"\"}},\"name\":\"49400000\",\"offsetgroup\":\"49400000\",\"orientation\":\"v\",\"showlegend\":true,\"x\":[\"US\",\"US\",\"US\",\"US\",\"US\",\"US\",\"US\",\"US\"],\"xaxis\":\"x\",\"yaxis\":\"y\",\"type\":\"histogram\"},{\"alignmentgroup\":\"True\",\"bingroup\":\"x\",\"hovertemplate\":\"followers=46900000<br>Country=%{x}<br>count=%{y}<extra></extra>\",\"legendgroup\":\"46900000\",\"marker\":{\"color\":\"#FF6692\",\"pattern\":{\"shape\":\"\"}},\"name\":\"46900000\",\"offsetgroup\":\"46900000\",\"orientation\":\"v\",\"showlegend\":true,\"x\":[\"IN\",\"IN\",\"IN\",\"IN\",\"IN\",\"IN\",\"IN\",\"IN\"],\"xaxis\":\"x\",\"yaxis\":\"y\",\"type\":\"histogram\"},{\"alignmentgroup\":\"True\",\"bingroup\":\"x\",\"hovertemplate\":\"followers=46800000<br>Country=%{x}<br>count=%{y}<extra></extra>\",\"legendgroup\":\"46800000\",\"marker\":{\"color\":\"#B6E880\",\"pattern\":{\"shape\":\"\"}},\"name\":\"46800000\",\"offsetgroup\":\"46800000\",\"orientation\":\"v\",\"showlegend\":true,\"x\":[null,null,null,null,null,null,null,null],\"xaxis\":\"x\",\"yaxis\":\"y\",\"type\":\"histogram\"},{\"alignmentgroup\":\"True\",\"bingroup\":\"x\",\"hovertemplate\":\"followers=45900000<br>Country=%{x}<br>count=%{y}<extra></extra>\",\"legendgroup\":\"45900000\",\"marker\":{\"color\":\"#FF97FF\",\"pattern\":{\"shape\":\"\"}},\"name\":\"45900000\",\"offsetgroup\":\"45900000\",\"orientation\":\"v\",\"showlegend\":true,\"x\":[\"US\",\"US\",\"US\",\"US\",\"US\",\"US\",\"US\",\"US\",\"US\",\"US\",\"US\",\"US\",\"US\",\"US\",\"US\",\"US\"],\"xaxis\":\"x\",\"yaxis\":\"y\",\"type\":\"histogram\"},{\"alignmentgroup\":\"True\",\"bingroup\":\"x\",\"hovertemplate\":\"followers=45600000<br>Country=%{x}<br>count=%{y}<extra></extra>\",\"legendgroup\":\"45600000\",\"marker\":{\"color\":\"#FECB52\",\"pattern\":{\"shape\":\"\"}},\"name\":\"45600000\",\"offsetgroup\":\"45600000\",\"orientation\":\"v\",\"showlegend\":true,\"x\":[\"MX\",\"MX\",\"MX\",\"MX\",\"MX\",\"MX\",\"MX\",\"MX\"],\"xaxis\":\"x\",\"yaxis\":\"y\",\"type\":\"histogram\"},{\"alignmentgroup\":\"True\",\"bingroup\":\"x\",\"hovertemplate\":\"followers=45100000<br>Country=%{x}<br>count=%{y}<extra></extra>\",\"legendgroup\":\"45100000\",\"marker\":{\"color\":\"#636efa\",\"pattern\":{\"shape\":\"\"}},\"name\":\"45100000\",\"offsetgroup\":\"45100000\",\"orientation\":\"v\",\"showlegend\":true,\"x\":[\"SV\",\"SV\",\"SV\",\"SV\",\"SV\",\"SV\",\"SV\",\"SV\"],\"xaxis\":\"x\",\"yaxis\":\"y\",\"type\":\"histogram\"},{\"alignmentgroup\":\"True\",\"bingroup\":\"x\",\"hovertemplate\":\"followers=44700000<br>Country=%{x}<br>count=%{y}<extra></extra>\",\"legendgroup\":\"44700000\",\"marker\":{\"color\":\"#EF553B\",\"pattern\":{\"shape\":\"\"}},\"name\":\"44700000\",\"offsetgroup\":\"44700000\",\"orientation\":\"v\",\"showlegend\":true,\"x\":[\"IN\",\"IN\",\"IN\",\"IN\",\"IN\",\"IN\",\"IN\",\"IN\"],\"xaxis\":\"x\",\"yaxis\":\"y\",\"type\":\"histogram\"},{\"alignmentgroup\":\"True\",\"bingroup\":\"x\",\"hovertemplate\":\"followers=44200000<br>Country=%{x}<br>count=%{y}<extra></extra>\",\"legendgroup\":\"44200000\",\"marker\":{\"color\":\"#00cc96\",\"pattern\":{\"shape\":\"\"}},\"name\":\"44200000\",\"offsetgroup\":\"44200000\",\"orientation\":\"v\",\"showlegend\":true,\"x\":[\"BR\",\"BR\",\"BR\",\"BR\",\"BR\",\"BR\",\"BR\",\"BR\"],\"xaxis\":\"x\",\"yaxis\":\"y\",\"type\":\"histogram\"},{\"alignmentgroup\":\"True\",\"bingroup\":\"x\",\"hovertemplate\":\"followers=43800000<br>Country=%{x}<br>count=%{y}<extra></extra>\",\"legendgroup\":\"43800000\",\"marker\":{\"color\":\"#ab63fa\",\"pattern\":{\"shape\":\"\"}},\"name\":\"43800000\",\"offsetgroup\":\"43800000\",\"orientation\":\"v\",\"showlegend\":true,\"x\":[null,null,null,null,null,null,null,null],\"xaxis\":\"x\",\"yaxis\":\"y\",\"type\":\"histogram\"},{\"alignmentgroup\":\"True\",\"bingroup\":\"x\",\"hovertemplate\":\"followers=43700000<br>Country=%{x}<br>count=%{y}<extra></extra>\",\"legendgroup\":\"43700000\",\"marker\":{\"color\":\"#FFA15A\",\"pattern\":{\"shape\":\"\"}},\"name\":\"43700000\",\"offsetgroup\":\"43700000\",\"orientation\":\"v\",\"showlegend\":true,\"x\":[\"US\",\"US\",\"US\",\"US\",\"US\",\"US\",\"US\",\"US\"],\"xaxis\":\"x\",\"yaxis\":\"y\",\"type\":\"histogram\"},{\"alignmentgroup\":\"True\",\"bingroup\":\"x\",\"hovertemplate\":\"followers=43300000<br>Country=%{x}<br>count=%{y}<extra></extra>\",\"legendgroup\":\"43300000\",\"marker\":{\"color\":\"#19d3f3\",\"pattern\":{\"shape\":\"\"}},\"name\":\"43300000\",\"offsetgroup\":\"43300000\",\"orientation\":\"v\",\"showlegend\":true,\"x\":[\"CL\",\"CL\",\"CL\",\"CL\",\"CL\",\"CL\",\"CL\",\"CL\"],\"xaxis\":\"x\",\"yaxis\":\"y\",\"type\":\"histogram\"},{\"alignmentgroup\":\"True\",\"bingroup\":\"x\",\"hovertemplate\":\"followers=43100000<br>Country=%{x}<br>count=%{y}<extra></extra>\",\"legendgroup\":\"43100000\",\"marker\":{\"color\":\"#FF6692\",\"pattern\":{\"shape\":\"\"}},\"name\":\"43100000\",\"offsetgroup\":\"43100000\",\"orientation\":\"v\",\"showlegend\":true,\"x\":[\"BR\",\"BR\",\"BR\",\"BR\",\"BR\",\"BR\",\"BR\",\"BR\"],\"xaxis\":\"x\",\"yaxis\":\"y\",\"type\":\"histogram\"},{\"alignmentgroup\":\"True\",\"bingroup\":\"x\",\"hovertemplate\":\"followers=43000000<br>Country=%{x}<br>count=%{y}<extra></extra>\",\"legendgroup\":\"43000000\",\"marker\":{\"color\":\"#B6E880\",\"pattern\":{\"shape\":\"\"}},\"name\":\"43000000\",\"offsetgroup\":\"43000000\",\"orientation\":\"v\",\"showlegend\":true,\"x\":[\"US\",\"US\",\"US\",\"US\",\"US\",\"US\",\"US\",\"US\"],\"xaxis\":\"x\",\"yaxis\":\"y\",\"type\":\"histogram\"},{\"alignmentgroup\":\"True\",\"bingroup\":\"x\",\"hovertemplate\":\"followers=42300000<br>Country=%{x}<br>count=%{y}<extra></extra>\",\"legendgroup\":\"42300000\",\"marker\":{\"color\":\"#FF97FF\",\"pattern\":{\"shape\":\"\"}},\"name\":\"42300000\",\"offsetgroup\":\"42300000\",\"orientation\":\"v\",\"showlegend\":true,\"x\":[null,null,null,null,null,null,null,null],\"xaxis\":\"x\",\"yaxis\":\"y\",\"type\":\"histogram\"},{\"alignmentgroup\":\"True\",\"bingroup\":\"x\",\"hovertemplate\":\"followers=42000000<br>Country=%{x}<br>count=%{y}<extra></extra>\",\"legendgroup\":\"42000000\",\"marker\":{\"color\":\"#FECB52\",\"pattern\":{\"shape\":\"\"}},\"name\":\"42000000\",\"offsetgroup\":\"42000000\",\"orientation\":\"v\",\"showlegend\":true,\"x\":[\"NO\",\"NO\",\"NO\",\"NO\",\"NO\",\"NO\",\"NO\",\"NO\"],\"xaxis\":\"x\",\"yaxis\":\"y\",\"type\":\"histogram\"},{\"alignmentgroup\":\"True\",\"bingroup\":\"x\",\"hovertemplate\":\"followers=41600000<br>Country=%{x}<br>count=%{y}<extra></extra>\",\"legendgroup\":\"41600000\",\"marker\":{\"color\":\"#636efa\",\"pattern\":{\"shape\":\"\"}},\"name\":\"41600000\",\"offsetgroup\":\"41600000\",\"orientation\":\"v\",\"showlegend\":true,\"x\":[\"PR\",\"PR\",\"PR\",\"PR\",\"PR\",\"PR\",\"PR\",\"PR\"],\"xaxis\":\"x\",\"yaxis\":\"y\",\"type\":\"histogram\"},{\"alignmentgroup\":\"True\",\"bingroup\":\"x\",\"hovertemplate\":\"followers=41300000<br>Country=%{x}<br>count=%{y}<extra></extra>\",\"legendgroup\":\"41300000\",\"marker\":{\"color\":\"#EF553B\",\"pattern\":{\"shape\":\"\"}},\"name\":\"41300000\",\"offsetgroup\":\"41300000\",\"orientation\":\"v\",\"showlegend\":true,\"x\":[\"US\",\"US\",\"US\",\"US\",\"US\",\"US\",\"US\",\"US\"],\"xaxis\":\"x\",\"yaxis\":\"y\",\"type\":\"histogram\"},{\"alignmentgroup\":\"True\",\"bingroup\":\"x\",\"hovertemplate\":\"followers=40600000<br>Country=%{x}<br>count=%{y}<extra></extra>\",\"legendgroup\":\"40600000\",\"marker\":{\"color\":\"#00cc96\",\"pattern\":{\"shape\":\"\"}},\"name\":\"40600000\",\"offsetgroup\":\"40600000\",\"orientation\":\"v\",\"showlegend\":true,\"x\":[\"BY\",\"BY\",\"BY\",\"BY\",\"BY\",\"BY\",\"BY\",\"BY\"],\"xaxis\":\"x\",\"yaxis\":\"y\",\"type\":\"histogram\"},{\"alignmentgroup\":\"True\",\"bingroup\":\"x\",\"hovertemplate\":\"followers=40500000<br>Country=%{x}<br>count=%{y}<extra></extra>\",\"legendgroup\":\"40500000\",\"marker\":{\"color\":\"#ab63fa\",\"pattern\":{\"shape\":\"\"}},\"name\":\"40500000\",\"offsetgroup\":\"40500000\",\"orientation\":\"v\",\"showlegend\":true,\"x\":[\"RU\",\"IN\",\"RU\",\"IN\",\"RU\",\"IN\",\"RU\",\"IN\",\"RU\",\"IN\",\"RU\",\"IN\",\"RU\",\"IN\",\"RU\",\"IN\"],\"xaxis\":\"x\",\"yaxis\":\"y\",\"type\":\"histogram\"},{\"alignmentgroup\":\"True\",\"bingroup\":\"x\",\"hovertemplate\":\"followers=40400000<br>Country=%{x}<br>count=%{y}<extra></extra>\",\"legendgroup\":\"40400000\",\"marker\":{\"color\":\"#FFA15A\",\"pattern\":{\"shape\":\"\"}},\"name\":\"40400000\",\"offsetgroup\":\"40400000\",\"orientation\":\"v\",\"showlegend\":true,\"x\":[null,null,null,null,null,null,null,null],\"xaxis\":\"x\",\"yaxis\":\"y\",\"type\":\"histogram\"},{\"alignmentgroup\":\"True\",\"bingroup\":\"x\",\"hovertemplate\":\"followers=39800000<br>Country=%{x}<br>count=%{y}<extra></extra>\",\"legendgroup\":\"39800000\",\"marker\":{\"color\":\"#19d3f3\",\"pattern\":{\"shape\":\"\"}},\"name\":\"39800000\",\"offsetgroup\":\"39800000\",\"orientation\":\"v\",\"showlegend\":true,\"x\":[\"PH\",\"PH\",\"PH\",\"PH\",\"PH\",\"PH\",\"PH\",\"PH\"],\"xaxis\":\"x\",\"yaxis\":\"y\",\"type\":\"histogram\"},{\"alignmentgroup\":\"True\",\"bingroup\":\"x\",\"hovertemplate\":\"followers=39400000<br>Country=%{x}<br>count=%{y}<extra></extra>\",\"legendgroup\":\"39400000\",\"marker\":{\"color\":\"#FF6692\",\"pattern\":{\"shape\":\"\"}},\"name\":\"39400000\",\"offsetgroup\":\"39400000\",\"orientation\":\"v\",\"showlegend\":true,\"x\":[null,null,null,null,null,null,null,null],\"xaxis\":\"x\",\"yaxis\":\"y\",\"type\":\"histogram\"},{\"alignmentgroup\":\"True\",\"bingroup\":\"x\",\"hovertemplate\":\"followers=39200000<br>Country=%{x}<br>count=%{y}<extra></extra>\",\"legendgroup\":\"39200000\",\"marker\":{\"color\":\"#B6E880\",\"pattern\":{\"shape\":\"\"}},\"name\":\"39200000\",\"offsetgroup\":\"39200000\",\"orientation\":\"v\",\"showlegend\":true,\"x\":[\"US\",\"US\",\"US\",\"US\",\"US\",\"US\",\"US\",\"US\"],\"xaxis\":\"x\",\"yaxis\":\"y\",\"type\":\"histogram\"},{\"alignmentgroup\":\"True\",\"bingroup\":\"x\",\"hovertemplate\":\"followers=39000000<br>Country=%{x}<br>count=%{y}<extra></extra>\",\"legendgroup\":\"39000000\",\"marker\":{\"color\":\"#FF97FF\",\"pattern\":{\"shape\":\"\"}},\"name\":\"39000000\",\"offsetgroup\":\"39000000\",\"orientation\":\"v\",\"showlegend\":true,\"x\":[\"MX\",\"MX\",\"MX\",\"MX\",\"MX\",\"MX\",\"MX\",\"MX\"],\"xaxis\":\"x\",\"yaxis\":\"y\",\"type\":\"histogram\"},{\"alignmentgroup\":\"True\",\"bingroup\":\"x\",\"hovertemplate\":\"followers=38300000<br>Country=%{x}<br>count=%{y}<extra></extra>\",\"legendgroup\":\"38300000\",\"marker\":{\"color\":\"#FECB52\",\"pattern\":{\"shape\":\"\"}},\"name\":\"38300000\",\"offsetgroup\":\"38300000\",\"orientation\":\"v\",\"showlegend\":true,\"x\":[\"RU\",\"US\",\"RU\",\"US\",\"RU\",\"US\",\"RU\",\"US\",\"RU\",\"US\",\"RU\",\"US\",\"RU\",\"US\",\"RU\",\"US\"],\"xaxis\":\"x\",\"yaxis\":\"y\",\"type\":\"histogram\"},{\"alignmentgroup\":\"True\",\"bingroup\":\"x\",\"hovertemplate\":\"followers=38200000<br>Country=%{x}<br>count=%{y}<extra></extra>\",\"legendgroup\":\"38200000\",\"marker\":{\"color\":\"#636efa\",\"pattern\":{\"shape\":\"\"}},\"name\":\"38200000\",\"offsetgroup\":\"38200000\",\"orientation\":\"v\",\"showlegend\":true,\"x\":[\"IN\",\"IN\",\"IN\",\"IN\",\"IN\",\"IN\",\"IN\",\"IN\"],\"xaxis\":\"x\",\"yaxis\":\"y\",\"type\":\"histogram\"},{\"alignmentgroup\":\"True\",\"bingroup\":\"x\",\"hovertemplate\":\"followers=38100000<br>Country=%{x}<br>count=%{y}<extra></extra>\",\"legendgroup\":\"38100000\",\"marker\":{\"color\":\"#EF553B\",\"pattern\":{\"shape\":\"\"}},\"name\":\"38100000\",\"offsetgroup\":\"38100000\",\"orientation\":\"v\",\"showlegend\":true,\"x\":[\"IN\",\"IN\",\"IN\",\"IN\",\"IN\",\"IN\",\"IN\",\"IN\"],\"xaxis\":\"x\",\"yaxis\":\"y\",\"type\":\"histogram\"},{\"alignmentgroup\":\"True\",\"bingroup\":\"x\",\"hovertemplate\":\"followers=37500000<br>Country=%{x}<br>count=%{y}<extra></extra>\",\"legendgroup\":\"37500000\",\"marker\":{\"color\":\"#00cc96\",\"pattern\":{\"shape\":\"\"}},\"name\":\"37500000\",\"offsetgroup\":\"37500000\",\"orientation\":\"v\",\"showlegend\":true,\"x\":[\"BR\",\"BR\",\"BR\",\"BR\",\"BR\",\"BR\",\"BR\",\"BR\",\"BR\",\"BR\",\"BR\",\"BR\",\"BR\",\"BR\",\"BR\",\"BR\"],\"xaxis\":\"x\",\"yaxis\":\"y\",\"type\":\"histogram\"},{\"alignmentgroup\":\"True\",\"bingroup\":\"x\",\"hovertemplate\":\"followers=37400000<br>Country=%{x}<br>count=%{y}<extra></extra>\",\"legendgroup\":\"37400000\",\"marker\":{\"color\":\"#ab63fa\",\"pattern\":{\"shape\":\"\"}},\"name\":\"37400000\",\"offsetgroup\":\"37400000\",\"orientation\":\"v\",\"showlegend\":true,\"x\":[\"US\",\"IN\",\"US\",\"IN\",\"US\",\"IN\",\"US\",\"IN\",\"US\",\"IN\",\"US\",\"IN\",\"US\",\"IN\",\"US\",\"IN\"],\"xaxis\":\"x\",\"yaxis\":\"y\",\"type\":\"histogram\"},{\"alignmentgroup\":\"True\",\"bingroup\":\"x\",\"hovertemplate\":\"followers=37200000<br>Country=%{x}<br>count=%{y}<extra></extra>\",\"legendgroup\":\"37200000\",\"marker\":{\"color\":\"#FFA15A\",\"pattern\":{\"shape\":\"\"}},\"name\":\"37200000\",\"offsetgroup\":\"37200000\",\"orientation\":\"v\",\"showlegend\":true,\"x\":[null,null,null,null,null,null,null,null],\"xaxis\":\"x\",\"yaxis\":\"y\",\"type\":\"histogram\"},{\"alignmentgroup\":\"True\",\"bingroup\":\"x\",\"hovertemplate\":\"followers=36900000<br>Country=%{x}<br>count=%{y}<extra></extra>\",\"legendgroup\":\"36900000\",\"marker\":{\"color\":\"#19d3f3\",\"pattern\":{\"shape\":\"\"}},\"name\":\"36900000\",\"offsetgroup\":\"36900000\",\"orientation\":\"v\",\"showlegend\":true,\"x\":[\"US\",\"US\",\"US\",\"US\",\"US\",\"US\",\"US\",\"US\"],\"xaxis\":\"x\",\"yaxis\":\"y\",\"type\":\"histogram\"},{\"alignmentgroup\":\"True\",\"bingroup\":\"x\",\"hovertemplate\":\"followers=36800000<br>Country=%{x}<br>count=%{y}<extra></extra>\",\"legendgroup\":\"36800000\",\"marker\":{\"color\":\"#FF6692\",\"pattern\":{\"shape\":\"\"}},\"name\":\"36800000\",\"offsetgroup\":\"36800000\",\"orientation\":\"v\",\"showlegend\":true,\"x\":[\"TH\",\"TH\",\"TH\",\"TH\",\"TH\",\"TH\",\"TH\",\"TH\"],\"xaxis\":\"x\",\"yaxis\":\"y\",\"type\":\"histogram\"},{\"alignmentgroup\":\"True\",\"bingroup\":\"x\",\"hovertemplate\":\"followers=36700000<br>Country=%{x}<br>count=%{y}<extra></extra>\",\"legendgroup\":\"36700000\",\"marker\":{\"color\":\"#B6E880\",\"pattern\":{\"shape\":\"\"}},\"name\":\"36700000\",\"offsetgroup\":\"36700000\",\"orientation\":\"v\",\"showlegend\":true,\"x\":[null,null,null,null,null,null,null,null],\"xaxis\":\"x\",\"yaxis\":\"y\",\"type\":\"histogram\"},{\"alignmentgroup\":\"True\",\"bingroup\":\"x\",\"hovertemplate\":\"followers=36600000<br>Country=%{x}<br>count=%{y}<extra></extra>\",\"legendgroup\":\"36600000\",\"marker\":{\"color\":\"#FF97FF\",\"pattern\":{\"shape\":\"\"}},\"name\":\"36600000\",\"offsetgroup\":\"36600000\",\"orientation\":\"v\",\"showlegend\":true,\"x\":[\"US\",\"US\",\"US\",\"US\",\"US\",\"US\",\"US\",\"US\"],\"xaxis\":\"x\",\"yaxis\":\"y\",\"type\":\"histogram\"},{\"alignmentgroup\":\"True\",\"bingroup\":\"x\",\"hovertemplate\":\"followers=36300000<br>Country=%{x}<br>count=%{y}<extra></extra>\",\"legendgroup\":\"36300000\",\"marker\":{\"color\":\"#FECB52\",\"pattern\":{\"shape\":\"\"}},\"name\":\"36300000\",\"offsetgroup\":\"36300000\",\"orientation\":\"v\",\"showlegend\":true,\"x\":[\"US\",\"US\",\"US\",\"US\",\"US\",\"US\",\"US\",\"US\"],\"xaxis\":\"x\",\"yaxis\":\"y\",\"type\":\"histogram\"},{\"alignmentgroup\":\"True\",\"bingroup\":\"x\",\"hovertemplate\":\"followers=36100000<br>Country=%{x}<br>count=%{y}<extra></extra>\",\"legendgroup\":\"36100000\",\"marker\":{\"color\":\"#636efa\",\"pattern\":{\"shape\":\"\"}},\"name\":\"36100000\",\"offsetgroup\":\"36100000\",\"orientation\":\"v\",\"showlegend\":true,\"x\":[null,null],\"xaxis\":\"x\",\"yaxis\":\"y\",\"type\":\"histogram\"},{\"alignmentgroup\":\"True\",\"bingroup\":\"x\",\"hovertemplate\":\"followers=36000000<br>Country=%{x}<br>count=%{y}<extra></extra>\",\"legendgroup\":\"36000000\",\"marker\":{\"color\":\"#EF553B\",\"pattern\":{\"shape\":\"\"}},\"name\":\"36000000\",\"offsetgroup\":\"36000000\",\"orientation\":\"v\",\"showlegend\":true,\"x\":[\"IN\",\"IN\"],\"xaxis\":\"x\",\"yaxis\":\"y\",\"type\":\"histogram\"},{\"alignmentgroup\":\"True\",\"bingroup\":\"x\",\"hovertemplate\":\"followers=35700000<br>Country=%{x}<br>count=%{y}<extra></extra>\",\"legendgroup\":\"35700000\",\"marker\":{\"color\":\"#00cc96\",\"pattern\":{\"shape\":\"\"}},\"name\":\"35700000\",\"offsetgroup\":\"35700000\",\"orientation\":\"v\",\"showlegend\":true,\"x\":[null,null],\"xaxis\":\"x\",\"yaxis\":\"y\",\"type\":\"histogram\"},{\"alignmentgroup\":\"True\",\"bingroup\":\"x\",\"hovertemplate\":\"followers=35600000<br>Country=%{x}<br>count=%{y}<extra></extra>\",\"legendgroup\":\"35600000\",\"marker\":{\"color\":\"#ab63fa\",\"pattern\":{\"shape\":\"\"}},\"name\":\"35600000\",\"offsetgroup\":\"35600000\",\"orientation\":\"v\",\"showlegend\":true,\"x\":[\"AE\",\"AE\",\"AE\",\"AE\"],\"xaxis\":\"x\",\"yaxis\":\"y\",\"type\":\"histogram\"},{\"alignmentgroup\":\"True\",\"bingroup\":\"x\",\"hovertemplate\":\"followers=35400000<br>Country=%{x}<br>count=%{y}<extra></extra>\",\"legendgroup\":\"35400000\",\"marker\":{\"color\":\"#FFA15A\",\"pattern\":{\"shape\":\"\"}},\"name\":\"35400000\",\"offsetgroup\":\"35400000\",\"orientation\":\"v\",\"showlegend\":true,\"x\":[null,null],\"xaxis\":\"x\",\"yaxis\":\"y\",\"type\":\"histogram\"},{\"alignmentgroup\":\"True\",\"bingroup\":\"x\",\"hovertemplate\":\"followers=35300000<br>Country=%{x}<br>count=%{y}<extra></extra>\",\"legendgroup\":\"35300000\",\"marker\":{\"color\":\"#19d3f3\",\"pattern\":{\"shape\":\"\"}},\"name\":\"35300000\",\"offsetgroup\":\"35300000\",\"orientation\":\"v\",\"showlegend\":true,\"x\":[\"IN\",\"IN\"],\"xaxis\":\"x\",\"yaxis\":\"y\",\"type\":\"histogram\"},{\"alignmentgroup\":\"True\",\"bingroup\":\"x\",\"hovertemplate\":\"followers=35100000<br>Country=%{x}<br>count=%{y}<extra></extra>\",\"legendgroup\":\"35100000\",\"marker\":{\"color\":\"#FF6692\",\"pattern\":{\"shape\":\"\"}},\"name\":\"35100000\",\"offsetgroup\":\"35100000\",\"orientation\":\"v\",\"showlegend\":true,\"x\":[\"PR\",null,\"PR\",null],\"xaxis\":\"x\",\"yaxis\":\"y\",\"type\":\"histogram\"},{\"alignmentgroup\":\"True\",\"bingroup\":\"x\",\"hovertemplate\":\"followers=34600000<br>Country=%{x}<br>count=%{y}<extra></extra>\",\"legendgroup\":\"34600000\",\"marker\":{\"color\":\"#B6E880\",\"pattern\":{\"shape\":\"\"}},\"name\":\"34600000\",\"offsetgroup\":\"34600000\",\"orientation\":\"v\",\"showlegend\":true,\"x\":[\"CA\",\"CA\"],\"xaxis\":\"x\",\"yaxis\":\"y\",\"type\":\"histogram\"},{\"alignmentgroup\":\"True\",\"bingroup\":\"x\",\"hovertemplate\":\"followers=34400000<br>Country=%{x}<br>count=%{y}<extra></extra>\",\"legendgroup\":\"34400000\",\"marker\":{\"color\":\"#FF97FF\",\"pattern\":{\"shape\":\"\"}},\"name\":\"34400000\",\"offsetgroup\":\"34400000\",\"orientation\":\"v\",\"showlegend\":true,\"x\":[\"US\",\"US\"],\"xaxis\":\"x\",\"yaxis\":\"y\",\"type\":\"histogram\"},{\"alignmentgroup\":\"True\",\"bingroup\":\"x\",\"hovertemplate\":\"followers=34100000<br>Country=%{x}<br>count=%{y}<extra></extra>\",\"legendgroup\":\"34100000\",\"marker\":{\"color\":\"#FECB52\",\"pattern\":{\"shape\":\"\"}},\"name\":\"34100000\",\"offsetgroup\":\"34100000\",\"orientation\":\"v\",\"showlegend\":true,\"x\":[\"TH\",\"TH\"],\"xaxis\":\"x\",\"yaxis\":\"y\",\"type\":\"histogram\"},{\"alignmentgroup\":\"True\",\"bingroup\":\"x\",\"hovertemplate\":\"followers=33800000<br>Country=%{x}<br>count=%{y}<extra></extra>\",\"legendgroup\":\"33800000\",\"marker\":{\"color\":\"#636efa\",\"pattern\":{\"shape\":\"\"}},\"name\":\"33800000\",\"offsetgroup\":\"33800000\",\"orientation\":\"v\",\"showlegend\":true,\"x\":[\"IN\",\"IN\"],\"xaxis\":\"x\",\"yaxis\":\"y\",\"type\":\"histogram\"},{\"alignmentgroup\":\"True\",\"bingroup\":\"x\",\"hovertemplate\":\"followers=33500000<br>Country=%{x}<br>count=%{y}<extra></extra>\",\"legendgroup\":\"33500000\",\"marker\":{\"color\":\"#EF553B\",\"pattern\":{\"shape\":\"\"}},\"name\":\"33500000\",\"offsetgroup\":\"33500000\",\"orientation\":\"v\",\"showlegend\":true,\"x\":[\"CO\",\"CO\"],\"xaxis\":\"x\",\"yaxis\":\"y\",\"type\":\"histogram\"},{\"alignmentgroup\":\"True\",\"bingroup\":\"x\",\"hovertemplate\":\"followers=33200000<br>Country=%{x}<br>count=%{y}<extra></extra>\",\"legendgroup\":\"33200000\",\"marker\":{\"color\":\"#00cc96\",\"pattern\":{\"shape\":\"\"}},\"name\":\"33200000\",\"offsetgroup\":\"33200000\",\"orientation\":\"v\",\"showlegend\":true,\"x\":[\"US\",\"US\",\"US\",\"US\"],\"xaxis\":\"x\",\"yaxis\":\"y\",\"type\":\"histogram\"},{\"alignmentgroup\":\"True\",\"bingroup\":\"x\",\"hovertemplate\":\"followers=33100000<br>Country=%{x}<br>count=%{y}<extra></extra>\",\"legendgroup\":\"33100000\",\"marker\":{\"color\":\"#ab63fa\",\"pattern\":{\"shape\":\"\"}},\"name\":\"33100000\",\"offsetgroup\":\"33100000\",\"orientation\":\"v\",\"showlegend\":true,\"x\":[\"ES\\r\\n\",\"US\",\"ES\\r\\n\",\"US\"],\"xaxis\":\"x\",\"yaxis\":\"y\",\"type\":\"histogram\"},{\"alignmentgroup\":\"True\",\"bingroup\":\"x\",\"hovertemplate\":\"followers=32900000<br>Country=%{x}<br>count=%{y}<extra></extra>\",\"legendgroup\":\"32900000\",\"marker\":{\"color\":\"#FFA15A\",\"pattern\":{\"shape\":\"\"}},\"name\":\"32900000\",\"offsetgroup\":\"32900000\",\"orientation\":\"v\",\"showlegend\":true,\"x\":[\"IN\",\"IN\",\"IN\",\"IN\"],\"xaxis\":\"x\",\"yaxis\":\"y\",\"type\":\"histogram\"},{\"alignmentgroup\":\"True\",\"bingroup\":\"x\",\"hovertemplate\":\"followers=32800000<br>Country=%{x}<br>count=%{y}<extra></extra>\",\"legendgroup\":\"32800000\",\"marker\":{\"color\":\"#19d3f3\",\"pattern\":{\"shape\":\"\"}},\"name\":\"32800000\",\"offsetgroup\":\"32800000\",\"orientation\":\"v\",\"showlegend\":true,\"x\":[\"IN\",\"IN\"],\"xaxis\":\"x\",\"yaxis\":\"y\",\"type\":\"histogram\"},{\"alignmentgroup\":\"True\",\"bingroup\":\"x\",\"hovertemplate\":\"followers=32700000<br>Country=%{x}<br>count=%{y}<extra></extra>\",\"legendgroup\":\"32700000\",\"marker\":{\"color\":\"#FF6692\",\"pattern\":{\"shape\":\"\"}},\"name\":\"32700000\",\"offsetgroup\":\"32700000\",\"orientation\":\"v\",\"showlegend\":true,\"x\":[\"IN\",\"US\",\"US\",\"IN\",\"US\",\"US\"],\"xaxis\":\"x\",\"yaxis\":\"y\",\"type\":\"histogram\"},{\"alignmentgroup\":\"True\",\"bingroup\":\"x\",\"hovertemplate\":\"followers=32600000<br>Country=%{x}<br>count=%{y}<extra></extra>\",\"legendgroup\":\"32600000\",\"marker\":{\"color\":\"#B6E880\",\"pattern\":{\"shape\":\"\"}},\"name\":\"32600000\",\"offsetgroup\":\"32600000\",\"orientation\":\"v\",\"showlegend\":true,\"x\":[\"IN\",\"IN\"],\"xaxis\":\"x\",\"yaxis\":\"y\",\"type\":\"histogram\"},{\"alignmentgroup\":\"True\",\"bingroup\":\"x\",\"hovertemplate\":\"followers=32500000<br>Country=%{x}<br>count=%{y}<extra></extra>\",\"legendgroup\":\"32500000\",\"marker\":{\"color\":\"#FF97FF\",\"pattern\":{\"shape\":\"\"}},\"name\":\"32500000\",\"offsetgroup\":\"32500000\",\"orientation\":\"v\",\"showlegend\":true,\"x\":[\"GB\",\"GB\"],\"xaxis\":\"x\",\"yaxis\":\"y\",\"type\":\"histogram\"},{\"alignmentgroup\":\"True\",\"bingroup\":\"x\",\"hovertemplate\":\"followers=32200000<br>Country=%{x}<br>count=%{y}<extra></extra>\",\"legendgroup\":\"32200000\",\"marker\":{\"color\":\"#FECB52\",\"pattern\":{\"shape\":\"\"}},\"name\":\"32200000\",\"offsetgroup\":\"32200000\",\"orientation\":\"v\",\"showlegend\":true,\"x\":[\"US\",\"US\"],\"xaxis\":\"x\",\"yaxis\":\"y\",\"type\":\"histogram\"},{\"alignmentgroup\":\"True\",\"bingroup\":\"x\",\"hovertemplate\":\"followers=32100000<br>Country=%{x}<br>count=%{y}<extra></extra>\",\"legendgroup\":\"32100000\",\"marker\":{\"color\":\"#636efa\",\"pattern\":{\"shape\":\"\"}},\"name\":\"32100000\",\"offsetgroup\":\"32100000\",\"orientation\":\"v\",\"showlegend\":true,\"x\":[\"US\",\"US\"],\"xaxis\":\"x\",\"yaxis\":\"y\",\"type\":\"histogram\"},{\"alignmentgroup\":\"True\",\"bingroup\":\"x\",\"hovertemplate\":\"followers=32000000<br>Country=%{x}<br>count=%{y}<extra></extra>\",\"legendgroup\":\"32000000\",\"marker\":{\"color\":\"#EF553B\",\"pattern\":{\"shape\":\"\"}},\"name\":\"32000000\",\"offsetgroup\":\"32000000\",\"orientation\":\"v\",\"showlegend\":true,\"x\":[\"IN\",\"IN\"],\"xaxis\":\"x\",\"yaxis\":\"y\",\"type\":\"histogram\"},{\"alignmentgroup\":\"True\",\"bingroup\":\"x\",\"hovertemplate\":\"followers=31800000<br>Country=%{x}<br>count=%{y}<extra></extra>\",\"legendgroup\":\"31800000\",\"marker\":{\"color\":\"#00cc96\",\"pattern\":{\"shape\":\"\"}},\"name\":\"31800000\",\"offsetgroup\":\"31800000\",\"orientation\":\"v\",\"showlegend\":true,\"x\":[\"IN\",\"US\",\"IN\",\"US\"],\"xaxis\":\"x\",\"yaxis\":\"y\",\"type\":\"histogram\"},{\"alignmentgroup\":\"True\",\"bingroup\":\"x\",\"hovertemplate\":\"followers=31300000<br>Country=%{x}<br>count=%{y}<extra></extra>\",\"legendgroup\":\"31300000\",\"marker\":{\"color\":\"#ab63fa\",\"pattern\":{\"shape\":\"\"}},\"name\":\"31300000\",\"offsetgroup\":\"31300000\",\"orientation\":\"v\",\"showlegend\":true,\"x\":[\"MX\",\"IN\",\"MX\",\"IN\"],\"xaxis\":\"x\",\"yaxis\":\"y\",\"type\":\"histogram\"},{\"alignmentgroup\":\"True\",\"bingroup\":\"x\",\"hovertemplate\":\"followers=31200000<br>Country=%{x}<br>count=%{y}<extra></extra>\",\"legendgroup\":\"31200000\",\"marker\":{\"color\":\"#FFA15A\",\"pattern\":{\"shape\":\"\"}},\"name\":\"31200000\",\"offsetgroup\":\"31200000\",\"orientation\":\"v\",\"showlegend\":true,\"x\":[\"TH\",\"AR\",\"TH\",\"AR\"],\"xaxis\":\"x\",\"yaxis\":\"y\",\"type\":\"histogram\"},{\"alignmentgroup\":\"True\",\"bingroup\":\"x\",\"hovertemplate\":\"followers=30800000<br>Country=%{x}<br>count=%{y}<extra></extra>\",\"legendgroup\":\"30800000\",\"marker\":{\"color\":\"#19d3f3\",\"pattern\":{\"shape\":\"\"}},\"name\":\"30800000\",\"offsetgroup\":\"30800000\",\"orientation\":\"v\",\"showlegend\":true,\"x\":[null,\"US\",null,\"US\"],\"xaxis\":\"x\",\"yaxis\":\"y\",\"type\":\"histogram\"},{\"alignmentgroup\":\"True\",\"bingroup\":\"x\",\"hovertemplate\":\"followers=30700000<br>Country=%{x}<br>count=%{y}<extra></extra>\",\"legendgroup\":\"30700000\",\"marker\":{\"color\":\"#FF6692\",\"pattern\":{\"shape\":\"\"}},\"name\":\"30700000\",\"offsetgroup\":\"30700000\",\"orientation\":\"v\",\"showlegend\":true,\"x\":[\"IN\",\"IN\"],\"xaxis\":\"x\",\"yaxis\":\"y\",\"type\":\"histogram\"},{\"alignmentgroup\":\"True\",\"bingroup\":\"x\",\"hovertemplate\":\"followers=30600000<br>Country=%{x}<br>count=%{y}<extra></extra>\",\"legendgroup\":\"30600000\",\"marker\":{\"color\":\"#B6E880\",\"pattern\":{\"shape\":\"\"}},\"name\":\"30600000\",\"offsetgroup\":\"30600000\",\"orientation\":\"v\",\"showlegend\":true,\"x\":[null,null],\"xaxis\":\"x\",\"yaxis\":\"y\",\"type\":\"histogram\"},{\"alignmentgroup\":\"True\",\"bingroup\":\"x\",\"hovertemplate\":\"followers=30500000<br>Country=%{x}<br>count=%{y}<extra></extra>\",\"legendgroup\":\"30500000\",\"marker\":{\"color\":\"#FF97FF\",\"pattern\":{\"shape\":\"\"}},\"name\":\"30500000\",\"offsetgroup\":\"30500000\",\"orientation\":\"v\",\"showlegend\":true,\"x\":[null,\"BR\",null,\"BR\"],\"xaxis\":\"x\",\"yaxis\":\"y\",\"type\":\"histogram\"},{\"alignmentgroup\":\"True\",\"bingroup\":\"x\",\"hovertemplate\":\"followers=30400000<br>Country=%{x}<br>count=%{y}<extra></extra>\",\"legendgroup\":\"30400000\",\"marker\":{\"color\":\"#FECB52\",\"pattern\":{\"shape\":\"\"}},\"name\":\"30400000\",\"offsetgroup\":\"30400000\",\"orientation\":\"v\",\"showlegend\":true,\"x\":[\"US\",\"US\"],\"xaxis\":\"x\",\"yaxis\":\"y\",\"type\":\"histogram\"},{\"alignmentgroup\":\"True\",\"bingroup\":\"x\",\"hovertemplate\":\"followers=30200000<br>Country=%{x}<br>count=%{y}<extra></extra>\",\"legendgroup\":\"30200000\",\"marker\":{\"color\":\"#636efa\",\"pattern\":{\"shape\":\"\"}},\"name\":\"30200000\",\"offsetgroup\":\"30200000\",\"orientation\":\"v\",\"showlegend\":true,\"x\":[null,\"ID\",\"IN\",null,\"ID\",\"IN\"],\"xaxis\":\"x\",\"yaxis\":\"y\",\"type\":\"histogram\"},{\"alignmentgroup\":\"True\",\"bingroup\":\"x\",\"hovertemplate\":\"followers=30000000<br>Country=%{x}<br>count=%{y}<extra></extra>\",\"legendgroup\":\"30000000\",\"marker\":{\"color\":\"#EF553B\",\"pattern\":{\"shape\":\"\"}},\"name\":\"30000000\",\"offsetgroup\":\"30000000\",\"orientation\":\"v\",\"showlegend\":true,\"x\":[\"IN\",\"IN\"],\"xaxis\":\"x\",\"yaxis\":\"y\",\"type\":\"histogram\"},{\"alignmentgroup\":\"True\",\"bingroup\":\"x\",\"hovertemplate\":\"followers=29800000<br>Country=%{x}<br>count=%{y}<extra></extra>\",\"legendgroup\":\"29800000\",\"marker\":{\"color\":\"#00cc96\",\"pattern\":{\"shape\":\"\"}},\"name\":\"29800000\",\"offsetgroup\":\"29800000\",\"orientation\":\"v\",\"showlegend\":true,\"x\":[\"ID\",\"ID\"],\"xaxis\":\"x\",\"yaxis\":\"y\",\"type\":\"histogram\"},{\"alignmentgroup\":\"True\",\"bingroup\":\"x\",\"hovertemplate\":\"followers=29700000<br>Country=%{x}<br>count=%{y}<extra></extra>\",\"legendgroup\":\"29700000\",\"marker\":{\"color\":\"#ab63fa\",\"pattern\":{\"shape\":\"\"}},\"name\":\"29700000\",\"offsetgroup\":\"29700000\",\"orientation\":\"v\",\"showlegend\":true,\"x\":[\"US\",\"US\",\"US\",\"US\"],\"xaxis\":\"x\",\"yaxis\":\"y\",\"type\":\"histogram\"},{\"alignmentgroup\":\"True\",\"bingroup\":\"x\",\"hovertemplate\":\"followers=29600000<br>Country=%{x}<br>count=%{y}<extra></extra>\",\"legendgroup\":\"29600000\",\"marker\":{\"color\":\"#FFA15A\",\"pattern\":{\"shape\":\"\"}},\"name\":\"29600000\",\"offsetgroup\":\"29600000\",\"orientation\":\"v\",\"showlegend\":true,\"x\":[\"NL\",\"US\",\"NL\",\"US\"],\"xaxis\":\"x\",\"yaxis\":\"y\",\"type\":\"histogram\"},{\"alignmentgroup\":\"True\",\"bingroup\":\"x\",\"hovertemplate\":\"followers=29500000<br>Country=%{x}<br>count=%{y}<extra></extra>\",\"legendgroup\":\"29500000\",\"marker\":{\"color\":\"#19d3f3\",\"pattern\":{\"shape\":\"\"}},\"name\":\"29500000\",\"offsetgroup\":\"29500000\",\"orientation\":\"v\",\"showlegend\":true,\"x\":[\"US\",\"US\"],\"xaxis\":\"x\",\"yaxis\":\"y\",\"type\":\"histogram\"},{\"alignmentgroup\":\"True\",\"bingroup\":\"x\",\"hovertemplate\":\"followers=29400000<br>Country=%{x}<br>count=%{y}<extra></extra>\",\"legendgroup\":\"29400000\",\"marker\":{\"color\":\"#FF6692\",\"pattern\":{\"shape\":\"\"}},\"name\":\"29400000\",\"offsetgroup\":\"29400000\",\"orientation\":\"v\",\"showlegend\":true,\"x\":[null,null],\"xaxis\":\"x\",\"yaxis\":\"y\",\"type\":\"histogram\"},{\"alignmentgroup\":\"True\",\"bingroup\":\"x\",\"hovertemplate\":\"followers=29200000<br>Country=%{x}<br>count=%{y}<extra></extra>\",\"legendgroup\":\"29200000\",\"marker\":{\"color\":\"#B6E880\",\"pattern\":{\"shape\":\"\"}},\"name\":\"29200000\",\"offsetgroup\":\"29200000\",\"orientation\":\"v\",\"showlegend\":true,\"x\":[\"IN\",\"IN\"],\"xaxis\":\"x\",\"yaxis\":\"y\",\"type\":\"histogram\"},{\"alignmentgroup\":\"True\",\"bingroup\":\"x\",\"hovertemplate\":\"followers=29100000<br>Country=%{x}<br>count=%{y}<extra></extra>\",\"legendgroup\":\"29100000\",\"marker\":{\"color\":\"#FF97FF\",\"pattern\":{\"shape\":\"\"}},\"name\":\"29100000\",\"offsetgroup\":\"29100000\",\"orientation\":\"v\",\"showlegend\":true,\"x\":[\"ES\",\"ES\"],\"xaxis\":\"x\",\"yaxis\":\"y\",\"type\":\"histogram\"},{\"alignmentgroup\":\"True\",\"bingroup\":\"x\",\"hovertemplate\":\"followers=29000000<br>Country=%{x}<br>count=%{y}<extra></extra>\",\"legendgroup\":\"29000000\",\"marker\":{\"color\":\"#FECB52\",\"pattern\":{\"shape\":\"\"}},\"name\":\"29000000\",\"offsetgroup\":\"29000000\",\"orientation\":\"v\",\"showlegend\":true,\"x\":[\"US\",\"US\"],\"xaxis\":\"x\",\"yaxis\":\"y\",\"type\":\"histogram\"},{\"alignmentgroup\":\"True\",\"bingroup\":\"x\",\"hovertemplate\":\"followers=28600000<br>Country=%{x}<br>count=%{y}<extra></extra>\",\"legendgroup\":\"28600000\",\"marker\":{\"color\":\"#636efa\",\"pattern\":{\"shape\":\"\"}},\"name\":\"28600000\",\"offsetgroup\":\"28600000\",\"orientation\":\"v\",\"showlegend\":true,\"x\":[\"US\",null,\"CA\",\"US\",null,\"CA\"],\"xaxis\":\"x\",\"yaxis\":\"y\",\"type\":\"histogram\"},{\"alignmentgroup\":\"True\",\"bingroup\":\"x\",\"hovertemplate\":\"followers=28500000<br>Country=%{x}<br>count=%{y}<extra></extra>\",\"legendgroup\":\"28500000\",\"marker\":{\"color\":\"#EF553B\",\"pattern\":{\"shape\":\"\"}},\"name\":\"28500000\",\"offsetgroup\":\"28500000\",\"orientation\":\"v\",\"showlegend\":true,\"x\":[\"IE\",\"IE\"],\"xaxis\":\"x\",\"yaxis\":\"y\",\"type\":\"histogram\"},{\"alignmentgroup\":\"True\",\"bingroup\":\"x\",\"hovertemplate\":\"followers=28400000<br>Country=%{x}<br>count=%{y}<extra></extra>\",\"legendgroup\":\"28400000\",\"marker\":{\"color\":\"#00cc96\",\"pattern\":{\"shape\":\"\"}},\"name\":\"28400000\",\"offsetgroup\":\"28400000\",\"orientation\":\"v\",\"showlegend\":true,\"x\":[\"IN\",null,\"IN\",null],\"xaxis\":\"x\",\"yaxis\":\"y\",\"type\":\"histogram\"},{\"alignmentgroup\":\"True\",\"bingroup\":\"x\",\"hovertemplate\":\"followers=28300000<br>Country=%{x}<br>count=%{y}<extra></extra>\",\"legendgroup\":\"28300000\",\"marker\":{\"color\":\"#ab63fa\",\"pattern\":{\"shape\":\"\"}},\"name\":\"28300000\",\"offsetgroup\":\"28300000\",\"orientation\":\"v\",\"showlegend\":true,\"x\":[\"US\",\"US\"],\"xaxis\":\"x\",\"yaxis\":\"y\",\"type\":\"histogram\"},{\"alignmentgroup\":\"True\",\"bingroup\":\"x\",\"hovertemplate\":\"followers=28100000<br>Country=%{x}<br>count=%{y}<extra></extra>\",\"legendgroup\":\"28100000\",\"marker\":{\"color\":\"#FFA15A\",\"pattern\":{\"shape\":\"\"}},\"name\":\"28100000\",\"offsetgroup\":\"28100000\",\"orientation\":\"v\",\"showlegend\":true,\"x\":[null,\"IN\",null,\"IN\"],\"xaxis\":\"x\",\"yaxis\":\"y\",\"type\":\"histogram\"},{\"alignmentgroup\":\"True\",\"bingroup\":\"x\",\"hovertemplate\":\"followers=27800000<br>Country=%{x}<br>count=%{y}<extra></extra>\",\"legendgroup\":\"27800000\",\"marker\":{\"color\":\"#19d3f3\",\"pattern\":{\"shape\":\"\"}},\"name\":\"27800000\",\"offsetgroup\":\"27800000\",\"orientation\":\"v\",\"showlegend\":true,\"x\":[null,\"US\",\"US\",\"US\",null,null,\"US\",\"US\",\"US\",null],\"xaxis\":\"x\",\"yaxis\":\"y\",\"type\":\"histogram\"},{\"alignmentgroup\":\"True\",\"bingroup\":\"x\",\"hovertemplate\":\"followers=27600000<br>Country=%{x}<br>count=%{y}<extra></extra>\",\"legendgroup\":\"27600000\",\"marker\":{\"color\":\"#FF6692\",\"pattern\":{\"shape\":\"\"}},\"name\":\"27600000\",\"offsetgroup\":\"27600000\",\"orientation\":\"v\",\"showlegend\":true,\"x\":[\"IN\",null,\"IN\",null],\"xaxis\":\"x\",\"yaxis\":\"y\",\"type\":\"histogram\"},{\"alignmentgroup\":\"True\",\"bingroup\":\"x\",\"hovertemplate\":\"followers=27500000<br>Country=%{x}<br>count=%{y}<extra></extra>\",\"legendgroup\":\"27500000\",\"marker\":{\"color\":\"#B6E880\",\"pattern\":{\"shape\":\"\"}},\"name\":\"27500000\",\"offsetgroup\":\"27500000\",\"orientation\":\"v\",\"showlegend\":true,\"x\":[\"PK\",\"IN\",\"PK\",\"IN\"],\"xaxis\":\"x\",\"yaxis\":\"y\",\"type\":\"histogram\"},{\"alignmentgroup\":\"True\",\"bingroup\":\"x\",\"hovertemplate\":\"followers=27400000<br>Country=%{x}<br>count=%{y}<extra></extra>\",\"legendgroup\":\"27400000\",\"marker\":{\"color\":\"#FF97FF\",\"pattern\":{\"shape\":\"\"}},\"name\":\"27400000\",\"offsetgroup\":\"27400000\",\"orientation\":\"v\",\"showlegend\":true,\"x\":[\"US\",\"IE\",\"US\",\"IE\"],\"xaxis\":\"x\",\"yaxis\":\"y\",\"type\":\"histogram\"},{\"alignmentgroup\":\"True\",\"bingroup\":\"x\",\"hovertemplate\":\"followers=27100000<br>Country=%{x}<br>count=%{y}<extra></extra>\",\"legendgroup\":\"27100000\",\"marker\":{\"color\":\"#FECB52\",\"pattern\":{\"shape\":\"\"}},\"name\":\"27100000\",\"offsetgroup\":\"27100000\",\"orientation\":\"v\",\"showlegend\":true,\"x\":[\"CO\",\"CO\"],\"xaxis\":\"x\",\"yaxis\":\"y\",\"type\":\"histogram\"},{\"alignmentgroup\":\"True\",\"bingroup\":\"x\",\"hovertemplate\":\"followers=27000000<br>Country=%{x}<br>count=%{y}<extra></extra>\",\"legendgroup\":\"27000000\",\"marker\":{\"color\":\"#636efa\",\"pattern\":{\"shape\":\"\"}},\"name\":\"27000000\",\"offsetgroup\":\"27000000\",\"orientation\":\"v\",\"showlegend\":true,\"x\":[\"US\",\"US\"],\"xaxis\":\"x\",\"yaxis\":\"y\",\"type\":\"histogram\"},{\"alignmentgroup\":\"True\",\"bingroup\":\"x\",\"hovertemplate\":\"followers=26900000<br>Country=%{x}<br>count=%{y}<extra></extra>\",\"legendgroup\":\"26900000\",\"marker\":{\"color\":\"#EF553B\",\"pattern\":{\"shape\":\"\"}},\"name\":\"26900000\",\"offsetgroup\":\"26900000\",\"orientation\":\"v\",\"showlegend\":true,\"x\":[\"PH\",\"PH\"],\"xaxis\":\"x\",\"yaxis\":\"y\",\"type\":\"histogram\"},{\"alignmentgroup\":\"True\",\"bingroup\":\"x\",\"hovertemplate\":\"followers=26800000<br>Country=%{x}<br>count=%{y}<extra></extra>\",\"legendgroup\":\"26800000\",\"marker\":{\"color\":\"#00cc96\",\"pattern\":{\"shape\":\"\"}},\"name\":\"26800000\",\"offsetgroup\":\"26800000\",\"orientation\":\"v\",\"showlegend\":true,\"x\":[\"IN\",\"IN\",\"IN\",\"IN\"],\"xaxis\":\"x\",\"yaxis\":\"y\",\"type\":\"histogram\"},{\"alignmentgroup\":\"True\",\"bingroup\":\"x\",\"hovertemplate\":\"followers=26600000<br>Country=%{x}<br>count=%{y}<extra></extra>\",\"legendgroup\":\"26600000\",\"marker\":{\"color\":\"#ab63fa\",\"pattern\":{\"shape\":\"\"}},\"name\":\"26600000\",\"offsetgroup\":\"26600000\",\"orientation\":\"v\",\"showlegend\":true,\"x\":[\"US\",null,\"US\",null],\"xaxis\":\"x\",\"yaxis\":\"y\",\"type\":\"histogram\"},{\"alignmentgroup\":\"True\",\"bingroup\":\"x\",\"hovertemplate\":\"followers=26300000<br>Country=%{x}<br>count=%{y}<extra></extra>\",\"legendgroup\":\"26300000\",\"marker\":{\"color\":\"#FFA15A\",\"pattern\":{\"shape\":\"\"}},\"name\":\"26300000\",\"offsetgroup\":\"26300000\",\"orientation\":\"v\",\"showlegend\":true,\"x\":[\"US\",\"IN\",\"US\",\"IN\"],\"xaxis\":\"x\",\"yaxis\":\"y\",\"type\":\"histogram\"},{\"alignmentgroup\":\"True\",\"bingroup\":\"x\",\"hovertemplate\":\"followers=26200000<br>Country=%{x}<br>count=%{y}<extra></extra>\",\"legendgroup\":\"26200000\",\"marker\":{\"color\":\"#19d3f3\",\"pattern\":{\"shape\":\"\"}},\"name\":\"26200000\",\"offsetgroup\":\"26200000\",\"orientation\":\"v\",\"showlegend\":true,\"x\":[\"AU\",\"IN\",\"AU\",\"IN\"],\"xaxis\":\"x\",\"yaxis\":\"y\",\"type\":\"histogram\"},{\"alignmentgroup\":\"True\",\"bingroup\":\"x\",\"hovertemplate\":\"followers=26100000<br>Country=%{x}<br>count=%{y}<extra></extra>\",\"legendgroup\":\"26100000\",\"marker\":{\"color\":\"#FF6692\",\"pattern\":{\"shape\":\"\"}},\"name\":\"26100000\",\"offsetgroup\":\"26100000\",\"orientation\":\"v\",\"showlegend\":true,\"x\":[null,\"IN\",\"US\",null,\"IN\",\"US\"],\"xaxis\":\"x\",\"yaxis\":\"y\",\"type\":\"histogram\"},{\"alignmentgroup\":\"True\",\"bingroup\":\"x\",\"hovertemplate\":\"followers=26000000<br>Country=%{x}<br>count=%{y}<extra></extra>\",\"legendgroup\":\"26000000\",\"marker\":{\"color\":\"#B6E880\",\"pattern\":{\"shape\":\"\"}},\"name\":\"26000000\",\"offsetgroup\":\"26000000\",\"orientation\":\"v\",\"showlegend\":true,\"x\":[\"US\",\"US\"],\"xaxis\":\"x\",\"yaxis\":\"y\",\"type\":\"histogram\"},{\"alignmentgroup\":\"True\",\"bingroup\":\"x\",\"hovertemplate\":\"followers=25900000<br>Country=%{x}<br>count=%{y}<extra></extra>\",\"legendgroup\":\"25900000\",\"marker\":{\"color\":\"#FF97FF\",\"pattern\":{\"shape\":\"\"}},\"name\":\"25900000\",\"offsetgroup\":\"25900000\",\"orientation\":\"v\",\"showlegend\":true,\"x\":[\"US\",\"KW\",\"US\",\"US\",\"KW\",\"US\"],\"xaxis\":\"x\",\"yaxis\":\"y\",\"type\":\"histogram\"},{\"alignmentgroup\":\"True\",\"bingroup\":\"x\",\"hovertemplate\":\"followers=25700000<br>Country=%{x}<br>count=%{y}<extra></extra>\",\"legendgroup\":\"25700000\",\"marker\":{\"color\":\"#FECB52\",\"pattern\":{\"shape\":\"\"}},\"name\":\"25700000\",\"offsetgroup\":\"25700000\",\"orientation\":\"v\",\"showlegend\":true,\"x\":[\"US\",\"US\"],\"xaxis\":\"x\",\"yaxis\":\"y\",\"type\":\"histogram\"},{\"alignmentgroup\":\"True\",\"bingroup\":\"x\",\"hovertemplate\":\"followers=25600000<br>Country=%{x}<br>count=%{y}<extra></extra>\",\"legendgroup\":\"25600000\",\"marker\":{\"color\":\"#636efa\",\"pattern\":{\"shape\":\"\"}},\"name\":\"25600000\",\"offsetgroup\":\"25600000\",\"orientation\":\"v\",\"showlegend\":true,\"x\":[\"US\",\"CO\",\"US\",\"CO\"],\"xaxis\":\"x\",\"yaxis\":\"y\",\"type\":\"histogram\"},{\"alignmentgroup\":\"True\",\"bingroup\":\"x\",\"hovertemplate\":\"followers=25500000<br>Country=%{x}<br>count=%{y}<extra></extra>\",\"legendgroup\":\"25500000\",\"marker\":{\"color\":\"#EF553B\",\"pattern\":{\"shape\":\"\"}},\"name\":\"25500000\",\"offsetgroup\":\"25500000\",\"orientation\":\"v\",\"showlegend\":true,\"x\":[null,\"US\",null,\"US\"],\"xaxis\":\"x\",\"yaxis\":\"y\",\"type\":\"histogram\"},{\"alignmentgroup\":\"True\",\"bingroup\":\"x\",\"hovertemplate\":\"followers=25400000<br>Country=%{x}<br>count=%{y}<extra></extra>\",\"legendgroup\":\"25400000\",\"marker\":{\"color\":\"#00cc96\",\"pattern\":{\"shape\":\"\"}},\"name\":\"25400000\",\"offsetgroup\":\"25400000\",\"orientation\":\"v\",\"showlegend\":true,\"x\":[\"KR\",null,\"KR\",null],\"xaxis\":\"x\",\"yaxis\":\"y\",\"type\":\"histogram\"},{\"alignmentgroup\":\"True\",\"bingroup\":\"x\",\"hovertemplate\":\"followers=25300000<br>Country=%{x}<br>count=%{y}<extra></extra>\",\"legendgroup\":\"25300000\",\"marker\":{\"color\":\"#ab63fa\",\"pattern\":{\"shape\":\"\"}},\"name\":\"25300000\",\"offsetgroup\":\"25300000\",\"orientation\":\"v\",\"showlegend\":true,\"x\":[\"BR\",\"US\",\"BR\",\"US\"],\"xaxis\":\"x\",\"yaxis\":\"y\",\"type\":\"histogram\"},{\"alignmentgroup\":\"True\",\"bingroup\":\"x\",\"hovertemplate\":\"followers=25200000<br>Country=%{x}<br>count=%{y}<extra></extra>\",\"legendgroup\":\"25200000\",\"marker\":{\"color\":\"#FFA15A\",\"pattern\":{\"shape\":\"\"}},\"name\":\"25200000\",\"offsetgroup\":\"25200000\",\"orientation\":\"v\",\"showlegend\":true,\"x\":[\"US\",\"US\"],\"xaxis\":\"x\",\"yaxis\":\"y\",\"type\":\"histogram\"},{\"alignmentgroup\":\"True\",\"bingroup\":\"x\",\"hovertemplate\":\"followers=25000000<br>Country=%{x}<br>count=%{y}<extra></extra>\",\"legendgroup\":\"25000000\",\"marker\":{\"color\":\"#19d3f3\",\"pattern\":{\"shape\":\"\"}},\"name\":\"25000000\",\"offsetgroup\":\"25000000\",\"orientation\":\"v\",\"showlegend\":true,\"x\":[\"US\",null,\"US\",null],\"xaxis\":\"x\",\"yaxis\":\"y\",\"type\":\"histogram\"},{\"alignmentgroup\":\"True\",\"bingroup\":\"x\",\"hovertemplate\":\"followers=24900000<br>Country=%{x}<br>count=%{y}<extra></extra>\",\"legendgroup\":\"24900000\",\"marker\":{\"color\":\"#FF6692\",\"pattern\":{\"shape\":\"\"}},\"name\":\"24900000\",\"offsetgroup\":\"24900000\",\"orientation\":\"v\",\"showlegend\":true,\"x\":[\"SO\",\"IE\",\"US\",\"SO\",\"IE\",\"US\"],\"xaxis\":\"x\",\"yaxis\":\"y\",\"type\":\"histogram\"},{\"alignmentgroup\":\"True\",\"bingroup\":\"x\",\"hovertemplate\":\"followers=24800000<br>Country=%{x}<br>count=%{y}<extra></extra>\",\"legendgroup\":\"24800000\",\"marker\":{\"color\":\"#B6E880\",\"pattern\":{\"shape\":\"\"}},\"name\":\"24800000\",\"offsetgroup\":\"24800000\",\"orientation\":\"v\",\"showlegend\":true,\"x\":[null,\"US\",null,\"US\"],\"xaxis\":\"x\",\"yaxis\":\"y\",\"type\":\"histogram\"},{\"alignmentgroup\":\"True\",\"bingroup\":\"x\",\"hovertemplate\":\"followers=24700000<br>Country=%{x}<br>count=%{y}<extra></extra>\",\"legendgroup\":\"24700000\",\"marker\":{\"color\":\"#FF97FF\",\"pattern\":{\"shape\":\"\"}},\"name\":\"24700000\",\"offsetgroup\":\"24700000\",\"orientation\":\"v\",\"showlegend\":true,\"x\":[\"ID\",null,\"ID\",null],\"xaxis\":\"x\",\"yaxis\":\"y\",\"type\":\"histogram\"},{\"alignmentgroup\":\"True\",\"bingroup\":\"x\",\"hovertemplate\":\"followers=24600000<br>Country=%{x}<br>count=%{y}<extra></extra>\",\"legendgroup\":\"24600000\",\"marker\":{\"color\":\"#FECB52\",\"pattern\":{\"shape\":\"\"}},\"name\":\"24600000\",\"offsetgroup\":\"24600000\",\"orientation\":\"v\",\"showlegend\":true,\"x\":[\"BR\",\"BR\"],\"xaxis\":\"x\",\"yaxis\":\"y\",\"type\":\"histogram\"},{\"alignmentgroup\":\"True\",\"bingroup\":\"x\",\"hovertemplate\":\"followers=24500000<br>Country=%{x}<br>count=%{y}<extra></extra>\",\"legendgroup\":\"24500000\",\"marker\":{\"color\":\"#636efa\",\"pattern\":{\"shape\":\"\"}},\"name\":\"24500000\",\"offsetgroup\":\"24500000\",\"orientation\":\"v\",\"showlegend\":true,\"x\":[\"ES\",\"CA\",\"ES\",\"CA\"],\"xaxis\":\"x\",\"yaxis\":\"y\",\"type\":\"histogram\"},{\"alignmentgroup\":\"True\",\"bingroup\":\"x\",\"hovertemplate\":\"followers=24400000<br>Country=%{x}<br>count=%{y}<extra></extra>\",\"legendgroup\":\"24400000\",\"marker\":{\"color\":\"#EF553B\",\"pattern\":{\"shape\":\"\"}},\"name\":\"24400000\",\"offsetgroup\":\"24400000\",\"orientation\":\"v\",\"showlegend\":true,\"x\":[\"US\",\"US\",\"US\",\"US\"],\"xaxis\":\"x\",\"yaxis\":\"y\",\"type\":\"histogram\"},{\"alignmentgroup\":\"True\",\"bingroup\":\"x\",\"hovertemplate\":\"followers=24200000<br>Country=%{x}<br>count=%{y}<extra></extra>\",\"legendgroup\":\"24200000\",\"marker\":{\"color\":\"#00cc96\",\"pattern\":{\"shape\":\"\"}},\"name\":\"24200000\",\"offsetgroup\":\"24200000\",\"orientation\":\"v\",\"showlegend\":true,\"x\":[\"US\",\"US\",\"US\",\"US\"],\"xaxis\":\"x\",\"yaxis\":\"y\",\"type\":\"histogram\"},{\"alignmentgroup\":\"True\",\"bingroup\":\"x\",\"hovertemplate\":\"followers=24100000<br>Country=%{x}<br>count=%{y}<extra></extra>\",\"legendgroup\":\"24100000\",\"marker\":{\"color\":\"#ab63fa\",\"pattern\":{\"shape\":\"\"}},\"name\":\"24100000\",\"offsetgroup\":\"24100000\",\"orientation\":\"v\",\"showlegend\":true,\"x\":[null,null],\"xaxis\":\"x\",\"yaxis\":\"y\",\"type\":\"histogram\"},{\"alignmentgroup\":\"True\",\"bingroup\":\"x\",\"hovertemplate\":\"followers=24000000<br>Country=%{x}<br>count=%{y}<extra></extra>\",\"legendgroup\":\"24000000\",\"marker\":{\"color\":\"#FFA15A\",\"pattern\":{\"shape\":\"\"}},\"name\":\"24000000\",\"offsetgroup\":\"24000000\",\"orientation\":\"v\",\"showlegend\":true,\"x\":[\"US\",\"IN\",\"US\",\"US\",\"US\",\"IN\",\"US\",\"US\"],\"xaxis\":\"x\",\"yaxis\":\"y\",\"type\":\"histogram\"}],                        {\"template\":{\"data\":{\"histogram2dcontour\":[{\"type\":\"histogram2dcontour\",\"colorbar\":{\"outlinewidth\":0,\"ticks\":\"\"},\"colorscale\":[[0.0,\"#0d0887\"],[0.1111111111111111,\"#46039f\"],[0.2222222222222222,\"#7201a8\"],[0.3333333333333333,\"#9c179e\"],[0.4444444444444444,\"#bd3786\"],[0.5555555555555556,\"#d8576b\"],[0.6666666666666666,\"#ed7953\"],[0.7777777777777778,\"#fb9f3a\"],[0.8888888888888888,\"#fdca26\"],[1.0,\"#f0f921\"]]}],\"choropleth\":[{\"type\":\"choropleth\",\"colorbar\":{\"outlinewidth\":0,\"ticks\":\"\"}}],\"histogram2d\":[{\"type\":\"histogram2d\",\"colorbar\":{\"outlinewidth\":0,\"ticks\":\"\"},\"colorscale\":[[0.0,\"#0d0887\"],[0.1111111111111111,\"#46039f\"],[0.2222222222222222,\"#7201a8\"],[0.3333333333333333,\"#9c179e\"],[0.4444444444444444,\"#bd3786\"],[0.5555555555555556,\"#d8576b\"],[0.6666666666666666,\"#ed7953\"],[0.7777777777777778,\"#fb9f3a\"],[0.8888888888888888,\"#fdca26\"],[1.0,\"#f0f921\"]]}],\"heatmap\":[{\"type\":\"heatmap\",\"colorbar\":{\"outlinewidth\":0,\"ticks\":\"\"},\"colorscale\":[[0.0,\"#0d0887\"],[0.1111111111111111,\"#46039f\"],[0.2222222222222222,\"#7201a8\"],[0.3333333333333333,\"#9c179e\"],[0.4444444444444444,\"#bd3786\"],[0.5555555555555556,\"#d8576b\"],[0.6666666666666666,\"#ed7953\"],[0.7777777777777778,\"#fb9f3a\"],[0.8888888888888888,\"#fdca26\"],[1.0,\"#f0f921\"]]}],\"heatmapgl\":[{\"type\":\"heatmapgl\",\"colorbar\":{\"outlinewidth\":0,\"ticks\":\"\"},\"colorscale\":[[0.0,\"#0d0887\"],[0.1111111111111111,\"#46039f\"],[0.2222222222222222,\"#7201a8\"],[0.3333333333333333,\"#9c179e\"],[0.4444444444444444,\"#bd3786\"],[0.5555555555555556,\"#d8576b\"],[0.6666666666666666,\"#ed7953\"],[0.7777777777777778,\"#fb9f3a\"],[0.8888888888888888,\"#fdca26\"],[1.0,\"#f0f921\"]]}],\"contourcarpet\":[{\"type\":\"contourcarpet\",\"colorbar\":{\"outlinewidth\":0,\"ticks\":\"\"}}],\"contour\":[{\"type\":\"contour\",\"colorbar\":{\"outlinewidth\":0,\"ticks\":\"\"},\"colorscale\":[[0.0,\"#0d0887\"],[0.1111111111111111,\"#46039f\"],[0.2222222222222222,\"#7201a8\"],[0.3333333333333333,\"#9c179e\"],[0.4444444444444444,\"#bd3786\"],[0.5555555555555556,\"#d8576b\"],[0.6666666666666666,\"#ed7953\"],[0.7777777777777778,\"#fb9f3a\"],[0.8888888888888888,\"#fdca26\"],[1.0,\"#f0f921\"]]}],\"surface\":[{\"type\":\"surface\",\"colorbar\":{\"outlinewidth\":0,\"ticks\":\"\"},\"colorscale\":[[0.0,\"#0d0887\"],[0.1111111111111111,\"#46039f\"],[0.2222222222222222,\"#7201a8\"],[0.3333333333333333,\"#9c179e\"],[0.4444444444444444,\"#bd3786\"],[0.5555555555555556,\"#d8576b\"],[0.6666666666666666,\"#ed7953\"],[0.7777777777777778,\"#fb9f3a\"],[0.8888888888888888,\"#fdca26\"],[1.0,\"#f0f921\"]]}],\"mesh3d\":[{\"type\":\"mesh3d\",\"colorbar\":{\"outlinewidth\":0,\"ticks\":\"\"}}],\"scatter\":[{\"fillpattern\":{\"fillmode\":\"overlay\",\"size\":10,\"solidity\":0.2},\"type\":\"scatter\"}],\"parcoords\":[{\"type\":\"parcoords\",\"line\":{\"colorbar\":{\"outlinewidth\":0,\"ticks\":\"\"}}}],\"scatterpolargl\":[{\"type\":\"scatterpolargl\",\"marker\":{\"colorbar\":{\"outlinewidth\":0,\"ticks\":\"\"}}}],\"bar\":[{\"error_x\":{\"color\":\"#2a3f5f\"},\"error_y\":{\"color\":\"#2a3f5f\"},\"marker\":{\"line\":{\"color\":\"#E5ECF6\",\"width\":0.5},\"pattern\":{\"fillmode\":\"overlay\",\"size\":10,\"solidity\":0.2}},\"type\":\"bar\"}],\"scattergeo\":[{\"type\":\"scattergeo\",\"marker\":{\"colorbar\":{\"outlinewidth\":0,\"ticks\":\"\"}}}],\"scatterpolar\":[{\"type\":\"scatterpolar\",\"marker\":{\"colorbar\":{\"outlinewidth\":0,\"ticks\":\"\"}}}],\"histogram\":[{\"marker\":{\"pattern\":{\"fillmode\":\"overlay\",\"size\":10,\"solidity\":0.2}},\"type\":\"histogram\"}],\"scattergl\":[{\"type\":\"scattergl\",\"marker\":{\"colorbar\":{\"outlinewidth\":0,\"ticks\":\"\"}}}],\"scatter3d\":[{\"type\":\"scatter3d\",\"line\":{\"colorbar\":{\"outlinewidth\":0,\"ticks\":\"\"}},\"marker\":{\"colorbar\":{\"outlinewidth\":0,\"ticks\":\"\"}}}],\"scattermapbox\":[{\"type\":\"scattermapbox\",\"marker\":{\"colorbar\":{\"outlinewidth\":0,\"ticks\":\"\"}}}],\"scatterternary\":[{\"type\":\"scatterternary\",\"marker\":{\"colorbar\":{\"outlinewidth\":0,\"ticks\":\"\"}}}],\"scattercarpet\":[{\"type\":\"scattercarpet\",\"marker\":{\"colorbar\":{\"outlinewidth\":0,\"ticks\":\"\"}}}],\"carpet\":[{\"aaxis\":{\"endlinecolor\":\"#2a3f5f\",\"gridcolor\":\"white\",\"linecolor\":\"white\",\"minorgridcolor\":\"white\",\"startlinecolor\":\"#2a3f5f\"},\"baxis\":{\"endlinecolor\":\"#2a3f5f\",\"gridcolor\":\"white\",\"linecolor\":\"white\",\"minorgridcolor\":\"white\",\"startlinecolor\":\"#2a3f5f\"},\"type\":\"carpet\"}],\"table\":[{\"cells\":{\"fill\":{\"color\":\"#EBF0F8\"},\"line\":{\"color\":\"white\"}},\"header\":{\"fill\":{\"color\":\"#C8D4E3\"},\"line\":{\"color\":\"white\"}},\"type\":\"table\"}],\"barpolar\":[{\"marker\":{\"line\":{\"color\":\"#E5ECF6\",\"width\":0.5},\"pattern\":{\"fillmode\":\"overlay\",\"size\":10,\"solidity\":0.2}},\"type\":\"barpolar\"}],\"pie\":[{\"automargin\":true,\"type\":\"pie\"}]},\"layout\":{\"autotypenumbers\":\"strict\",\"colorway\":[\"#636efa\",\"#EF553B\",\"#00cc96\",\"#ab63fa\",\"#FFA15A\",\"#19d3f3\",\"#FF6692\",\"#B6E880\",\"#FF97FF\",\"#FECB52\"],\"font\":{\"color\":\"#2a3f5f\"},\"hovermode\":\"closest\",\"hoverlabel\":{\"align\":\"left\"},\"paper_bgcolor\":\"white\",\"plot_bgcolor\":\"#E5ECF6\",\"polar\":{\"bgcolor\":\"#E5ECF6\",\"angularaxis\":{\"gridcolor\":\"white\",\"linecolor\":\"white\",\"ticks\":\"\"},\"radialaxis\":{\"gridcolor\":\"white\",\"linecolor\":\"white\",\"ticks\":\"\"}},\"ternary\":{\"bgcolor\":\"#E5ECF6\",\"aaxis\":{\"gridcolor\":\"white\",\"linecolor\":\"white\",\"ticks\":\"\"},\"baxis\":{\"gridcolor\":\"white\",\"linecolor\":\"white\",\"ticks\":\"\"},\"caxis\":{\"gridcolor\":\"white\",\"linecolor\":\"white\",\"ticks\":\"\"}},\"coloraxis\":{\"colorbar\":{\"outlinewidth\":0,\"ticks\":\"\"}},\"colorscale\":{\"sequential\":[[0.0,\"#0d0887\"],[0.1111111111111111,\"#46039f\"],[0.2222222222222222,\"#7201a8\"],[0.3333333333333333,\"#9c179e\"],[0.4444444444444444,\"#bd3786\"],[0.5555555555555556,\"#d8576b\"],[0.6666666666666666,\"#ed7953\"],[0.7777777777777778,\"#fb9f3a\"],[0.8888888888888888,\"#fdca26\"],[1.0,\"#f0f921\"]],\"sequentialminus\":[[0.0,\"#0d0887\"],[0.1111111111111111,\"#46039f\"],[0.2222222222222222,\"#7201a8\"],[0.3333333333333333,\"#9c179e\"],[0.4444444444444444,\"#bd3786\"],[0.5555555555555556,\"#d8576b\"],[0.6666666666666666,\"#ed7953\"],[0.7777777777777778,\"#fb9f3a\"],[0.8888888888888888,\"#fdca26\"],[1.0,\"#f0f921\"]],\"diverging\":[[0,\"#8e0152\"],[0.1,\"#c51b7d\"],[0.2,\"#de77ae\"],[0.3,\"#f1b6da\"],[0.4,\"#fde0ef\"],[0.5,\"#f7f7f7\"],[0.6,\"#e6f5d0\"],[0.7,\"#b8e186\"],[0.8,\"#7fbc41\"],[0.9,\"#4d9221\"],[1,\"#276419\"]]},\"xaxis\":{\"gridcolor\":\"white\",\"linecolor\":\"white\",\"ticks\":\"\",\"title\":{\"standoff\":15},\"zerolinecolor\":\"white\",\"automargin\":true,\"zerolinewidth\":2},\"yaxis\":{\"gridcolor\":\"white\",\"linecolor\":\"white\",\"ticks\":\"\",\"title\":{\"standoff\":15},\"zerolinecolor\":\"white\",\"automargin\":true,\"zerolinewidth\":2},\"scene\":{\"xaxis\":{\"backgroundcolor\":\"#E5ECF6\",\"gridcolor\":\"white\",\"linecolor\":\"white\",\"showbackground\":true,\"ticks\":\"\",\"zerolinecolor\":\"white\",\"gridwidth\":2},\"yaxis\":{\"backgroundcolor\":\"#E5ECF6\",\"gridcolor\":\"white\",\"linecolor\":\"white\",\"showbackground\":true,\"ticks\":\"\",\"zerolinecolor\":\"white\",\"gridwidth\":2},\"zaxis\":{\"backgroundcolor\":\"#E5ECF6\",\"gridcolor\":\"white\",\"linecolor\":\"white\",\"showbackground\":true,\"ticks\":\"\",\"zerolinecolor\":\"white\",\"gridwidth\":2}},\"shapedefaults\":{\"line\":{\"color\":\"#2a3f5f\"}},\"annotationdefaults\":{\"arrowcolor\":\"#2a3f5f\",\"arrowhead\":0,\"arrowwidth\":1},\"geo\":{\"bgcolor\":\"white\",\"landcolor\":\"#E5ECF6\",\"subunitcolor\":\"white\",\"showland\":true,\"showlakes\":true,\"lakecolor\":\"white\"},\"title\":{\"x\":0.05},\"mapbox\":{\"style\":\"light\"}}},\"xaxis\":{\"anchor\":\"y\",\"domain\":[0.0,1.0],\"title\":{\"text\":\"Country\"}},\"yaxis\":{\"anchor\":\"x\",\"domain\":[0.0,1.0],\"title\":{\"text\":\"count\"}},\"legend\":{\"title\":{\"text\":\"followers\"},\"tracegroupgap\":0},\"margin\":{\"t\":60},\"barmode\":\"relative\"},                        {\"responsive\": true}                    ).then(function(){\n",
       "                            \n",
       "var gd = document.getElementById('8461137e-bdf3-45c4-b655-3618126b9cb3');\n",
       "var x = new MutationObserver(function (mutations, observer) {{\n",
       "        var display = window.getComputedStyle(gd).display;\n",
       "        if (!display || display === 'none') {{\n",
       "            console.log([gd, 'removed!']);\n",
       "            Plotly.purge(gd);\n",
       "            observer.disconnect();\n",
       "        }}\n",
       "}});\n",
       "\n",
       "// Listen for the removal of the full notebook cells\n",
       "var notebookContainer = gd.closest('#notebook-container');\n",
       "if (notebookContainer) {{\n",
       "    x.observe(notebookContainer, {childList: true});\n",
       "}}\n",
       "\n",
       "// Listen for the clearing of the current output cell\n",
       "var outputEl = gd.closest('.output');\n",
       "if (outputEl) {{\n",
       "    x.observe(outputEl, {childList: true});\n",
       "}}\n",
       "\n",
       "                        })                };                });            </script>        </div>"
      ]
     },
     "metadata": {},
     "output_type": "display_data"
    }
   ],
   "source": [
    "grafico = px.histogram(tabela, x=\"Country\", color=\"followers\")\n",
    "\n",
    "\n",
    "# In[7]:\n",
    "\n",
    "\n",
    "grafico.show()"
   ]
  },
  {
   "cell_type": "markdown",
   "id": "a5942d29",
   "metadata": {},
   "source": [
    "# analise de inscritos por pais.\n",
    "\n",
    "Foi constado que o pais (US) possui a maior quantidade de inscritos, em segundo (IN) e por terceiro o (BR).\n",
    "\n",
    "O pais com a menor quantidade de inscritos é (SO)"
   ]
  },
  {
   "cell_type": "code",
   "execution_count": null,
   "id": "ebe4fdd8",
   "metadata": {},
   "outputs": [],
   "source": []
  },
  {
   "cell_type": "code",
   "execution_count": null,
   "id": "10235f86",
   "metadata": {},
   "outputs": [],
   "source": []
  },
  {
   "cell_type": "code",
   "execution_count": null,
   "id": "f4c754c9",
   "metadata": {},
   "outputs": [],
   "source": []
  }
 ],
 "metadata": {
  "kernelspec": {
   "display_name": "Python 3 (ipykernel)",
   "language": "python",
   "name": "python3"
  },
  "language_info": {
   "codemirror_mode": {
    "name": "ipython",
    "version": 3
   },
   "file_extension": ".py",
   "mimetype": "text/x-python",
   "name": "python",
   "nbconvert_exporter": "python",
   "pygments_lexer": "ipython3",
   "version": "3.9.12"
  }
 },
 "nbformat": 4,
 "nbformat_minor": 5
}
